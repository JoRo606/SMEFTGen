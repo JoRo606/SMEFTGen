{
 "cells": [
  {
   "cell_type": "code",
   "execution_count": 53,
   "metadata": {
    "collapsed": true
   },
   "outputs": [],
   "source": [
    "import numpy as np\n",
    "\n",
    "class field(object):\n",
    "    def __init__(self, symbol, massDim, index=None):\n",
    "        self.symbol = symbol #string symbol for field\n",
    "        self.index = index #string indicating type of index - here, only Lorentz\n",
    "        self.massDim= massDim #list of connected terms, includes repeats\n",
    "    def info(self):\n",
    "        return 'symbol: ' + str(self.symbol) + '\\n' \\\n",
    "            +   'massDim: ' + str(self.massDim) + '\\n' \\\n",
    "            +   'index: ' + str(self.index)\n",
    "    def get_symbol(self):\n",
    "        return self.symbol\n",
    "    def get_index(self):\n",
    "        return self.index\n",
    "    def get_massDim(self):\n",
    "        return int(self.massDim)\n",
    "    def __str__(self):\n",
    "        return self.symbol\n",
    "    def __eq__(self, other):\n",
    "        eq = (self.symbol == other.symbol)\n",
    "        return eq"
   ]
  },
  {
   "cell_type": "code",
   "execution_count": 54,
   "metadata": {
    "collapsed": true
   },
   "outputs": [],
   "source": [
    "class term(object):\n",
    "    def __init__(self, field_list, contractions=[]):\n",
    "        self.field_list = field_list #ordered list of field objects\n",
    "        self.contractions = contractions #list of 2-tuples, indicating index values of fields in self.fields that are contracted \n",
    "    def __eq__(self, other):\n",
    "        eq = (self.field_list == other.field_list)&(self.contractions == other.contractions)\n",
    "        return eq\n",
    "    def __str__(self):\n",
    "        return 'fields: ' + str(self.field_list) + '\\n' \\\n",
    "            + 'contractions: ' + str(self.contractions)\n",
    "    def get_field_list(self):\n",
    "        return self.field_list\n",
    "    def get_contractions(self):\n",
    "        return self.contractions\n",
    "    def set_field_list(self, field_list):\n",
    "        self.field_list = field_list\n",
    "    def set_contractions(self, contractions):\n",
    "        self.contractions = contractions\n",
    "    def massDim(self):\n",
    "        massDim = 0\n",
    "        field_list = self.field_list\n",
    "        #print(field_list)\n",
    "        for field in field_list:\n",
    "            massDim += field.get_massDim()\n",
    "        return massDim \n",
    "    def get_field_symbols(self):\n",
    "        field_symbols = []\n",
    "        for item in self.field_list:\n",
    "            field_symbols.append(item.get_symbol())\n",
    "        return field_symbols       \n",
    "    def string(self):\n",
    "        symbol = \"\"\n",
    "        for item in self.field_list:\n",
    "            symbol += item.get_symbol()\n",
    "        return symbol\n",
    "    \n",
    "\n",
    "    #def generate_uncontracted(self, M, N): \n",
    "        '''\n",
    "        INPUTS\n",
    "        M: number of phi's\n",
    "        N: number of D's\n",
    "        OUTPUTS\n",
    "        terms: list of uncontracted terms with M phi's and N D's\n",
    "        \n",
    "        EXPLANATION\n",
    "        Output a term for each inequivalent way of assigning D's to phi's\n",
    "        '''\n",
    "        '''\n",
    "        term_list = []  # list of length-M arrays indicating number of derivatives attached to each phi\n",
    "        num_derivs = np.zeros(M)  # array of number of derivatives associated with each phi\n",
    "        num_derivs[0] = N  # initialize to have all N derivatives on first phi\n",
    "        term_list.append(num_derivs)\n",
    "        \n",
    "        for i in range(N):\n",
    "            for j in range(M):\n",
    "        \n",
    "        return terms\n",
    "        '''"
   ]
  },
  {
   "cell_type": "code",
   "execution_count": 55,
   "metadata": {
    "collapsed": true
   },
   "outputs": [],
   "source": [
    "A = term(['D', 'P', 'D', 'P'], [(0, 2)])"
   ]
  },
  {
   "cell_type": "code",
   "execution_count": 56,
   "metadata": {},
   "outputs": [
    {
     "data": {
      "text/plain": [
       "'    \\ndef sums_to_n_reduced(n, m):\\n    combos = sums_to_n(n, m)\\n    combos_reduced = [combo for combo in combos if len(combo)==m]\\n    return combos_reduced\\n'"
      ]
     },
     "execution_count": 56,
     "metadata": {},
     "output_type": "execute_result"
    }
   ],
   "source": [
    "def non_increasing(L):\n",
    "    return all(x>=y for x, y in zip(L, L[1:]))\n",
    "\n",
    "def sums_to_n(n, m): # generates partitions of derivatives to each field\n",
    "    #INPUT\n",
    "    #n: number we want to sum to; i.e. total number of derivatives\n",
    "    #m: number of digits in sum; i.e. total number of fields\n",
    "    #OUTPUT\n",
    "    #list of lists of digits, with each sublist no longer than m\n",
    "    #EXPLANATION\n",
    "    #list of combos for n can be generated from list of combos for n-1 either by appending 1 to each of the combos\n",
    "    #for n-1, or adding 1 to just one of the elements in each combo. To ensure no repeats, we require the lists to be\n",
    "    #non-increasing.\n",
    "    #print(\"n, m: \" + str(n) + \", \" + str(m))\n",
    "    combos_list = []\n",
    "    if n==0:\n",
    "        combo = m*[0]\n",
    "        combos_list.append(combo)\n",
    "        return combos_list\n",
    "    elif n==1:\n",
    "        combo = [1] + (m-1)*[0]\n",
    "        combos_list.append(combo)\n",
    "        return combos_list\n",
    "    else:\n",
    "        combos_list_prev = sums_to_n(n-1, n-1)\n",
    "        #print(\"combos_list_prev: \" + str(combos_list_prev))\n",
    "        for combo in combos_list_prev:\n",
    "            #print(\"combo: \" + str(combo))\n",
    "            \n",
    "            # append [1] to combo list\n",
    "            combo_new1 = combo + [1]\n",
    "            #print(\"combo_new1: \" + str(combo_new1))\n",
    "            if non_increasing(combo_new1) and combo_new1 not in combos_list:\n",
    "                combos_list.append(combo_new1)\n",
    "                #print(\"combos_list: \" + str(combos_list))\n",
    "            \n",
    "            # add 1 to any item in combo \n",
    "            for i in range(len(combo)):\n",
    "                combo_new2 = combo.copy()\n",
    "                #print(\"combo_new2_init: \" + str(combo_new2))\n",
    "                combo_new2[i] += 1\n",
    "                #print(\"combo_new2: \" + str(combo_new2))\n",
    "                if non_increasing(combo_new2) and combo_new2 not in combos_list:\n",
    "                    #print(\"IN APPEND COMBO_NEW2\")\n",
    "                    combos_list.append(combo_new2) \n",
    "                    #print(\"combos_list: \" + str(combos_list))\n",
    "                    #print(\"LEAVING APPEND COMBO_NEW2\")\n",
    "        combos_list_trunc = [combo for combo in combos_list if len(combo) <= m]\n",
    "            \n",
    "        return combos_list_trunc\n",
    "\n",
    "def pad_w_zeros(list_of_lists, size):\n",
    "    #INPUT\n",
    "    #list_of_lists: list of lists of numbers; all sublists should have length less than or equal to size\n",
    "    #size: int, common size of all lists after padding\n",
    "    #OUTPUT\n",
    "    #list_of_lists_padded: padded list of lists, where each sublist has length size\n",
    "    \n",
    "    if size < max([len(sublist) for sublist in list_of_lists]):\n",
    "        print(\"'size' input must be larger than or equal max length of sublists in 'list_of_lists' input.\")\n",
    "        return None\n",
    "    else:\n",
    "        list_of_lists_padded = []\n",
    "        for sublist in list_of_lists:\n",
    "            num_zeros = size - len(sublist)\n",
    "            sublist_padded = sublist + num_zeros*[0]\n",
    "            list_of_lists_padded.append(sublist_padded)\n",
    "        return list_of_lists_padded\n",
    "        \n",
    "def sums_to_n_padded(n, m):\n",
    "    return pad_w_zeros(sums_to_n(n, m), m)\n",
    "\n",
    "\n",
    "    \n",
    "'''    \n",
    "def sums_to_n_reduced(n, m):\n",
    "    combos = sums_to_n(n, m)\n",
    "    combos_reduced = [combo for combo in combos if len(combo)==m]\n",
    "    return combos_reduced\n",
    "'''"
   ]
  },
  {
   "cell_type": "code",
   "execution_count": 57,
   "metadata": {},
   "outputs": [
    {
     "data": {
      "text/plain": [
       "[[4, 1, 1, 1],\n",
       " [3, 2, 1, 1],\n",
       " [2, 2, 2, 1],\n",
       " [5, 1, 1, 0],\n",
       " [4, 2, 1, 0],\n",
       " [3, 3, 1, 0],\n",
       " [3, 2, 2, 0],\n",
       " [6, 1, 0, 0],\n",
       " [5, 2, 0, 0],\n",
       " [4, 3, 0, 0],\n",
       " [7, 0, 0, 0]]"
      ]
     },
     "execution_count": 57,
     "metadata": {},
     "output_type": "execute_result"
    }
   ],
   "source": [
    "sums_to_n_padded(7,4)"
   ]
  },
  {
   "cell_type": "markdown",
   "metadata": {},
   "source": [
    "CORRECTION: correct sums_to_n to give only lists of length 4, or include option to do this. "
   ]
  },
  {
   "cell_type": "markdown",
   "metadata": {},
   "source": [
    "Try generating terms directly, without modding out by equivalence relation."
   ]
  },
  {
   "cell_type": "code",
   "execution_count": 89,
   "metadata": {
    "collapsed": true
   },
   "outputs": [],
   "source": [
    "def equiv_contraction(contraction1, contraction2, num_derivs_list):\n",
    "    # INPUT: \n",
    "    # contraction1: 2-tuple\n",
    "    # contraction2: 2-tuple\n",
    "    # OUTPUT:\n",
    "    # equiv: bool\n",
    "    #print(\"contraction1: \" + str(contraction1))\n",
    "    #print(\"contraction2: \" + str(contraction2))\n",
    "    indices_same_1 = contraction1[0]==contraction1[1]\n",
    "    indices_same_2 = contraction2[0]==contraction2[1]\n",
    "    #check whether number of derivatives associated with indices are the same.\n",
    "    equiv = (num_derivs_list[contraction1[0]] == num_derivs_list[contraction2[0]] and num_derivs_list[contraction1[1]] == num_derivs_list[contraction2[1]]) or (num_derivs_list[contraction1[0]] == num_derivs_list[contraction2[1]] and num_derivs_list[contraction1[1]] == num_derivs_list[contraction2[0]])\n",
    "    #check whether indices of each contraction are on same field or different fields for each contraction.\n",
    "    #contractions are only equivalent if they are either both on the same field or both on different fields.\n",
    "    equiv = equiv and (indices_same_1 == indices_same_2)\n",
    "    return equiv\n",
    "\n",
    "def equiv_contraction_list(contraction_list1, contraction_list2, num_derivs_list):\n",
    "    if len(contraction_list1) != len(contraction_list2):\n",
    "        #print(\"Contraction lists of different lengths.\")\n",
    "        return False\n",
    "    #returns True if the two lists of contractions are equivalent relative to num_derivs_list, and False otherwise.\n",
    "    #for each contraction in contraction_list1, see if it is equivalent to one of the remaining contractions\n",
    "    #in contraction_list2. remove an element from contraction_list2 if it is found to be equivalent to one from \n",
    "    #contraction_list1. for each element of contraction_list1, we must find an equivalent element of contraction_list2.\n",
    "    contraction_list1_copy = contraction_list1.copy() #make copies to avoid changing lists\n",
    "    contraction_list2_copy = contraction_list2.copy()\n",
    "    \n",
    "    for contraction1 in contraction_list1_copy:\n",
    "        match_found = False\n",
    "        for contraction2 in contraction_list2_copy:\n",
    "            if equiv_contraction(contraction1, contraction2, num_derivs_list):\n",
    "                match_found = True\n",
    "                contraction_list2_copy.remove(contraction2)\n",
    "                break\n",
    "        #if after looping through all contraction_list2 no match is found, return False\n",
    "        if match_found == False:\n",
    "            return False            \n",
    "    return True #should be true if match_found is true for all elements\n",
    "\n",
    "def contained_in(contraction_list, list_of_contraction_lists, num_derivs_list): #determines whether contraction_list is contained in list of contraction lists\n",
    "    for i in range(len(list_of_contraction_lists)):\n",
    "        if equiv_contraction_list(contraction_list, list_of_contraction_lists[i], num_derivs_list):\n",
    "            return True\n",
    "        else:\n",
    "            pass\n",
    "    return False\n",
    "\n",
    "def generate_contractions(num_derivs_list, num_contractions):\n",
    "    '''\n",
    "    INPUT\n",
    "    num_derivs_list: list where each list element corresponds to a single field and each element to the number\n",
    "    of derivatives acting on each field\n",
    "    \n",
    "    num_contractions: integer indicating number of contractions in term, can be no larger than half the total number\n",
    "    of derivatives, equal to the sum of elements in partition. \n",
    "    \n",
    "    OUTPUT\n",
    "    contractions_list: list of lists of contracted bins, e.g. for parition = [4, 3], num_contractions = 3, one element would be [(0, 0),(0, 0),(1, 1)]\n",
    "    another would be [(0, 1),(0, 1),(0, 0)]\n",
    "    \n",
    "    for num_derivs_list = [3, 2, 2] and num_contractions = 3, [(0, 0), (0, 1), (1, 2)] (one 2 left free) and [(0, 1), (1, 2), (0, 2)] (one 0 left free)\n",
    "    '''\n",
    "    #USE RECURSION\n",
    "    #print(\"num_derivs_list, num_contractions: \" + str(num_derivs_list) + \", \" + str(num_contractions))\n",
    "   \n",
    "    #indices = list(range(len(num_derivs_list))) # e.g. for [5,5,2,1] gives indices=[0,1,2,3]\n",
    "    \n",
    "    if num_contractions == 0: \n",
    "        contractions_list = [[]] # list of lists. each sub-list is of length num_contractions.\n",
    "        return contractions_list\n",
    "    else: \n",
    "        contractions_list = []\n",
    "        uncontracted = num_derivs_list\n",
    "        N_fields = len(num_derivs_list)\n",
    "  \n",
    "        #loop over all possible values of first contraction; add these to list of contractions produced by generate_contractions(num_derivs_list_red, num_contractions - 1)\n",
    "        for i1 in range(N_fields):\n",
    "            for i2 in range(N_fields):\n",
    "                if i1 != i2:\n",
    "                    if uncontracted[i1] > 0 and uncontracted[i2] > 0:\n",
    "                        uncontracted_new = uncontracted.copy()\n",
    "                        contraction = (i1, i2)\n",
    "                        #print(\"contraction: \" + str(contraction))\n",
    "                        uncontracted_new[i1] -= 1\n",
    "                        uncontracted_new[i2] -= 1\n",
    "                        contractions_list_sub = generate_contractions(uncontracted_new, num_contractions - 1)\n",
    "                        #print(\"contractions_list_sub: \" + str(contractions_list_sub))\n",
    "                        \n",
    "                        for sublist in contractions_list_sub:\n",
    "                            sublist_new = [contraction] + sublist\n",
    "                            #print(\"sublist_new: \" + str(sublist_new))\n",
    "                            contractions_list.append(sublist_new)\n",
    "                    else:\n",
    "                        pass\n",
    "                elif i1 == i2:\n",
    "                    if uncontracted[i1] - 1 > 0: #must be at least 2 in uncontracted[i1]\n",
    "                        uncontracted_new = uncontracted.copy()\n",
    "                        contraction = (i1, i1)\n",
    "                        #print(\"contraction: \" + str(contraction))\n",
    "                        uncontracted_new[i1] -= 2\n",
    "                        contractions_list_sub = generate_contractions(uncontracted_new, num_contractions - 1)\n",
    "                        #print(\"contractions_list_sub: \" + str(contractions_list_sub))\n",
    "                        \n",
    "                        for sublist in contractions_list_sub:\n",
    "                            #print(\"sublist: \" + str(sublist))\n",
    "                            #print(\"type(sublist): \" + str(type(sublist)))\n",
    "                            sublist_new = [contraction] + sublist\n",
    "                            #print(\"sublist_new: \" + str(sublist_new))\n",
    "                            #print(\"type([contraction]): \" + str(type([contraction])))\n",
    "                            contractions_list.append(sublist_new)\n",
    "                    else:\n",
    "                        pass\n",
    "        \n",
    "        return contractions_list\n",
    "    \n",
    "    \n",
    "def reduce_contractions(list_of_contraction_lists, num_derivs_list):\n",
    "    #INPUT:\n",
    "    #contractions_list: list of lists of contractions\n",
    "    #num_derivs_list: list of number of (uncontracted) derivatives attached to each field\n",
    "    #OUTPUT: \n",
    "    #contractions_reduced: list of lists of contractions\n",
    "    #contractions_unique = [list_of_contraction_lists[0]]\n",
    "    contractions_unique = []\n",
    "    #print(contractions_unique)\n",
    "    for i in range(len(list_of_contraction_lists)):\n",
    "        #print(\"\")\n",
    "        #print(\"i: \" + str(i))\n",
    "        #print(\"contraction_list: \" + str(list_of_contraction_lists[i]))\n",
    "        #print(\"contractions_unique: \" + str(contractions_unique))\n",
    "        #print(\"len(list_of_contraction_lists[i]): \" + str(list_of_contraction_lists[i]))\n",
    "        #print(\"len()\")\n",
    "        \n",
    "        if not contained_in(list_of_contraction_lists[i], contractions_unique, num_derivs_list):\n",
    "            #print(\"\")\n",
    "            #print(\"new list\")\n",
    "            #print(\"contractions_unique before: \" + str(contractions_unique))\n",
    "            contractions_unique.append(list_of_contraction_lists[i])\n",
    "            #print(\"contractions_unique after: \" + str(contractions_unique))\n",
    "            #print(\"\")\n",
    "        else:\n",
    "            #print(\"pass\")\n",
    "            pass\n",
    "    return contractions_unique\n",
    "\n",
    "def generate_unique_contractions(num_derivs_list, num_contractions):\n",
    "    list_of_contraction_lists = generate_contractions(num_derivs_list, num_contractions)\n",
    "    contractions_unique = reduce_contractions(list_of_contraction_lists, num_derivs_list)\n",
    "    return contractions_unique\n",
    "        "
   ]
  },
  {
   "cell_type": "code",
   "execution_count": 90,
   "metadata": {},
   "outputs": [
    {
     "data": {
      "text/plain": [
       "[[(0, 0), (0, 0), (0, 1), (1, 1)],\n",
       " [(0, 0), (0, 0), (1, 1), (1, 1)],\n",
       " [(0, 0), (0, 1), (0, 1), (0, 1)],\n",
       " [(0, 0), (0, 1), (0, 1), (1, 1)],\n",
       " [(0, 1), (0, 1), (0, 1), (0, 1)]]"
      ]
     },
     "execution_count": 90,
     "metadata": {},
     "output_type": "execute_result"
    }
   ],
   "source": [
    "num_derivs_list = [5,4]\n",
    "num_contractions = 4\n",
    "generate_unique_contractions(num_derivs_list, num_contractions)"
   ]
  },
  {
   "cell_type": "code",
   "execution_count": 60,
   "metadata": {
    "collapsed": true
   },
   "outputs": [],
   "source": [
    "def convert_to_term_object(num_derivs_list, contraction_list):\n",
    "    \n",
    "    num_phi = len(num_derivs_list)\n",
    "    num_contractions = len(contraction_list)\n",
    "    field_list = []\n",
    "    contraction_transform_list = []\n",
    "    \n",
    "    #build field_list\n",
    "    for i in range(num_phi):\n",
    "        P_i = field('P', 1)\n",
    "        for j in range(num_derivs_list[i]):\n",
    "            D_ij = field('D', 1, 'u') #u for Lorentz index\n",
    "            field_list.append(D_ij)\n",
    "        field_list.append(P_i)\n",
    "    \n",
    "    counts = num_phi*[0] #stores number of contractions into phi field place\n",
    "    #build contraction_list\n",
    "    for i in range(num_contractions):\n",
    "        contraction = contraction_list[i]\n",
    "        phi1 = contraction[0]\n",
    "        phi2 = contraction[1]\n",
    "        \n",
    "        index1 = sum(num_derivs_list[:phi1]) + phi1 + counts[phi1]\n",
    "        counts[phi1] += 1\n",
    "        index2 = sum(num_derivs_list[:phi2]) + phi2 + counts[phi2]\n",
    "        counts[phi2] += 1\n",
    "        \n",
    "        contraction_transform = (index1, index2)\n",
    "        contraction_transform_list.append(contraction_transform)\n",
    "           \n",
    "    #instantiate term object\n",
    "    term_object = term(field_list, contraction_transform_list)\n",
    "            \n",
    "    return term_object"
   ]
  },
  {
   "cell_type": "code",
   "execution_count": 61,
   "metadata": {},
   "outputs": [
    {
     "data": {
      "text/plain": [
       "[<__main__.field at 0x1117a3c88>,\n",
       " <__main__.field at 0x1117a3cc0>,\n",
       " <__main__.field at 0x1117a3f28>,\n",
       " <__main__.field at 0x1117a3c18>,\n",
       " <__main__.field at 0x1117a3fd0>,\n",
       " <__main__.field at 0x1117a3f98>,\n",
       " <__main__.field at 0x1117a3f60>,\n",
       " <__main__.field at 0x1117a3ef0>,\n",
       " <__main__.field at 0x1117a3e80>,\n",
       " <__main__.field at 0x1117a3e48>,\n",
       " <__main__.field at 0x1117a3eb8>]"
      ]
     },
     "execution_count": 61,
     "metadata": {},
     "output_type": "execute_result"
    }
   ],
   "source": [
    "num_derivs_list = [3, 2, 1, 1]\n",
    "contraction_list = [(0, 1), (2, 3)]\n",
    "\n",
    "term_object = convert_to_term_object(num_derivs_list, contraction_list)\n",
    "term_object.get_contractions()\n",
    "term_object.get_field_list()\n",
    "#term_object.get_field_list()"
   ]
  },
  {
   "cell_type": "code",
   "execution_count": 62,
   "metadata": {
    "collapsed": true,
    "scrolled": false
   },
   "outputs": [],
   "source": [
    "#generate terms w/ no free indices.\n",
    "def generate_fully_contracted(massDim):\n",
    "    #INPUT\n",
    "    #massDim: int, mass dimension of terms to be generated.\n",
    "    #OUTPUT\n",
    "    #fully_contracted: a list of all term objects of mass dimension massDim, all fully contracted. \n",
    "    M = massDim\n",
    "    fully_contracted = []\n",
    "    #print(\"M: \" + str(M))\n",
    "    for i in range(int(M/2)): #loop over number of derivatives in term\n",
    "        num_derivs = 2*i #need number of derivatives to be even to ensure that every index is contracted\n",
    "        num_fields = M - num_derivs\n",
    "        #print(\"\")\n",
    "        #print(\"\")\n",
    "        #print(\"in generate_fully_contracted, (num_derivs, num_fields):\" + str((num_derivs, num_fields)))\n",
    "        list_of_num_derivs_lists = sums_to_n_padded(num_derivs, num_fields) #list of lists, with each sublist containing a different distribution of derivatives among fields. \n",
    "        for j in range(len(list_of_num_derivs_lists)): #loop over different ways of distributing derivatives among fields\n",
    "            num_derivs_list = list_of_num_derivs_lists[j]\n",
    "            #print(\"\")\n",
    "            #print(\"num_derivs_list: \" + str(num_derivs_list))\n",
    "            num_contractions = i #since fully contracted, num_contractions is half num_derivs\n",
    "            list_of_contraction_lists = generate_unique_contractions(num_derivs_list, num_contractions)\n",
    "            for contraction_list in list_of_contraction_lists: #loop over inequivalent ways of contracting Lorentz indices of derivatives \n",
    "                #print(\"\")\n",
    "                #print(\"contraction_list: \" + str(contraction_list))\n",
    "                term_object = convert_to_term_object(num_derivs_list, contraction_list)\n",
    "                #print(\"term_object.get_field_symbols(): \" + str(term_object.get_field_symbols()))\n",
    "                fully_contracted.append(term_object)        \n",
    "    return fully_contracted\n"
   ]
  },
  {
   "cell_type": "code",
   "execution_count": null,
   "metadata": {
    "collapsed": true
   },
   "outputs": [],
   "source": []
  },
  {
   "cell_type": "code",
   "execution_count": 63,
   "metadata": {},
   "outputs": [
    {
     "name": "stdout",
     "output_type": "stream",
     "text": [
      "len(terms): 16\n"
     ]
    }
   ],
   "source": [
    "massDim = 8\n",
    "terms = generate_fully_contracted(massDim)\n",
    "print(\"len(terms): \" + str(len(terms)))"
   ]
  },
  {
   "cell_type": "code",
   "execution_count": 64,
   "metadata": {},
   "outputs": [
    {
     "name": "stdout",
     "output_type": "stream",
     "text": [
      "term_object.get_field_symbols(): ['P', 'P', 'P', 'P', 'P', 'P', 'P', 'P']\n",
      "term_object.get_contractions(): []\n",
      "term_object.get_field_symbols(): ['D', 'P', 'D', 'P', 'P', 'P', 'P', 'P']\n",
      "term_object.get_contractions(): [(0, 2)]\n",
      "term_object.get_field_symbols(): ['D', 'D', 'P', 'P', 'P', 'P', 'P', 'P']\n",
      "term_object.get_contractions(): [(0, 1)]\n",
      "term_object.get_field_symbols(): ['D', 'P', 'D', 'P', 'D', 'P', 'D', 'P']\n",
      "term_object.get_contractions(): [(0, 2), (4, 6)]\n",
      "term_object.get_field_symbols(): ['D', 'D', 'P', 'D', 'P', 'D', 'P', 'P']\n",
      "term_object.get_contractions(): [(0, 1), (3, 5)]\n",
      "term_object.get_field_symbols(): ['D', 'D', 'P', 'D', 'P', 'D', 'P', 'P']\n",
      "term_object.get_contractions(): [(0, 3), (1, 5)]\n",
      "term_object.get_field_symbols(): ['D', 'D', 'D', 'P', 'D', 'P', 'P', 'P']\n",
      "term_object.get_contractions(): [(0, 1), (2, 4)]\n",
      "term_object.get_field_symbols(): ['D', 'D', 'P', 'D', 'D', 'P', 'P', 'P']\n",
      "term_object.get_contractions(): [(0, 1), (3, 4)]\n",
      "term_object.get_field_symbols(): ['D', 'D', 'P', 'D', 'D', 'P', 'P', 'P']\n",
      "term_object.get_contractions(): [(0, 3), (1, 4)]\n",
      "term_object.get_field_symbols(): ['D', 'D', 'D', 'D', 'P', 'P', 'P', 'P']\n",
      "term_object.get_contractions(): [(0, 1), (2, 3)]\n",
      "term_object.get_field_symbols(): ['D', 'D', 'D', 'D', 'D', 'P', 'D', 'P']\n",
      "term_object.get_contractions(): [(0, 1), (2, 3), (4, 6)]\n",
      "term_object.get_field_symbols(): ['D', 'D', 'D', 'D', 'P', 'D', 'D', 'P']\n",
      "term_object.get_contractions(): [(0, 1), (2, 3), (5, 6)]\n",
      "term_object.get_field_symbols(): ['D', 'D', 'D', 'D', 'P', 'D', 'D', 'P']\n",
      "term_object.get_contractions(): [(0, 1), (2, 5), (3, 6)]\n",
      "term_object.get_field_symbols(): ['D', 'D', 'D', 'P', 'D', 'D', 'D', 'P']\n",
      "term_object.get_contractions(): [(0, 1), (2, 4), (5, 6)]\n",
      "term_object.get_field_symbols(): ['D', 'D', 'D', 'P', 'D', 'D', 'D', 'P']\n",
      "term_object.get_contractions(): [(0, 4), (1, 5), (2, 6)]\n",
      "term_object.get_field_symbols(): ['D', 'D', 'D', 'D', 'D', 'D', 'P', 'P']\n",
      "term_object.get_contractions(): [(0, 1), (2, 3), (4, 5)]\n"
     ]
    }
   ],
   "source": [
    "for item in terms:\n",
    "    print(\"term_object.get_field_symbols(): \" + str(item.get_field_symbols()))\n",
    "    print(\"term_object.get_contractions(): \" + str(item.get_contractions()))\n"
   ]
  },
  {
   "cell_type": "code",
   "execution_count": 65,
   "metadata": {
    "collapsed": true
   },
   "outputs": [],
   "source": [
    "#generate terms so that free indices are allowed. \n",
    "def generate_contracted_terms(massDim, num_free_indices):\n",
    "    #INPUT\n",
    "    #massDim: int, mass dimension of terms to be generated.\n",
    "    #OUTPUT\n",
    "    #num_free_indices: number of free Lorentz indices we want to leave open\n",
    "    #EXPLANATION\n",
    "    #num_free_indices = num_derivs - 2*num_contractions, so \n",
    "    #num_contractions = .5*(num_derivs - num_free_indices), so num_derivs has to be a multiple of 2 greater than \n",
    "    #num_free_indices\n",
    "    M = massDim\n",
    "    contracted = []\n",
    "    #print(\"M: \" + str(M))\n",
    "    for i in range(int(M)): #loop over number of derivatives in term\n",
    "        num_derivs = i #need number of derivatives to be even to ensure that every index is contracted\n",
    "        num_fields = M - num_derivs\n",
    "        #print(\"\")\n",
    "        #print(\"\")\n",
    "        #print(\"in generate_fully_contracted, (num_derivs, num_fields):\" + str((num_derivs, num_fields)))\n",
    "        list_of_num_derivs_lists = sums_to_n_padded(num_derivs, num_fields) #list of lists, with each sublist containing a different distribution of derivatives among fields. \n",
    "        \n",
    "        #check that num_derivs allows for specified number of free indices, if not, go to next i in loop. \n",
    "        if (num_derivs - num_free_indices)%2 == 0: \n",
    "            num_contractions = .5*(num_derivs - num_free_indices)\n",
    "        else: #if number of derivatives does not allow for specified number of free indices, then move to next number\n",
    "            #print(\"continue\")\n",
    "            continue \n",
    "        \n",
    "        for j in range(len(list_of_num_derivs_lists)): #loop over different ways of distributing derivatives among fields\n",
    "            num_derivs_list = list_of_num_derivs_lists[j]\n",
    "            #print(\"\")\n",
    "            #print(\"num_derivs_list: \" + str(num_derivs_list)) \n",
    "            list_of_contraction_lists = generate_unique_contractions(num_derivs_list, num_contractions)\n",
    "            for contraction_list in list_of_contraction_lists: #loop over inequivalent ways of contracting Lorentz indices of derivatives \n",
    "                #print(\"\")\n",
    "                #print(\"contraction_list: \" + str(contraction_list))\n",
    "                term_object = convert_to_term_object(num_derivs_list, contraction_list)\n",
    "                #print(\"term_object.get_field_symbols(): \" + str(term_object.get_field_symbols()))\n",
    "                contracted.append(term_object)        \n",
    "    return contracted\n"
   ]
  },
  {
   "cell_type": "markdown",
   "metadata": {},
   "source": [
    "Check that generate_contracted_terms(massDim, num_free_indices=0) gives same results as generate_fully_contracted(massDim)"
   ]
  },
  {
   "cell_type": "code",
   "execution_count": 66,
   "metadata": {},
   "outputs": [
    {
     "name": "stdout",
     "output_type": "stream",
     "text": [
      "term_object.get_field_symbols(): ['P', 'P', 'P', 'P', 'P', 'P', 'P', 'P']\n",
      "term_object.get_contractions(): []\n",
      "term_object.get_field_symbols(): ['D', 'P', 'D', 'P', 'P', 'P', 'P', 'P']\n",
      "term_object.get_contractions(): [(0, 2)]\n",
      "term_object.get_field_symbols(): ['D', 'D', 'P', 'P', 'P', 'P', 'P', 'P']\n",
      "term_object.get_contractions(): [(0, 1)]\n",
      "term_object.get_field_symbols(): ['D', 'P', 'D', 'P', 'D', 'P', 'D', 'P']\n",
      "term_object.get_contractions(): [(0, 2), (4, 6)]\n",
      "term_object.get_field_symbols(): ['D', 'D', 'P', 'D', 'P', 'D', 'P', 'P']\n",
      "term_object.get_contractions(): [(0, 1), (3, 5)]\n",
      "term_object.get_field_symbols(): ['D', 'D', 'P', 'D', 'P', 'D', 'P', 'P']\n",
      "term_object.get_contractions(): [(0, 3), (1, 5)]\n",
      "term_object.get_field_symbols(): ['D', 'D', 'D', 'P', 'D', 'P', 'P', 'P']\n",
      "term_object.get_contractions(): [(0, 1), (2, 4)]\n",
      "term_object.get_field_symbols(): ['D', 'D', 'P', 'D', 'D', 'P', 'P', 'P']\n",
      "term_object.get_contractions(): [(0, 1), (3, 4)]\n",
      "term_object.get_field_symbols(): ['D', 'D', 'P', 'D', 'D', 'P', 'P', 'P']\n",
      "term_object.get_contractions(): [(0, 3), (1, 4)]\n",
      "term_object.get_field_symbols(): ['D', 'D', 'D', 'D', 'P', 'P', 'P', 'P']\n",
      "term_object.get_contractions(): [(0, 1), (2, 3)]\n",
      "term_object.get_field_symbols(): ['D', 'D', 'D', 'D', 'D', 'P', 'D', 'P']\n",
      "term_object.get_contractions(): [(0, 1), (2, 3), (4, 6)]\n",
      "term_object.get_field_symbols(): ['D', 'D', 'D', 'D', 'P', 'D', 'D', 'P']\n",
      "term_object.get_contractions(): [(0, 1), (2, 3), (5, 6)]\n",
      "term_object.get_field_symbols(): ['D', 'D', 'D', 'D', 'P', 'D', 'D', 'P']\n",
      "term_object.get_contractions(): [(0, 1), (2, 5), (3, 6)]\n",
      "term_object.get_field_symbols(): ['D', 'D', 'D', 'P', 'D', 'D', 'D', 'P']\n",
      "term_object.get_contractions(): [(0, 1), (2, 4), (5, 6)]\n",
      "term_object.get_field_symbols(): ['D', 'D', 'D', 'P', 'D', 'D', 'D', 'P']\n",
      "term_object.get_contractions(): [(0, 4), (1, 5), (2, 6)]\n",
      "term_object.get_field_symbols(): ['D', 'D', 'D', 'D', 'D', 'D', 'P', 'P']\n",
      "term_object.get_contractions(): [(0, 1), (2, 3), (4, 5)]\n"
     ]
    }
   ],
   "source": [
    "massDim = 8\n",
    "num_free_indices = 0\n",
    "terms = generate_contracted_terms(massDim, num_free_indices)\n",
    "\n",
    "for item in terms:\n",
    "    print(\"term_object.get_field_symbols(): \" + str(item.get_field_symbols()))\n",
    "    print(\"term_object.get_contractions(): \" + str(item.get_contractions()))\n"
   ]
  },
  {
   "cell_type": "markdown",
   "metadata": {},
   "source": [
    "Appears to give same result. Check "
   ]
  },
  {
   "cell_type": "markdown",
   "metadata": {
    "collapsed": true
   },
   "source": [
    "Generate all terms of massDim 8. Reduce basis according to integration by parts. "
   ]
  },
  {
   "cell_type": "code",
   "execution_count": 67,
   "metadata": {},
   "outputs": [
    {
     "name": "stdout",
     "output_type": "stream",
     "text": [
      "term_object.get_field_symbols(): ['P', 'P', 'P', 'P', 'P', 'P', 'P', 'P']\n",
      "term_object.get_contractions(): []\n",
      "term_object.get_field_symbols(): ['D', 'P', 'D', 'P', 'P', 'P', 'P', 'P']\n",
      "term_object.get_contractions(): [(0, 2)]\n",
      "term_object.get_field_symbols(): ['D', 'D', 'P', 'P', 'P', 'P', 'P', 'P']\n",
      "term_object.get_contractions(): [(0, 1)]\n",
      "term_object.get_field_symbols(): ['D', 'P', 'D', 'P', 'D', 'P', 'D', 'P']\n",
      "term_object.get_contractions(): [(0, 2), (4, 6)]\n",
      "term_object.get_field_symbols(): ['D', 'D', 'P', 'D', 'P', 'D', 'P', 'P']\n",
      "term_object.get_contractions(): [(0, 1), (3, 5)]\n",
      "term_object.get_field_symbols(): ['D', 'D', 'P', 'D', 'P', 'D', 'P', 'P']\n",
      "term_object.get_contractions(): [(0, 3), (1, 5)]\n",
      "term_object.get_field_symbols(): ['D', 'D', 'D', 'P', 'D', 'P', 'P', 'P']\n",
      "term_object.get_contractions(): [(0, 1), (2, 4)]\n",
      "term_object.get_field_symbols(): ['D', 'D', 'P', 'D', 'D', 'P', 'P', 'P']\n",
      "term_object.get_contractions(): [(0, 1), (3, 4)]\n",
      "term_object.get_field_symbols(): ['D', 'D', 'P', 'D', 'D', 'P', 'P', 'P']\n",
      "term_object.get_contractions(): [(0, 3), (1, 4)]\n",
      "term_object.get_field_symbols(): ['D', 'D', 'D', 'D', 'P', 'P', 'P', 'P']\n",
      "term_object.get_contractions(): [(0, 1), (2, 3)]\n",
      "term_object.get_field_symbols(): ['D', 'D', 'D', 'D', 'D', 'P', 'D', 'P']\n",
      "term_object.get_contractions(): [(0, 1), (2, 3), (4, 6)]\n",
      "term_object.get_field_symbols(): ['D', 'D', 'D', 'D', 'P', 'D', 'D', 'P']\n",
      "term_object.get_contractions(): [(0, 1), (2, 3), (5, 6)]\n",
      "term_object.get_field_symbols(): ['D', 'D', 'D', 'D', 'P', 'D', 'D', 'P']\n",
      "term_object.get_contractions(): [(0, 1), (2, 5), (3, 6)]\n",
      "term_object.get_field_symbols(): ['D', 'D', 'D', 'P', 'D', 'D', 'D', 'P']\n",
      "term_object.get_contractions(): [(0, 1), (2, 4), (5, 6)]\n",
      "term_object.get_field_symbols(): ['D', 'D', 'D', 'P', 'D', 'D', 'D', 'P']\n",
      "term_object.get_contractions(): [(0, 4), (1, 5), (2, 6)]\n",
      "term_object.get_field_symbols(): ['D', 'D', 'D', 'D', 'D', 'D', 'P', 'P']\n",
      "term_object.get_contractions(): [(0, 1), (2, 3), (4, 5)]\n"
     ]
    }
   ],
   "source": [
    "massDim = 8\n",
    "num_free_indices = 0\n",
    "terms = generate_contracted_terms(massDim, num_free_indices)\n",
    "\n",
    "for item in terms:\n",
    "    print(\"term_object.get_field_symbols(): \" + str(item.get_field_symbols()))\n",
    "    print(\"term_object.get_contractions(): \" + str(item.get_contractions()))"
   ]
  },
  {
   "cell_type": "markdown",
   "metadata": {},
   "source": [
    "Implement integration by parts. To each of the above terms there corresponds a different linear integration by parts (IBP) linear dependence relation. Ultimately, we want to see how many of these relations are linearly independent, to determine the number of independent operators of a given mass dimension. "
   ]
  },
  {
   "cell_type": "code",
   "execution_count": 68,
   "metadata": {},
   "outputs": [
    {
     "name": "stdout",
     "output_type": "stream",
     "text": [
      "term_object.get_field_symbols(): ['D', 'P', 'P', 'P', 'P', 'P', 'P']\n",
      "term_object.get_contractions(): []\n",
      "term_object.get_field_symbols(): ['D', 'P', 'D', 'P', 'D', 'P', 'P']\n",
      "term_object.get_contractions(): [(0, 2)]\n",
      "term_object.get_field_symbols(): ['D', 'D', 'P', 'D', 'P', 'P', 'P']\n",
      "term_object.get_contractions(): [(0, 1)]\n",
      "term_object.get_field_symbols(): ['D', 'D', 'P', 'D', 'P', 'P', 'P']\n",
      "term_object.get_contractions(): [(0, 3)]\n",
      "term_object.get_field_symbols(): ['D', 'D', 'D', 'P', 'P', 'P', 'P']\n",
      "term_object.get_contractions(): [(0, 1)]\n",
      "term_object.get_field_symbols(): ['D', 'D', 'D', 'D', 'P', 'D', 'P']\n",
      "term_object.get_contractions(): [(0, 1), (2, 3)]\n",
      "term_object.get_field_symbols(): ['D', 'D', 'D', 'D', 'P', 'D', 'P']\n",
      "term_object.get_contractions(): [(0, 1), (2, 5)]\n",
      "term_object.get_field_symbols(): ['D', 'D', 'D', 'P', 'D', 'D', 'P']\n",
      "term_object.get_contractions(): [(0, 1), (2, 4)]\n",
      "term_object.get_field_symbols(): ['D', 'D', 'D', 'P', 'D', 'D', 'P']\n",
      "term_object.get_contractions(): [(0, 1), (4, 5)]\n",
      "term_object.get_field_symbols(): ['D', 'D', 'D', 'P', 'D', 'D', 'P']\n",
      "term_object.get_contractions(): [(0, 4), (1, 5)]\n",
      "term_object.get_field_symbols(): ['D', 'D', 'D', 'D', 'D', 'P', 'P']\n",
      "term_object.get_contractions(): [(0, 1), (2, 3)]\n"
     ]
    }
   ],
   "source": [
    "massDim = 7\n",
    "num_free_indices = 1\n",
    "terms = generate_contracted_terms(massDim, num_free_indices)\n",
    "\n",
    "for item in terms:\n",
    "    print(\"term_object.get_field_symbols(): \" + str(item.get_field_symbols()))\n",
    "    print(\"term_object.get_contractions(): \" + str(item.get_contractions()))"
   ]
  },
  {
   "cell_type": "code",
   "execution_count": 69,
   "metadata": {},
   "outputs": [
    {
     "name": "stdout",
     "output_type": "stream",
     "text": [
      "term_object.get_field_symbols(): ['D', 'P', 'P', 'P', 'P']\n",
      "term_object.get_contractions(): []\n",
      "term_object.get_field_symbols(): ['D', 'D', 'P', 'D', 'P']\n",
      "term_object.get_contractions(): [(0, 1)]\n",
      "term_object.get_field_symbols(): ['D', 'D', 'P', 'D', 'P']\n",
      "term_object.get_contractions(): [(0, 3)]\n",
      "term_object.get_field_symbols(): ['D', 'D', 'D', 'P', 'P']\n",
      "term_object.get_contractions(): [(0, 1)]\n"
     ]
    }
   ],
   "source": [
    "massDim = 5\n",
    "num_free_indices = 1\n",
    "terms1 = generate_contracted_terms(massDim, num_free_indices)\n",
    "\n",
    "for item in terms1:\n",
    "    print(\"term_object.get_field_symbols(): \" + str(item.get_field_symbols()))\n",
    "    print(\"term_object.get_contractions(): \" + str(item.get_contractions()))"
   ]
  },
  {
   "cell_type": "code",
   "execution_count": 70,
   "metadata": {},
   "outputs": [
    {
     "name": "stdout",
     "output_type": "stream",
     "text": [
      "term_object.get_field_symbols(): ['P', 'P', 'P', 'P', 'P', 'P']\n",
      "term_object.get_contractions(): []\n",
      "term_object.get_field_symbols(): ['D', 'P', 'D', 'P', 'P', 'P']\n",
      "term_object.get_contractions(): [(0, 2)]\n",
      "term_object.get_field_symbols(): ['D', 'D', 'P', 'P', 'P', 'P']\n",
      "term_object.get_contractions(): [(0, 1)]\n",
      "term_object.get_field_symbols(): ['D', 'D', 'D', 'P', 'D', 'P']\n",
      "term_object.get_contractions(): [(0, 1), (2, 4)]\n",
      "term_object.get_field_symbols(): ['D', 'D', 'P', 'D', 'D', 'P']\n",
      "term_object.get_contractions(): [(0, 1), (3, 4)]\n",
      "term_object.get_field_symbols(): ['D', 'D', 'P', 'D', 'D', 'P']\n",
      "term_object.get_contractions(): [(0, 3), (1, 4)]\n",
      "term_object.get_field_symbols(): ['D', 'D', 'D', 'D', 'P', 'P']\n",
      "term_object.get_contractions(): [(0, 1), (2, 3)]\n"
     ]
    }
   ],
   "source": [
    "massDim = 6\n",
    "num_free_indices = 0\n",
    "terms2 = generate_contracted_terms(massDim, num_free_indices)\n",
    "\n",
    "for item in terms2:\n",
    "    print(\"term_object.get_field_symbols(): \" + str(item.get_field_symbols()))\n",
    "    print(\"term_object.get_contractions(): \" + str(item.get_contractions()))"
   ]
  },
  {
   "cell_type": "code",
   "execution_count": 71,
   "metadata": {
    "collapsed": true
   },
   "outputs": [],
   "source": [
    "def differentiate(term_object):\n",
    "    #INPUT\n",
    "    #term_object: term object with one free index\n",
    "    #OUTPUT\n",
    "    #term_list: list of term objects in sum resulting from differentiation\n",
    "    #EXPLANATION\n",
    "    #implements product rule on a term of dim M-1 to generate a list of terms of dim M. if there are N P fields \n",
    "    #in a term, there will be N terms in the product rule expansion. \n",
    "    #TO DO: check - test for correct number of indices. \n",
    "    \n",
    "    field_list = term_object.get_field_list()\n",
    "    contraction_list = term_object.get_contractions()\n",
    "    \n",
    "    L = len(field_list)\n",
    "    term_list = [] #store resulting terms\n",
    "    \n",
    "    #set field lists for N new terms of dim M. \n",
    "    new_field_lists = [] #stores field lists for generated terms\n",
    "    for i in range(L):\n",
    "        D = field('D', 1, 'u')\n",
    "        if field_list[i].get_symbol() == 'P':\n",
    "            #print(\"field loop, i = \" + str(i))\n",
    "            #insert D before P\n",
    "            field_list_new = field_list.copy()\n",
    "            field_list_new.insert(i, D) #insert derivative D into field list right before P\n",
    "            new_field_lists.append(field_list_new)\n",
    "    \n",
    "    #print(\"new_field_lists: \" + str(len(new_field_lists)))\n",
    "    #set contraction lists for N new terms of dim M. \n",
    "    #EXPLANATION: find uncontracted index in term_object. then, looping through contractions in contraction_list,\n",
    "    #1) if index comes before index of inserted D, leave the same; if index comes after index of inserted D, increment\n",
    "    #index by 1. \n",
    "    #2) add contraction between index of inserted D and free index.  \n",
    "    new_contraction_lists = []\n",
    "    \n",
    "    #find uncontracted index in term_object, since this will be contracted with external derivative\n",
    "    contracted_indices = [] #store contracted indices to find the one free index\n",
    "    #free_index = None\n",
    "    for contraction in contraction_list:\n",
    "        contracted_indices.append(contraction[0])\n",
    "        contracted_indices.append(contraction[1])\n",
    "    #print(\"contracted_indices: \" + str(contracted_indices))\n",
    "    free_index = 9999 #set to default value not equal to one of the expected possibilities\n",
    "    for i in range(len(field_list)): \n",
    "        if field_list[i].get_symbol() == 'D' and i not in contracted_indices:\n",
    "            free_index = i\n",
    "            #print(\"free_index: \" + str(free_index))\n",
    "        else:\n",
    "            pass\n",
    "            #print(\"No free index found.\")\n",
    "    \n",
    "    for i in range(L): #for each P field, there is a separate new term, with its own new contraction_list, contraction_list_new\n",
    "        if field_list[i].get_symbol() == 'P': #create new contraction list for each P\n",
    "            #print(\"contraction loop, i = \" + str(i))\n",
    "            contraction_list_new = []\n",
    "            #1) if index comes before index of inserted D, leave the same; if index comes after index of inserted D, increment\n",
    "            #index by 1.\n",
    "            for contraction in contraction_list:\n",
    "                contraction_new = (None, None)\n",
    "                if contraction[0] < i:\n",
    "                    contraction_new_0 = contraction[0]\n",
    "                elif contraction[0] > i:\n",
    "                    contraction_new_0 = contraction[0] + 1\n",
    "                elif contraction[0] == i:\n",
    "                    print(\"Error: Cannot contract into P field.\")\n",
    "\n",
    "                if contraction[1] < i:\n",
    "                    contraction_new_1 = contraction[1]\n",
    "                elif contraction[1] > i:\n",
    "                    contraction_new_1 = contraction[1] + 1\n",
    "                elif contraction[1] == i:\n",
    "                    print(\"Error: Cannot contract into P field.\")\n",
    "                \n",
    "                contraction_new = (contraction_new_0, contraction_new_1)\n",
    "                contraction_list_new.append(contraction_new)    \n",
    "        \n",
    "            #2) add contraction between index of inserted D and free index.\n",
    "            #find free index\n",
    "            #also shift free index\n",
    "            #free_index_new = None\n",
    "            if free_index < i:\n",
    "                free_index_new = free_index\n",
    "            elif free_index > i:\n",
    "                free_index_new = free_index + 1\n",
    "            elif free_index == i:\n",
    "                print(\"free_index == i\")\n",
    "                print(\"Error: Cannot contract into P field.\")\n",
    "\n",
    "            if free_index < i: \n",
    "                contraction_list_new.append((free_index_new, i))\n",
    "            elif free_index > i:\n",
    "                contraction_list_new.append((i, free_index_new))\n",
    "            \n",
    "            new_contraction_lists.append(contraction_list_new)\n",
    "            #print(\"contraction_list_new: \" + str(contraction_list_new))\n",
    "\n",
    "        N = len(new_field_lists)\n",
    "    for i in range(N):\n",
    "        field_list_new = new_field_lists[i]\n",
    "        contraction_list_new = new_contraction_lists[i]\n",
    "            \n",
    "        term_new = term(field_list_new, contraction_list_new)\n",
    "        term_list.append(term_new)\n",
    "                \n",
    "    return term_list"
   ]
  },
  {
   "cell_type": "code",
   "execution_count": 72,
   "metadata": {},
   "outputs": [
    {
     "name": "stdout",
     "output_type": "stream",
     "text": [
      "['D', 'P', 'P', 'P', 'P']\n",
      "[]\n",
      "item.get_field_symbols(): ['D', 'D', 'P', 'P', 'P', 'P']\n",
      "item.get_contractions(): [(0, 1)]\n",
      "item.get_field_symbols(): ['D', 'P', 'D', 'P', 'P', 'P']\n",
      "item.get_contractions(): [(0, 2)]\n",
      "item.get_field_symbols(): ['D', 'P', 'P', 'D', 'P', 'P']\n",
      "item.get_contractions(): [(0, 3)]\n",
      "item.get_field_symbols(): ['D', 'P', 'P', 'P', 'D', 'P']\n",
      "item.get_contractions(): [(0, 4)]\n"
     ]
    }
   ],
   "source": [
    "term_object = terms1[0]\n",
    "print(term_object.get_field_symbols())\n",
    "print(term_object.get_contractions())\n",
    "product_rule_term_list = differentiate(term_object)\n",
    "for item in product_rule_term_list:\n",
    "    print(\"item.get_field_symbols(): \" + str(item.get_field_symbols()))\n",
    "    print(\"item.get_contractions(): \" + str(item.get_contractions()))\n",
    "    "
   ]
  },
  {
   "cell_type": "markdown",
   "metadata": {},
   "source": [
    "Check for equivalent terms. First write a function, term_reduce, to reduce terms to num_derivs_list and reduced contractions. Then write a function, terms_equiv, to determine whether two terms are equivalent. terms_equiv works by seeing whether the reduced, sorted versions of the two terms are equal. Reducing a term means converting its field list into a list of the number of derivatives acting on each field, and a list of pairs of field indices (each index from 1,...,num_fields) such that derivatives acting on them are contracted with each other. Then sorting it means sorting the list of numbers of derivatives on each field and making corresponding adjustments to the contraction indices. \n",
    "\n",
    "To see whether two terms are equivalent, one needs a way to reduce and sort terms; these functions are performed respectively by term_reduce and sort_reduced. "
   ]
  },
  {
   "cell_type": "code",
   "execution_count": 73,
   "metadata": {
    "collapsed": true
   },
   "outputs": [],
   "source": [
    "def term_reduce(term_object):\n",
    "    #INPUT\n",
    "    #term1: term object\n",
    "    #OUTPUT\n",
    "    #num_derivs_list, contractions_reduced \n",
    "    #EXPLANATION\n",
    "    #takes field list for term object and reduces to ordered (largest first) list of number of derivatives per\n",
    "    #field. takes contraction list and reduces to contraction indicating which fields contracted derivatives act on.\n",
    "    \n",
    "    field_list = term_object.get_field_list()\n",
    "    contraction_list = term_object.get_contractions()\n",
    "    \n",
    "    num_derivs_list = []\n",
    "    contraction_list_reduced = []\n",
    "    phi_indices = []\n",
    "    deriv_count = 0\n",
    "    \n",
    "    #calculate num_derivs_list\n",
    "    for i in range(len(field_list)):\n",
    "        if field_list[i].get_symbol() == 'D':\n",
    "            deriv_count +=1\n",
    "        elif field_list[i].get_symbol() == 'P':\n",
    "            num_derivs_list.append(deriv_count)\n",
    "            phi_indices.append(i)\n",
    "            deriv_count = 0\n",
    "    \n",
    "    #loop through contractions in contraction_list, calculate reduced contractions\n",
    "    for i in range(len(contraction_list)):\n",
    "        contraction_0 = contraction_list[i][0]\n",
    "        contraction_1 = contraction_list[i][1]\n",
    "        \n",
    "        #if contracted index is less than term object index of phi, set index to number of phi field, from (0,...,N)\n",
    "        for j in range(len(phi_indices)):    \n",
    "            if contraction_0 < phi_indices[j]:\n",
    "                contraction_reduced_0 = j\n",
    "                break\n",
    "        for j in range(len(phi_indices)): \n",
    "            if contraction_1 < phi_indices[j]:\n",
    "                contraction_reduced_1 = j\n",
    "                break\n",
    "        \n",
    "        contraction_reduced = (contraction_reduced_0, contraction_reduced_1)\n",
    "        contraction_list_reduced.append(contraction_reduced)\n",
    "        \n",
    "    return num_derivs_list, contraction_list_reduced"
   ]
  },
  {
   "cell_type": "code",
   "execution_count": 74,
   "metadata": {},
   "outputs": [
    {
     "name": "stdout",
     "output_type": "stream",
     "text": [
      "['D', 'D', 'P', 'P', 'P', 'P']\n",
      "[(0, 1)]\n",
      "num_derivs_list: [2, 0, 0, 0]\n",
      "contraction_list_reduced: [(0, 0)]\n",
      "\n",
      "['D', 'P', 'D', 'P', 'P', 'P']\n",
      "[(0, 2)]\n",
      "num_derivs_list: [1, 1, 0, 0]\n",
      "contraction_list_reduced: [(0, 1)]\n",
      "\n",
      "['D', 'P', 'P', 'D', 'P', 'P']\n",
      "[(0, 3)]\n",
      "num_derivs_list: [1, 0, 1, 0]\n",
      "contraction_list_reduced: [(0, 2)]\n",
      "\n",
      "['D', 'P', 'P', 'P', 'D', 'P']\n",
      "[(0, 4)]\n",
      "num_derivs_list: [1, 0, 0, 1]\n",
      "contraction_list_reduced: [(0, 3)]\n",
      "\n"
     ]
    },
    {
     "data": {
      "text/plain": [
       "'\\nterm_object = terms2[]\\nprint(term_object.get_field_symbols())\\nprint(term_object.get_contractions())\\nnum_derivs_list, contraction_list_reduced = term_reduce(term_object)\\nprint(num_derivs_list)\\nprint(contraction_list_reduced)\\n'"
      ]
     },
     "execution_count": 74,
     "metadata": {},
     "output_type": "execute_result"
    }
   ],
   "source": [
    "for item in product_rule_term_list:\n",
    "    print(item.get_field_symbols())\n",
    "    print(item.get_contractions())\n",
    "    num_derivs_list = term_reduce(item)[0]\n",
    "    contraction_list_reduced = term_reduce(item)[1]\n",
    "    print(\"num_derivs_list: \" + str(num_derivs_list))\n",
    "    print(\"contraction_list_reduced: \" + str(contraction_list_reduced))\n",
    "    print(\"\")\n",
    "    \n",
    "    \n",
    "    \n",
    "'''\n",
    "term_object = terms2[]\n",
    "print(term_object.get_field_symbols())\n",
    "print(term_object.get_contractions())\n",
    "num_derivs_list, contraction_list_reduced = term_reduce(term_object)\n",
    "print(num_derivs_list)\n",
    "print(contraction_list_reduced)\n",
    "'''"
   ]
  },
  {
   "cell_type": "code",
   "execution_count": null,
   "metadata": {
    "collapsed": true
   },
   "outputs": [],
   "source": []
  },
  {
   "cell_type": "code",
   "execution_count": 75,
   "metadata": {
    "collapsed": true
   },
   "outputs": [],
   "source": [
    "def sort_reduced(num_derivs_list, contraction_list_reduced):\n",
    "    #INPUT\n",
    "    #num_derivs_list: unsorted list of number of derivatives associated with each field\n",
    "    #contraction_list_reduced: unsorted list of reduced contractions\n",
    "    #OUTPUT\n",
    "    #contractions_sorted: contraction list modified to reflect permutation to reach sorted num_derivs_list\n",
    "    #EXPLANATION\n",
    "    #sort num_derivs_list from largest to smallest, making the corresponding change to contractions in contraction_list. \n",
    "    #for now, use bubble sort. that is, go through num_derivs_list, if entry to the right is greater than entry to the left, interchange them, at the\n",
    "    #same time making the corresponding change to contractions in contraction_list. keep doing this until there is a pass with no \n",
    "    #switches. \n",
    "    N_phi = len(num_derivs_list)\n",
    "    num_derivs_list_sorted = num_derivs_list.copy()\n",
    "    \n",
    "    N_c = len(contraction_list_reduced)\n",
    "    #print(\"contraction_list_reduced: \" + str(contraction_list_reduced))\n",
    "    #change \n",
    "    contraction_list_reduced_sorted = []\n",
    "    for i in range(N_c): #initialize contractions_list_reduced_sorted to contractions_list_reduced, but as list of lists (mutable) rather than list of tuples (immutable)\n",
    "        contraction_list_reduced_sorted.append([contraction_list_reduced[i][0], contraction_list_reduced[i][1]])\n",
    "    \n",
    "    #sort derivative and contraction lists\n",
    "    is_sorted = 0\n",
    "    while is_sorted==0:\n",
    "        #print(\"contraction_list_reduced_sorted: \" + str(contraction_list_reduced_sorted))\n",
    "        is_sorted = 1\n",
    "        for i in range(N_phi-1):\n",
    "            #print(\"i: \"+ str(i))\n",
    "            if num_derivs_list_sorted[i] < num_derivs_list_sorted[i+1]:\n",
    "                #print(\"i and i+1 out of order\")\n",
    "                is_sorted = 0\n",
    "                temp = num_derivs_list_sorted[i]\n",
    "                num_derivs_list_sorted[i] = num_derivs_list_sorted[i+1]\n",
    "                num_derivs_list_sorted[i+1] = temp\n",
    "                #make corresponding shift in contractions_list, if any.\n",
    "                #check if there are any contraction indices equal to either of the two being interchanged; this involves\n",
    "                #searching through contractions. loop over contractions and their components to see whether there are \n",
    "                #any equal to either of the indices being exchanged. for each index value equal to one of \n",
    "                #the exchanged indices, in each of the contractions containing that index value, replace it with\n",
    "                #the index value with which it is exchanged. \n",
    "                \n",
    "                #scan through reduced contractions to see whether any of contracted indices is equal to i; if so,\n",
    "                #change them to i+1. \n",
    "                for j in range(N_c):\n",
    "                    #print(\"j: \" + str(j))\n",
    "                    #find the two contracted indices \n",
    "                    \n",
    "                    if contraction_list_reduced_sorted[j][0]==i:\n",
    "                        contraction_list_reduced_sorted[j][0] = i+1\n",
    "                    if contraction_list_reduced_sorted[j][1]==i:\n",
    "                        contraction_list_reduced_sorted[j][1] = i+1\n",
    "                        \n",
    "                    if contraction_list_reduced_sorted[j][0]==i+1:\n",
    "                        contraction_list_reduced_sorted[j][0] = i\n",
    "                    if contraction_list_reduced_sorted[j][1]==i+1:\n",
    "                        contraction_list_reduced_sorted[j][1] = i\n",
    "                    \n",
    "                    '''\n",
    "                    if contraction_list_reduced_sorted[j][0] == i:\n",
    "                        temp = \n",
    "                        contraction_list_reduced_sorted[j][0] = i+1 \n",
    "                    elif contraction_list_reduced[j][1] == i:\n",
    "                        contraction_list_reduced_sorted[j][1] = i+1\n",
    "                    else:\n",
    "                        pass\n",
    "\n",
    "                    if contraction_list_reduced[j][0] == i+1:\n",
    "                        contraction_list_reduced_sorted[j][0] = i \n",
    "                    elif contraction_list_reduced[j][1] == i+1:\n",
    "                        contraction_list_reduced_sorted[j][1] = i\n",
    "                    else:\n",
    "                        pass\n",
    "                    '''\n",
    "        #print(\"num_derivs_list_sorted: \" + str(num_derivs_list_sorted))\n",
    "        #print(\"is_sorted: \" + str(is_sorted))\n",
    "                    \n",
    "    return num_derivs_list_sorted, contraction_list_reduced_sorted           "
   ]
  },
  {
   "cell_type": "code",
   "execution_count": 76,
   "metadata": {},
   "outputs": [
    {
     "name": "stdout",
     "output_type": "stream",
     "text": [
      "['D', 'D', 'P', 'P', 'P', 'P']\n",
      "[(0, 1)]\n",
      "num_derivs_list: [2, 0, 0, 0]\n",
      "contraction_list_reduced: [(0, 0)]\n",
      "num_derivs_list_sorted: [2, 0, 0, 0]\n",
      "contraction_list_reduced_sorted: [[0, 0]]\n",
      "\n",
      "['D', 'P', 'D', 'P', 'P', 'P']\n",
      "[(0, 2)]\n",
      "num_derivs_list: [1, 1, 0, 0]\n",
      "contraction_list_reduced: [(0, 1)]\n",
      "num_derivs_list_sorted: [1, 1, 0, 0]\n",
      "contraction_list_reduced_sorted: [[0, 1]]\n",
      "\n",
      "['D', 'P', 'P', 'D', 'P', 'P']\n",
      "[(0, 3)]\n",
      "num_derivs_list: [1, 0, 1, 0]\n",
      "contraction_list_reduced: [(0, 2)]\n",
      "num_derivs_list_sorted: [1, 1, 0, 0]\n",
      "contraction_list_reduced_sorted: [[0, 1]]\n",
      "\n",
      "['D', 'P', 'P', 'P', 'D', 'P']\n",
      "[(0, 4)]\n",
      "num_derivs_list: [1, 0, 0, 1]\n",
      "contraction_list_reduced: [(0, 3)]\n",
      "num_derivs_list_sorted: [1, 1, 0, 0]\n",
      "contraction_list_reduced_sorted: [[0, 1]]\n",
      "\n"
     ]
    }
   ],
   "source": [
    "#test sort_reduced\n",
    "for item in product_rule_term_list:\n",
    "    print(item.get_field_symbols())\n",
    "    print(item.get_contractions())\n",
    "    num_derivs_list, contraction_list_reduced = term_reduce(item)\n",
    "    print(\"num_derivs_list: \" + str(num_derivs_list))\n",
    "    print(\"contraction_list_reduced: \" + str(contraction_list_reduced))\n",
    "    num_derivs_list_sorted, contraction_list_reduced_sorted = sort_reduced(num_derivs_list, contraction_list_reduced)\n",
    "    print(\"num_derivs_list_sorted: \" + str(num_derivs_list_sorted))\n",
    "    print(\"contraction_list_reduced_sorted: \" + str(contraction_list_reduced_sorted))\n",
    "    print(\"\")\n"
   ]
  },
  {
   "cell_type": "markdown",
   "metadata": {},
   "source": [
    "Maybe easier to do something different - e.g., write a function testing whether two term objects are equivalent. This requires that their sorted num_derivs_list's and sorted contraction_list's be the same.  "
   ]
  },
  {
   "cell_type": "code",
   "execution_count": 77,
   "metadata": {
    "collapsed": true
   },
   "outputs": [],
   "source": [
    "def terms_equiv(term_object_1, term_object_2):\n",
    "    #INPUT\n",
    "    #term_object1: term_object\n",
    "    #term_object2: term_object\n",
    "    #OUTPUT\n",
    "    #equiv: True if terms are equivalent, False if not. Equivalence is determined by whether sorted num_deriv_lists\n",
    "    #of two terms are the same, and whether  contraction lists are equivalent relative to this num_deriv_list\n",
    "    num_derivs_list_1, contraction_list_reduced_1 = term_reduce(term_object_1)\n",
    "    num_derivs_list_2, contraction_list_reduced_2 = term_reduce(term_object_2)\n",
    "    #print(\"num_derivs_list_1: \" + str(num_derivs_list_1))\n",
    "    #print(\"num_derivs_list_2: \" + str(num_derivs_list_2))\n",
    "    #print(\"contraction_list_reduced_1: \" + str(contraction_list_reduced_1))\n",
    "    #print(\"contraction_list_reduced_2: \" + str(contraction_list_reduced_2))\n",
    "    \n",
    "    num_derivs_list_1_sorted, contraction_list_reduced_1_sorted = sort_reduced(num_derivs_list_1, contraction_list_reduced_1)\n",
    "    num_derivs_list_2_sorted, contraction_list_reduced_2_sorted = sort_reduced(num_derivs_list_2, contraction_list_reduced_2)\n",
    "    \n",
    "    derivs_equiv = (num_derivs_list_1_sorted == num_derivs_list_2_sorted)\n",
    "    #print(\"num_derivs_list_1_sorted: \" + str(num_derivs_list_1_sorted))\n",
    "    #print(\"num_derivs_list_2_sorted: \" + str(num_derivs_list_2_sorted))\n",
    "    #print(\"derivs_equiv: \" + str(derivs_equiv))\n",
    "    #print(\"contraction_list_reduced_1_sorted: \" + str(contraction_list_reduced_1_sorted))\n",
    "    #print(\"contraction_list_reduced_2_sorted: \" + str(contraction_list_reduced_2_sorted))\n",
    "    #print(\"derivs_equiv: \" + str(derivs_equiv))\n",
    "    \n",
    "    contractions_equiv = equiv_contraction_list(contraction_list_reduced_1_sorted, contraction_list_reduced_2_sorted, num_derivs_list_1_sorted) #can also use num_derivs_list_2_sorted, assuming they are equivalent as they should be\n",
    "    #print(\"contractions_equiv: \" + str(contractions_equiv))\n",
    "    equiv = derivs_equiv & contractions_equiv\n",
    "    \n",
    "    return equiv"
   ]
  },
  {
   "cell_type": "code",
   "execution_count": 78,
   "metadata": {},
   "outputs": [
    {
     "name": "stdout",
     "output_type": "stream",
     "text": [
      "item.get_field_symbols(): ['D', 'D', 'P', 'P', 'P', 'P']\n",
      "item.get_contractions(): [(0, 1)]\n",
      "item.get_field_symbols(): ['D', 'P', 'D', 'P', 'P', 'P']\n",
      "item.get_contractions(): [(0, 2)]\n",
      "item.get_field_symbols(): ['D', 'P', 'P', 'D', 'P', 'P']\n",
      "item.get_contractions(): [(0, 3)]\n",
      "item.get_field_symbols(): ['D', 'P', 'P', 'P', 'D', 'P']\n",
      "item.get_contractions(): [(0, 4)]\n",
      "\n"
     ]
    },
    {
     "data": {
      "text/plain": [
       "True"
      ]
     },
     "execution_count": 78,
     "metadata": {},
     "output_type": "execute_result"
    }
   ],
   "source": [
    "for item in product_rule_term_list:\n",
    "    print(\"item.get_field_symbols(): \" + str(item.get_field_symbols()))\n",
    "    print(\"item.get_contractions(): \" + str(item.get_contractions()))\n",
    "\n",
    "print(\"\")\n",
    "terms_equiv(product_rule_term_list[1], product_rule_term_list[2])"
   ]
  },
  {
   "cell_type": "markdown",
   "metadata": {},
   "source": [
    "Test some more examples. "
   ]
  },
  {
   "cell_type": "code",
   "execution_count": 79,
   "metadata": {},
   "outputs": [
    {
     "name": "stdout",
     "output_type": "stream",
     "text": [
      "['D', 'D', 'D', 'D', 'P', 'D', 'P', 'P', 'D', 'D', 'P']\n",
      "[(0, 1), (2, 3), (5, 8)]\n",
      "item.get_field_symbols(): ['D', 'D', 'D', 'D', 'D', 'P', 'D', 'P', 'P', 'D', 'D', 'P']\n",
      "item.get_contractions(): [(0, 1), (2, 3), (6, 9), (4, 10)]\n",
      "item.get_field_symbols(): ['D', 'D', 'D', 'D', 'P', 'D', 'D', 'P', 'P', 'D', 'D', 'P']\n",
      "item.get_contractions(): [(0, 1), (2, 3), (5, 9), (6, 10)]\n",
      "item.get_field_symbols(): ['D', 'D', 'D', 'D', 'P', 'D', 'P', 'D', 'P', 'D', 'D', 'P']\n",
      "item.get_contractions(): [(0, 1), (2, 3), (5, 9), (7, 10)]\n",
      "item.get_field_symbols(): ['D', 'D', 'D', 'D', 'P', 'D', 'P', 'P', 'D', 'D', 'D', 'P']\n",
      "item.get_contractions(): [(0, 1), (2, 3), (5, 8), (9, 10)]\n"
     ]
    }
   ],
   "source": [
    "D = field('D', 1, 'u')\n",
    "P = field('P', 1)\n",
    "term_object_2 = term([D, D, D, D, P, D, P, P, D, D, P], [(0, 1), (2, 3), (5, 8)])\n",
    "print(term_object_2.get_field_symbols())\n",
    "print(term_object_2.get_contractions())\n",
    "\n",
    "product_rule_term_list_2 = differentiate(term_object_2)\n",
    "for item in product_rule_term_list_2:\n",
    "    print(\"item.get_field_symbols(): \" + str(item.get_field_symbols()))\n",
    "    print(\"item.get_contractions(): \" + str(item.get_contractions()))"
   ]
  },
  {
   "cell_type": "code",
   "execution_count": 80,
   "metadata": {},
   "outputs": [
    {
     "data": {
      "text/plain": [
       "False"
      ]
     },
     "execution_count": 80,
     "metadata": {},
     "output_type": "execute_result"
    }
   ],
   "source": [
    " terms_equiv(product_rule_term_list_2[0], product_rule_term_list_2[1])"
   ]
  },
  {
   "cell_type": "markdown",
   "metadata": {},
   "source": [
    "Linear algebra: generate matrix of IBP and EOM constraints, and eliminate operators corresponding to pivot points in reduced row echelon form of this matrix."
   ]
  },
  {
   "cell_type": "code",
   "execution_count": 81,
   "metadata": {
    "collapsed": true
   },
   "outputs": [],
   "source": [
    "def generate_coefficient_vector(term_list, massDim):\n",
    "    #INPUT\n",
    "    #term_list: list of terms, should all be of same massDim \n",
    "    #massDim: int mass dimension\n",
    "    #OUTPUT\n",
    "    #coefficient_vector: list of integers of length equal to total number of terms generated for massDim, \n",
    "    #indicating number of times each term\n",
    "    \n",
    "    all_terms = generate_fully_contracted(massDim) #list of all terms of mass dimension massDim \n",
    "    N = len(all_terms) #number of terms up to mass dimension massDim\n",
    "    coefficient_vector = N*[0]\n",
    "    \n",
    "    for item in term_list:\n",
    "        for n in range(N):  \n",
    "            if terms_equiv(item, all_terms[n]):\n",
    "                coefficient_vector[n] += 1\n",
    "    \n",
    "    return coefficient_vector"
   ]
  },
  {
   "cell_type": "code",
   "execution_count": 91,
   "metadata": {},
   "outputs": [
    {
     "name": "stdout",
     "output_type": "stream",
     "text": [
      "item.get_field_symbols(): ['P', 'P', 'P', 'P', 'P', 'P']\n",
      "item.get_contractions(): []\n",
      "\n",
      "item.get_field_symbols(): ['D', 'P', 'D', 'P', 'P', 'P']\n",
      "item.get_contractions(): [(0, 2)]\n",
      "\n",
      "item.get_field_symbols(): ['D', 'D', 'P', 'P', 'P', 'P']\n",
      "item.get_contractions(): [(0, 1)]\n",
      "\n",
      "item.get_field_symbols(): ['D', 'D', 'D', 'P', 'D', 'P']\n",
      "item.get_contractions(): [(0, 1), (2, 4)]\n",
      "\n",
      "item.get_field_symbols(): ['D', 'D', 'P', 'D', 'D', 'P']\n",
      "item.get_contractions(): [(0, 1), (3, 4)]\n",
      "\n",
      "item.get_field_symbols(): ['D', 'D', 'P', 'D', 'D', 'P']\n",
      "item.get_contractions(): [(0, 3), (1, 4)]\n",
      "\n",
      "item.get_field_symbols(): ['D', 'D', 'D', 'D', 'P', 'P']\n",
      "item.get_contractions(): [(0, 1), (2, 3)]\n",
      "\n",
      "['D', 'D', 'P', 'P', 'P', 'P']\n",
      "[(0, 1)]\n",
      "['D', 'P', 'D', 'P', 'P', 'P']\n",
      "[(0, 2)]\n",
      "['D', 'P', 'P', 'D', 'P', 'P']\n",
      "[(0, 3)]\n",
      "['D', 'P', 'P', 'P', 'D', 'P']\n",
      "[(0, 4)]\n"
     ]
    },
    {
     "data": {
      "text/plain": [
       "[0, 3, 1, 0, 0, 0, 0]"
      ]
     },
     "execution_count": 91,
     "metadata": {},
     "output_type": "execute_result"
    }
   ],
   "source": [
    "massDim = 6\n",
    "for item in generate_fully_contracted(massDim):\n",
    "    print(\"item.get_field_symbols(): \" + str(item.get_field_symbols()))\n",
    "    print(\"item.get_contractions(): \" + str(item.get_contractions()))\n",
    "    print(\"\")\n",
    "    \n",
    "for item in product_rule_term_list:\n",
    "    print(item.get_field_symbols())\n",
    "    print(item.get_contractions())\n",
    "\n",
    "generate_coefficient_vector(product_rule_term_list, massDim)\n"
   ]
  },
  {
   "cell_type": "code",
   "execution_count": 98,
   "metadata": {},
   "outputs": [
    {
     "data": {
      "text/plain": [
       "[[0, 3, 1, 0, 0, 0, 0],\n",
       " [0, 0, 0, 1, 1, 0, 0],\n",
       " [0, 0, 0, 1, 0, 1, 0],\n",
       " [0, 0, 0, 1, 0, 0, 1]]"
      ]
     },
     "execution_count": 98,
     "metadata": {},
     "output_type": "execute_result"
    }
   ],
   "source": [
    "def generate_IBP_matrix(massDim):\n",
    "    #INPUT\n",
    "    #massDim: mass dimension, int\n",
    "    #OUTPUT\n",
    "    #IBP_matrix: matrix (numpy array) of IBP constraints\n",
    "    \n",
    "    IBP_matrix = []\n",
    "    one_index_terms = generate_contracted_terms(massDim-1, num_free_indices=1)\n",
    "    \n",
    "    for item in one_index_terms:\n",
    "        product_rule_term_list = differentiate(item)\n",
    "        row = generate_coefficient_vector(product_rule_term_list, massDim)\n",
    "        IBP_matrix.append(row)\n",
    "        \n",
    "    return IBP_matrix\n",
    "\n",
    "massDim = 6\n",
    "IBP_matrix = generate_IBP_matrix(massDim)\n",
    "IBP_matrix\n"
   ]
  },
  {
   "cell_type": "markdown",
   "metadata": {},
   "source": [
    "To find terms that can be eliminated, put IBP matrix into reduced row echelon form."
   ]
  },
  {
   "cell_type": "code",
   "execution_count": 99,
   "metadata": {},
   "outputs": [
    {
     "name": "stdout",
     "output_type": "stream",
     "text": [
      "(Matrix([\n",
      "[0, 1, 1/3, 0, 0, 0,  0],\n",
      "[0, 0,   0, 1, 0, 0,  1],\n",
      "[0, 0,   0, 0, 1, 0, -1],\n",
      "[0, 0,   0, 0, 0, 1, -1]]), (1, 3, 4, 5))\n"
     ]
    }
   ],
   "source": [
    "import sympy\n",
    "\n",
    "IBP_matrix = sympy.Matrix(IBP_matrix)\n",
    "print(IBP_matrix.rref())"
   ]
  },
  {
   "cell_type": "code",
   "execution_count": 100,
   "metadata": {},
   "outputs": [
    {
     "name": "stdout",
     "output_type": "stream",
     "text": [
      "Matrix([[0, 5, 1, 0, 0, 0, 0, 0, 0, 0, 0, 0, 0, 0, 0, 0], [0, 0, 0, 1, 0, 1, 0, 0, 0, 0, 0, 0, 0, 0, 0, 0], [0, 0, 0, 0, 2, 0, 1, 1, 0, 0, 0, 0, 0, 0, 0, 0], [0, 0, 0, 0, 0, 2, 1, 0, 1, 0, 0, 0, 0, 0, 0, 0], [0, 0, 0, 0, 0, 0, 3, 0, 0, 1, 0, 0, 0, 0, 0, 0], [0, 0, 0, 0, 0, 0, 0, 0, 0, 0, 1, 1, 0, 0, 0, 0], [0, 0, 0, 0, 0, 0, 0, 0, 0, 0, 1, 0, 1, 0, 0, 0], [0, 0, 0, 0, 0, 0, 0, 0, 0, 0, 0, 0, 1, 1, 0, 0], [0, 0, 0, 0, 0, 0, 0, 0, 0, 0, 0, 1, 0, 1, 0, 0], [0, 0, 0, 0, 0, 0, 0, 0, 0, 0, 0, 0, 1, 0, 1, 0], [0, 0, 0, 0, 0, 0, 0, 0, 0, 0, 1, 0, 0, 0, 0, 1]])\n",
      "(Matrix([\n",
      "[0, 1, 1/5, 0, 0, 0, 0,   0,    0,    0, 0, 0, 0, 0, 0,  0],\n",
      "[0, 0,   0, 1, 0, 0, 0,   0, -1/2,  1/6, 0, 0, 0, 0, 0,  0],\n",
      "[0, 0,   0, 0, 1, 0, 0, 1/2,    0, -1/6, 0, 0, 0, 0, 0,  0],\n",
      "[0, 0,   0, 0, 0, 1, 0,   0,  1/2, -1/6, 0, 0, 0, 0, 0,  0],\n",
      "[0, 0,   0, 0, 0, 0, 1,   0,    0,  1/3, 0, 0, 0, 0, 0,  0],\n",
      "[0, 0,   0, 0, 0, 0, 0,   0,    0,    0, 1, 0, 0, 0, 0,  1],\n",
      "[0, 0,   0, 0, 0, 0, 0,   0,    0,    0, 0, 1, 0, 0, 0, -1],\n",
      "[0, 0,   0, 0, 0, 0, 0,   0,    0,    0, 0, 0, 1, 0, 0, -1],\n",
      "[0, 0,   0, 0, 0, 0, 0,   0,    0,    0, 0, 0, 0, 1, 0,  1],\n",
      "[0, 0,   0, 0, 0, 0, 0,   0,    0,    0, 0, 0, 0, 0, 1,  1],\n",
      "[0, 0,   0, 0, 0, 0, 0,   0,    0,    0, 0, 0, 0, 0, 0,  0]]), (1, 3, 4, 5, 6, 10, 11, 12, 13, 14))\n"
     ]
    }
   ],
   "source": [
    "massDim = 8\n",
    "IBP_matrix_2 = generate_IBP_matrix(massDim)\n",
    "IBP_matrix_2 = sympy.Matrix(IBP_matrix_2)\n",
    "print(IBP_matrix_2)\n",
    "print(IBP_matrix_2.rref())"
   ]
  },
  {
   "cell_type": "code",
   "execution_count": 101,
   "metadata": {},
   "outputs": [
    {
     "name": "stdout",
     "output_type": "stream",
     "text": [
      "Matrix([[0, 7, 1, 0, 0, 0, 0, 0, 0, 0, 0, 0, 0, 0, 0, 0, 0, 0, 0, 0, 0, 0, 0, 0, 0, 0, 0, 0, 0, 0, 0, 0, 0, 0, 0, 0, 0, 0, 0], [0, 0, 0, 3, 0, 1, 0, 0, 0, 0, 0, 0, 0, 0, 0, 0, 0, 0, 0, 0, 0, 0, 0, 0, 0, 0, 0, 0, 0, 0, 0, 0, 0, 0, 0, 0, 0, 0, 0], [0, 0, 0, 0, 4, 0, 1, 1, 0, 0, 0, 0, 0, 0, 0, 0, 0, 0, 0, 0, 0, 0, 0, 0, 0, 0, 0, 0, 0, 0, 0, 0, 0, 0, 0, 0, 0, 0, 0], [0, 0, 0, 0, 0, 4, 1, 0, 1, 0, 0, 0, 0, 0, 0, 0, 0, 0, 0, 0, 0, 0, 0, 0, 0, 0, 0, 0, 0, 0, 0, 0, 0, 0, 0, 0, 0, 0, 0], [0, 0, 0, 0, 0, 0, 5, 0, 0, 1, 0, 0, 0, 0, 0, 0, 0, 0, 0, 0, 0, 0, 0, 0, 0, 0, 0, 0, 0, 0, 0, 0, 0, 0, 0, 0, 0, 0, 0], [0, 0, 0, 0, 0, 0, 0, 0, 0, 0, 1, 0, 0, 1, 0, 0, 0, 0, 0, 0, 0, 0, 0, 0, 0, 0, 0, 0, 0, 0, 0, 0, 0, 0, 0, 0, 0, 0, 0], [0, 0, 0, 0, 0, 0, 0, 0, 0, 0, 0, 1, 0, 0, 0, 1, 0, 0, 0, 0, 0, 0, 0, 0, 0, 0, 0, 0, 0, 0, 0, 0, 0, 0, 0, 0, 0, 0, 0], [0, 0, 0, 0, 0, 0, 0, 0, 0, 0, 1, 0, 0, 0, 1, 0, 0, 0, 0, 0, 0, 0, 0, 0, 0, 0, 0, 0, 0, 0, 0, 0, 0, 0, 0, 0, 0, 0, 0], [0, 0, 0, 0, 0, 0, 0, 0, 0, 0, 1, 0, 0, 0, 0, 0, 0, 1, 1, 0, 0, 0, 0, 0, 0, 0, 0, 0, 0, 0, 0, 0, 0, 0, 0, 0, 0, 0, 0], [0, 0, 0, 0, 0, 0, 0, 0, 0, 0, 1, 0, 0, 0, 0, 0, 1, 0, 1, 0, 0, 0, 0, 0, 0, 0, 0, 0, 0, 0, 0, 0, 0, 0, 0, 0, 0, 0, 0], [0, 0, 0, 0, 0, 0, 0, 0, 0, 0, 0, 1, 0, 0, 0, 0, 0, 1, 0, 0, 1, 0, 0, 0, 0, 0, 0, 0, 0, 0, 0, 0, 0, 0, 0, 0, 0, 0, 0], [0, 0, 0, 0, 0, 0, 0, 0, 0, 0, 0, 0, 1, 0, 0, 0, 0, 0, 0, 1, 0, 1, 0, 0, 0, 0, 0, 0, 0, 0, 0, 0, 0, 0, 0, 0, 0, 0, 0], [0, 0, 0, 0, 0, 0, 0, 0, 0, 0, 0, 0, 0, 1, 0, 0, 0, 0, 1, 0, 0, 0, 1, 0, 0, 0, 0, 0, 0, 0, 0, 0, 0, 0, 0, 0, 0, 0, 0], [0, 0, 0, 0, 0, 0, 0, 0, 0, 0, 0, 0, 0, 0, 1, 0, 0, 0, 0, 0, 1, 0, 1, 0, 0, 0, 0, 0, 0, 0, 0, 0, 0, 0, 0, 0, 0, 0, 0], [0, 0, 0, 0, 0, 0, 0, 0, 0, 0, 0, 0, 0, 0, 0, 1, 0, 0, 0, 0, 1, 0, 0, 1, 0, 0, 0, 0, 0, 0, 0, 0, 0, 0, 0, 0, 0, 0, 0], [0, 0, 0, 0, 0, 0, 0, 0, 0, 0, 0, 0, 0, 0, 0, 0, 2, 0, 0, 0, 0, 0, 0, 0, 1, 1, 0, 0, 0, 0, 0, 0, 0, 0, 0, 0, 0, 0, 0], [0, 0, 0, 0, 0, 0, 0, 0, 0, 0, 0, 0, 0, 0, 0, 0, 0, 2, 0, 0, 0, 0, 0, 0, 1, 0, 1, 0, 0, 0, 0, 0, 0, 0, 0, 0, 0, 0, 0], [0, 0, 0, 0, 0, 0, 0, 0, 0, 0, 0, 0, 0, 0, 0, 0, 0, 0, 2, 0, 0, 0, 0, 0, 0, 0, 1, 1, 0, 0, 0, 0, 0, 0, 0, 0, 0, 0, 0], [0, 0, 0, 0, 0, 0, 0, 0, 0, 0, 0, 0, 0, 0, 0, 0, 0, 0, 0, 2, 0, 0, 0, 0, 0, 1, 0, 1, 0, 0, 0, 0, 0, 0, 0, 0, 0, 0, 0], [0, 0, 0, 0, 0, 0, 0, 0, 0, 0, 0, 0, 0, 0, 0, 0, 0, 0, 0, 0, 2, 0, 0, 0, 0, 0, 1, 0, 1, 0, 0, 0, 0, 0, 0, 0, 0, 0, 0], [0, 0, 0, 0, 0, 0, 0, 0, 0, 0, 0, 0, 0, 0, 0, 0, 0, 0, 0, 0, 0, 0, 0, 0, 3, 0, 0, 0, 0, 1, 0, 0, 0, 0, 0, 0, 0, 0, 0], [0, 0, 0, 0, 0, 0, 0, 0, 0, 0, 0, 0, 0, 0, 0, 0, 0, 0, 0, 0, 0, 0, 0, 0, 0, 0, 0, 0, 0, 0, 1, 1, 0, 0, 0, 0, 0, 0, 0], [0, 0, 0, 0, 0, 0, 0, 0, 0, 0, 0, 0, 0, 0, 0, 0, 0, 0, 0, 0, 0, 0, 0, 0, 0, 0, 0, 0, 0, 0, 1, 0, 1, 0, 0, 0, 0, 0, 0], [0, 0, 0, 0, 0, 0, 0, 0, 0, 0, 0, 0, 0, 0, 0, 0, 0, 0, 0, 0, 0, 0, 0, 0, 0, 0, 0, 0, 0, 0, 0, 0, 1, 1, 0, 0, 0, 0, 0], [0, 0, 0, 0, 0, 0, 0, 0, 0, 0, 0, 0, 0, 0, 0, 0, 0, 0, 0, 0, 0, 0, 0, 0, 0, 0, 0, 0, 0, 0, 0, 1, 0, 1, 0, 0, 0, 0, 0], [0, 0, 0, 0, 0, 0, 0, 0, 0, 0, 0, 0, 0, 0, 0, 0, 0, 0, 0, 0, 0, 0, 0, 0, 0, 0, 0, 0, 0, 0, 0, 0, 1, 0, 1, 0, 0, 0, 0], [0, 0, 0, 0, 0, 0, 0, 0, 0, 0, 0, 0, 0, 0, 0, 0, 0, 0, 0, 0, 0, 0, 0, 0, 0, 0, 0, 0, 0, 0, 0, 0, 0, 1, 0, 1, 0, 0, 0], [0, 0, 0, 0, 0, 0, 0, 0, 0, 0, 0, 0, 0, 0, 0, 0, 0, 0, 0, 0, 0, 0, 0, 0, 0, 0, 0, 0, 0, 0, 0, 0, 0, 0, 1, 0, 1, 0, 0], [0, 0, 0, 0, 0, 0, 0, 0, 0, 0, 0, 0, 0, 0, 0, 0, 0, 0, 0, 0, 0, 0, 0, 0, 0, 0, 0, 0, 0, 0, 0, 0, 0, 1, 0, 0, 1, 0, 0], [0, 0, 0, 0, 0, 0, 0, 0, 0, 0, 0, 0, 0, 0, 0, 0, 0, 0, 0, 0, 0, 0, 0, 0, 0, 0, 0, 0, 0, 0, 0, 0, 0, 0, 1, 0, 0, 1, 0], [0, 0, 0, 0, 0, 0, 0, 0, 0, 0, 0, 0, 0, 0, 0, 0, 0, 0, 0, 0, 0, 0, 0, 0, 0, 0, 0, 0, 0, 0, 1, 0, 0, 0, 0, 0, 0, 0, 1]])\n",
      "(Matrix([\n",
      "[0, 1, 1/7, 0, 0, 0, 0,   0,     0,     0, 0, 0, 0, 0, 0, 0, 0, 0, 0, 0, 0, 0, 0, 0, 0, 0,    0, 0,    0,    0, 0, 0, 0, 0, 0, 0, 0, 0,  0],\n",
      "[0, 0,   0, 1, 0, 0, 0,   0, -1/12,  1/60, 0, 0, 0, 0, 0, 0, 0, 0, 0, 0, 0, 0, 0, 0, 0, 0,    0, 0,    0,    0, 0, 0, 0, 0, 0, 0, 0, 0,  0],\n",
      "[0, 0,   0, 0, 1, 0, 0, 1/4,     0, -1/20, 0, 0, 0, 0, 0, 0, 0, 0, 0, 0, 0, 0, 0, 0, 0, 0,    0, 0,    0,    0, 0, 0, 0, 0, 0, 0, 0, 0,  0],\n",
      "[0, 0,   0, 0, 0, 1, 0,   0,   1/4, -1/20, 0, 0, 0, 0, 0, 0, 0, 0, 0, 0, 0, 0, 0, 0, 0, 0,    0, 0,    0,    0, 0, 0, 0, 0, 0, 0, 0, 0,  0],\n",
      "[0, 0,   0, 0, 0, 0, 1,   0,     0,   1/5, 0, 0, 0, 0, 0, 0, 0, 0, 0, 0, 0, 0, 0, 0, 0, 0,    0, 0,    0,    0, 0, 0, 0, 0, 0, 0, 0, 0,  0],\n",
      "[0, 0,   0, 0, 0, 0, 0,   0,     0,     0, 1, 0, 0, 0, 0, 0, 0, 0, 0, 0, 0, 0, 0, 0, 0, 0,   -1, 0, -1/2,  1/6, 0, 0, 0, 0, 0, 0, 0, 0,  0],\n",
      "[0, 0,   0, 0, 0, 0, 0,   0,     0,     0, 0, 1, 0, 0, 0, 0, 0, 0, 0, 0, 0, 0, 0, 0, 0, 0,   -1, 0, -1/2,  1/6, 0, 0, 0, 0, 0, 0, 0, 0,  0],\n",
      "[0, 0,   0, 0, 0, 0, 0,   0,     0,     0, 0, 0, 1, 0, 0, 0, 0, 0, 0, 0, 0, 1, 0, 0, 0, 0, -1/2, 0, -1/2,    0, 0, 0, 0, 0, 0, 0, 0, 0,  0],\n",
      "[0, 0,   0, 0, 0, 0, 0,   0,     0,     0, 0, 0, 0, 1, 0, 0, 0, 0, 0, 0, 0, 0, 0, 0, 0, 0,    1, 0,  1/2, -1/6, 0, 0, 0, 0, 0, 0, 0, 0,  0],\n",
      "[0, 0,   0, 0, 0, 0, 0,   0,     0,     0, 0, 0, 0, 0, 1, 0, 0, 0, 0, 0, 0, 0, 0, 0, 0, 0,    1, 0,  1/2, -1/6, 0, 0, 0, 0, 0, 0, 0, 0,  0],\n",
      "[0, 0,   0, 0, 0, 0, 0,   0,     0,     0, 0, 0, 0, 0, 0, 1, 0, 0, 0, 0, 0, 0, 0, 0, 0, 0,    1, 0,  1/2, -1/6, 0, 0, 0, 0, 0, 0, 0, 0,  0],\n",
      "[0, 0,   0, 0, 0, 0, 0,   0,     0,     0, 0, 0, 0, 0, 0, 0, 1, 0, 0, 0, 0, 0, 0, 0, 0, 0,  1/2, 0,    0, -1/6, 0, 0, 0, 0, 0, 0, 0, 0,  0],\n",
      "[0, 0,   0, 0, 0, 0, 0,   0,     0,     0, 0, 0, 0, 0, 0, 0, 0, 1, 0, 0, 0, 0, 0, 0, 0, 0,  1/2, 0,    0, -1/6, 0, 0, 0, 0, 0, 0, 0, 0,  0],\n",
      "[0, 0,   0, 0, 0, 0, 0,   0,     0,     0, 0, 0, 0, 0, 0, 0, 0, 0, 1, 0, 0, 0, 0, 0, 0, 0,  1/2, 0,  1/2,    0, 0, 0, 0, 0, 0, 0, 0, 0,  0],\n",
      "[0, 0,   0, 0, 0, 0, 0,   0,     0,     0, 0, 0, 0, 0, 0, 0, 0, 0, 0, 1, 0, 0, 0, 0, 0, 0,  1/2, 0,  1/2,    0, 0, 0, 0, 0, 0, 0, 0, 0,  0],\n",
      "[0, 0,   0, 0, 0, 0, 0,   0,     0,     0, 0, 0, 0, 0, 0, 0, 0, 0, 0, 0, 1, 0, 0, 0, 0, 0,  1/2, 0,  1/2,    0, 0, 0, 0, 0, 0, 0, 0, 0,  0],\n",
      "[0, 0,   0, 0, 0, 0, 0,   0,     0,     0, 0, 0, 0, 0, 0, 0, 0, 0, 0, 0, 0, 0, 1, 0, 0, 0, -3/2, 0,   -1,  1/6, 0, 0, 0, 0, 0, 0, 0, 0,  0],\n",
      "[0, 0,   0, 0, 0, 0, 0,   0,     0,     0, 0, 0, 0, 0, 0, 0, 0, 0, 0, 0, 0, 0, 0, 1, 0, 0, -3/2, 0,   -1,  1/6, 0, 0, 0, 0, 0, 0, 0, 0,  0],\n",
      "[0, 0,   0, 0, 0, 0, 0,   0,     0,     0, 0, 0, 0, 0, 0, 0, 0, 0, 0, 0, 0, 0, 0, 0, 1, 0,    0, 0,    0,  1/3, 0, 0, 0, 0, 0, 0, 0, 0,  0],\n",
      "[0, 0,   0, 0, 0, 0, 0,   0,     0,     0, 0, 0, 0, 0, 0, 0, 0, 0, 0, 0, 0, 0, 0, 0, 0, 1,   -1, 0,    0,    0, 0, 0, 0, 0, 0, 0, 0, 0,  0],\n",
      "[0, 0,   0, 0, 0, 0, 0,   0,     0,     0, 0, 0, 0, 0, 0, 0, 0, 0, 0, 0, 0, 0, 0, 0, 0, 0,    0, 1,   -1,    0, 0, 0, 0, 0, 0, 0, 0, 0,  0],\n",
      "[0, 0,   0, 0, 0, 0, 0,   0,     0,     0, 0, 0, 0, 0, 0, 0, 0, 0, 0, 0, 0, 0, 0, 0, 0, 0,    0, 0,    0,    0, 1, 0, 0, 0, 0, 0, 0, 0,  1],\n",
      "[0, 0,   0, 0, 0, 0, 0,   0,     0,     0, 0, 0, 0, 0, 0, 0, 0, 0, 0, 0, 0, 0, 0, 0, 0, 0,    0, 0,    0,    0, 0, 1, 0, 0, 0, 0, 0, 0, -1],\n",
      "[0, 0,   0, 0, 0, 0, 0,   0,     0,     0, 0, 0, 0, 0, 0, 0, 0, 0, 0, 0, 0, 0, 0, 0, 0, 0,    0, 0,    0,    0, 0, 0, 1, 0, 0, 0, 0, 0, -1],\n",
      "[0, 0,   0, 0, 0, 0, 0,   0,     0,     0, 0, 0, 0, 0, 0, 0, 0, 0, 0, 0, 0, 0, 0, 0, 0, 0,    0, 0,    0,    0, 0, 0, 0, 1, 0, 0, 0, 0,  1],\n",
      "[0, 0,   0, 0, 0, 0, 0,   0,     0,     0, 0, 0, 0, 0, 0, 0, 0, 0, 0, 0, 0, 0, 0, 0, 0, 0,    0, 0,    0,    0, 0, 0, 0, 0, 1, 0, 0, 0,  1],\n",
      "[0, 0,   0, 0, 0, 0, 0,   0,     0,     0, 0, 0, 0, 0, 0, 0, 0, 0, 0, 0, 0, 0, 0, 0, 0, 0,    0, 0,    0,    0, 0, 0, 0, 0, 0, 1, 0, 0, -1],\n",
      "[0, 0,   0, 0, 0, 0, 0,   0,     0,     0, 0, 0, 0, 0, 0, 0, 0, 0, 0, 0, 0, 0, 0, 0, 0, 0,    0, 0,    0,    0, 0, 0, 0, 0, 0, 0, 1, 0, -1],\n",
      "[0, 0,   0, 0, 0, 0, 0,   0,     0,     0, 0, 0, 0, 0, 0, 0, 0, 0, 0, 0, 0, 0, 0, 0, 0, 0,    0, 0,    0,    0, 0, 0, 0, 0, 0, 0, 0, 1, -1],\n",
      "[0, 0,   0, 0, 0, 0, 0,   0,     0,     0, 0, 0, 0, 0, 0, 0, 0, 0, 0, 0, 0, 0, 0, 0, 0, 0,    0, 0,    0,    0, 0, 0, 0, 0, 0, 0, 0, 0,  0],\n",
      "[0, 0,   0, 0, 0, 0, 0,   0,     0,     0, 0, 0, 0, 0, 0, 0, 0, 0, 0, 0, 0, 0, 0, 0, 0, 0,    0, 0,    0,    0, 0, 0, 0, 0, 0, 0, 0, 0,  0]]), (1, 3, 4, 5, 6, 10, 11, 12, 13, 14, 15, 16, 17, 18, 19, 20, 22, 23, 24, 25, 27, 30, 31, 32, 33, 34, 35, 36, 37))\n"
     ]
    }
   ],
   "source": [
    "massDim = 10\n",
    "IBP_matrix_3 = generate_IBP_matrix(massDim)\n",
    "IBP_matrix_3 = sympy.Matrix(IBP_matrix_3)\n",
    "print(IBP_matrix_3)\n",
    "print(IBP_matrix_3.rref())"
   ]
  },
  {
   "cell_type": "markdown",
   "metadata": {},
   "source": [
    "To generate EOM, assemble all Lagrangian operators with mass dimension less than or equal to the spacetime dimension, since EOM's are only generated from the renormalizable part of the Lagrangian. "
   ]
  },
  {
   "cell_type": "code",
   "execution_count": null,
   "metadata": {
    "collapsed": true
   },
   "outputs": [],
   "source": [
    "def generate_EOM_constraint():\n",
    "    #INPUT\n",
    "    #None\n",
    "    #OUTPUT\n",
    "    #IBP_matrix: vector (1D array) of EOM constraint\n",
    "    \n",
    "    return EOM"
   ]
  },
  {
   "cell_type": "code",
   "execution_count": 31,
   "metadata": {
    "collapsed": true
   },
   "outputs": [],
   "source": [
    "def combine_IBP_EOM(massDim):\n",
    "    #INPUT\n",
    "    #massDim: mass dimension, int\n",
    "    #OUTPUT\n",
    "    #IBP_EOM: matrix of IBP and EOM constraints together\n",
    "    \n",
    "    return IBP_EOM\n",
    "    \n",
    "def generate_RREF(massDim):\n",
    "    #INPUT\n",
    "    #massDim: mass dimension, int\n",
    "    #OUTPUT\n",
    "    #IBP_RREF: matrix (numpy array) of IBP constraints in reduced row echelon form (rref)\n",
    "    \n",
    "    return IBP_EOM_RREF\n",
    "\n",
    "\n",
    "    "
   ]
  },
  {
   "cell_type": "code",
   "execution_count": null,
   "metadata": {
    "collapsed": true
   },
   "outputs": [],
   "source": []
  },
  {
   "cell_type": "code",
   "execution_count": null,
   "metadata": {
    "collapsed": true
   },
   "outputs": [],
   "source": []
  }
 ],
 "metadata": {
  "kernelspec": {
   "display_name": "Python 3",
   "language": "python",
   "name": "python3"
  },
  "language_info": {
   "codemirror_mode": {
    "name": "ipython",
    "version": 3
   },
   "file_extension": ".py",
   "mimetype": "text/x-python",
   "name": "python",
   "nbconvert_exporter": "python",
   "pygments_lexer": "ipython3",
   "version": "3.6.3"
  }
 },
 "nbformat": 4,
 "nbformat_minor": 2
}
