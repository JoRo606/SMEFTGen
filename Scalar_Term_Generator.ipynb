{
 "cells": [
  {
   "cell_type": "markdown",
   "metadata": {},
   "source": [
    "# Explanation"
   ]
  },
  {
   "cell_type": "markdown",
   "metadata": {},
   "source": [
    "This code, which implements the automatic generation of effective operators in the effective field theory of a single scalar field with $\\phi \\leftrightarrow - \\phi$ symmetry, establishes a framework for approaching the case of ultimate interest, where we seek to generate higher dimensional operators in more complicated EFTs such as Standard Model Effective Field Theory (SMEFT). In particular, a general strategy for generation of operators, and reduction of the operator basis through integration by parts (IBP) and equations of motion (EOM), which may be generalized to more complicated cases, is developed. "
   ]
  },
  {
   "cell_type": "markdown",
   "metadata": {},
   "source": [
    "# Define Classes for Field and Term Objects"
   ]
  },
  {
   "cell_type": "markdown",
   "metadata": {},
   "source": [
    "Define classes for field objects and term objects, which are monomials built from contracted fields. Derivatives are a particular type of field object."
   ]
  },
  {
   "cell_type": "code",
   "execution_count": 25,
   "metadata": {
    "collapsed": true
   },
   "outputs": [],
   "source": [
    "import numpy as np\n",
    "\n",
    "class field(object):\n",
    "    def __init__(self, symbol, massDim, index=None):\n",
    "        self.symbol = symbol #string symbol for field\n",
    "        self.index = index #string indicating type of index - here, only Lorentz\n",
    "        self.massDim= massDim #list of connected terms, includes repeats\n",
    "    def info(self):\n",
    "        return 'symbol: ' + str(self.symbol) + '\\n' \\\n",
    "            +   'massDim: ' + str(self.massDim) + '\\n' \\\n",
    "            +   'index: ' + str(self.index)\n",
    "    def get_symbol(self):\n",
    "        return self.symbol\n",
    "    def get_index(self):\n",
    "        return self.index\n",
    "    def get_massDim(self):\n",
    "        return int(self.massDim)\n",
    "    def __eq__(self, other):\n",
    "        eq = (self.symbol == other.symbol)\n",
    "        return eq"
   ]
  },
  {
   "cell_type": "code",
   "execution_count": 26,
   "metadata": {
    "collapsed": true
   },
   "outputs": [],
   "source": [
    "class term(object):\n",
    "    def __init__(self, field_list, contractions=[]):\n",
    "        self.field_list = field_list #ordered list of field objects\n",
    "        self.contractions = contractions #list of 2-tuples, indicating index values of fields in self.fields that are contracted \n",
    "    def __eq__(self, other):\n",
    "        eq = (self.field_list == other.field_list)&(self.contractions == other.contractions)\n",
    "        return eq\n",
    "    def __str__(self):\n",
    "        return 'fields: ' + str([item.get_symbol() for item in self.field_list]) + '\\n' \\\n",
    "            + 'contractions: ' + str(self.contractions)\n",
    "    def get_field_list(self):\n",
    "        return self.field_list\n",
    "    def get_contractions(self):\n",
    "        return self.contractions\n",
    "    def set_field_list(self, field_list):\n",
    "        self.field_list = field_list\n",
    "    def set_contractions(self, contractions):\n",
    "        self.contractions = contractions\n",
    "    def massDim(self):\n",
    "        massDim = 0\n",
    "        field_list = self.field_list\n",
    "        #print(field_list)\n",
    "        for field in field_list:\n",
    "            massDim += field.get_massDim()\n",
    "        return massDim \n",
    "    def get_field_symbols(self):\n",
    "        field_symbols = []\n",
    "        for item in self.field_list:\n",
    "            field_symbols.append(item.get_symbol())\n",
    "        return field_symbols       \n",
    "    "
   ]
  },
  {
   "cell_type": "markdown",
   "metadata": {},
   "source": [
    "As an example, consider the term $(\\partial_{\\mu} \\phi)(\\partial^{\\mu} \\phi)$, built from multiplication/contraction of the fields $\\phi$ and $\\partial$:"
   ]
  },
  {
   "cell_type": "code",
   "execution_count": 29,
   "metadata": {},
   "outputs": [
    {
     "name": "stdout",
     "output_type": "stream",
     "text": [
      "fields: ['D', 'P', 'D', 'P']\n",
      "contractions: [(0, 2)]\n"
     ]
    }
   ],
   "source": [
    "P = field('P', 1)\n",
    "D = field('D', 1, 'u')\n",
    "A = term([D, P, D, P], [(0, 2)])\n",
    "print(A)"
   ]
  },
  {
   "cell_type": "markdown",
   "metadata": {},
   "source": [
    "# Generate All Terms of a Given Mass Dimension"
   ]
  },
  {
   "cell_type": "markdown",
   "metadata": {},
   "source": [
    "The main function used to generate all terms of a given mass dimension (prior to reduction via integration by parts and equations of motion) is called *generate_contracted_terms(massDim, num_free_indices)*, which generates all inequivalent terms (modulo commutation of derivatives and fields) of a given mass dimension with a specified number of free indices (in the simple case of the scalar field, these are only Lorentz indices). This will serve two goals:\n",
    "\n",
    "- We all fully contracted (no free indices), inequivalent terms up to a given mass dimension. We can get this by calculating the terms for each mass dimension separately. This is what *generate_contracted_terms(massDim, num_free_indices)* does.\n",
    "- In generating the integration by parts (IBP) linear relations among operators of mass dimension $M$, there will be one relation for each term of dimension $M-1$ with one free Lorentz index. Thus, setting *num_free_indices = 1* and *massDim = M-1* in *generate_contracted_terms(massDim, num_free_indices)* enables us to generate all of the IBP relations among operators of mass dimension $M$. See the section \"Generate IBP Relations\" below for more detail."
   ]
  },
  {
   "cell_type": "markdown",
   "metadata": {},
   "source": [
    "## *Enumerate ways of distributing derivatives among fields in uncontracted terms.*"
   ]
  },
  {
   "cell_type": "markdown",
   "metadata": {},
   "source": [
    "Initially, ignore the structure of the contractions and focus on uncontracted terms (all indices free). Uncontracted terms are differentiated by the number of derivatives associated on each field. Terms with the same number of fields that differ in the number of derivatives acting on the fields - assume for each term that the list of number of derivatives acting on each field, num_derivs_list, has been sorted - are inequivalent. Thus, for a given mass dimension M, uncontracted terms can be partitioned according to $(n, m)$, where $n$ is the number of derivatives, $m$ is the number of fields, $n + m = M$, and $m >= 1$. For uncontracted terms associated with each pair $(n, m)$, we can further partition the set into sorted lists $(i_1, ... , i_m)$ of length m indicating the number of derivatives acting on each field. Uncontracted terms are inequivalent if their sorted lists $(i_1, ... , i_m)$ differ. The function *sums_to_n(n, m)* lists all ways of summing $m$ positive integers to give $n$; *sums_to_n_padded(n, m)* lists all ways of summing $m$ non-negative integers (including zero) to give $n$. The functions *non_increasing(L)* and *pad_w_zeros(list_of_lists, size)* are helper functions for *sums_to_n_padded(n, m)*, which gives all inequivalent ways of distributing uncontracted derivatives among fields. "
   ]
  },
  {
   "cell_type": "code",
   "execution_count": 18,
   "metadata": {
    "collapsed": true
   },
   "outputs": [],
   "source": [
    "def non_increasing(L):\n",
    "    return all(x>=y for x, y in zip(L, L[1:]))\n",
    "\n",
    "def sums_to_n(n, m): # generates partitions of derivatives to each field\n",
    "    #INPUT\n",
    "    #n: number we want to sum to; i.e. total number of derivatives\n",
    "    #m: number of digits in sum; i.e. total number of fields\n",
    "    #OUTPUT\n",
    "    #list of lists of digits, with each sublist no longer than m\n",
    "    #EXPLANATION\n",
    "    #list of combos for n can be generated from list of combos for n-1 either by appending 1 to each of the combos\n",
    "    #for n-1, or adding 1 to just one of the elements in each combo. To ensure no repeats, we require the lists to be\n",
    "    #non-increasing.\n",
    "    combos_list = []\n",
    "    if n==0:\n",
    "        combo = m*[0]\n",
    "        combos_list.append(combo)\n",
    "        return combos_list\n",
    "    elif n==1:\n",
    "        combo = [1] + (m-1)*[0]\n",
    "        combos_list.append(combo)\n",
    "        return combos_list\n",
    "    else:\n",
    "        combos_list_prev = sums_to_n(n-1, n-1)\n",
    "        for combo in combos_list_prev:\n",
    "            combo_new1 = combo + [1]\n",
    "            if non_increasing(combo_new1) and combo_new1 not in combos_list:\n",
    "                combos_list.append(combo_new1) \n",
    "            for i in range(len(combo)):\n",
    "                combo_new2 = combo.copy()\n",
    "                combo_new2[i] += 1\n",
    "                if non_increasing(combo_new2) and combo_new2 not in combos_list:\n",
    "                    combos_list.append(combo_new2) \n",
    "        combos_list_trunc = [combo for combo in combos_list if len(combo) <= m]    \n",
    "        return combos_list_trunc\n",
    "\n",
    "def pad_w_zeros(list_of_lists, size):\n",
    "    #INPUT\n",
    "    #list_of_lists: list of lists of numbers; all sublists should have length less than or equal to size\n",
    "    #size: int, common size of all lists after padding\n",
    "    #OUTPUT\n",
    "    #list_of_lists_padded: padded list of lists, where each sublist has length size\n",
    "    \n",
    "    if size < max([len(sublist) for sublist in list_of_lists]):\n",
    "        print(\"'size' input must be larger than or equal max length of sublists in 'list_of_lists' input.\")\n",
    "        return None\n",
    "    else:\n",
    "        list_of_lists_padded = []\n",
    "        for sublist in list_of_lists:\n",
    "            num_zeros = size - len(sublist)\n",
    "            sublist_padded = sublist + num_zeros*[0]\n",
    "            list_of_lists_padded.append(sublist_padded)\n",
    "        return list_of_lists_padded\n",
    "        \n",
    "def sums_to_n_padded(n, m):\n",
    "    return pad_w_zeros(sums_to_n(n, m), m)"
   ]
  },
  {
   "cell_type": "code",
   "execution_count": 21,
   "metadata": {},
   "outputs": [
    {
     "data": {
      "text/plain": [
       "[[4, 1, 1, 1],\n",
       " [3, 2, 1, 1],\n",
       " [2, 2, 2, 1],\n",
       " [5, 1, 1],\n",
       " [4, 2, 1],\n",
       " [3, 3, 1],\n",
       " [3, 2, 2],\n",
       " [6, 1],\n",
       " [5, 2],\n",
       " [4, 3],\n",
       " [7]]"
      ]
     },
     "execution_count": 21,
     "metadata": {},
     "output_type": "execute_result"
    }
   ],
   "source": [
    "sums_to_n(7, 4)"
   ]
  },
  {
   "cell_type": "code",
   "execution_count": 19,
   "metadata": {},
   "outputs": [
    {
     "data": {
      "text/plain": [
       "[[4, 1, 1, 1],\n",
       " [3, 2, 1, 1],\n",
       " [2, 2, 2, 1],\n",
       " [5, 1, 1, 0],\n",
       " [4, 2, 1, 0],\n",
       " [3, 3, 1, 0],\n",
       " [3, 2, 2, 0],\n",
       " [6, 1, 0, 0],\n",
       " [5, 2, 0, 0],\n",
       " [4, 3, 0, 0],\n",
       " [7, 0, 0, 0]]"
      ]
     },
     "execution_count": 19,
     "metadata": {},
     "output_type": "execute_result"
    }
   ],
   "source": [
    "sums_to_n_padded(7,4)"
   ]
  },
  {
   "cell_type": "markdown",
   "metadata": {},
   "source": [
    "## *Generate terms with different contractions*"
   ]
  },
  {
   "cell_type": "markdown",
   "metadata": {},
   "source": [
    "Next we want to differentiate between contracted terms that may have the same number of fields and number of derivatives per field, but differ by virtue of their contractions. That is, we want to generate all terms with a given *num_derivs_list* that are inequivalent by virtue of having inequivalent contractions. Here we work with \"reduced\" contractions, in which the indices in each 2-tuple indicate the index of the fields on which the contracted derivatives act. This can be inferred, but is distinct, from the format of contractions used to specify a term object, in which the contracted indices designate the place of a derivative in the field list used to define the term. "
   ]
  },
  {
   "cell_type": "code",
   "execution_count": 35,
   "metadata": {
    "collapsed": true
   },
   "outputs": [],
   "source": [
    "def equiv_contraction(contraction1, contraction2, num_derivs_list):\n",
    "    #INPUT\n",
    "    #contraction1: 2-tuple of integers designating reduced contraction\n",
    "    #contraction2: 2-tuple of integers designating reduced contraction\n",
    "    #num_derivs_list: number of derivatives per field, assumed shared by term1 and term2\n",
    "    #OUTPUT\n",
    "    #equiv: bool indicating whether two contractions are the same with respect to num_derivs_list\n",
    "    indices_same_1 = contraction1[0]==contraction1[1]\n",
    "    indices_same_2 = contraction2[0]==contraction2[1]\n",
    "    #check whether number of derivatives associated with indices are the same.\n",
    "    equiv = (num_derivs_list[contraction1[0]] == num_derivs_list[contraction2[0]] and num_derivs_list[contraction1[1]] == num_derivs_list[contraction2[1]]) or (num_derivs_list[contraction1[0]] == num_derivs_list[contraction2[1]] and num_derivs_list[contraction1[1]] == num_derivs_list[contraction2[0]])\n",
    "    #check whether indices of each contraction are on same field or different fields for each contraction.\n",
    "    #contractions are only equivalent if they are either both on the same field or both on different fields.\n",
    "    equiv = equiv and (indices_same_1 == indices_same_2)\n",
    "    return equiv\n",
    "\n",
    "def equiv_contraction_list(contraction_list1, contraction_list2, num_derivs_list):\n",
    "    #INPUT\n",
    "    #contraction_list1: list of reduced contractions of term1\n",
    "    #contraction_list2: list of reduced contractions of term2\n",
    "    #num_derivs_list: number of derivatives per field, assumed shared by term1 and term2\n",
    "    #OUTPUT\n",
    "    #True if the contraction lists contain equivalent contractions, False otherwise\n",
    "    #EXPLANATION\n",
    "    #returns True if the two lists of contractions are equivalent relative to num_derivs_list, and False otherwise.\n",
    "    #for each contraction in contraction_list1, see if it is equivalent to one of the remaining contractions\n",
    "    #in contraction_list2. remove an element from contraction_list2 if it is found to be equivalent to one from \n",
    "    #contraction_list1. for each element of contraction_list1, we must find an equivalent element of \n",
    "    #contraction_list2.\n",
    "    if len(contraction_list1) != len(contraction_list2):\n",
    "        return False\n",
    "    contraction_list1_copy = contraction_list1.copy() #make copies to avoid changing lists\n",
    "    contraction_list2_copy = contraction_list2.copy()\n",
    "    for contraction1 in contraction_list1_copy:\n",
    "        match_found = False\n",
    "        for contraction2 in contraction_list2_copy:\n",
    "            if equiv_contraction(contraction1, contraction2, num_derivs_list):\n",
    "                match_found = True\n",
    "                contraction_list2_copy.remove(contraction2)\n",
    "                break\n",
    "        #if after looping through all contraction_list2 no match is found, return False\n",
    "        if match_found == False:\n",
    "            return False            \n",
    "    return True #should be true if match_found is true for all elements\n",
    "\n",
    "def contained_in(contraction_list, list_of_contraction_lists, num_derivs_list): \n",
    "    #INPUT\n",
    "    #contraction_list: list of 2-tuples indicating contractions\n",
    "    #list_of_contraction_lists: list of contraction lists\n",
    "    #num_derivs_list: list of integers indicating number of derivatives acting on each field\n",
    "    #EXPLANATION\n",
    "    #determines whether contraction_list is contained in list_of_contraction_lists - i.e., equivalent to one\n",
    "    #of the contraction lists in list_of_contraction_lists. \n",
    "    for i in range(len(list_of_contraction_lists)):\n",
    "        if equiv_contraction_list(contraction_list, list_of_contraction_lists[i], num_derivs_list):\n",
    "            return True\n",
    "        else:\n",
    "            pass\n",
    "    return False\n",
    "\n",
    "def generate_contractions(num_derivs_list, num_contractions):\n",
    "    #INPUT\n",
    "    #num_derivs_list: list where each list element corresponds to a single field and each element to the number\n",
    "    #of derivatives acting on each field\n",
    "    #num_contractions: integer indicating number of contractions in term, can be no larger than half the total number\n",
    "    #of derivatives, equal to the sum of elements in partition. \n",
    "    #OUTPUT\n",
    "    #contractions_list: list of lists of reduced contractions, e.g. for num_derivs_list = [4, 3], num_contractions = 3, one element would be [(0, 0),(0, 0),(1, 1)]\n",
    "    #another would be [(0, 1),(0, 1),(0, 0)].\n",
    "    #for num_derivs_list = [3, 2, 2] and num_contractions = 3, [(0, 0), (0, 1), (1, 2)] (one 2 left free) and [(0, 1), (1, 2), (0, 2)] (one 0 left free)\n",
    "    #EXPLANATION\n",
    "    #Generates all reduced contractions for given num_derivs_list and num_contractions. Use recursion.  \n",
    "    if num_contractions == 0: \n",
    "        contractions_list = [[]] # list of lists. each sub-list is of length num_contractions.\n",
    "        return contractions_list\n",
    "    else: \n",
    "        contractions_list = []\n",
    "        uncontracted = num_derivs_list\n",
    "        N_fields = len(num_derivs_list)\n",
    "        #loop over all possible values of first contraction; add these to list of contractions produced by generate_contractions(num_derivs_list_red, num_contractions - 1)\n",
    "        for i1 in range(N_fields):\n",
    "            for i2 in range(N_fields):\n",
    "                if i1 != i2:\n",
    "                    if uncontracted[i1] > 0 and uncontracted[i2] > 0:\n",
    "                        uncontracted_new = uncontracted.copy()\n",
    "                        contraction = (i1, i2)\n",
    "                        uncontracted_new[i1] -= 1\n",
    "                        uncontracted_new[i2] -= 1\n",
    "                        contractions_list_sub = generate_contractions(uncontracted_new, num_contractions - 1)\n",
    "                        for sublist in contractions_list_sub:\n",
    "                            sublist_new = [contraction] + sublist\n",
    "                            #print(\"sublist_new: \" + str(sublist_new))\n",
    "                            contractions_list.append(sublist_new)\n",
    "                    else:\n",
    "                        pass\n",
    "                elif i1 == i2:\n",
    "                    if uncontracted[i1] - 1 > 0: #must be at least 2 in uncontracted[i1]\n",
    "                        uncontracted_new = uncontracted.copy()\n",
    "                        contraction = (i1, i1)\n",
    "                        uncontracted_new[i1] -= 2\n",
    "                        contractions_list_sub = generate_contractions(uncontracted_new, num_contractions-1)\n",
    "                        for sublist in contractions_list_sub:\n",
    "                            sublist_new = [contraction] + sublist\n",
    "                            contractions_list.append(sublist_new)\n",
    "                    else:\n",
    "                        pass\n",
    "        return contractions_list  \n",
    "    \n",
    "def reduce_contractions(list_of_contraction_lists, num_derivs_list):\n",
    "    #INPUT\n",
    "    #contractions_list: list of lists of contractions\n",
    "    #num_derivs_list: list of number of derivatives attached to each field\n",
    "    #OUTPUT\n",
    "    #contractions_unique: list of lists of contractions\n",
    "    #EXPLANATION\n",
    "    #returns list of unique contraction lists in list_of_contraction_lists\n",
    "    contractions_unique = []\n",
    "    for i in range(len(list_of_contraction_lists)):\n",
    "        if not contained_in(list_of_contraction_lists[i], contractions_unique, num_derivs_list):\n",
    "            contractions_unique.append(list_of_contraction_lists[i])\n",
    "        else:\n",
    "            pass\n",
    "    return contractions_unique\n",
    "\n",
    "def generate_unique_contractions(num_derivs_list, num_contractions):\n",
    "    #INPUT\n",
    "    #num_derivs_list: list of number of derivatives acting on each field\n",
    "    #num_contractions: number of contractions\n",
    "    #OUTPUT\n",
    "    #contractions_unique: list of distinct lists of contractions, where each contraction list is associated to\n",
    "    #a distinct term.\n",
    "    #EXPLANATION\n",
    "    #generates a list of lists of contractions, such that no list of contractions is equivalent to any other\n",
    "    list_of_contraction_lists = generate_contractions(num_derivs_list, num_contractions)\n",
    "    contractions_unique = reduce_contractions(list_of_contraction_lists, num_derivs_list)\n",
    "    return contractions_unique\n",
    "        "
   ]
  },
  {
   "cell_type": "code",
   "execution_count": 36,
   "metadata": {},
   "outputs": [
    {
     "data": {
      "text/plain": [
       "[[(0, 0), (0, 0), (0, 1), (1, 1)],\n",
       " [(0, 0), (0, 0), (1, 1), (1, 1)],\n",
       " [(0, 0), (0, 1), (0, 1), (0, 1)],\n",
       " [(0, 0), (0, 1), (0, 1), (1, 1)],\n",
       " [(0, 1), (0, 1), (0, 1), (0, 1)]]"
      ]
     },
     "execution_count": 36,
     "metadata": {},
     "output_type": "execute_result"
    }
   ],
   "source": [
    "num_derivs_list = [5,4]\n",
    "num_contractions = 4\n",
    "generate_unique_contractions(num_derivs_list, num_contractions)"
   ]
  },
  {
   "cell_type": "markdown",
   "metadata": {},
   "source": [
    "This corresponds to (with $\\nu$ the one free index, and the $\\mu_i$ contracted):\n",
    "\n",
    "$(\\partial_{\\mu_1} \\partial^{\\mu_1} \\partial_{\\mu_2} \\partial^{\\mu_2} \\partial_{\\mu_3} \\phi)( \\partial^{\\mu_3} \\partial_{\\mu_4} \\partial^{\\mu_4} \\partial^{\\nu} \\phi)$,\n",
    "\n",
    "$(\\partial_{\\mu_1} \\partial^{\\mu_1} \\partial_{\\mu_2} \\partial^{\\mu_2} \\partial^{\\nu} \\phi) ( \\partial_{\\mu_3} \\partial^{\\mu_3} \\partial_{\\mu_4} \\partial^{\\mu_4} \\phi)$,\n",
    "\n",
    "$(\\partial_{\\mu_1} \\partial^{\\mu_1} \\partial_{\\mu_2} \\partial_{\\mu_3} \\partial_{\\mu_4} \\phi) ( \\partial^{\\mu_2} \\partial^{\\mu_3} \\partial^{\\mu_4} \\partial^{\\nu} \\phi)$,\n",
    "\n",
    "$(\\partial_{\\mu_1} \\partial^{\\mu_1} \\partial_{\\mu_2} \\partial_{\\mu_3} \\partial^{\\nu} \\phi) ( \\partial^{\\mu_2} \\partial^{\\mu_3} \\partial_{\\mu_4} \\partial^{\\mu_4} \\phi)$,\n",
    "\n",
    "$(\\partial_{\\mu_1} \\partial_{\\mu_2} \\partial_{\\mu_3} \\partial_{\\mu_4} \\partial^{\\nu} \\phi) ( \\partial^{\\mu_1} \\partial^{\\mu_2} \\partial^{\\mu_3} \\partial^{\\mu_4} \\phi)$\n",
    "\n",
    "\n"
   ]
  },
  {
   "cell_type": "code",
   "execution_count": 1,
   "metadata": {
    "collapsed": true
   },
   "outputs": [],
   "source": [
    "def convert_to_term_object(num_derivs_list, contraction_list):\n",
    "    #INPUT\n",
    "    #num_derivs_list: list of integers indicating the number of derivatives acting on each field\n",
    "    #contraction_list: list of 2-tuples of integers indicating which derivatives are contracted; more precisely,\n",
    "    #integers in 2-tuples indicate which field the contracted derivative acts on. \n",
    "    #OUTPUT\n",
    "    #term_object: a term object with the specified number of fields and number of derivatives acting on each field, \n",
    "    #and derivatives contracted as per contraction_list\n",
    "    \n",
    "    num_phi = len(num_derivs_list)\n",
    "    num_contractions = len(contraction_list)\n",
    "    field_list = []\n",
    "    contraction_transform_list = []\n",
    "    \n",
    "    #build field_list\n",
    "    for i in range(num_phi):\n",
    "        P_i = field('P', 1)\n",
    "        for j in range(num_derivs_list[i]):\n",
    "            D_ij = field('D', 1, 'u') #u for Lorentz index\n",
    "            field_list.append(D_ij)\n",
    "        field_list.append(P_i)\n",
    "    \n",
    "    counts = num_phi*[0] #stores number of contractions into phi field place\n",
    "    #build contraction_list\n",
    "    for i in range(num_contractions):\n",
    "        contraction = contraction_list[i]\n",
    "        phi1 = contraction[0]\n",
    "        phi2 = contraction[1]\n",
    "        \n",
    "        index1 = sum(num_derivs_list[:phi1]) + phi1 + counts[phi1]\n",
    "        counts[phi1] += 1\n",
    "        index2 = sum(num_derivs_list[:phi2]) + phi2 + counts[phi2]\n",
    "        counts[phi2] += 1\n",
    "        \n",
    "        contraction_transform = (index1, index2)\n",
    "        contraction_transform_list.append(contraction_transform)\n",
    "           \n",
    "    #instantiate term object\n",
    "    term_object = term(field_list, contraction_transform_list)\n",
    "            \n",
    "    return term_object"
   ]
  },
  {
   "cell_type": "code",
   "execution_count": 2,
   "metadata": {},
   "outputs": [
    {
     "ename": "NameError",
     "evalue": "name 'field' is not defined",
     "output_type": "error",
     "traceback": [
      "\u001b[0;31m---------------------------------------------------------------------------\u001b[0m",
      "\u001b[0;31mNameError\u001b[0m                                 Traceback (most recent call last)",
      "\u001b[0;32m<ipython-input-2-90133afcb4a9>\u001b[0m in \u001b[0;36m<module>\u001b[0;34m()\u001b[0m\n\u001b[1;32m      2\u001b[0m \u001b[0mcontraction_list\u001b[0m \u001b[0;34m=\u001b[0m \u001b[0;34m[\u001b[0m\u001b[0;34m(\u001b[0m\u001b[0;36m0\u001b[0m\u001b[0;34m,\u001b[0m \u001b[0;36m1\u001b[0m\u001b[0;34m)\u001b[0m\u001b[0;34m,\u001b[0m \u001b[0;34m(\u001b[0m\u001b[0;36m2\u001b[0m\u001b[0;34m,\u001b[0m \u001b[0;36m3\u001b[0m\u001b[0;34m)\u001b[0m\u001b[0;34m]\u001b[0m\u001b[0;34m\u001b[0m\u001b[0m\n\u001b[1;32m      3\u001b[0m \u001b[0;34m\u001b[0m\u001b[0m\n\u001b[0;32m----> 4\u001b[0;31m \u001b[0mterm_object\u001b[0m \u001b[0;34m=\u001b[0m \u001b[0mconvert_to_term_object\u001b[0m\u001b[0;34m(\u001b[0m\u001b[0mnum_derivs_list\u001b[0m\u001b[0;34m,\u001b[0m \u001b[0mcontraction_list\u001b[0m\u001b[0;34m)\u001b[0m\u001b[0;34m\u001b[0m\u001b[0m\n\u001b[0m\u001b[1;32m      5\u001b[0m \u001b[0mprint\u001b[0m\u001b[0;34m(\u001b[0m\u001b[0mterm_object\u001b[0m\u001b[0;34m.\u001b[0m\u001b[0mget_contractions\u001b[0m\u001b[0;34m(\u001b[0m\u001b[0;34m)\u001b[0m\u001b[0;34m)\u001b[0m\u001b[0;34m\u001b[0m\u001b[0m\n\u001b[1;32m      6\u001b[0m \u001b[0mprint\u001b[0m\u001b[0;34m(\u001b[0m\u001b[0;34m[\u001b[0m\u001b[0mitem\u001b[0m\u001b[0;34m.\u001b[0m\u001b[0mget_symbol\u001b[0m\u001b[0;34m(\u001b[0m\u001b[0;34m)\u001b[0m \u001b[0;32mfor\u001b[0m \u001b[0mitem\u001b[0m \u001b[0;32min\u001b[0m \u001b[0mterm_object\u001b[0m\u001b[0;34m.\u001b[0m\u001b[0mget_field_list\u001b[0m\u001b[0;34m(\u001b[0m\u001b[0;34m)\u001b[0m\u001b[0;34m]\u001b[0m\u001b[0;34m)\u001b[0m\u001b[0;34m\u001b[0m\u001b[0m\n",
      "\u001b[0;32m<ipython-input-1-f3f0129c454b>\u001b[0m in \u001b[0;36mconvert_to_term_object\u001b[0;34m(num_derivs_list, contraction_list)\u001b[0m\n\u001b[1;32m     15\u001b[0m     \u001b[0;31m#build field_list\u001b[0m\u001b[0;34m\u001b[0m\u001b[0;34m\u001b[0m\u001b[0m\n\u001b[1;32m     16\u001b[0m     \u001b[0;32mfor\u001b[0m \u001b[0mi\u001b[0m \u001b[0;32min\u001b[0m \u001b[0mrange\u001b[0m\u001b[0;34m(\u001b[0m\u001b[0mnum_phi\u001b[0m\u001b[0;34m)\u001b[0m\u001b[0;34m:\u001b[0m\u001b[0;34m\u001b[0m\u001b[0m\n\u001b[0;32m---> 17\u001b[0;31m         \u001b[0mP_i\u001b[0m \u001b[0;34m=\u001b[0m \u001b[0mfield\u001b[0m\u001b[0;34m(\u001b[0m\u001b[0;34m'P'\u001b[0m\u001b[0;34m,\u001b[0m \u001b[0;36m1\u001b[0m\u001b[0;34m)\u001b[0m\u001b[0;34m\u001b[0m\u001b[0m\n\u001b[0m\u001b[1;32m     18\u001b[0m         \u001b[0;32mfor\u001b[0m \u001b[0mj\u001b[0m \u001b[0;32min\u001b[0m \u001b[0mrange\u001b[0m\u001b[0;34m(\u001b[0m\u001b[0mnum_derivs_list\u001b[0m\u001b[0;34m[\u001b[0m\u001b[0mi\u001b[0m\u001b[0;34m]\u001b[0m\u001b[0;34m)\u001b[0m\u001b[0;34m:\u001b[0m\u001b[0;34m\u001b[0m\u001b[0m\n\u001b[1;32m     19\u001b[0m             \u001b[0mD_ij\u001b[0m \u001b[0;34m=\u001b[0m \u001b[0mfield\u001b[0m\u001b[0;34m(\u001b[0m\u001b[0;34m'D'\u001b[0m\u001b[0;34m,\u001b[0m \u001b[0;36m1\u001b[0m\u001b[0;34m,\u001b[0m \u001b[0;34m'u'\u001b[0m\u001b[0;34m)\u001b[0m \u001b[0;31m#u for Lorentz index\u001b[0m\u001b[0;34m\u001b[0m\u001b[0m\n",
      "\u001b[0;31mNameError\u001b[0m: name 'field' is not defined"
     ]
    }
   ],
   "source": [
    "num_derivs_list = [3, 2, 1, 1]\n",
    "contraction_list = [(0, 1), (2, 3)]\n",
    "\n",
    "term_object = convert_to_term_object(num_derivs_list, contraction_list)\n",
    "print(term_object.get_contractions())\n",
    "print([item.get_symbol() for item in term_object.get_field_list()])"
   ]
  },
  {
   "cell_type": "code",
   "execution_count": 10,
   "metadata": {
    "collapsed": true
   },
   "outputs": [],
   "source": [
    "#generate terms so that free indices are allowed. \n",
    "def generate_contracted_terms(massDim, num_free_indices):\n",
    "    #INPUT\n",
    "    #massDim: int, mass dimension of terms to be generated.\n",
    "    #OUTPUT\n",
    "    #num_free_indices: number of free Lorentz indices we want to leave open\n",
    "    #EXPLANATION\n",
    "    #num_free_indices = num_derivs - 2*num_contractions, so \n",
    "    #num_contractions = .5*(num_derivs - num_free_indices), so num_derivs has to be a multiple of 2 greater than \n",
    "    #num_free_indices\n",
    "    M = massDim\n",
    "    contracted = []\n",
    "    #print(\"M: \" + str(M))\n",
    "    for i in range(int(M)): #loop over number of derivatives in term\n",
    "        num_derivs = i #need number of derivatives to be even to ensure that every index is contracted\n",
    "        num_fields = M - num_derivs\n",
    "        #print(\"\")\n",
    "        #print(\"\")\n",
    "        #print(\"in generate_fully_contracted, (num_derivs, num_fields):\" + str((num_derivs, num_fields)))\n",
    "        list_of_num_derivs_lists = sums_to_n_padded(num_derivs, num_fields) #list of lists, with each sublist containing a different distribution of derivatives among fields. \n",
    "        \n",
    "        #check that num_derivs allows for specified number of free indices, if not, go to next i in loop. \n",
    "        if (num_derivs - num_free_indices)%2 == 0: \n",
    "            num_contractions = .5*(num_derivs - num_free_indices)\n",
    "        else: #if number of derivatives does not allow for specified number of free indices, then move to next number\n",
    "            #print(\"continue\")\n",
    "            continue \n",
    "        \n",
    "        for j in range(len(list_of_num_derivs_lists)): #loop over different ways of distributing derivatives among fields\n",
    "            num_derivs_list = list_of_num_derivs_lists[j]\n",
    "            #print(\"\")\n",
    "            #print(\"num_derivs_list: \" + str(num_derivs_list)) \n",
    "            list_of_contraction_lists = generate_unique_contractions(num_derivs_list, num_contractions)\n",
    "            for contraction_list in list_of_contraction_lists: #loop over inequivalent ways of contracting Lorentz indices of derivatives \n",
    "                #print(\"\")\n",
    "                #print(\"contraction_list: \" + str(contraction_list))\n",
    "                term_object = convert_to_term_object(num_derivs_list, contraction_list)\n",
    "                #print(\"term_object.get_field_symbols(): \" + str(term_object.get_field_symbols()))\n",
    "                #check if number of P's, equal to len(num_derivs_list), is even. this enforces P<->-P symmetry\n",
    "                num_phi = len([item for item in term_object.get_field_list() if item.get_symbol()=='P'])\n",
    "                if num_phi%2 == 0:\n",
    "                    contracted.append(term_object)        \n",
    "    return contracted\n"
   ]
  },
  {
   "cell_type": "code",
   "execution_count": 11,
   "metadata": {
    "collapsed": true
   },
   "outputs": [],
   "source": [
    "#generate terms w/ no free indices.\n",
    "def generate_fully_contracted(massDim):\n",
    "    #INPUT\n",
    "    #massDim: int, mass dimension of terms to be generated.\n",
    "    #OUTPUT\n",
    "    #fully_contracted: a list of all term objects of mass dimension massDim, all fully contracted. \n",
    "    fully_contracted = generate_contracted_terms(massDim, 0)     \n",
    "    return fully_contracted"
   ]
  },
  {
   "cell_type": "markdown",
   "metadata": {},
   "source": [
    "Check that no terms with odd number of phi fields are generated."
   ]
  },
  {
   "cell_type": "code",
   "execution_count": 12,
   "metadata": {},
   "outputs": [
    {
     "name": "stdout",
     "output_type": "stream",
     "text": [
      "terms: []\n",
      "terms: []\n"
     ]
    }
   ],
   "source": [
    "massDim = 5\n",
    "num_free_indices = 0\n",
    "terms = generate_contracted_terms(massDim, num_free_indices)\n",
    "print(\"terms: \" + str(terms))\n",
    "for item in terms:\n",
    "    print(\"term_object.get_field_symbols(): \" + str(item.get_field_symbols()))\n",
    "    print(\"term_object.get_contractions(): \" + str(item.get_contractions()))\n",
    "terms = generate_fully_contracted(massDim)\n",
    "print(\"terms: \" + str(terms))\n",
    "for item in terms:\n",
    "    print(\"term_object.get_field_symbols(): \" + str(item.get_field_symbols()))\n",
    "    print(\"term_object.get_contractions(): \" + str(item.get_contractions()))"
   ]
  },
  {
   "cell_type": "markdown",
   "metadata": {},
   "source": [
    "Check that generate_contracted_terms(massDim, num_free_indices=0) gives same results as generate_fully_contracted(massDim)"
   ]
  },
  {
   "cell_type": "code",
   "execution_count": 13,
   "metadata": {},
   "outputs": [
    {
     "name": "stdout",
     "output_type": "stream",
     "text": [
      "term_object.get_field_symbols(): ['P', 'P', 'P', 'P', 'P', 'P', 'P', 'P']\n",
      "term_object.get_contractions(): []\n",
      "term_object.get_field_symbols(): ['D', 'P', 'D', 'P', 'P', 'P', 'P', 'P']\n",
      "term_object.get_contractions(): [(0, 2)]\n",
      "term_object.get_field_symbols(): ['D', 'D', 'P', 'P', 'P', 'P', 'P', 'P']\n",
      "term_object.get_contractions(): [(0, 1)]\n",
      "term_object.get_field_symbols(): ['D', 'P', 'D', 'P', 'D', 'P', 'D', 'P']\n",
      "term_object.get_contractions(): [(0, 2), (4, 6)]\n",
      "term_object.get_field_symbols(): ['D', 'D', 'P', 'D', 'P', 'D', 'P', 'P']\n",
      "term_object.get_contractions(): [(0, 1), (3, 5)]\n",
      "term_object.get_field_symbols(): ['D', 'D', 'P', 'D', 'P', 'D', 'P', 'P']\n",
      "term_object.get_contractions(): [(0, 3), (1, 5)]\n",
      "term_object.get_field_symbols(): ['D', 'D', 'D', 'P', 'D', 'P', 'P', 'P']\n",
      "term_object.get_contractions(): [(0, 1), (2, 4)]\n",
      "term_object.get_field_symbols(): ['D', 'D', 'P', 'D', 'D', 'P', 'P', 'P']\n",
      "term_object.get_contractions(): [(0, 1), (3, 4)]\n",
      "term_object.get_field_symbols(): ['D', 'D', 'P', 'D', 'D', 'P', 'P', 'P']\n",
      "term_object.get_contractions(): [(0, 3), (1, 4)]\n",
      "term_object.get_field_symbols(): ['D', 'D', 'D', 'D', 'P', 'P', 'P', 'P']\n",
      "term_object.get_contractions(): [(0, 1), (2, 3)]\n",
      "term_object.get_field_symbols(): ['D', 'D', 'D', 'D', 'D', 'P', 'D', 'P']\n",
      "term_object.get_contractions(): [(0, 1), (2, 3), (4, 6)]\n",
      "term_object.get_field_symbols(): ['D', 'D', 'D', 'D', 'P', 'D', 'D', 'P']\n",
      "term_object.get_contractions(): [(0, 1), (2, 3), (5, 6)]\n",
      "term_object.get_field_symbols(): ['D', 'D', 'D', 'D', 'P', 'D', 'D', 'P']\n",
      "term_object.get_contractions(): [(0, 1), (2, 5), (3, 6)]\n",
      "term_object.get_field_symbols(): ['D', 'D', 'D', 'P', 'D', 'D', 'D', 'P']\n",
      "term_object.get_contractions(): [(0, 1), (2, 4), (5, 6)]\n",
      "term_object.get_field_symbols(): ['D', 'D', 'D', 'P', 'D', 'D', 'D', 'P']\n",
      "term_object.get_contractions(): [(0, 4), (1, 5), (2, 6)]\n",
      "term_object.get_field_symbols(): ['D', 'D', 'D', 'D', 'D', 'D', 'P', 'P']\n",
      "term_object.get_contractions(): [(0, 1), (2, 3), (4, 5)]\n"
     ]
    }
   ],
   "source": [
    "massDim = 8\n",
    "num_free_indices = 0\n",
    "terms = generate_contracted_terms(massDim, num_free_indices)\n",
    "\n",
    "for item in terms:\n",
    "    print(\"term_object.get_field_symbols(): \" + str(item.get_field_symbols()))\n",
    "    print(\"term_object.get_contractions(): \" + str(item.get_contractions()))\n"
   ]
  },
  {
   "cell_type": "markdown",
   "metadata": {},
   "source": [
    "Appears to give same result. Check "
   ]
  },
  {
   "cell_type": "markdown",
   "metadata": {},
   "source": [
    "Generate all terms of massDim 8. Reduce basis according to integration by parts. "
   ]
  },
  {
   "cell_type": "code",
   "execution_count": 14,
   "metadata": {},
   "outputs": [
    {
     "name": "stdout",
     "output_type": "stream",
     "text": [
      "term_object.get_field_symbols(): ['P', 'P', 'P', 'P', 'P', 'P', 'P', 'P']\n",
      "term_object.get_contractions(): []\n",
      "term_object.get_field_symbols(): ['D', 'P', 'D', 'P', 'P', 'P', 'P', 'P']\n",
      "term_object.get_contractions(): [(0, 2)]\n",
      "term_object.get_field_symbols(): ['D', 'D', 'P', 'P', 'P', 'P', 'P', 'P']\n",
      "term_object.get_contractions(): [(0, 1)]\n",
      "term_object.get_field_symbols(): ['D', 'P', 'D', 'P', 'D', 'P', 'D', 'P']\n",
      "term_object.get_contractions(): [(0, 2), (4, 6)]\n",
      "term_object.get_field_symbols(): ['D', 'D', 'P', 'D', 'P', 'D', 'P', 'P']\n",
      "term_object.get_contractions(): [(0, 1), (3, 5)]\n",
      "term_object.get_field_symbols(): ['D', 'D', 'P', 'D', 'P', 'D', 'P', 'P']\n",
      "term_object.get_contractions(): [(0, 3), (1, 5)]\n",
      "term_object.get_field_symbols(): ['D', 'D', 'D', 'P', 'D', 'P', 'P', 'P']\n",
      "term_object.get_contractions(): [(0, 1), (2, 4)]\n",
      "term_object.get_field_symbols(): ['D', 'D', 'P', 'D', 'D', 'P', 'P', 'P']\n",
      "term_object.get_contractions(): [(0, 1), (3, 4)]\n",
      "term_object.get_field_symbols(): ['D', 'D', 'P', 'D', 'D', 'P', 'P', 'P']\n",
      "term_object.get_contractions(): [(0, 3), (1, 4)]\n",
      "term_object.get_field_symbols(): ['D', 'D', 'D', 'D', 'P', 'P', 'P', 'P']\n",
      "term_object.get_contractions(): [(0, 1), (2, 3)]\n",
      "term_object.get_field_symbols(): ['D', 'D', 'D', 'D', 'D', 'P', 'D', 'P']\n",
      "term_object.get_contractions(): [(0, 1), (2, 3), (4, 6)]\n",
      "term_object.get_field_symbols(): ['D', 'D', 'D', 'D', 'P', 'D', 'D', 'P']\n",
      "term_object.get_contractions(): [(0, 1), (2, 3), (5, 6)]\n",
      "term_object.get_field_symbols(): ['D', 'D', 'D', 'D', 'P', 'D', 'D', 'P']\n",
      "term_object.get_contractions(): [(0, 1), (2, 5), (3, 6)]\n",
      "term_object.get_field_symbols(): ['D', 'D', 'D', 'P', 'D', 'D', 'D', 'P']\n",
      "term_object.get_contractions(): [(0, 1), (2, 4), (5, 6)]\n",
      "term_object.get_field_symbols(): ['D', 'D', 'D', 'P', 'D', 'D', 'D', 'P']\n",
      "term_object.get_contractions(): [(0, 4), (1, 5), (2, 6)]\n",
      "term_object.get_field_symbols(): ['D', 'D', 'D', 'D', 'D', 'D', 'P', 'P']\n",
      "term_object.get_contractions(): [(0, 1), (2, 3), (4, 5)]\n"
     ]
    }
   ],
   "source": [
    "massDim = 8\n",
    "num_free_indices = 0\n",
    "terms = generate_contracted_terms(massDim, num_free_indices)\n",
    "\n",
    "for item in terms:\n",
    "    print(\"term_object.get_field_symbols(): \" + str(item.get_field_symbols()))\n",
    "    print(\"term_object.get_contractions(): \" + str(item.get_contractions()))"
   ]
  },
  {
   "cell_type": "markdown",
   "metadata": {},
   "source": [
    "Implement integration by parts. To each of the above terms there corresponds a different linear integration by parts (IBP) linear dependence relation. Ultimately, we want to see how many of these relations are linearly independent, to determine the number of independent operators of a given mass dimension. "
   ]
  },
  {
   "cell_type": "code",
   "execution_count": 15,
   "metadata": {},
   "outputs": [
    {
     "name": "stdout",
     "output_type": "stream",
     "text": [
      "term_object.get_field_symbols(): ['D', 'P', 'P', 'P', 'P', 'P', 'P']\n",
      "term_object.get_contractions(): []\n",
      "term_object.get_field_symbols(): ['D', 'P', 'D', 'P', 'D', 'P', 'P']\n",
      "term_object.get_contractions(): [(0, 2)]\n",
      "term_object.get_field_symbols(): ['D', 'D', 'P', 'D', 'P', 'P', 'P']\n",
      "term_object.get_contractions(): [(0, 1)]\n",
      "term_object.get_field_symbols(): ['D', 'D', 'P', 'D', 'P', 'P', 'P']\n",
      "term_object.get_contractions(): [(0, 3)]\n",
      "term_object.get_field_symbols(): ['D', 'D', 'D', 'P', 'P', 'P', 'P']\n",
      "term_object.get_contractions(): [(0, 1)]\n",
      "term_object.get_field_symbols(): ['D', 'D', 'D', 'D', 'P', 'D', 'P']\n",
      "term_object.get_contractions(): [(0, 1), (2, 3)]\n",
      "term_object.get_field_symbols(): ['D', 'D', 'D', 'D', 'P', 'D', 'P']\n",
      "term_object.get_contractions(): [(0, 1), (2, 5)]\n",
      "term_object.get_field_symbols(): ['D', 'D', 'D', 'P', 'D', 'D', 'P']\n",
      "term_object.get_contractions(): [(0, 1), (2, 4)]\n",
      "term_object.get_field_symbols(): ['D', 'D', 'D', 'P', 'D', 'D', 'P']\n",
      "term_object.get_contractions(): [(0, 1), (4, 5)]\n",
      "term_object.get_field_symbols(): ['D', 'D', 'D', 'P', 'D', 'D', 'P']\n",
      "term_object.get_contractions(): [(0, 4), (1, 5)]\n",
      "term_object.get_field_symbols(): ['D', 'D', 'D', 'D', 'D', 'P', 'P']\n",
      "term_object.get_contractions(): [(0, 1), (2, 3)]\n"
     ]
    }
   ],
   "source": [
    "massDim = 7\n",
    "num_free_indices = 1\n",
    "terms = generate_contracted_terms(massDim, num_free_indices)\n",
    "\n",
    "for item in terms:\n",
    "    print(\"term_object.get_field_symbols(): \" + str(item.get_field_symbols()))\n",
    "    print(\"term_object.get_contractions(): \" + str(item.get_contractions()))"
   ]
  },
  {
   "cell_type": "code",
   "execution_count": 16,
   "metadata": {},
   "outputs": [
    {
     "name": "stdout",
     "output_type": "stream",
     "text": [
      "term_object.get_field_symbols(): ['D', 'P', 'P', 'P', 'P']\n",
      "term_object.get_contractions(): []\n",
      "term_object.get_field_symbols(): ['D', 'D', 'P', 'D', 'P']\n",
      "term_object.get_contractions(): [(0, 1)]\n",
      "term_object.get_field_symbols(): ['D', 'D', 'P', 'D', 'P']\n",
      "term_object.get_contractions(): [(0, 3)]\n",
      "term_object.get_field_symbols(): ['D', 'D', 'D', 'P', 'P']\n",
      "term_object.get_contractions(): [(0, 1)]\n"
     ]
    }
   ],
   "source": [
    "massDim = 5\n",
    "num_free_indices = 1\n",
    "terms1 = generate_contracted_terms(massDim, num_free_indices)\n",
    "\n",
    "for item in terms1:\n",
    "    print(\"term_object.get_field_symbols(): \" + str(item.get_field_symbols()))\n",
    "    print(\"term_object.get_contractions(): \" + str(item.get_contractions()))"
   ]
  },
  {
   "cell_type": "code",
   "execution_count": 17,
   "metadata": {},
   "outputs": [
    {
     "name": "stdout",
     "output_type": "stream",
     "text": [
      "term_object.get_field_symbols(): ['P', 'P', 'P', 'P', 'P', 'P']\n",
      "term_object.get_contractions(): []\n",
      "term_object.get_field_symbols(): ['D', 'P', 'D', 'P', 'P', 'P']\n",
      "term_object.get_contractions(): [(0, 2)]\n",
      "term_object.get_field_symbols(): ['D', 'D', 'P', 'P', 'P', 'P']\n",
      "term_object.get_contractions(): [(0, 1)]\n",
      "term_object.get_field_symbols(): ['D', 'D', 'D', 'P', 'D', 'P']\n",
      "term_object.get_contractions(): [(0, 1), (2, 4)]\n",
      "term_object.get_field_symbols(): ['D', 'D', 'P', 'D', 'D', 'P']\n",
      "term_object.get_contractions(): [(0, 1), (3, 4)]\n",
      "term_object.get_field_symbols(): ['D', 'D', 'P', 'D', 'D', 'P']\n",
      "term_object.get_contractions(): [(0, 3), (1, 4)]\n",
      "term_object.get_field_symbols(): ['D', 'D', 'D', 'D', 'P', 'P']\n",
      "term_object.get_contractions(): [(0, 1), (2, 3)]\n"
     ]
    }
   ],
   "source": [
    "massDim = 6\n",
    "num_free_indices = 0\n",
    "terms2 = generate_contracted_terms(massDim, num_free_indices)\n",
    "\n",
    "for item in terms2:\n",
    "    print(\"term_object.get_field_symbols(): \" + str(item.get_field_symbols()))\n",
    "    print(\"term_object.get_contractions(): \" + str(item.get_contractions()))"
   ]
  },
  {
   "cell_type": "markdown",
   "metadata": {},
   "source": [
    "# Reduce Operator Basis with Integration by Parts (IBP) and Equation of Motion (EOM)"
   ]
  },
  {
   "cell_type": "markdown",
   "metadata": {},
   "source": [
    "IBP and EOM can be used to reduced the number of independent operators up to a given mass dimension. First focus on IBP, then EOM.  "
   ]
  },
  {
   "cell_type": "markdown",
   "metadata": {},
   "source": [
    "## Generate IBP Relations"
   ]
  },
  {
   "cell_type": "markdown",
   "metadata": {},
   "source": [
    "Every IBP relation arises from a relation $\\int d^{4}x \\ \\partial_{\\mu} T^{\\mu} = 0$, where $T^{\\mu}$ is a term with one free Lorentz index. There will be one IBP relation for each $T^{\\mu}$. If $T^{\\mu}$ contains $n$ $\\phi$ fields, by the product rule of differentiation the IBP relation will consist of $n$ terms summing to zero. All terms in a single IBP relation have the same mass dimension; thus IBP relations do not mix mass dimensions, while EOM relations do."
   ]
  },
  {
   "cell_type": "code",
   "execution_count": 18,
   "metadata": {
    "collapsed": true
   },
   "outputs": [],
   "source": [
    "def differentiate(term_object):\n",
    "    #INPUT\n",
    "    #term_object: term object with one free index\n",
    "    #OUTPUT\n",
    "    #term_list: list of term objects in sum resulting from differentiation\n",
    "    #EXPLANATION\n",
    "    #implements product rule on a term of dim M-1 to generate a list of terms of dim M. if there are N P fields \n",
    "    #in a term, there will be N terms in the product rule expansion. \n",
    "    #TO DO: check - test for correct number of indices. \n",
    "    \n",
    "    field_list = term_object.get_field_list()\n",
    "    contraction_list = term_object.get_contractions()\n",
    "    \n",
    "    L = len(field_list)\n",
    "    term_list = [] #store resulting terms\n",
    "    \n",
    "    #set field lists for N new terms of dim M. \n",
    "    new_field_lists = [] #stores field lists for generated terms\n",
    "    for i in range(L):\n",
    "        D = field('D', 1, 'u')\n",
    "        if field_list[i].get_symbol() == 'P':\n",
    "            #print(\"field loop, i = \" + str(i))\n",
    "            #insert D before P\n",
    "            field_list_new = field_list.copy()\n",
    "            field_list_new.insert(i, D) #insert derivative D into field list right before P\n",
    "            new_field_lists.append(field_list_new)\n",
    "    \n",
    "    #print(\"new_field_lists: \" + str(len(new_field_lists)))\n",
    "    #set contraction lists for N new terms of dim M. \n",
    "    #EXPLANATION: find uncontracted index in term_object. then, looping through contractions in contraction_list,\n",
    "    #1) if index comes before index of inserted D, leave the same; if index comes after index of inserted D, increment\n",
    "    #index by 1. \n",
    "    #2) add contraction between index of inserted D and free index.  \n",
    "    new_contraction_lists = []\n",
    "    \n",
    "    #find uncontracted index in term_object, since this will be contracted with external derivative\n",
    "    contracted_indices = [] #store contracted indices to find the one free index\n",
    "    #free_index = None\n",
    "    for contraction in contraction_list:\n",
    "        contracted_indices.append(contraction[0])\n",
    "        contracted_indices.append(contraction[1])\n",
    "    #print(\"contracted_indices: \" + str(contracted_indices))\n",
    "    free_index = 9999 #set to default value not equal to one of the expected possibilities\n",
    "    for i in range(len(field_list)): \n",
    "        if field_list[i].get_symbol() == 'D' and i not in contracted_indices:\n",
    "            free_index = i\n",
    "            #print(\"free_index: \" + str(free_index))\n",
    "        else:\n",
    "            pass\n",
    "            #print(\"No free index found.\")\n",
    "    \n",
    "    for i in range(L): #for each P field, there is a separate new term, with its own new contraction_list, contraction_list_new\n",
    "        if field_list[i].get_symbol() == 'P': #create new contraction list for each P\n",
    "            #print(\"contraction loop, i = \" + str(i))\n",
    "            contraction_list_new = []\n",
    "            #1) if index comes before index of inserted D, leave the same; if index comes after index of inserted D, increment\n",
    "            #index by 1.\n",
    "            for contraction in contraction_list:\n",
    "                contraction_new = (None, None)\n",
    "                if contraction[0] < i:\n",
    "                    contraction_new_0 = contraction[0]\n",
    "                elif contraction[0] > i:\n",
    "                    contraction_new_0 = contraction[0] + 1\n",
    "                elif contraction[0] == i:\n",
    "                    print(\"Error: Cannot contract into P field.\")\n",
    "\n",
    "                if contraction[1] < i:\n",
    "                    contraction_new_1 = contraction[1]\n",
    "                elif contraction[1] > i:\n",
    "                    contraction_new_1 = contraction[1] + 1\n",
    "                elif contraction[1] == i:\n",
    "                    print(\"Error: Cannot contract into P field.\")\n",
    "                \n",
    "                contraction_new = (contraction_new_0, contraction_new_1)\n",
    "                contraction_list_new.append(contraction_new)    \n",
    "        \n",
    "            #2) add contraction between index of inserted D and free index.\n",
    "            #find free index\n",
    "            #also shift free index\n",
    "            #free_index_new = None\n",
    "            if free_index < i:\n",
    "                free_index_new = free_index\n",
    "            elif free_index > i:\n",
    "                free_index_new = free_index + 1\n",
    "            elif free_index == i:\n",
    "                print(\"free_index == i\")\n",
    "                print(\"Error: Cannot contract into P field.\")\n",
    "\n",
    "            if free_index < i: \n",
    "                contraction_list_new.append((free_index_new, i))\n",
    "            elif free_index > i:\n",
    "                contraction_list_new.append((i, free_index_new))\n",
    "            \n",
    "            new_contraction_lists.append(contraction_list_new)\n",
    "            #print(\"contraction_list_new: \" + str(contraction_list_new))\n",
    "\n",
    "        N = len(new_field_lists)\n",
    "    for i in range(N):\n",
    "        field_list_new = new_field_lists[i]\n",
    "        contraction_list_new = new_contraction_lists[i]\n",
    "            \n",
    "        term_new = term(field_list_new, contraction_list_new)\n",
    "        term_list.append(term_new)\n",
    "                \n",
    "    return term_list"
   ]
  },
  {
   "cell_type": "code",
   "execution_count": 19,
   "metadata": {},
   "outputs": [
    {
     "name": "stdout",
     "output_type": "stream",
     "text": [
      "['D', 'P', 'P', 'P', 'P']\n",
      "[]\n",
      "item.get_field_symbols(): ['D', 'D', 'P', 'P', 'P', 'P']\n",
      "item.get_contractions(): [(0, 1)]\n",
      "item.get_field_symbols(): ['D', 'P', 'D', 'P', 'P', 'P']\n",
      "item.get_contractions(): [(0, 2)]\n",
      "item.get_field_symbols(): ['D', 'P', 'P', 'D', 'P', 'P']\n",
      "item.get_contractions(): [(0, 3)]\n",
      "item.get_field_symbols(): ['D', 'P', 'P', 'P', 'D', 'P']\n",
      "item.get_contractions(): [(0, 4)]\n"
     ]
    }
   ],
   "source": [
    "term_object = terms1[0]\n",
    "print(term_object.get_field_symbols())\n",
    "print(term_object.get_contractions())\n",
    "product_rule_term_list = differentiate(term_object)\n",
    "for item in product_rule_term_list:\n",
    "    print(\"item.get_field_symbols(): \" + str(item.get_field_symbols()))\n",
    "    print(\"item.get_contractions(): \" + str(item.get_contractions()))\n",
    "    "
   ]
  },
  {
   "cell_type": "markdown",
   "metadata": {},
   "source": [
    "Check for equivalent terms. First write a function, term_reduce, to reduce terms to num_derivs_list and reduced contractions. Then write a function, terms_equiv, to determine whether two terms are equivalent. terms_equiv works by seeing whether the reduced, sorted versions of the two terms are equal. Reducing a term means converting its field list into a list of the number of derivatives acting on each field, and a list of pairs of field indices (each index from 1,...,num_fields) such that derivatives acting on them are contracted with each other. Then sorting it means sorting the list of numbers of derivatives on each field and making corresponding adjustments to the contraction indices. \n",
    "\n",
    "To see whether two terms are equivalent, one needs a way to reduce and sort terms; these functions are performed respectively by term_reduce and sort_reduced. "
   ]
  },
  {
   "cell_type": "code",
   "execution_count": 20,
   "metadata": {
    "collapsed": true
   },
   "outputs": [],
   "source": [
    "def term_reduce(term_object):\n",
    "    #INPUT\n",
    "    #term1: term object\n",
    "    #OUTPUT\n",
    "    #num_derivs_list, contractions_reduced \n",
    "    #EXPLANATION\n",
    "    #takes field list for term object and reduces to ordered (largest first) list of number of derivatives per\n",
    "    #field. takes contraction list and reduces to contraction indicating which fields contracted derivatives act on.\n",
    "    \n",
    "    field_list = term_object.get_field_list()\n",
    "    contraction_list = term_object.get_contractions()\n",
    "    \n",
    "    num_derivs_list = []\n",
    "    contraction_list_reduced = []\n",
    "    phi_indices = []\n",
    "    deriv_count = 0\n",
    "    \n",
    "    #calculate num_derivs_list\n",
    "    for i in range(len(field_list)):\n",
    "        if field_list[i].get_symbol() == 'D':\n",
    "            deriv_count +=1\n",
    "        elif field_list[i].get_symbol() == 'P':\n",
    "            num_derivs_list.append(deriv_count)\n",
    "            phi_indices.append(i)\n",
    "            deriv_count = 0\n",
    "    \n",
    "    #loop through contractions in contraction_list, calculate reduced contractions\n",
    "    for i in range(len(contraction_list)):\n",
    "        contraction_0 = contraction_list[i][0]\n",
    "        contraction_1 = contraction_list[i][1]\n",
    "        \n",
    "        #if contracted index is less than term object index of phi, set index to number of phi field, from (0,...,N)\n",
    "        for j in range(len(phi_indices)):    \n",
    "            if contraction_0 < phi_indices[j]:\n",
    "                contraction_reduced_0 = j\n",
    "                break\n",
    "        for j in range(len(phi_indices)): \n",
    "            if contraction_1 < phi_indices[j]:\n",
    "                contraction_reduced_1 = j\n",
    "                break\n",
    "        \n",
    "        contraction_reduced = (contraction_reduced_0, contraction_reduced_1)\n",
    "        contraction_list_reduced.append(contraction_reduced)\n",
    "        \n",
    "    return num_derivs_list, contraction_list_reduced"
   ]
  },
  {
   "cell_type": "code",
   "execution_count": 21,
   "metadata": {},
   "outputs": [
    {
     "name": "stdout",
     "output_type": "stream",
     "text": [
      "['D', 'D', 'P', 'P', 'P', 'P']\n",
      "[(0, 1)]\n",
      "num_derivs_list: [2, 0, 0, 0]\n",
      "contraction_list_reduced: [(0, 0)]\n",
      "\n",
      "['D', 'P', 'D', 'P', 'P', 'P']\n",
      "[(0, 2)]\n",
      "num_derivs_list: [1, 1, 0, 0]\n",
      "contraction_list_reduced: [(0, 1)]\n",
      "\n",
      "['D', 'P', 'P', 'D', 'P', 'P']\n",
      "[(0, 3)]\n",
      "num_derivs_list: [1, 0, 1, 0]\n",
      "contraction_list_reduced: [(0, 2)]\n",
      "\n",
      "['D', 'P', 'P', 'P', 'D', 'P']\n",
      "[(0, 4)]\n",
      "num_derivs_list: [1, 0, 0, 1]\n",
      "contraction_list_reduced: [(0, 3)]\n",
      "\n"
     ]
    },
    {
     "data": {
      "text/plain": [
       "'\\nterm_object = terms2[]\\nprint(term_object.get_field_symbols())\\nprint(term_object.get_contractions())\\nnum_derivs_list, contraction_list_reduced = term_reduce(term_object)\\nprint(num_derivs_list)\\nprint(contraction_list_reduced)\\n'"
      ]
     },
     "execution_count": 21,
     "metadata": {},
     "output_type": "execute_result"
    }
   ],
   "source": [
    "for item in product_rule_term_list:\n",
    "    print(item.get_field_symbols())\n",
    "    print(item.get_contractions())\n",
    "    num_derivs_list = term_reduce(item)[0]\n",
    "    contraction_list_reduced = term_reduce(item)[1]\n",
    "    print(\"num_derivs_list: \" + str(num_derivs_list))\n",
    "    print(\"contraction_list_reduced: \" + str(contraction_list_reduced))\n",
    "    print(\"\")\n",
    "    \n",
    "    \n",
    "    \n",
    "'''\n",
    "term_object = terms2[]\n",
    "print(term_object.get_field_symbols())\n",
    "print(term_object.get_contractions())\n",
    "num_derivs_list, contraction_list_reduced = term_reduce(term_object)\n",
    "print(num_derivs_list)\n",
    "print(contraction_list_reduced)\n",
    "'''"
   ]
  },
  {
   "cell_type": "code",
   "execution_count": null,
   "metadata": {
    "collapsed": true
   },
   "outputs": [],
   "source": []
  },
  {
   "cell_type": "code",
   "execution_count": 22,
   "metadata": {
    "collapsed": true
   },
   "outputs": [],
   "source": [
    "def sort_reduced(num_derivs_list, contraction_list_reduced):\n",
    "    #INPUT\n",
    "    #num_derivs_list: unsorted list of number of derivatives associated with each field\n",
    "    #contraction_list_reduced: unsorted list of reduced contractions\n",
    "    #OUTPUT\n",
    "    #contractions_sorted: contraction list modified to reflect permutation to reach sorted num_derivs_list\n",
    "    #EXPLANATION\n",
    "    #sort num_derivs_list from largest to smallest, making the corresponding change to contractions in contraction_list. \n",
    "    #for now, use bubble sort. that is, go through num_derivs_list, if entry to the right is greater than entry to the left, interchange them, at the\n",
    "    #same time making the corresponding change to contractions in contraction_list. keep doing this until there is a pass with no \n",
    "    #switches. \n",
    "    N_phi = len(num_derivs_list)\n",
    "    num_derivs_list_sorted = num_derivs_list.copy()\n",
    "    \n",
    "    N_c = len(contraction_list_reduced)\n",
    "    #print(\"contraction_list_reduced: \" + str(contraction_list_reduced))\n",
    "    #change \n",
    "    contraction_list_reduced_sorted = []\n",
    "    for i in range(N_c): #initialize contractions_list_reduced_sorted to contractions_list_reduced, but as list of lists (mutable) rather than list of tuples (immutable)\n",
    "        contraction_list_reduced_sorted.append([contraction_list_reduced[i][0], contraction_list_reduced[i][1]])\n",
    "    \n",
    "    #sort derivative and contraction lists\n",
    "    is_sorted = 0\n",
    "    while is_sorted==0:\n",
    "        #print(\"contraction_list_reduced_sorted: \" + str(contraction_list_reduced_sorted))\n",
    "        is_sorted = 1\n",
    "        for i in range(N_phi-1):\n",
    "            #print(\"i: \"+ str(i))\n",
    "            if num_derivs_list_sorted[i] < num_derivs_list_sorted[i+1]:\n",
    "                #print(\"i and i+1 out of order\")\n",
    "                is_sorted = 0\n",
    "                temp = num_derivs_list_sorted[i]\n",
    "                num_derivs_list_sorted[i] = num_derivs_list_sorted[i+1]\n",
    "                num_derivs_list_sorted[i+1] = temp\n",
    "                #make corresponding shift in contractions_list, if any.\n",
    "                #check if there are any contraction indices equal to either of the two being interchanged; this involves\n",
    "                #searching through contractions. loop over contractions and their components to see whether there are \n",
    "                #any equal to either of the indices being exchanged. for each index value equal to one of \n",
    "                #the exchanged indices, in each of the contractions containing that index value, replace it with\n",
    "                #the index value with which it is exchanged. \n",
    "                \n",
    "                #scan through reduced contractions to see whether any of contracted indices is equal to i; if so,\n",
    "                #change them to i+1. \n",
    "                for j in range(N_c):\n",
    "                    #print(\"j: \" + str(j))\n",
    "                    #find the two contracted indices \n",
    "                    \n",
    "                    if contraction_list_reduced_sorted[j][0]==i:\n",
    "                        contraction_list_reduced_sorted[j][0] = i+1\n",
    "                    if contraction_list_reduced_sorted[j][1]==i:\n",
    "                        contraction_list_reduced_sorted[j][1] = i+1\n",
    "                        \n",
    "                    if contraction_list_reduced_sorted[j][0]==i+1:\n",
    "                        contraction_list_reduced_sorted[j][0] = i\n",
    "                    if contraction_list_reduced_sorted[j][1]==i+1:\n",
    "                        contraction_list_reduced_sorted[j][1] = i\n",
    "                    \n",
    "                    '''\n",
    "                    if contraction_list_reduced_sorted[j][0] == i:\n",
    "                        temp = \n",
    "                        contraction_list_reduced_sorted[j][0] = i+1 \n",
    "                    elif contraction_list_reduced[j][1] == i:\n",
    "                        contraction_list_reduced_sorted[j][1] = i+1\n",
    "                    else:\n",
    "                        pass\n",
    "\n",
    "                    if contraction_list_reduced[j][0] == i+1:\n",
    "                        contraction_list_reduced_sorted[j][0] = i \n",
    "                    elif contraction_list_reduced[j][1] == i+1:\n",
    "                        contraction_list_reduced_sorted[j][1] = i\n",
    "                    else:\n",
    "                        pass\n",
    "                    '''\n",
    "        #print(\"num_derivs_list_sorted: \" + str(num_derivs_list_sorted))\n",
    "        #print(\"is_sorted: \" + str(is_sorted))\n",
    "                    \n",
    "    return num_derivs_list_sorted, contraction_list_reduced_sorted           "
   ]
  },
  {
   "cell_type": "code",
   "execution_count": 23,
   "metadata": {},
   "outputs": [
    {
     "name": "stdout",
     "output_type": "stream",
     "text": [
      "['D', 'D', 'P', 'P', 'P', 'P']\n",
      "[(0, 1)]\n",
      "num_derivs_list: [2, 0, 0, 0]\n",
      "contraction_list_reduced: [(0, 0)]\n",
      "num_derivs_list_sorted: [2, 0, 0, 0]\n",
      "contraction_list_reduced_sorted: [[0, 0]]\n",
      "\n",
      "['D', 'P', 'D', 'P', 'P', 'P']\n",
      "[(0, 2)]\n",
      "num_derivs_list: [1, 1, 0, 0]\n",
      "contraction_list_reduced: [(0, 1)]\n",
      "num_derivs_list_sorted: [1, 1, 0, 0]\n",
      "contraction_list_reduced_sorted: [[0, 1]]\n",
      "\n",
      "['D', 'P', 'P', 'D', 'P', 'P']\n",
      "[(0, 3)]\n",
      "num_derivs_list: [1, 0, 1, 0]\n",
      "contraction_list_reduced: [(0, 2)]\n",
      "num_derivs_list_sorted: [1, 1, 0, 0]\n",
      "contraction_list_reduced_sorted: [[0, 1]]\n",
      "\n",
      "['D', 'P', 'P', 'P', 'D', 'P']\n",
      "[(0, 4)]\n",
      "num_derivs_list: [1, 0, 0, 1]\n",
      "contraction_list_reduced: [(0, 3)]\n",
      "num_derivs_list_sorted: [1, 1, 0, 0]\n",
      "contraction_list_reduced_sorted: [[0, 1]]\n",
      "\n"
     ]
    }
   ],
   "source": [
    "#test sort_reduced\n",
    "for item in product_rule_term_list:\n",
    "    print(item.get_field_symbols())\n",
    "    print(item.get_contractions())\n",
    "    num_derivs_list, contraction_list_reduced = term_reduce(item)\n",
    "    print(\"num_derivs_list: \" + str(num_derivs_list))\n",
    "    print(\"contraction_list_reduced: \" + str(contraction_list_reduced))\n",
    "    num_derivs_list_sorted, contraction_list_reduced_sorted = sort_reduced(num_derivs_list, contraction_list_reduced)\n",
    "    print(\"num_derivs_list_sorted: \" + str(num_derivs_list_sorted))\n",
    "    print(\"contraction_list_reduced_sorted: \" + str(contraction_list_reduced_sorted))\n",
    "    print(\"\")\n"
   ]
  },
  {
   "cell_type": "markdown",
   "metadata": {},
   "source": [
    "Maybe easier to do something different - e.g., write a function testing whether two term objects are equivalent. This requires that their sorted num_derivs_list's and sorted contraction_list's be the same.  "
   ]
  },
  {
   "cell_type": "code",
   "execution_count": 24,
   "metadata": {
    "collapsed": true
   },
   "outputs": [],
   "source": [
    "def terms_equiv(term_object_1, term_object_2):\n",
    "    #INPUT\n",
    "    #term_object1: term_object\n",
    "    #term_object2: term_object\n",
    "    #OUTPUT\n",
    "    #equiv: True if terms are equivalent, False if not. Equivalence is determined by whether sorted num_deriv_lists\n",
    "    #of two terms are the same, and whether  contraction lists are equivalent relative to this num_deriv_list\n",
    "    \n",
    "    #Check that field_lists and contraction_lists of terms have the same length\n",
    "    if len(term_object_1.get_field_list()) != len(term_object_2.get_field_list()) or len(term_object_1.get_contractions()) != len(term_object_2.get_contractions()):\n",
    "        return False\n",
    "    else:\n",
    "        num_derivs_list_1, contraction_list_reduced_1 = term_reduce(term_object_1)\n",
    "        num_derivs_list_2, contraction_list_reduced_2 = term_reduce(term_object_2)\n",
    "        #print(\"num_derivs_list_1: \" + str(num_derivs_list_1))\n",
    "        #print(\"num_derivs_list_2: \" + str(num_derivs_list_2))\n",
    "        #print(\"contraction_list_reduced_1: \" + str(contraction_list_reduced_1))\n",
    "        #print(\"contraction_list_reduced_2: \" + str(contraction_list_reduced_2))\n",
    "\n",
    "        num_derivs_list_1_sorted, contraction_list_reduced_1_sorted = sort_reduced(num_derivs_list_1, contraction_list_reduced_1)\n",
    "        num_derivs_list_2_sorted, contraction_list_reduced_2_sorted = sort_reduced(num_derivs_list_2, contraction_list_reduced_2)\n",
    "\n",
    "        derivs_equiv = (num_derivs_list_1_sorted == num_derivs_list_2_sorted)\n",
    "        #print(\"num_derivs_list_1_sorted: \" + str(num_derivs_list_1_sorted))\n",
    "        #print(\"num_derivs_list_2_sorted: \" + str(num_derivs_list_2_sorted))\n",
    "        #print(\"derivs_equiv: \" + str(derivs_equiv))\n",
    "\n",
    "        contractions_equiv = equiv_contraction_list(contraction_list_reduced_1_sorted, contraction_list_reduced_2_sorted, num_derivs_list_1_sorted) #can also use num_derivs_list_2_sorted, assuming they are equivalent as they should be\n",
    "        #print(\"contraction_list_reduced_1_sorted: \" + str(contraction_list_reduced_1_sorted))\n",
    "        #print(\"contraction_list_reduced_2_sorted: \" + str(contraction_list_reduced_2_sorted))\n",
    "        #print(\"derivs_equiv: \" + str(derivs_equiv))\n",
    "        #print(\"contractions_equiv: \" + str(contractions_equiv))\n",
    "        equiv = derivs_equiv & contractions_equiv\n",
    "\n",
    "        return equiv"
   ]
  },
  {
   "cell_type": "code",
   "execution_count": 25,
   "metadata": {},
   "outputs": [
    {
     "name": "stdout",
     "output_type": "stream",
     "text": [
      "item.get_field_symbols(): ['D', 'D', 'P', 'P', 'P', 'P']\n",
      "item.get_contractions(): [(0, 1)]\n",
      "item.get_field_symbols(): ['D', 'P', 'D', 'P', 'P', 'P']\n",
      "item.get_contractions(): [(0, 2)]\n",
      "item.get_field_symbols(): ['D', 'P', 'P', 'D', 'P', 'P']\n",
      "item.get_contractions(): [(0, 3)]\n",
      "item.get_field_symbols(): ['D', 'P', 'P', 'P', 'D', 'P']\n",
      "item.get_contractions(): [(0, 4)]\n",
      "\n"
     ]
    },
    {
     "data": {
      "text/plain": [
       "True"
      ]
     },
     "execution_count": 25,
     "metadata": {},
     "output_type": "execute_result"
    }
   ],
   "source": [
    "for item in product_rule_term_list:\n",
    "    print(\"item.get_field_symbols(): \" + str(item.get_field_symbols()))\n",
    "    print(\"item.get_contractions(): \" + str(item.get_contractions()))\n",
    "\n",
    "print(\"\")\n",
    "terms_equiv(product_rule_term_list[1], product_rule_term_list[2])"
   ]
  },
  {
   "cell_type": "markdown",
   "metadata": {},
   "source": [
    "Test some more examples. "
   ]
  },
  {
   "cell_type": "code",
   "execution_count": 26,
   "metadata": {},
   "outputs": [
    {
     "name": "stdout",
     "output_type": "stream",
     "text": [
      "['D', 'D', 'D', 'D', 'P', 'D', 'P', 'P', 'D', 'D', 'P']\n",
      "[(0, 1), (2, 3), (5, 8)]\n",
      "item.get_field_symbols(): ['D', 'D', 'D', 'D', 'D', 'P', 'D', 'P', 'P', 'D', 'D', 'P']\n",
      "item.get_contractions(): [(0, 1), (2, 3), (6, 9), (4, 10)]\n",
      "item.get_field_symbols(): ['D', 'D', 'D', 'D', 'P', 'D', 'D', 'P', 'P', 'D', 'D', 'P']\n",
      "item.get_contractions(): [(0, 1), (2, 3), (5, 9), (6, 10)]\n",
      "item.get_field_symbols(): ['D', 'D', 'D', 'D', 'P', 'D', 'P', 'D', 'P', 'D', 'D', 'P']\n",
      "item.get_contractions(): [(0, 1), (2, 3), (5, 9), (7, 10)]\n",
      "item.get_field_symbols(): ['D', 'D', 'D', 'D', 'P', 'D', 'P', 'P', 'D', 'D', 'D', 'P']\n",
      "item.get_contractions(): [(0, 1), (2, 3), (5, 8), (9, 10)]\n"
     ]
    }
   ],
   "source": [
    "D = field('D', 1, 'u')\n",
    "P = field('P', 1)\n",
    "term_object_2 = term([D, D, D, D, P, D, P, P, D, D, P], [(0, 1), (2, 3), (5, 8)])\n",
    "print(term_object_2.get_field_symbols())\n",
    "print(term_object_2.get_contractions())\n",
    "\n",
    "product_rule_term_list_2 = differentiate(term_object_2)\n",
    "for item in product_rule_term_list_2:\n",
    "    print(\"item.get_field_symbols(): \" + str(item.get_field_symbols()))\n",
    "    print(\"item.get_contractions(): \" + str(item.get_contractions()))"
   ]
  },
  {
   "cell_type": "code",
   "execution_count": 27,
   "metadata": {},
   "outputs": [
    {
     "data": {
      "text/plain": [
       "False"
      ]
     },
     "execution_count": 27,
     "metadata": {},
     "output_type": "execute_result"
    }
   ],
   "source": [
    " terms_equiv(product_rule_term_list_2[0], product_rule_term_list_2[1])"
   ]
  },
  {
   "cell_type": "markdown",
   "metadata": {},
   "source": [
    "Linear algebra: generate matrix of IBP and EOM constraints, and eliminate operators corresponding to pivot points in reduced row echelon form of this matrix."
   ]
  },
  {
   "cell_type": "code",
   "execution_count": 30,
   "metadata": {
    "collapsed": true
   },
   "outputs": [],
   "source": [
    "'''\n",
    "def generate_coefficient_vector(term_list, massDim, up_to = False):\n",
    "    #INPUT\n",
    "    #term_list: list of terms, should all be of same massDim \n",
    "    #massDim: int mass dimension\n",
    "    #up_to: if True, generate coefficient vector corresponding to full set of operators up to, rather than only at,\n",
    "    #massDim\n",
    "    #OUTPUT\n",
    "    #coefficient_vector: list of integers of length equal to total number of terms generated for massDim, \n",
    "    #indicating number of times each term\n",
    "    \n",
    "    all_terms = generate_fully_contracted(massDim) #list of all terms of mass dimension massDim \n",
    "    N = len(all_terms) #number of terms up to mass dimension massDim\n",
    "    coefficient_vector = N*[0]\n",
    "    \n",
    "    for item in term_list:\n",
    "        for n in range(N):\n",
    "            print(\"item.get_field_symbols(): \" + str(item.get_field_symbols()))\n",
    "            print(\"item.get_contractions(): \" + str(item.get_contractions()))\n",
    "            print(\"all_terms[\" + str(n) + \"].get_field_symbols(): \" + str(all_terms[n].get_field_symbols()))\n",
    "            print(\"all_terms[\" + str(n) + \"].get_contractions(): \" + str(all_terms[n].get_contractions()))\n",
    "            print(\"terms_equiv(item, all_terms[n]): \" + str(terms_equiv(item, all_terms[n])))\n",
    "            if terms_equiv(item, all_terms[n]):\n",
    "                coefficient_vector[n] += 1\n",
    "    return coefficient_vector\n",
    "'''\n",
    "#DOUBLE CHECK - need to ensure that generate_fully_contracted(massDim) works properly for odd massDims - should\n",
    "#return empty list\n",
    "def generate_coefficient_vector(term_list, massDim, up_to=False):\n",
    "    #INPUT\n",
    "    #term_list: list of terms, should all be of same massDim \n",
    "    #massDim: int mass dimension\n",
    "    #up_to: if True, generate coefficient vector corresponding to full set of operators up to, rather than only at,\n",
    "    #massDim\n",
    "    #OUTPUT\n",
    "    #coefficient_vector: list of integers of length equal to total number of terms generated for massDim, \n",
    "    #indicating number of times each term\n",
    "    \n",
    "    if up_to == False:\n",
    "        all_terms = generate_fully_contracted(massDim) #list of all terms of mass dimension massDim \n",
    "        N = len(all_terms) #number of terms of mass dimension massDim\n",
    "        coefficient_vector = N*[0]\n",
    "\n",
    "        for item in term_list:\n",
    "            for n in range(N):\n",
    "                #print(\"item.get_field_symbols(): \" + str(item.get_field_symbols()))\n",
    "                #print(\"item.get_contractions(): \" + str(item.get_contractions()))\n",
    "                #print(\"all_terms[\" + str(n) + \"].get_field_symbols(): \" + str(all_terms[n].get_field_symbols()))\n",
    "                #print(\"all_terms[\" + str(n) + \"].get_contractions(): \" + str(all_terms[n].get_contractions()))\n",
    "                #print(\"terms_equiv(item, all_terms[n]): \" + str(terms_equiv(item, all_terms[n])))\n",
    "                if terms_equiv(item, all_terms[n]):\n",
    "                    coefficient_vector[n] += 1\n",
    "        return coefficient_vector\n",
    "    \n",
    "    elif up_to == True:\n",
    "        all_terms = []\n",
    "        \n",
    "        for m in range(massDim+1):\n",
    "            all_terms += generate_fully_contracted(m)\n",
    "        \n",
    "        N = len(all_terms) #number of terms of mass dimension massDim\n",
    "        coefficient_vector = N*[0]\n",
    "        \n",
    "        for item in term_list:\n",
    "            for n in range(N):\n",
    "                #print(\"\")\n",
    "                #print(\"item.get_field_symbols(): \" + str(item.get_field_symbols()))\n",
    "                #print(\"item.get_contractions(): \" + str(item.get_contractions()))\n",
    "                #print(\"all_terms[\" + str(n) + \"].get_field_symbols(): \" + str(all_terms[n].get_field_symbols()))\n",
    "                #print(\"all_terms[\" + str(n) + \"].get_contractions(): \" + str(all_terms[n].get_contractions()))\n",
    "                #print(\"terms_equiv(item, all_terms[n]): \" + str(terms_equiv(item, all_terms[n])))\n",
    "                if terms_equiv(item, all_terms[n]):\n",
    "                    coefficient_vector[n] += 1\n",
    "        return coefficient_vector\n",
    "                  \n",
    "    "
   ]
  },
  {
   "cell_type": "code",
   "execution_count": 31,
   "metadata": {},
   "outputs": [
    {
     "name": "stdout",
     "output_type": "stream",
     "text": [
      "item.get_field_symbols(): ['P', 'P', 'P', 'P', 'P', 'P', 'P', 'P']\n",
      "item.get_contractions(): []\n",
      "\n",
      "item.get_field_symbols(): ['D', 'P', 'D', 'P', 'P', 'P', 'P', 'P']\n",
      "item.get_contractions(): [(0, 2)]\n",
      "\n",
      "item.get_field_symbols(): ['D', 'D', 'P', 'P', 'P', 'P', 'P', 'P']\n",
      "item.get_contractions(): [(0, 1)]\n",
      "\n",
      "item.get_field_symbols(): ['D', 'P', 'D', 'P', 'D', 'P', 'D', 'P']\n",
      "item.get_contractions(): [(0, 2), (4, 6)]\n",
      "\n",
      "item.get_field_symbols(): ['D', 'D', 'P', 'D', 'P', 'D', 'P', 'P']\n",
      "item.get_contractions(): [(0, 1), (3, 5)]\n",
      "\n",
      "item.get_field_symbols(): ['D', 'D', 'P', 'D', 'P', 'D', 'P', 'P']\n",
      "item.get_contractions(): [(0, 3), (1, 5)]\n",
      "\n",
      "item.get_field_symbols(): ['D', 'D', 'D', 'P', 'D', 'P', 'P', 'P']\n",
      "item.get_contractions(): [(0, 1), (2, 4)]\n",
      "\n",
      "item.get_field_symbols(): ['D', 'D', 'P', 'D', 'D', 'P', 'P', 'P']\n",
      "item.get_contractions(): [(0, 1), (3, 4)]\n",
      "\n",
      "item.get_field_symbols(): ['D', 'D', 'P', 'D', 'D', 'P', 'P', 'P']\n",
      "item.get_contractions(): [(0, 3), (1, 4)]\n",
      "\n",
      "item.get_field_symbols(): ['D', 'D', 'D', 'D', 'P', 'P', 'P', 'P']\n",
      "item.get_contractions(): [(0, 1), (2, 3)]\n",
      "\n",
      "item.get_field_symbols(): ['D', 'D', 'D', 'D', 'D', 'P', 'D', 'P']\n",
      "item.get_contractions(): [(0, 1), (2, 3), (4, 6)]\n",
      "\n",
      "item.get_field_symbols(): ['D', 'D', 'D', 'D', 'P', 'D', 'D', 'P']\n",
      "item.get_contractions(): [(0, 1), (2, 3), (5, 6)]\n",
      "\n",
      "item.get_field_symbols(): ['D', 'D', 'D', 'D', 'P', 'D', 'D', 'P']\n",
      "item.get_contractions(): [(0, 1), (2, 5), (3, 6)]\n",
      "\n",
      "item.get_field_symbols(): ['D', 'D', 'D', 'P', 'D', 'D', 'D', 'P']\n",
      "item.get_contractions(): [(0, 1), (2, 4), (5, 6)]\n",
      "\n",
      "item.get_field_symbols(): ['D', 'D', 'D', 'P', 'D', 'D', 'D', 'P']\n",
      "item.get_contractions(): [(0, 4), (1, 5), (2, 6)]\n",
      "\n",
      "item.get_field_symbols(): ['D', 'D', 'D', 'D', 'D', 'D', 'P', 'P']\n",
      "item.get_contractions(): [(0, 1), (2, 3), (4, 5)]\n",
      "\n",
      "['D', 'D', 'P', 'P', 'P', 'P']\n",
      "[(0, 1)]\n",
      "['D', 'P', 'D', 'P', 'P', 'P']\n",
      "[(0, 2)]\n",
      "['D', 'P', 'P', 'D', 'P', 'P']\n",
      "[(0, 3)]\n",
      "['D', 'P', 'P', 'P', 'D', 'P']\n",
      "[(0, 4)]\n"
     ]
    },
    {
     "data": {
      "text/plain": [
       "[0,\n",
       " 0,\n",
       " 0,\n",
       " 0,\n",
       " 0,\n",
       " 3,\n",
       " 1,\n",
       " 0,\n",
       " 0,\n",
       " 0,\n",
       " 0,\n",
       " 0,\n",
       " 0,\n",
       " 0,\n",
       " 0,\n",
       " 0,\n",
       " 0,\n",
       " 0,\n",
       " 0,\n",
       " 0,\n",
       " 0,\n",
       " 0,\n",
       " 0,\n",
       " 0,\n",
       " 0,\n",
       " 0,\n",
       " 0]"
      ]
     },
     "execution_count": 31,
     "metadata": {},
     "output_type": "execute_result"
    }
   ],
   "source": [
    "massDim = 8\n",
    "for item in generate_fully_contracted(massDim):\n",
    "    print(\"item.get_field_symbols(): \" + str(item.get_field_symbols()))\n",
    "    print(\"item.get_contractions(): \" + str(item.get_contractions()))\n",
    "    print(\"\")\n",
    "    \n",
    "for item in product_rule_term_list:\n",
    "    print(item.get_field_symbols())\n",
    "    print(item.get_contractions())\n",
    "\n",
    "generate_coefficient_vector(product_rule_term_list, massDim, up_to=True)\n"
   ]
  },
  {
   "cell_type": "code",
   "execution_count": 32,
   "metadata": {},
   "outputs": [
    {
     "name": "stdout",
     "output_type": "stream",
     "text": [
      "[0, 0, 1, 1, 0, 0, 0, 0, 0, 0, 0, 0, 0, 0, 0, 0, 0, 0, 0, 0, 0, 0, 0, 0, 0, 0, 0, 0, 0, 0, 0, 0, 0, 0, 0, 0, 0, 0, 0, 0, 0, 0, 0, 0, 0, 0, 0, 0, 0, 0, 0, 0, 0, 0, 0, 0, 0, 0, 0, 0, 0, 0, 0, 0, 0, 0]\n",
      "[0, 0, 0, 0, 0, 3, 1, 0, 0, 0, 0, 0, 0, 0, 0, 0, 0, 0, 0, 0, 0, 0, 0, 0, 0, 0, 0, 0, 0, 0, 0, 0, 0, 0, 0, 0, 0, 0, 0, 0, 0, 0, 0, 0, 0, 0, 0, 0, 0, 0, 0, 0, 0, 0, 0, 0, 0, 0, 0, 0, 0, 0, 0, 0, 0, 0]\n",
      "[0, 0, 0, 0, 0, 0, 0, 1, 1, 0, 0, 0, 0, 0, 0, 0, 0, 0, 0, 0, 0, 0, 0, 0, 0, 0, 0, 0, 0, 0, 0, 0, 0, 0, 0, 0, 0, 0, 0, 0, 0, 0, 0, 0, 0, 0, 0, 0, 0, 0, 0, 0, 0, 0, 0, 0, 0, 0, 0, 0, 0, 0, 0, 0, 0, 0]\n",
      "[0, 0, 0, 0, 0, 0, 0, 1, 0, 1, 0, 0, 0, 0, 0, 0, 0, 0, 0, 0, 0, 0, 0, 0, 0, 0, 0, 0, 0, 0, 0, 0, 0, 0, 0, 0, 0, 0, 0, 0, 0, 0, 0, 0, 0, 0, 0, 0, 0, 0, 0, 0, 0, 0, 0, 0, 0, 0, 0, 0, 0, 0, 0, 0, 0, 0]\n",
      "[0, 0, 0, 0, 0, 0, 0, 1, 0, 0, 1, 0, 0, 0, 0, 0, 0, 0, 0, 0, 0, 0, 0, 0, 0, 0, 0, 0, 0, 0, 0, 0, 0, 0, 0, 0, 0, 0, 0, 0, 0, 0, 0, 0, 0, 0, 0, 0, 0, 0, 0, 0, 0, 0, 0, 0, 0, 0, 0, 0, 0, 0, 0, 0, 0, 0]\n",
      "[0, 0, 0, 0, 0, 0, 0, 0, 0, 0, 0, 0, 5, 1, 0, 0, 0, 0, 0, 0, 0, 0, 0, 0, 0, 0, 0, 0, 0, 0, 0, 0, 0, 0, 0, 0, 0, 0, 0, 0, 0, 0, 0, 0, 0, 0, 0, 0, 0, 0, 0, 0, 0, 0, 0, 0, 0, 0, 0, 0, 0, 0, 0, 0, 0, 0]\n",
      "[0, 0, 0, 0, 0, 0, 0, 0, 0, 0, 0, 0, 0, 0, 1, 0, 1, 0, 0, 0, 0, 0, 0, 0, 0, 0, 0, 0, 0, 0, 0, 0, 0, 0, 0, 0, 0, 0, 0, 0, 0, 0, 0, 0, 0, 0, 0, 0, 0, 0, 0, 0, 0, 0, 0, 0, 0, 0, 0, 0, 0, 0, 0, 0, 0, 0]\n",
      "[0, 0, 0, 0, 0, 0, 0, 0, 0, 0, 0, 0, 0, 0, 0, 2, 0, 1, 1, 0, 0, 0, 0, 0, 0, 0, 0, 0, 0, 0, 0, 0, 0, 0, 0, 0, 0, 0, 0, 0, 0, 0, 0, 0, 0, 0, 0, 0, 0, 0, 0, 0, 0, 0, 0, 0, 0, 0, 0, 0, 0, 0, 0, 0, 0, 0]\n",
      "[0, 0, 0, 0, 0, 0, 0, 0, 0, 0, 0, 0, 0, 0, 0, 0, 2, 1, 0, 1, 0, 0, 0, 0, 0, 0, 0, 0, 0, 0, 0, 0, 0, 0, 0, 0, 0, 0, 0, 0, 0, 0, 0, 0, 0, 0, 0, 0, 0, 0, 0, 0, 0, 0, 0, 0, 0, 0, 0, 0, 0, 0, 0, 0, 0, 0]\n",
      "[0, 0, 0, 0, 0, 0, 0, 0, 0, 0, 0, 0, 0, 0, 0, 0, 0, 3, 0, 0, 1, 0, 0, 0, 0, 0, 0, 0, 0, 0, 0, 0, 0, 0, 0, 0, 0, 0, 0, 0, 0, 0, 0, 0, 0, 0, 0, 0, 0, 0, 0, 0, 0, 0, 0, 0, 0, 0, 0, 0, 0, 0, 0, 0, 0, 0]\n",
      "[0, 0, 0, 0, 0, 0, 0, 0, 0, 0, 0, 0, 0, 0, 0, 0, 0, 0, 0, 0, 0, 1, 1, 0, 0, 0, 0, 0, 0, 0, 0, 0, 0, 0, 0, 0, 0, 0, 0, 0, 0, 0, 0, 0, 0, 0, 0, 0, 0, 0, 0, 0, 0, 0, 0, 0, 0, 0, 0, 0, 0, 0, 0, 0, 0, 0]\n",
      "[0, 0, 0, 0, 0, 0, 0, 0, 0, 0, 0, 0, 0, 0, 0, 0, 0, 0, 0, 0, 0, 1, 0, 1, 0, 0, 0, 0, 0, 0, 0, 0, 0, 0, 0, 0, 0, 0, 0, 0, 0, 0, 0, 0, 0, 0, 0, 0, 0, 0, 0, 0, 0, 0, 0, 0, 0, 0, 0, 0, 0, 0, 0, 0, 0, 0]\n",
      "[0, 0, 0, 0, 0, 0, 0, 0, 0, 0, 0, 0, 0, 0, 0, 0, 0, 0, 0, 0, 0, 0, 0, 1, 1, 0, 0, 0, 0, 0, 0, 0, 0, 0, 0, 0, 0, 0, 0, 0, 0, 0, 0, 0, 0, 0, 0, 0, 0, 0, 0, 0, 0, 0, 0, 0, 0, 0, 0, 0, 0, 0, 0, 0, 0, 0]\n",
      "[0, 0, 0, 0, 0, 0, 0, 0, 0, 0, 0, 0, 0, 0, 0, 0, 0, 0, 0, 0, 0, 0, 1, 0, 1, 0, 0, 0, 0, 0, 0, 0, 0, 0, 0, 0, 0, 0, 0, 0, 0, 0, 0, 0, 0, 0, 0, 0, 0, 0, 0, 0, 0, 0, 0, 0, 0, 0, 0, 0, 0, 0, 0, 0, 0, 0]\n",
      "[0, 0, 0, 0, 0, 0, 0, 0, 0, 0, 0, 0, 0, 0, 0, 0, 0, 0, 0, 0, 0, 0, 0, 1, 0, 1, 0, 0, 0, 0, 0, 0, 0, 0, 0, 0, 0, 0, 0, 0, 0, 0, 0, 0, 0, 0, 0, 0, 0, 0, 0, 0, 0, 0, 0, 0, 0, 0, 0, 0, 0, 0, 0, 0, 0, 0]\n",
      "[0, 0, 0, 0, 0, 0, 0, 0, 0, 0, 0, 0, 0, 0, 0, 0, 0, 0, 0, 0, 0, 1, 0, 0, 0, 0, 1, 0, 0, 0, 0, 0, 0, 0, 0, 0, 0, 0, 0, 0, 0, 0, 0, 0, 0, 0, 0, 0, 0, 0, 0, 0, 0, 0, 0, 0, 0, 0, 0, 0, 0, 0, 0, 0, 0, 0]\n",
      "[0, 0, 0, 0, 0, 0, 0, 0, 0, 0, 0, 0, 0, 0, 0, 0, 0, 0, 0, 0, 0, 0, 0, 0, 0, 0, 0, 0, 7, 1, 0, 0, 0, 0, 0, 0, 0, 0, 0, 0, 0, 0, 0, 0, 0, 0, 0, 0, 0, 0, 0, 0, 0, 0, 0, 0, 0, 0, 0, 0, 0, 0, 0, 0, 0, 0]\n",
      "[0, 0, 0, 0, 0, 0, 0, 0, 0, 0, 0, 0, 0, 0, 0, 0, 0, 0, 0, 0, 0, 0, 0, 0, 0, 0, 0, 0, 0, 0, 3, 0, 1, 0, 0, 0, 0, 0, 0, 0, 0, 0, 0, 0, 0, 0, 0, 0, 0, 0, 0, 0, 0, 0, 0, 0, 0, 0, 0, 0, 0, 0, 0, 0, 0, 0]\n",
      "[0, 0, 0, 0, 0, 0, 0, 0, 0, 0, 0, 0, 0, 0, 0, 0, 0, 0, 0, 0, 0, 0, 0, 0, 0, 0, 0, 0, 0, 0, 0, 4, 0, 1, 1, 0, 0, 0, 0, 0, 0, 0, 0, 0, 0, 0, 0, 0, 0, 0, 0, 0, 0, 0, 0, 0, 0, 0, 0, 0, 0, 0, 0, 0, 0, 0]\n",
      "[0, 0, 0, 0, 0, 0, 0, 0, 0, 0, 0, 0, 0, 0, 0, 0, 0, 0, 0, 0, 0, 0, 0, 0, 0, 0, 0, 0, 0, 0, 0, 0, 4, 1, 0, 1, 0, 0, 0, 0, 0, 0, 0, 0, 0, 0, 0, 0, 0, 0, 0, 0, 0, 0, 0, 0, 0, 0, 0, 0, 0, 0, 0, 0, 0, 0]\n",
      "[0, 0, 0, 0, 0, 0, 0, 0, 0, 0, 0, 0, 0, 0, 0, 0, 0, 0, 0, 0, 0, 0, 0, 0, 0, 0, 0, 0, 0, 0, 0, 0, 0, 5, 0, 0, 1, 0, 0, 0, 0, 0, 0, 0, 0, 0, 0, 0, 0, 0, 0, 0, 0, 0, 0, 0, 0, 0, 0, 0, 0, 0, 0, 0, 0, 0]\n",
      "[0, 0, 0, 0, 0, 0, 0, 0, 0, 0, 0, 0, 0, 0, 0, 0, 0, 0, 0, 0, 0, 0, 0, 0, 0, 0, 0, 0, 0, 0, 0, 0, 0, 0, 0, 0, 0, 1, 0, 0, 1, 0, 0, 0, 0, 0, 0, 0, 0, 0, 0, 0, 0, 0, 0, 0, 0, 0, 0, 0, 0, 0, 0, 0, 0, 0]\n",
      "[0, 0, 0, 0, 0, 0, 0, 0, 0, 0, 0, 0, 0, 0, 0, 0, 0, 0, 0, 0, 0, 0, 0, 0, 0, 0, 0, 0, 0, 0, 0, 0, 0, 0, 0, 0, 0, 0, 1, 0, 0, 0, 1, 0, 0, 0, 0, 0, 0, 0, 0, 0, 0, 0, 0, 0, 0, 0, 0, 0, 0, 0, 0, 0, 0, 0]\n",
      "[0, 0, 0, 0, 0, 0, 0, 0, 0, 0, 0, 0, 0, 0, 0, 0, 0, 0, 0, 0, 0, 0, 0, 0, 0, 0, 0, 0, 0, 0, 0, 0, 0, 0, 0, 0, 0, 1, 0, 0, 0, 1, 0, 0, 0, 0, 0, 0, 0, 0, 0, 0, 0, 0, 0, 0, 0, 0, 0, 0, 0, 0, 0, 0, 0, 0]\n",
      "[0, 0, 0, 0, 0, 0, 0, 0, 0, 0, 0, 0, 0, 0, 0, 0, 0, 0, 0, 0, 0, 0, 0, 0, 0, 0, 0, 0, 0, 0, 0, 0, 0, 0, 0, 0, 0, 1, 0, 0, 0, 0, 0, 0, 1, 1, 0, 0, 0, 0, 0, 0, 0, 0, 0, 0, 0, 0, 0, 0, 0, 0, 0, 0, 0, 0]\n",
      "[0, 0, 0, 0, 0, 0, 0, 0, 0, 0, 0, 0, 0, 0, 0, 0, 0, 0, 0, 0, 0, 0, 0, 0, 0, 0, 0, 0, 0, 0, 0, 0, 0, 0, 0, 0, 0, 1, 0, 0, 0, 0, 0, 1, 0, 1, 0, 0, 0, 0, 0, 0, 0, 0, 0, 0, 0, 0, 0, 0, 0, 0, 0, 0, 0, 0]\n",
      "[0, 0, 0, 0, 0, 0, 0, 0, 0, 0, 0, 0, 0, 0, 0, 0, 0, 0, 0, 0, 0, 0, 0, 0, 0, 0, 0, 0, 0, 0, 0, 0, 0, 0, 0, 0, 0, 0, 1, 0, 0, 0, 0, 0, 1, 0, 0, 1, 0, 0, 0, 0, 0, 0, 0, 0, 0, 0, 0, 0, 0, 0, 0, 0, 0, 0]\n",
      "[0, 0, 0, 0, 0, 0, 0, 0, 0, 0, 0, 0, 0, 0, 0, 0, 0, 0, 0, 0, 0, 0, 0, 0, 0, 0, 0, 0, 0, 0, 0, 0, 0, 0, 0, 0, 0, 0, 0, 1, 0, 0, 0, 0, 0, 0, 1, 0, 1, 0, 0, 0, 0, 0, 0, 0, 0, 0, 0, 0, 0, 0, 0, 0, 0, 0]\n",
      "[0, 0, 0, 0, 0, 0, 0, 0, 0, 0, 0, 0, 0, 0, 0, 0, 0, 0, 0, 0, 0, 0, 0, 0, 0, 0, 0, 0, 0, 0, 0, 0, 0, 0, 0, 0, 0, 0, 0, 0, 1, 0, 0, 0, 0, 1, 0, 0, 0, 1, 0, 0, 0, 0, 0, 0, 0, 0, 0, 0, 0, 0, 0, 0, 0, 0]\n",
      "[0, 0, 0, 0, 0, 0, 0, 0, 0, 0, 0, 0, 0, 0, 0, 0, 0, 0, 0, 0, 0, 0, 0, 0, 0, 0, 0, 0, 0, 0, 0, 0, 0, 0, 0, 0, 0, 0, 0, 0, 0, 1, 0, 0, 0, 0, 0, 1, 0, 1, 0, 0, 0, 0, 0, 0, 0, 0, 0, 0, 0, 0, 0, 0, 0, 0]\n",
      "[0, 0, 0, 0, 0, 0, 0, 0, 0, 0, 0, 0, 0, 0, 0, 0, 0, 0, 0, 0, 0, 0, 0, 0, 0, 0, 0, 0, 0, 0, 0, 0, 0, 0, 0, 0, 0, 0, 0, 0, 0, 0, 1, 0, 0, 0, 0, 1, 0, 0, 1, 0, 0, 0, 0, 0, 0, 0, 0, 0, 0, 0, 0, 0, 0, 0]\n",
      "[0, 0, 0, 0, 0, 0, 0, 0, 0, 0, 0, 0, 0, 0, 0, 0, 0, 0, 0, 0, 0, 0, 0, 0, 0, 0, 0, 0, 0, 0, 0, 0, 0, 0, 0, 0, 0, 0, 0, 0, 0, 0, 0, 2, 0, 0, 0, 0, 0, 0, 0, 1, 1, 0, 0, 0, 0, 0, 0, 0, 0, 0, 0, 0, 0, 0]\n",
      "[0, 0, 0, 0, 0, 0, 0, 0, 0, 0, 0, 0, 0, 0, 0, 0, 0, 0, 0, 0, 0, 0, 0, 0, 0, 0, 0, 0, 0, 0, 0, 0, 0, 0, 0, 0, 0, 0, 0, 0, 0, 0, 0, 0, 2, 0, 0, 0, 0, 0, 0, 1, 0, 1, 0, 0, 0, 0, 0, 0, 0, 0, 0, 0, 0, 0]\n",
      "[0, 0, 0, 0, 0, 0, 0, 0, 0, 0, 0, 0, 0, 0, 0, 0, 0, 0, 0, 0, 0, 0, 0, 0, 0, 0, 0, 0, 0, 0, 0, 0, 0, 0, 0, 0, 0, 0, 0, 0, 0, 0, 0, 0, 0, 2, 0, 0, 0, 0, 0, 0, 0, 1, 1, 0, 0, 0, 0, 0, 0, 0, 0, 0, 0, 0]\n",
      "[0, 0, 0, 0, 0, 0, 0, 0, 0, 0, 0, 0, 0, 0, 0, 0, 0, 0, 0, 0, 0, 0, 0, 0, 0, 0, 0, 0, 0, 0, 0, 0, 0, 0, 0, 0, 0, 0, 0, 0, 0, 0, 0, 0, 0, 0, 2, 0, 0, 0, 0, 0, 1, 0, 1, 0, 0, 0, 0, 0, 0, 0, 0, 0, 0, 0]\n",
      "[0, 0, 0, 0, 0, 0, 0, 0, 0, 0, 0, 0, 0, 0, 0, 0, 0, 0, 0, 0, 0, 0, 0, 0, 0, 0, 0, 0, 0, 0, 0, 0, 0, 0, 0, 0, 0, 0, 0, 0, 0, 0, 0, 0, 0, 0, 0, 2, 0, 0, 0, 0, 0, 1, 0, 1, 0, 0, 0, 0, 0, 0, 0, 0, 0, 0]\n",
      "[0, 0, 0, 0, 0, 0, 0, 0, 0, 0, 0, 0, 0, 0, 0, 0, 0, 0, 0, 0, 0, 0, 0, 0, 0, 0, 0, 0, 0, 0, 0, 0, 0, 0, 0, 0, 0, 0, 0, 0, 0, 0, 0, 0, 0, 0, 0, 0, 0, 0, 0, 3, 0, 0, 0, 0, 1, 0, 0, 0, 0, 0, 0, 0, 0, 0]\n",
      "[0, 0, 0, 0, 0, 0, 0, 0, 0, 0, 0, 0, 0, 0, 0, 0, 0, 0, 0, 0, 0, 0, 0, 0, 0, 0, 0, 0, 0, 0, 0, 0, 0, 0, 0, 0, 0, 0, 0, 0, 0, 0, 0, 0, 0, 0, 0, 0, 0, 0, 0, 0, 0, 0, 0, 0, 0, 1, 1, 0, 0, 0, 0, 0, 0, 0]\n",
      "[0, 0, 0, 0, 0, 0, 0, 0, 0, 0, 0, 0, 0, 0, 0, 0, 0, 0, 0, 0, 0, 0, 0, 0, 0, 0, 0, 0, 0, 0, 0, 0, 0, 0, 0, 0, 0, 0, 0, 0, 0, 0, 0, 0, 0, 0, 0, 0, 0, 0, 0, 0, 0, 0, 0, 0, 0, 1, 0, 1, 0, 0, 0, 0, 0, 0]\n",
      "[0, 0, 0, 0, 0, 0, 0, 0, 0, 0, 0, 0, 0, 0, 0, 0, 0, 0, 0, 0, 0, 0, 0, 0, 0, 0, 0, 0, 0, 0, 0, 0, 0, 0, 0, 0, 0, 0, 0, 0, 0, 0, 0, 0, 0, 0, 0, 0, 0, 0, 0, 0, 0, 0, 0, 0, 0, 0, 0, 1, 1, 0, 0, 0, 0, 0]\n",
      "[0, 0, 0, 0, 0, 0, 0, 0, 0, 0, 0, 0, 0, 0, 0, 0, 0, 0, 0, 0, 0, 0, 0, 0, 0, 0, 0, 0, 0, 0, 0, 0, 0, 0, 0, 0, 0, 0, 0, 0, 0, 0, 0, 0, 0, 0, 0, 0, 0, 0, 0, 0, 0, 0, 0, 0, 0, 0, 1, 0, 1, 0, 0, 0, 0, 0]\n",
      "[0, 0, 0, 0, 0, 0, 0, 0, 0, 0, 0, 0, 0, 0, 0, 0, 0, 0, 0, 0, 0, 0, 0, 0, 0, 0, 0, 0, 0, 0, 0, 0, 0, 0, 0, 0, 0, 0, 0, 0, 0, 0, 0, 0, 0, 0, 0, 0, 0, 0, 0, 0, 0, 0, 0, 0, 0, 0, 0, 1, 0, 1, 0, 0, 0, 0]\n",
      "[0, 0, 0, 0, 0, 0, 0, 0, 0, 0, 0, 0, 0, 0, 0, 0, 0, 0, 0, 0, 0, 0, 0, 0, 0, 0, 0, 0, 0, 0, 0, 0, 0, 0, 0, 0, 0, 0, 0, 0, 0, 0, 0, 0, 0, 0, 0, 0, 0, 0, 0, 0, 0, 0, 0, 0, 0, 0, 0, 0, 1, 0, 1, 0, 0, 0]\n",
      "[0, 0, 0, 0, 0, 0, 0, 0, 0, 0, 0, 0, 0, 0, 0, 0, 0, 0, 0, 0, 0, 0, 0, 0, 0, 0, 0, 0, 0, 0, 0, 0, 0, 0, 0, 0, 0, 0, 0, 0, 0, 0, 0, 0, 0, 0, 0, 0, 0, 0, 0, 0, 0, 0, 0, 0, 0, 0, 0, 0, 0, 1, 0, 1, 0, 0]\n",
      "[0, 0, 0, 0, 0, 0, 0, 0, 0, 0, 0, 0, 0, 0, 0, 0, 0, 0, 0, 0, 0, 0, 0, 0, 0, 0, 0, 0, 0, 0, 0, 0, 0, 0, 0, 0, 0, 0, 0, 0, 0, 0, 0, 0, 0, 0, 0, 0, 0, 0, 0, 0, 0, 0, 0, 0, 0, 0, 0, 0, 1, 0, 0, 1, 0, 0]\n",
      "[0, 0, 0, 0, 0, 0, 0, 0, 0, 0, 0, 0, 0, 0, 0, 0, 0, 0, 0, 0, 0, 0, 0, 0, 0, 0, 0, 0, 0, 0, 0, 0, 0, 0, 0, 0, 0, 0, 0, 0, 0, 0, 0, 0, 0, 0, 0, 0, 0, 0, 0, 0, 0, 0, 0, 0, 0, 0, 0, 0, 0, 1, 0, 0, 1, 0]\n",
      "[0, 0, 0, 0, 0, 0, 0, 0, 0, 0, 0, 0, 0, 0, 0, 0, 0, 0, 0, 0, 0, 0, 0, 0, 0, 0, 0, 0, 0, 0, 0, 0, 0, 0, 0, 0, 0, 0, 0, 0, 0, 0, 0, 0, 0, 0, 0, 0, 0, 0, 0, 0, 0, 0, 0, 0, 0, 1, 0, 0, 0, 0, 0, 0, 0, 1]\n"
     ]
    }
   ],
   "source": [
    "def generate_IBP_matrix(massDim, up_to=False):\n",
    "    #INPUT\n",
    "    #massDim: mass dimension, int\n",
    "    #OUTPUT\n",
    "    #IBP_matrix: matrix (numpy array) of IBP constraints\n",
    "    \n",
    "    if up_to == False:\n",
    "        IBP_matrix = []\n",
    "        one_index_terms = generate_contracted_terms(massDim-1, num_free_indices=1)\n",
    "        for item in one_index_terms:\n",
    "            product_rule_term_list = differentiate(item)\n",
    "            row = generate_coefficient_vector(product_rule_term_list, massDim, up_to=False)\n",
    "            IBP_matrix.append(row)\n",
    "        return IBP_matrix\n",
    "    \n",
    "    elif up_to == True:\n",
    "        IBP_matrix = []\n",
    "        for m in range(massDim+1):\n",
    "            one_index_terms = generate_contracted_terms(m-1, num_free_indices=1)\n",
    "            for item in one_index_terms:\n",
    "                product_rule_term_list = differentiate(item)\n",
    "                row = generate_coefficient_vector(product_rule_term_list, massDim, up_to=True)\n",
    "                IBP_matrix.append(row)\n",
    "        return IBP_matrix\n",
    "            \n",
    "\n",
    "massDim = 10\n",
    "IBP_matrix = generate_IBP_matrix(massDim, up_to=True)\n",
    "\n",
    "for row in IBP_matrix:\n",
    "    print(row)\n"
   ]
  },
  {
   "cell_type": "markdown",
   "metadata": {},
   "source": [
    "To find terms that can be eliminated, put IBP matrix into reduced row echelon form."
   ]
  },
  {
   "cell_type": "code",
   "execution_count": 34,
   "metadata": {},
   "outputs": [
    {
     "name": "stdout",
     "output_type": "stream",
     "text": [
      "(Matrix([\n",
      "[0, 0, 1, 1, 0, 0,   0, 0, 0, 0,  0, 0, 0,   0, 0, 0, 0, 0,   0,    0,    0, 0, 0, 0, 0, 0,  0, 0, 0,   0, 0, 0, 0, 0,   0,     0,     0, 0, 0, 0, 0, 0, 0, 0, 0, 0, 0, 0, 0, 0, 0, 0, 0,    0, 0,    0,    0, 0, 0, 0, 0, 0, 0, 0, 0,  0],\n",
      "[0, 0, 0, 0, 0, 1, 1/3, 0, 0, 0,  0, 0, 0,   0, 0, 0, 0, 0,   0,    0,    0, 0, 0, 0, 0, 0,  0, 0, 0,   0, 0, 0, 0, 0,   0,     0,     0, 0, 0, 0, 0, 0, 0, 0, 0, 0, 0, 0, 0, 0, 0, 0, 0,    0, 0,    0,    0, 0, 0, 0, 0, 0, 0, 0, 0,  0],\n",
      "[0, 0, 0, 0, 0, 0,   0, 1, 0, 0,  1, 0, 0,   0, 0, 0, 0, 0,   0,    0,    0, 0, 0, 0, 0, 0,  0, 0, 0,   0, 0, 0, 0, 0,   0,     0,     0, 0, 0, 0, 0, 0, 0, 0, 0, 0, 0, 0, 0, 0, 0, 0, 0,    0, 0,    0,    0, 0, 0, 0, 0, 0, 0, 0, 0,  0],\n",
      "[0, 0, 0, 0, 0, 0,   0, 0, 1, 0, -1, 0, 0,   0, 0, 0, 0, 0,   0,    0,    0, 0, 0, 0, 0, 0,  0, 0, 0,   0, 0, 0, 0, 0,   0,     0,     0, 0, 0, 0, 0, 0, 0, 0, 0, 0, 0, 0, 0, 0, 0, 0, 0,    0, 0,    0,    0, 0, 0, 0, 0, 0, 0, 0, 0,  0],\n",
      "[0, 0, 0, 0, 0, 0,   0, 0, 0, 1, -1, 0, 0,   0, 0, 0, 0, 0,   0,    0,    0, 0, 0, 0, 0, 0,  0, 0, 0,   0, 0, 0, 0, 0,   0,     0,     0, 0, 0, 0, 0, 0, 0, 0, 0, 0, 0, 0, 0, 0, 0, 0, 0,    0, 0,    0,    0, 0, 0, 0, 0, 0, 0, 0, 0,  0],\n",
      "[0, 0, 0, 0, 0, 0,   0, 0, 0, 0,  0, 0, 1, 1/5, 0, 0, 0, 0,   0,    0,    0, 0, 0, 0, 0, 0,  0, 0, 0,   0, 0, 0, 0, 0,   0,     0,     0, 0, 0, 0, 0, 0, 0, 0, 0, 0, 0, 0, 0, 0, 0, 0, 0,    0, 0,    0,    0, 0, 0, 0, 0, 0, 0, 0, 0,  0],\n",
      "[0, 0, 0, 0, 0, 0,   0, 0, 0, 0,  0, 0, 0,   0, 1, 0, 0, 0,   0, -1/2,  1/6, 0, 0, 0, 0, 0,  0, 0, 0,   0, 0, 0, 0, 0,   0,     0,     0, 0, 0, 0, 0, 0, 0, 0, 0, 0, 0, 0, 0, 0, 0, 0, 0,    0, 0,    0,    0, 0, 0, 0, 0, 0, 0, 0, 0,  0],\n",
      "[0, 0, 0, 0, 0, 0,   0, 0, 0, 0,  0, 0, 0,   0, 0, 1, 0, 0, 1/2,    0, -1/6, 0, 0, 0, 0, 0,  0, 0, 0,   0, 0, 0, 0, 0,   0,     0,     0, 0, 0, 0, 0, 0, 0, 0, 0, 0, 0, 0, 0, 0, 0, 0, 0,    0, 0,    0,    0, 0, 0, 0, 0, 0, 0, 0, 0,  0],\n",
      "[0, 0, 0, 0, 0, 0,   0, 0, 0, 0,  0, 0, 0,   0, 0, 0, 1, 0,   0,  1/2, -1/6, 0, 0, 0, 0, 0,  0, 0, 0,   0, 0, 0, 0, 0,   0,     0,     0, 0, 0, 0, 0, 0, 0, 0, 0, 0, 0, 0, 0, 0, 0, 0, 0,    0, 0,    0,    0, 0, 0, 0, 0, 0, 0, 0, 0,  0],\n",
      "[0, 0, 0, 0, 0, 0,   0, 0, 0, 0,  0, 0, 0,   0, 0, 0, 0, 1,   0,    0,  1/3, 0, 0, 0, 0, 0,  0, 0, 0,   0, 0, 0, 0, 0,   0,     0,     0, 0, 0, 0, 0, 0, 0, 0, 0, 0, 0, 0, 0, 0, 0, 0, 0,    0, 0,    0,    0, 0, 0, 0, 0, 0, 0, 0, 0,  0],\n",
      "[0, 0, 0, 0, 0, 0,   0, 0, 0, 0,  0, 0, 0,   0, 0, 0, 0, 0,   0,    0,    0, 1, 0, 0, 0, 0,  1, 0, 0,   0, 0, 0, 0, 0,   0,     0,     0, 0, 0, 0, 0, 0, 0, 0, 0, 0, 0, 0, 0, 0, 0, 0, 0,    0, 0,    0,    0, 0, 0, 0, 0, 0, 0, 0, 0,  0],\n",
      "[0, 0, 0, 0, 0, 0,   0, 0, 0, 0,  0, 0, 0,   0, 0, 0, 0, 0,   0,    0,    0, 0, 1, 0, 0, 0, -1, 0, 0,   0, 0, 0, 0, 0,   0,     0,     0, 0, 0, 0, 0, 0, 0, 0, 0, 0, 0, 0, 0, 0, 0, 0, 0,    0, 0,    0,    0, 0, 0, 0, 0, 0, 0, 0, 0,  0],\n",
      "[0, 0, 0, 0, 0, 0,   0, 0, 0, 0,  0, 0, 0,   0, 0, 0, 0, 0,   0,    0,    0, 0, 0, 1, 0, 0, -1, 0, 0,   0, 0, 0, 0, 0,   0,     0,     0, 0, 0, 0, 0, 0, 0, 0, 0, 0, 0, 0, 0, 0, 0, 0, 0,    0, 0,    0,    0, 0, 0, 0, 0, 0, 0, 0, 0,  0],\n",
      "[0, 0, 0, 0, 0, 0,   0, 0, 0, 0,  0, 0, 0,   0, 0, 0, 0, 0,   0,    0,    0, 0, 0, 0, 1, 0,  1, 0, 0,   0, 0, 0, 0, 0,   0,     0,     0, 0, 0, 0, 0, 0, 0, 0, 0, 0, 0, 0, 0, 0, 0, 0, 0,    0, 0,    0,    0, 0, 0, 0, 0, 0, 0, 0, 0,  0],\n",
      "[0, 0, 0, 0, 0, 0,   0, 0, 0, 0,  0, 0, 0,   0, 0, 0, 0, 0,   0,    0,    0, 0, 0, 0, 0, 1,  1, 0, 0,   0, 0, 0, 0, 0,   0,     0,     0, 0, 0, 0, 0, 0, 0, 0, 0, 0, 0, 0, 0, 0, 0, 0, 0,    0, 0,    0,    0, 0, 0, 0, 0, 0, 0, 0, 0,  0],\n",
      "[0, 0, 0, 0, 0, 0,   0, 0, 0, 0,  0, 0, 0,   0, 0, 0, 0, 0,   0,    0,    0, 0, 0, 0, 0, 0,  0, 0, 1, 1/7, 0, 0, 0, 0,   0,     0,     0, 0, 0, 0, 0, 0, 0, 0, 0, 0, 0, 0, 0, 0, 0, 0, 0,    0, 0,    0,    0, 0, 0, 0, 0, 0, 0, 0, 0,  0],\n",
      "[0, 0, 0, 0, 0, 0,   0, 0, 0, 0,  0, 0, 0,   0, 0, 0, 0, 0,   0,    0,    0, 0, 0, 0, 0, 0,  0, 0, 0,   0, 1, 0, 0, 0,   0, -1/12,  1/60, 0, 0, 0, 0, 0, 0, 0, 0, 0, 0, 0, 0, 0, 0, 0, 0,    0, 0,    0,    0, 0, 0, 0, 0, 0, 0, 0, 0,  0],\n",
      "[0, 0, 0, 0, 0, 0,   0, 0, 0, 0,  0, 0, 0,   0, 0, 0, 0, 0,   0,    0,    0, 0, 0, 0, 0, 0,  0, 0, 0,   0, 0, 1, 0, 0, 1/4,     0, -1/20, 0, 0, 0, 0, 0, 0, 0, 0, 0, 0, 0, 0, 0, 0, 0, 0,    0, 0,    0,    0, 0, 0, 0, 0, 0, 0, 0, 0,  0],\n",
      "[0, 0, 0, 0, 0, 0,   0, 0, 0, 0,  0, 0, 0,   0, 0, 0, 0, 0,   0,    0,    0, 0, 0, 0, 0, 0,  0, 0, 0,   0, 0, 0, 1, 0,   0,   1/4, -1/20, 0, 0, 0, 0, 0, 0, 0, 0, 0, 0, 0, 0, 0, 0, 0, 0,    0, 0,    0,    0, 0, 0, 0, 0, 0, 0, 0, 0,  0],\n",
      "[0, 0, 0, 0, 0, 0,   0, 0, 0, 0,  0, 0, 0,   0, 0, 0, 0, 0,   0,    0,    0, 0, 0, 0, 0, 0,  0, 0, 0,   0, 0, 0, 0, 1,   0,     0,   1/5, 0, 0, 0, 0, 0, 0, 0, 0, 0, 0, 0, 0, 0, 0, 0, 0,    0, 0,    0,    0, 0, 0, 0, 0, 0, 0, 0, 0,  0],\n",
      "[0, 0, 0, 0, 0, 0,   0, 0, 0, 0,  0, 0, 0,   0, 0, 0, 0, 0,   0,    0,    0, 0, 0, 0, 0, 0,  0, 0, 0,   0, 0, 0, 0, 0,   0,     0,     0, 1, 0, 0, 0, 0, 0, 0, 0, 0, 0, 0, 0, 0, 0, 0, 0,   -1, 0, -1/2,  1/6, 0, 0, 0, 0, 0, 0, 0, 0,  0],\n",
      "[0, 0, 0, 0, 0, 0,   0, 0, 0, 0,  0, 0, 0,   0, 0, 0, 0, 0,   0,    0,    0, 0, 0, 0, 0, 0,  0, 0, 0,   0, 0, 0, 0, 0,   0,     0,     0, 0, 1, 0, 0, 0, 0, 0, 0, 0, 0, 0, 0, 0, 0, 0, 0,   -1, 0, -1/2,  1/6, 0, 0, 0, 0, 0, 0, 0, 0,  0],\n",
      "[0, 0, 0, 0, 0, 0,   0, 0, 0, 0,  0, 0, 0,   0, 0, 0, 0, 0,   0,    0,    0, 0, 0, 0, 0, 0,  0, 0, 0,   0, 0, 0, 0, 0,   0,     0,     0, 0, 0, 1, 0, 0, 0, 0, 0, 0, 0, 0, 1, 0, 0, 0, 0, -1/2, 0, -1/2,    0, 0, 0, 0, 0, 0, 0, 0, 0,  0],\n",
      "[0, 0, 0, 0, 0, 0,   0, 0, 0, 0,  0, 0, 0,   0, 0, 0, 0, 0,   0,    0,    0, 0, 0, 0, 0, 0,  0, 0, 0,   0, 0, 0, 0, 0,   0,     0,     0, 0, 0, 0, 1, 0, 0, 0, 0, 0, 0, 0, 0, 0, 0, 0, 0,    1, 0,  1/2, -1/6, 0, 0, 0, 0, 0, 0, 0, 0,  0],\n",
      "[0, 0, 0, 0, 0, 0,   0, 0, 0, 0,  0, 0, 0,   0, 0, 0, 0, 0,   0,    0,    0, 0, 0, 0, 0, 0,  0, 0, 0,   0, 0, 0, 0, 0,   0,     0,     0, 0, 0, 0, 0, 1, 0, 0, 0, 0, 0, 0, 0, 0, 0, 0, 0,    1, 0,  1/2, -1/6, 0, 0, 0, 0, 0, 0, 0, 0,  0],\n",
      "[0, 0, 0, 0, 0, 0,   0, 0, 0, 0,  0, 0, 0,   0, 0, 0, 0, 0,   0,    0,    0, 0, 0, 0, 0, 0,  0, 0, 0,   0, 0, 0, 0, 0,   0,     0,     0, 0, 0, 0, 0, 0, 1, 0, 0, 0, 0, 0, 0, 0, 0, 0, 0,    1, 0,  1/2, -1/6, 0, 0, 0, 0, 0, 0, 0, 0,  0],\n",
      "[0, 0, 0, 0, 0, 0,   0, 0, 0, 0,  0, 0, 0,   0, 0, 0, 0, 0,   0,    0,    0, 0, 0, 0, 0, 0,  0, 0, 0,   0, 0, 0, 0, 0,   0,     0,     0, 0, 0, 0, 0, 0, 0, 1, 0, 0, 0, 0, 0, 0, 0, 0, 0,  1/2, 0,    0, -1/6, 0, 0, 0, 0, 0, 0, 0, 0,  0],\n",
      "[0, 0, 0, 0, 0, 0,   0, 0, 0, 0,  0, 0, 0,   0, 0, 0, 0, 0,   0,    0,    0, 0, 0, 0, 0, 0,  0, 0, 0,   0, 0, 0, 0, 0,   0,     0,     0, 0, 0, 0, 0, 0, 0, 0, 1, 0, 0, 0, 0, 0, 0, 0, 0,  1/2, 0,    0, -1/6, 0, 0, 0, 0, 0, 0, 0, 0,  0],\n",
      "[0, 0, 0, 0, 0, 0,   0, 0, 0, 0,  0, 0, 0,   0, 0, 0, 0, 0,   0,    0,    0, 0, 0, 0, 0, 0,  0, 0, 0,   0, 0, 0, 0, 0,   0,     0,     0, 0, 0, 0, 0, 0, 0, 0, 0, 1, 0, 0, 0, 0, 0, 0, 0,  1/2, 0,  1/2,    0, 0, 0, 0, 0, 0, 0, 0, 0,  0],\n",
      "[0, 0, 0, 0, 0, 0,   0, 0, 0, 0,  0, 0, 0,   0, 0, 0, 0, 0,   0,    0,    0, 0, 0, 0, 0, 0,  0, 0, 0,   0, 0, 0, 0, 0,   0,     0,     0, 0, 0, 0, 0, 0, 0, 0, 0, 0, 1, 0, 0, 0, 0, 0, 0,  1/2, 0,  1/2,    0, 0, 0, 0, 0, 0, 0, 0, 0,  0],\n",
      "[0, 0, 0, 0, 0, 0,   0, 0, 0, 0,  0, 0, 0,   0, 0, 0, 0, 0,   0,    0,    0, 0, 0, 0, 0, 0,  0, 0, 0,   0, 0, 0, 0, 0,   0,     0,     0, 0, 0, 0, 0, 0, 0, 0, 0, 0, 0, 1, 0, 0, 0, 0, 0,  1/2, 0,  1/2,    0, 0, 0, 0, 0, 0, 0, 0, 0,  0],\n",
      "[0, 0, 0, 0, 0, 0,   0, 0, 0, 0,  0, 0, 0,   0, 0, 0, 0, 0,   0,    0,    0, 0, 0, 0, 0, 0,  0, 0, 0,   0, 0, 0, 0, 0,   0,     0,     0, 0, 0, 0, 0, 0, 0, 0, 0, 0, 0, 0, 0, 1, 0, 0, 0, -3/2, 0,   -1,  1/6, 0, 0, 0, 0, 0, 0, 0, 0,  0],\n",
      "[0, 0, 0, 0, 0, 0,   0, 0, 0, 0,  0, 0, 0,   0, 0, 0, 0, 0,   0,    0,    0, 0, 0, 0, 0, 0,  0, 0, 0,   0, 0, 0, 0, 0,   0,     0,     0, 0, 0, 0, 0, 0, 0, 0, 0, 0, 0, 0, 0, 0, 1, 0, 0, -3/2, 0,   -1,  1/6, 0, 0, 0, 0, 0, 0, 0, 0,  0],\n",
      "[0, 0, 0, 0, 0, 0,   0, 0, 0, 0,  0, 0, 0,   0, 0, 0, 0, 0,   0,    0,    0, 0, 0, 0, 0, 0,  0, 0, 0,   0, 0, 0, 0, 0,   0,     0,     0, 0, 0, 0, 0, 0, 0, 0, 0, 0, 0, 0, 0, 0, 0, 1, 0,    0, 0,    0,  1/3, 0, 0, 0, 0, 0, 0, 0, 0,  0],\n",
      "[0, 0, 0, 0, 0, 0,   0, 0, 0, 0,  0, 0, 0,   0, 0, 0, 0, 0,   0,    0,    0, 0, 0, 0, 0, 0,  0, 0, 0,   0, 0, 0, 0, 0,   0,     0,     0, 0, 0, 0, 0, 0, 0, 0, 0, 0, 0, 0, 0, 0, 0, 0, 1,   -1, 0,    0,    0, 0, 0, 0, 0, 0, 0, 0, 0,  0],\n",
      "[0, 0, 0, 0, 0, 0,   0, 0, 0, 0,  0, 0, 0,   0, 0, 0, 0, 0,   0,    0,    0, 0, 0, 0, 0, 0,  0, 0, 0,   0, 0, 0, 0, 0,   0,     0,     0, 0, 0, 0, 0, 0, 0, 0, 0, 0, 0, 0, 0, 0, 0, 0, 0,    0, 1,   -1,    0, 0, 0, 0, 0, 0, 0, 0, 0,  0],\n",
      "[0, 0, 0, 0, 0, 0,   0, 0, 0, 0,  0, 0, 0,   0, 0, 0, 0, 0,   0,    0,    0, 0, 0, 0, 0, 0,  0, 0, 0,   0, 0, 0, 0, 0,   0,     0,     0, 0, 0, 0, 0, 0, 0, 0, 0, 0, 0, 0, 0, 0, 0, 0, 0,    0, 0,    0,    0, 1, 0, 0, 0, 0, 0, 0, 0,  1],\n",
      "[0, 0, 0, 0, 0, 0,   0, 0, 0, 0,  0, 0, 0,   0, 0, 0, 0, 0,   0,    0,    0, 0, 0, 0, 0, 0,  0, 0, 0,   0, 0, 0, 0, 0,   0,     0,     0, 0, 0, 0, 0, 0, 0, 0, 0, 0, 0, 0, 0, 0, 0, 0, 0,    0, 0,    0,    0, 0, 1, 0, 0, 0, 0, 0, 0, -1],\n",
      "[0, 0, 0, 0, 0, 0,   0, 0, 0, 0,  0, 0, 0,   0, 0, 0, 0, 0,   0,    0,    0, 0, 0, 0, 0, 0,  0, 0, 0,   0, 0, 0, 0, 0,   0,     0,     0, 0, 0, 0, 0, 0, 0, 0, 0, 0, 0, 0, 0, 0, 0, 0, 0,    0, 0,    0,    0, 0, 0, 1, 0, 0, 0, 0, 0, -1],\n",
      "[0, 0, 0, 0, 0, 0,   0, 0, 0, 0,  0, 0, 0,   0, 0, 0, 0, 0,   0,    0,    0, 0, 0, 0, 0, 0,  0, 0, 0,   0, 0, 0, 0, 0,   0,     0,     0, 0, 0, 0, 0, 0, 0, 0, 0, 0, 0, 0, 0, 0, 0, 0, 0,    0, 0,    0,    0, 0, 0, 0, 1, 0, 0, 0, 0,  1],\n",
      "[0, 0, 0, 0, 0, 0,   0, 0, 0, 0,  0, 0, 0,   0, 0, 0, 0, 0,   0,    0,    0, 0, 0, 0, 0, 0,  0, 0, 0,   0, 0, 0, 0, 0,   0,     0,     0, 0, 0, 0, 0, 0, 0, 0, 0, 0, 0, 0, 0, 0, 0, 0, 0,    0, 0,    0,    0, 0, 0, 0, 0, 1, 0, 0, 0,  1],\n",
      "[0, 0, 0, 0, 0, 0,   0, 0, 0, 0,  0, 0, 0,   0, 0, 0, 0, 0,   0,    0,    0, 0, 0, 0, 0, 0,  0, 0, 0,   0, 0, 0, 0, 0,   0,     0,     0, 0, 0, 0, 0, 0, 0, 0, 0, 0, 0, 0, 0, 0, 0, 0, 0,    0, 0,    0,    0, 0, 0, 0, 0, 0, 1, 0, 0, -1],\n",
      "[0, 0, 0, 0, 0, 0,   0, 0, 0, 0,  0, 0, 0,   0, 0, 0, 0, 0,   0,    0,    0, 0, 0, 0, 0, 0,  0, 0, 0,   0, 0, 0, 0, 0,   0,     0,     0, 0, 0, 0, 0, 0, 0, 0, 0, 0, 0, 0, 0, 0, 0, 0, 0,    0, 0,    0,    0, 0, 0, 0, 0, 0, 0, 1, 0, -1],\n",
      "[0, 0, 0, 0, 0, 0,   0, 0, 0, 0,  0, 0, 0,   0, 0, 0, 0, 0,   0,    0,    0, 0, 0, 0, 0, 0,  0, 0, 0,   0, 0, 0, 0, 0,   0,     0,     0, 0, 0, 0, 0, 0, 0, 0, 0, 0, 0, 0, 0, 0, 0, 0, 0,    0, 0,    0,    0, 0, 0, 0, 0, 0, 0, 0, 1, -1],\n",
      "[0, 0, 0, 0, 0, 0,   0, 0, 0, 0,  0, 0, 0,   0, 0, 0, 0, 0,   0,    0,    0, 0, 0, 0, 0, 0,  0, 0, 0,   0, 0, 0, 0, 0,   0,     0,     0, 0, 0, 0, 0, 0, 0, 0, 0, 0, 0, 0, 0, 0, 0, 0, 0,    0, 0,    0,    0, 0, 0, 0, 0, 0, 0, 0, 0,  0],\n",
      "[0, 0, 0, 0, 0, 0,   0, 0, 0, 0,  0, 0, 0,   0, 0, 0, 0, 0,   0,    0,    0, 0, 0, 0, 0, 0,  0, 0, 0,   0, 0, 0, 0, 0,   0,     0,     0, 0, 0, 0, 0, 0, 0, 0, 0, 0, 0, 0, 0, 0, 0, 0, 0,    0, 0,    0,    0, 0, 0, 0, 0, 0, 0, 0, 0,  0],\n",
      "[0, 0, 0, 0, 0, 0,   0, 0, 0, 0,  0, 0, 0,   0, 0, 0, 0, 0,   0,    0,    0, 0, 0, 0, 0, 0,  0, 0, 0,   0, 0, 0, 0, 0,   0,     0,     0, 0, 0, 0, 0, 0, 0, 0, 0, 0, 0, 0, 0, 0, 0, 0, 0,    0, 0,    0,    0, 0, 0, 0, 0, 0, 0, 0, 0,  0]]), (2, 5, 7, 8, 9, 12, 14, 15, 16, 17, 21, 22, 23, 24, 25, 28, 30, 31, 32, 33, 37, 38, 39, 40, 41, 42, 43, 44, 45, 46, 47, 49, 50, 51, 52, 54, 57, 58, 59, 60, 61, 62, 63, 64))\n"
     ]
    }
   ],
   "source": [
    "import sympy\n",
    "\n",
    "IBP_matrix = sympy.Matrix(IBP_matrix)\n",
    "print(IBP_matrix.rref())"
   ]
  },
  {
   "cell_type": "markdown",
   "metadata": {},
   "source": [
    "Can remove operators associated with indices (1, 3, 4, 5). Operators associated with other indices - 0, 2, 6 - span the space of operators of dimension 6. Let's remind ourselves what operators these indices represent:"
   ]
  },
  {
   "cell_type": "code",
   "execution_count": 35,
   "metadata": {},
   "outputs": [
    {
     "name": "stdout",
     "output_type": "stream",
     "text": [
      "0: ['P', 'P', 'P', 'P', 'P', 'P']\n",
      "0: []\n",
      "1: ['D', 'P', 'D', 'P', 'P', 'P']\n",
      "1: [(0, 2)]\n",
      "2: ['D', 'D', 'P', 'P', 'P', 'P']\n",
      "2: [(0, 1)]\n",
      "3: ['D', 'D', 'D', 'P', 'D', 'P']\n",
      "3: [(0, 1), (2, 4)]\n",
      "4: ['D', 'D', 'P', 'D', 'D', 'P']\n",
      "4: [(0, 1), (3, 4)]\n",
      "5: ['D', 'D', 'P', 'D', 'D', 'P']\n",
      "5: [(0, 3), (1, 4)]\n",
      "6: ['D', 'D', 'D', 'D', 'P', 'P']\n",
      "6: [(0, 1), (2, 3)]\n"
     ]
    }
   ],
   "source": [
    "all_terms = generate_fully_contracted(6)\n",
    "N = len(all_terms)\n",
    "for i in range(N):\n",
    "    print(str(i) + \": \" + str(all_terms[i].get_field_symbols()))\n",
    "    print(str(i) + \": \" + str(all_terms[i].get_contractions()))\n",
    "    "
   ]
  },
  {
   "cell_type": "markdown",
   "metadata": {},
   "source": [
    "So the space of dim6 operators is spanned by the following operators: \n",
    "\n",
    "- 0: ['P', 'P', 'P', 'P', 'P', 'P']\n",
    "0: [], \n",
    "- 2: ['D', 'D', 'P', 'P', 'P', 'P']\n",
    "2: [(0, 1)]; \n",
    "- 6: ['D', 'D', 'D', 'D', 'P', 'P']\n",
    "6: [(0, 1), (2, 3)]"
   ]
  },
  {
   "cell_type": "code",
   "execution_count": 36,
   "metadata": {},
   "outputs": [
    {
     "name": "stdout",
     "output_type": "stream",
     "text": [
      "Matrix([[0, 5, 1, 0, 0, 0, 0, 0, 0, 0, 0, 0, 0, 0, 0, 0], [0, 0, 0, 1, 0, 1, 0, 0, 0, 0, 0, 0, 0, 0, 0, 0], [0, 0, 0, 0, 2, 0, 1, 1, 0, 0, 0, 0, 0, 0, 0, 0], [0, 0, 0, 0, 0, 2, 1, 0, 1, 0, 0, 0, 0, 0, 0, 0], [0, 0, 0, 0, 0, 0, 3, 0, 0, 1, 0, 0, 0, 0, 0, 0], [0, 0, 0, 0, 0, 0, 0, 0, 0, 0, 1, 1, 0, 0, 0, 0], [0, 0, 0, 0, 0, 0, 0, 0, 0, 0, 1, 0, 1, 0, 0, 0], [0, 0, 0, 0, 0, 0, 0, 0, 0, 0, 0, 0, 1, 1, 0, 0], [0, 0, 0, 0, 0, 0, 0, 0, 0, 0, 0, 1, 0, 1, 0, 0], [0, 0, 0, 0, 0, 0, 0, 0, 0, 0, 0, 0, 1, 0, 1, 0], [0, 0, 0, 0, 0, 0, 0, 0, 0, 0, 1, 0, 0, 0, 0, 1]])\n",
      "(Matrix([\n",
      "[0, 1, 1/5, 0, 0, 0, 0,   0,    0,    0, 0, 0, 0, 0, 0,  0],\n",
      "[0, 0,   0, 1, 0, 0, 0,   0, -1/2,  1/6, 0, 0, 0, 0, 0,  0],\n",
      "[0, 0,   0, 0, 1, 0, 0, 1/2,    0, -1/6, 0, 0, 0, 0, 0,  0],\n",
      "[0, 0,   0, 0, 0, 1, 0,   0,  1/2, -1/6, 0, 0, 0, 0, 0,  0],\n",
      "[0, 0,   0, 0, 0, 0, 1,   0,    0,  1/3, 0, 0, 0, 0, 0,  0],\n",
      "[0, 0,   0, 0, 0, 0, 0,   0,    0,    0, 1, 0, 0, 0, 0,  1],\n",
      "[0, 0,   0, 0, 0, 0, 0,   0,    0,    0, 0, 1, 0, 0, 0, -1],\n",
      "[0, 0,   0, 0, 0, 0, 0,   0,    0,    0, 0, 0, 1, 0, 0, -1],\n",
      "[0, 0,   0, 0, 0, 0, 0,   0,    0,    0, 0, 0, 0, 1, 0,  1],\n",
      "[0, 0,   0, 0, 0, 0, 0,   0,    0,    0, 0, 0, 0, 0, 1,  1],\n",
      "[0, 0,   0, 0, 0, 0, 0,   0,    0,    0, 0, 0, 0, 0, 0,  0]]), (1, 3, 4, 5, 6, 10, 11, 12, 13, 14))\n"
     ]
    }
   ],
   "source": [
    "massDim = 8\n",
    "IBP_matrix_2 = generate_IBP_matrix(massDim)\n",
    "IBP_matrix_2 = sympy.Matrix(IBP_matrix_2)\n",
    "print(IBP_matrix_2)\n",
    "print(IBP_matrix_2.rref())"
   ]
  },
  {
   "cell_type": "code",
   "execution_count": 37,
   "metadata": {},
   "outputs": [
    {
     "name": "stdout",
     "output_type": "stream",
     "text": [
      "Matrix([[0, 7, 1, 0, 0, 0, 0, 0, 0, 0, 0, 0, 0, 0, 0, 0, 0, 0, 0, 0, 0, 0, 0, 0, 0, 0, 0, 0, 0, 0, 0, 0, 0, 0, 0, 0, 0, 0, 0], [0, 0, 0, 3, 0, 1, 0, 0, 0, 0, 0, 0, 0, 0, 0, 0, 0, 0, 0, 0, 0, 0, 0, 0, 0, 0, 0, 0, 0, 0, 0, 0, 0, 0, 0, 0, 0, 0, 0], [0, 0, 0, 0, 4, 0, 1, 1, 0, 0, 0, 0, 0, 0, 0, 0, 0, 0, 0, 0, 0, 0, 0, 0, 0, 0, 0, 0, 0, 0, 0, 0, 0, 0, 0, 0, 0, 0, 0], [0, 0, 0, 0, 0, 4, 1, 0, 1, 0, 0, 0, 0, 0, 0, 0, 0, 0, 0, 0, 0, 0, 0, 0, 0, 0, 0, 0, 0, 0, 0, 0, 0, 0, 0, 0, 0, 0, 0], [0, 0, 0, 0, 0, 0, 5, 0, 0, 1, 0, 0, 0, 0, 0, 0, 0, 0, 0, 0, 0, 0, 0, 0, 0, 0, 0, 0, 0, 0, 0, 0, 0, 0, 0, 0, 0, 0, 0], [0, 0, 0, 0, 0, 0, 0, 0, 0, 0, 1, 0, 0, 1, 0, 0, 0, 0, 0, 0, 0, 0, 0, 0, 0, 0, 0, 0, 0, 0, 0, 0, 0, 0, 0, 0, 0, 0, 0], [0, 0, 0, 0, 0, 0, 0, 0, 0, 0, 0, 1, 0, 0, 0, 1, 0, 0, 0, 0, 0, 0, 0, 0, 0, 0, 0, 0, 0, 0, 0, 0, 0, 0, 0, 0, 0, 0, 0], [0, 0, 0, 0, 0, 0, 0, 0, 0, 0, 1, 0, 0, 0, 1, 0, 0, 0, 0, 0, 0, 0, 0, 0, 0, 0, 0, 0, 0, 0, 0, 0, 0, 0, 0, 0, 0, 0, 0], [0, 0, 0, 0, 0, 0, 0, 0, 0, 0, 1, 0, 0, 0, 0, 0, 0, 1, 1, 0, 0, 0, 0, 0, 0, 0, 0, 0, 0, 0, 0, 0, 0, 0, 0, 0, 0, 0, 0], [0, 0, 0, 0, 0, 0, 0, 0, 0, 0, 1, 0, 0, 0, 0, 0, 1, 0, 1, 0, 0, 0, 0, 0, 0, 0, 0, 0, 0, 0, 0, 0, 0, 0, 0, 0, 0, 0, 0], [0, 0, 0, 0, 0, 0, 0, 0, 0, 0, 0, 1, 0, 0, 0, 0, 0, 1, 0, 0, 1, 0, 0, 0, 0, 0, 0, 0, 0, 0, 0, 0, 0, 0, 0, 0, 0, 0, 0], [0, 0, 0, 0, 0, 0, 0, 0, 0, 0, 0, 0, 1, 0, 0, 0, 0, 0, 0, 1, 0, 1, 0, 0, 0, 0, 0, 0, 0, 0, 0, 0, 0, 0, 0, 0, 0, 0, 0], [0, 0, 0, 0, 0, 0, 0, 0, 0, 0, 0, 0, 0, 1, 0, 0, 0, 0, 1, 0, 0, 0, 1, 0, 0, 0, 0, 0, 0, 0, 0, 0, 0, 0, 0, 0, 0, 0, 0], [0, 0, 0, 0, 0, 0, 0, 0, 0, 0, 0, 0, 0, 0, 1, 0, 0, 0, 0, 0, 1, 0, 1, 0, 0, 0, 0, 0, 0, 0, 0, 0, 0, 0, 0, 0, 0, 0, 0], [0, 0, 0, 0, 0, 0, 0, 0, 0, 0, 0, 0, 0, 0, 0, 1, 0, 0, 0, 0, 1, 0, 0, 1, 0, 0, 0, 0, 0, 0, 0, 0, 0, 0, 0, 0, 0, 0, 0], [0, 0, 0, 0, 0, 0, 0, 0, 0, 0, 0, 0, 0, 0, 0, 0, 2, 0, 0, 0, 0, 0, 0, 0, 1, 1, 0, 0, 0, 0, 0, 0, 0, 0, 0, 0, 0, 0, 0], [0, 0, 0, 0, 0, 0, 0, 0, 0, 0, 0, 0, 0, 0, 0, 0, 0, 2, 0, 0, 0, 0, 0, 0, 1, 0, 1, 0, 0, 0, 0, 0, 0, 0, 0, 0, 0, 0, 0], [0, 0, 0, 0, 0, 0, 0, 0, 0, 0, 0, 0, 0, 0, 0, 0, 0, 0, 2, 0, 0, 0, 0, 0, 0, 0, 1, 1, 0, 0, 0, 0, 0, 0, 0, 0, 0, 0, 0], [0, 0, 0, 0, 0, 0, 0, 0, 0, 0, 0, 0, 0, 0, 0, 0, 0, 0, 0, 2, 0, 0, 0, 0, 0, 1, 0, 1, 0, 0, 0, 0, 0, 0, 0, 0, 0, 0, 0], [0, 0, 0, 0, 0, 0, 0, 0, 0, 0, 0, 0, 0, 0, 0, 0, 0, 0, 0, 0, 2, 0, 0, 0, 0, 0, 1, 0, 1, 0, 0, 0, 0, 0, 0, 0, 0, 0, 0], [0, 0, 0, 0, 0, 0, 0, 0, 0, 0, 0, 0, 0, 0, 0, 0, 0, 0, 0, 0, 0, 0, 0, 0, 3, 0, 0, 0, 0, 1, 0, 0, 0, 0, 0, 0, 0, 0, 0], [0, 0, 0, 0, 0, 0, 0, 0, 0, 0, 0, 0, 0, 0, 0, 0, 0, 0, 0, 0, 0, 0, 0, 0, 0, 0, 0, 0, 0, 0, 1, 1, 0, 0, 0, 0, 0, 0, 0], [0, 0, 0, 0, 0, 0, 0, 0, 0, 0, 0, 0, 0, 0, 0, 0, 0, 0, 0, 0, 0, 0, 0, 0, 0, 0, 0, 0, 0, 0, 1, 0, 1, 0, 0, 0, 0, 0, 0], [0, 0, 0, 0, 0, 0, 0, 0, 0, 0, 0, 0, 0, 0, 0, 0, 0, 0, 0, 0, 0, 0, 0, 0, 0, 0, 0, 0, 0, 0, 0, 0, 1, 1, 0, 0, 0, 0, 0], [0, 0, 0, 0, 0, 0, 0, 0, 0, 0, 0, 0, 0, 0, 0, 0, 0, 0, 0, 0, 0, 0, 0, 0, 0, 0, 0, 0, 0, 0, 0, 1, 0, 1, 0, 0, 0, 0, 0], [0, 0, 0, 0, 0, 0, 0, 0, 0, 0, 0, 0, 0, 0, 0, 0, 0, 0, 0, 0, 0, 0, 0, 0, 0, 0, 0, 0, 0, 0, 0, 0, 1, 0, 1, 0, 0, 0, 0], [0, 0, 0, 0, 0, 0, 0, 0, 0, 0, 0, 0, 0, 0, 0, 0, 0, 0, 0, 0, 0, 0, 0, 0, 0, 0, 0, 0, 0, 0, 0, 0, 0, 1, 0, 1, 0, 0, 0], [0, 0, 0, 0, 0, 0, 0, 0, 0, 0, 0, 0, 0, 0, 0, 0, 0, 0, 0, 0, 0, 0, 0, 0, 0, 0, 0, 0, 0, 0, 0, 0, 0, 0, 1, 0, 1, 0, 0], [0, 0, 0, 0, 0, 0, 0, 0, 0, 0, 0, 0, 0, 0, 0, 0, 0, 0, 0, 0, 0, 0, 0, 0, 0, 0, 0, 0, 0, 0, 0, 0, 0, 1, 0, 0, 1, 0, 0], [0, 0, 0, 0, 0, 0, 0, 0, 0, 0, 0, 0, 0, 0, 0, 0, 0, 0, 0, 0, 0, 0, 0, 0, 0, 0, 0, 0, 0, 0, 0, 0, 0, 0, 1, 0, 0, 1, 0], [0, 0, 0, 0, 0, 0, 0, 0, 0, 0, 0, 0, 0, 0, 0, 0, 0, 0, 0, 0, 0, 0, 0, 0, 0, 0, 0, 0, 0, 0, 1, 0, 0, 0, 0, 0, 0, 0, 1]])\n",
      "(Matrix([\n",
      "[0, 1, 1/7, 0, 0, 0, 0,   0,     0,     0, 0, 0, 0, 0, 0, 0, 0, 0, 0, 0, 0, 0, 0, 0, 0, 0,    0, 0,    0,    0, 0, 0, 0, 0, 0, 0, 0, 0,  0],\n",
      "[0, 0,   0, 1, 0, 0, 0,   0, -1/12,  1/60, 0, 0, 0, 0, 0, 0, 0, 0, 0, 0, 0, 0, 0, 0, 0, 0,    0, 0,    0,    0, 0, 0, 0, 0, 0, 0, 0, 0,  0],\n",
      "[0, 0,   0, 0, 1, 0, 0, 1/4,     0, -1/20, 0, 0, 0, 0, 0, 0, 0, 0, 0, 0, 0, 0, 0, 0, 0, 0,    0, 0,    0,    0, 0, 0, 0, 0, 0, 0, 0, 0,  0],\n",
      "[0, 0,   0, 0, 0, 1, 0,   0,   1/4, -1/20, 0, 0, 0, 0, 0, 0, 0, 0, 0, 0, 0, 0, 0, 0, 0, 0,    0, 0,    0,    0, 0, 0, 0, 0, 0, 0, 0, 0,  0],\n",
      "[0, 0,   0, 0, 0, 0, 1,   0,     0,   1/5, 0, 0, 0, 0, 0, 0, 0, 0, 0, 0, 0, 0, 0, 0, 0, 0,    0, 0,    0,    0, 0, 0, 0, 0, 0, 0, 0, 0,  0],\n",
      "[0, 0,   0, 0, 0, 0, 0,   0,     0,     0, 1, 0, 0, 0, 0, 0, 0, 0, 0, 0, 0, 0, 0, 0, 0, 0,   -1, 0, -1/2,  1/6, 0, 0, 0, 0, 0, 0, 0, 0,  0],\n",
      "[0, 0,   0, 0, 0, 0, 0,   0,     0,     0, 0, 1, 0, 0, 0, 0, 0, 0, 0, 0, 0, 0, 0, 0, 0, 0,   -1, 0, -1/2,  1/6, 0, 0, 0, 0, 0, 0, 0, 0,  0],\n",
      "[0, 0,   0, 0, 0, 0, 0,   0,     0,     0, 0, 0, 1, 0, 0, 0, 0, 0, 0, 0, 0, 1, 0, 0, 0, 0, -1/2, 0, -1/2,    0, 0, 0, 0, 0, 0, 0, 0, 0,  0],\n",
      "[0, 0,   0, 0, 0, 0, 0,   0,     0,     0, 0, 0, 0, 1, 0, 0, 0, 0, 0, 0, 0, 0, 0, 0, 0, 0,    1, 0,  1/2, -1/6, 0, 0, 0, 0, 0, 0, 0, 0,  0],\n",
      "[0, 0,   0, 0, 0, 0, 0,   0,     0,     0, 0, 0, 0, 0, 1, 0, 0, 0, 0, 0, 0, 0, 0, 0, 0, 0,    1, 0,  1/2, -1/6, 0, 0, 0, 0, 0, 0, 0, 0,  0],\n",
      "[0, 0,   0, 0, 0, 0, 0,   0,     0,     0, 0, 0, 0, 0, 0, 1, 0, 0, 0, 0, 0, 0, 0, 0, 0, 0,    1, 0,  1/2, -1/6, 0, 0, 0, 0, 0, 0, 0, 0,  0],\n",
      "[0, 0,   0, 0, 0, 0, 0,   0,     0,     0, 0, 0, 0, 0, 0, 0, 1, 0, 0, 0, 0, 0, 0, 0, 0, 0,  1/2, 0,    0, -1/6, 0, 0, 0, 0, 0, 0, 0, 0,  0],\n",
      "[0, 0,   0, 0, 0, 0, 0,   0,     0,     0, 0, 0, 0, 0, 0, 0, 0, 1, 0, 0, 0, 0, 0, 0, 0, 0,  1/2, 0,    0, -1/6, 0, 0, 0, 0, 0, 0, 0, 0,  0],\n",
      "[0, 0,   0, 0, 0, 0, 0,   0,     0,     0, 0, 0, 0, 0, 0, 0, 0, 0, 1, 0, 0, 0, 0, 0, 0, 0,  1/2, 0,  1/2,    0, 0, 0, 0, 0, 0, 0, 0, 0,  0],\n",
      "[0, 0,   0, 0, 0, 0, 0,   0,     0,     0, 0, 0, 0, 0, 0, 0, 0, 0, 0, 1, 0, 0, 0, 0, 0, 0,  1/2, 0,  1/2,    0, 0, 0, 0, 0, 0, 0, 0, 0,  0],\n",
      "[0, 0,   0, 0, 0, 0, 0,   0,     0,     0, 0, 0, 0, 0, 0, 0, 0, 0, 0, 0, 1, 0, 0, 0, 0, 0,  1/2, 0,  1/2,    0, 0, 0, 0, 0, 0, 0, 0, 0,  0],\n",
      "[0, 0,   0, 0, 0, 0, 0,   0,     0,     0, 0, 0, 0, 0, 0, 0, 0, 0, 0, 0, 0, 0, 1, 0, 0, 0, -3/2, 0,   -1,  1/6, 0, 0, 0, 0, 0, 0, 0, 0,  0],\n",
      "[0, 0,   0, 0, 0, 0, 0,   0,     0,     0, 0, 0, 0, 0, 0, 0, 0, 0, 0, 0, 0, 0, 0, 1, 0, 0, -3/2, 0,   -1,  1/6, 0, 0, 0, 0, 0, 0, 0, 0,  0],\n",
      "[0, 0,   0, 0, 0, 0, 0,   0,     0,     0, 0, 0, 0, 0, 0, 0, 0, 0, 0, 0, 0, 0, 0, 0, 1, 0,    0, 0,    0,  1/3, 0, 0, 0, 0, 0, 0, 0, 0,  0],\n",
      "[0, 0,   0, 0, 0, 0, 0,   0,     0,     0, 0, 0, 0, 0, 0, 0, 0, 0, 0, 0, 0, 0, 0, 0, 0, 1,   -1, 0,    0,    0, 0, 0, 0, 0, 0, 0, 0, 0,  0],\n",
      "[0, 0,   0, 0, 0, 0, 0,   0,     0,     0, 0, 0, 0, 0, 0, 0, 0, 0, 0, 0, 0, 0, 0, 0, 0, 0,    0, 1,   -1,    0, 0, 0, 0, 0, 0, 0, 0, 0,  0],\n",
      "[0, 0,   0, 0, 0, 0, 0,   0,     0,     0, 0, 0, 0, 0, 0, 0, 0, 0, 0, 0, 0, 0, 0, 0, 0, 0,    0, 0,    0,    0, 1, 0, 0, 0, 0, 0, 0, 0,  1],\n",
      "[0, 0,   0, 0, 0, 0, 0,   0,     0,     0, 0, 0, 0, 0, 0, 0, 0, 0, 0, 0, 0, 0, 0, 0, 0, 0,    0, 0,    0,    0, 0, 1, 0, 0, 0, 0, 0, 0, -1],\n",
      "[0, 0,   0, 0, 0, 0, 0,   0,     0,     0, 0, 0, 0, 0, 0, 0, 0, 0, 0, 0, 0, 0, 0, 0, 0, 0,    0, 0,    0,    0, 0, 0, 1, 0, 0, 0, 0, 0, -1],\n",
      "[0, 0,   0, 0, 0, 0, 0,   0,     0,     0, 0, 0, 0, 0, 0, 0, 0, 0, 0, 0, 0, 0, 0, 0, 0, 0,    0, 0,    0,    0, 0, 0, 0, 1, 0, 0, 0, 0,  1],\n",
      "[0, 0,   0, 0, 0, 0, 0,   0,     0,     0, 0, 0, 0, 0, 0, 0, 0, 0, 0, 0, 0, 0, 0, 0, 0, 0,    0, 0,    0,    0, 0, 0, 0, 0, 1, 0, 0, 0,  1],\n",
      "[0, 0,   0, 0, 0, 0, 0,   0,     0,     0, 0, 0, 0, 0, 0, 0, 0, 0, 0, 0, 0, 0, 0, 0, 0, 0,    0, 0,    0,    0, 0, 0, 0, 0, 0, 1, 0, 0, -1],\n",
      "[0, 0,   0, 0, 0, 0, 0,   0,     0,     0, 0, 0, 0, 0, 0, 0, 0, 0, 0, 0, 0, 0, 0, 0, 0, 0,    0, 0,    0,    0, 0, 0, 0, 0, 0, 0, 1, 0, -1],\n",
      "[0, 0,   0, 0, 0, 0, 0,   0,     0,     0, 0, 0, 0, 0, 0, 0, 0, 0, 0, 0, 0, 0, 0, 0, 0, 0,    0, 0,    0,    0, 0, 0, 0, 0, 0, 0, 0, 1, -1],\n",
      "[0, 0,   0, 0, 0, 0, 0,   0,     0,     0, 0, 0, 0, 0, 0, 0, 0, 0, 0, 0, 0, 0, 0, 0, 0, 0,    0, 0,    0,    0, 0, 0, 0, 0, 0, 0, 0, 0,  0],\n",
      "[0, 0,   0, 0, 0, 0, 0,   0,     0,     0, 0, 0, 0, 0, 0, 0, 0, 0, 0, 0, 0, 0, 0, 0, 0, 0,    0, 0,    0,    0, 0, 0, 0, 0, 0, 0, 0, 0,  0]]), (1, 3, 4, 5, 6, 10, 11, 12, 13, 14, 15, 16, 17, 18, 19, 20, 22, 23, 24, 25, 27, 30, 31, 32, 33, 34, 35, 36, 37))\n"
     ]
    }
   ],
   "source": [
    "massDim = 10\n",
    "IBP_matrix_3 = generate_IBP_matrix(massDim)\n",
    "IBP_matrix_3 = sympy.Matrix(IBP_matrix_3)\n",
    "print(IBP_matrix_3)\n",
    "print(IBP_matrix_3.rref())"
   ]
  },
  {
   "cell_type": "markdown",
   "metadata": {},
   "source": [
    "A few points to keep in mind about using EoM for reducing space of operators:\n",
    "\n",
    "**EoMs couple operators of different mass dimension**. So EoMs can't be used to reduce basis of operators of a single mass dimension. So in applying in EoMs, we reduce the basis not of operators of a fixed mass dimension, but of operators *up to* a given mass dimension (assumed to be at least as big as the mass dimension of the operator with the largest mass dimension appearing in the EoMs).  \n",
    "\n",
    "**EoM operators do not belong to set of Lagrangian operators** with phi<->-phi symmetry. So what does EoM imply for relationship between Lagrangian operators? Can perform various operations to both sides of the EoM so that operators are those appearing in Lagrangian - e.g. multiply both sides by P, then by either D^2 or P^2, then by either D^2 or P^2, then by either D^2 or P^2, etc. \n",
    "\n",
    "**Operator coefficients in EoM are not integers as they are in IBP relations. They are parameters of the renormalizable part of the Lagrangian**. Generate random coefficients for EOMs.\n"
   ]
  },
  {
   "cell_type": "markdown",
   "metadata": {},
   "source": [
    "Plan: \n",
    "\n",
    "1) Write function to generate larger coefficient vector, generate_coefficient_vector_all, that includes all operators *up to* a given mass dimension, rather than just operators *of* a given mass dimension. \n",
    "\n",
    "2) Convert EoM relation, which does not contain operators occurring in the Lagrangian, into one that does. As default, use random coefficients (or maybe coeffs that are all one) - we are interested in which operators can be eliminated, not in the precise values of their coefficients. My guess is that it is only for special values of the coefficients (some set of measure zero) that the precise values of the coefficients may alter the operator eliminations that can be performed from what they are in the generic case. Maybe just try multiplying both sides of the EoM by P - this seems simplest. \n",
    "\n",
    "3) Concatenate all IBP and EOM relations up to a given mass dimension into a single matrix. Then put into reduced row echelon form (rref).\n",
    "\n",
    "4) Eliminate all operators associated with pivot point indices.\n"
   ]
  },
  {
   "cell_type": "markdown",
   "metadata": {},
   "source": [
    "## Generate EOM Relations"
   ]
  },
  {
   "cell_type": "code",
   "execution_count": 39,
   "metadata": {},
   "outputs": [
    {
     "data": {
      "text/plain": [
       "[1,\n",
       " 1,\n",
       " 0,\n",
       " 1,\n",
       " 0,\n",
       " 0,\n",
       " 0,\n",
       " 0,\n",
       " 0,\n",
       " 0,\n",
       " 0,\n",
       " 0,\n",
       " 0,\n",
       " 0,\n",
       " 0,\n",
       " 0,\n",
       " 0,\n",
       " 0,\n",
       " 0,\n",
       " 0,\n",
       " 0,\n",
       " 0,\n",
       " 0,\n",
       " 0,\n",
       " 0,\n",
       " 0,\n",
       " 0]"
      ]
     },
     "execution_count": 39,
     "metadata": {},
     "output_type": "execute_result"
    }
   ],
   "source": [
    "def generate_EOM_term_list():\n",
    "    #EXPLANATION: EOM terms are not part of Lagrangian. To express EoM as a relationship among Lagrangian terms,\n",
    "    #multiply all terms by P. This results in the following list of terms\n",
    "    \n",
    "    #define constituent fields\n",
    "    D = field('D', 1, 'mu')\n",
    "    P = field('P', 1)\n",
    "    \n",
    "    #define individual terms in EoM\n",
    "    term1 = term([P, D, D, P], [(1, 2)])\n",
    "    term2 = term([P, P], [])\n",
    "    term3 = term([P, P, P, P], [])\n",
    "    \n",
    "    EOM_term_list = [term1, term2, term3]\n",
    "    \n",
    "    return EOM_term_list\n",
    "\n",
    "def generate_EOM_coefficient_vector(massDim):\n",
    "    \n",
    "    EOM_term_list = generate_EOM_term_list()\n",
    "    EOM_coefficient_vector = generate_coefficient_vector(EOM_term_list, massDim, up_to=True)\n",
    "    \n",
    "    return EOM_coefficient_vector\n",
    "\n",
    "massDim = 8\n",
    "EOM_coefficient_vector = generate_EOM_coefficient_vector(massDim)\n",
    "EOM_coefficient_vector"
   ]
  },
  {
   "cell_type": "markdown",
   "metadata": {},
   "source": [
    "## Combine IBP and EOM Relations into Single Matrix, and Eliminate Redundant Operators"
   ]
  },
  {
   "cell_type": "code",
   "execution_count": 23,
   "metadata": {},
   "outputs": [
    {
     "ename": "NameError",
     "evalue": "name 'sympy' is not defined",
     "output_type": "error",
     "traceback": [
      "\u001b[0;31m---------------------------------------------------------------------------\u001b[0m",
      "\u001b[0;31mNameError\u001b[0m                                 Traceback (most recent call last)",
      "\u001b[0;32m<ipython-input-23-dcb9870c1c43>\u001b[0m in \u001b[0;36m<module>\u001b[0;34m()\u001b[0m\n\u001b[1;32m      6\u001b[0m     \u001b[0;32mreturn\u001b[0m \u001b[0mIBP_EOM_matrix\u001b[0m\u001b[0;34m\u001b[0m\u001b[0m\n\u001b[1;32m      7\u001b[0m \u001b[0;34m\u001b[0m\u001b[0m\n\u001b[0;32m----> 8\u001b[0;31m \u001b[0mIBP_EOM_matrix\u001b[0m \u001b[0;34m=\u001b[0m \u001b[0msympy\u001b[0m\u001b[0;34m.\u001b[0m\u001b[0mMatrix\u001b[0m\u001b[0;34m(\u001b[0m\u001b[0mgenerate_IBP_EOM_matrix\u001b[0m\u001b[0;34m(\u001b[0m\u001b[0mmassDim\u001b[0m\u001b[0;34m)\u001b[0m\u001b[0;34m)\u001b[0m\u001b[0;34m\u001b[0m\u001b[0m\n\u001b[0m\u001b[1;32m      9\u001b[0m \u001b[0;34m\u001b[0m\u001b[0m\n\u001b[1;32m     10\u001b[0m \u001b[0mIBP_EOM_matrix\u001b[0m\u001b[0;34m\u001b[0m\u001b[0m\n",
      "\u001b[0;31mNameError\u001b[0m: name 'sympy' is not defined"
     ]
    }
   ],
   "source": [
    "def generate_IBP_EOM_matrix(massDim):\n",
    "    IBP_matrix = generate_IBP_matrix(massDim, up_to=True)\n",
    "    EOM_coefficient_vector = generate_EOM_coefficient_vector(massDim)\n",
    "    \n",
    "    IBP_EOM_matrix = IBP_matrix + [EOM_coefficient_vector]\n",
    "    return IBP_EOM_matrix\n",
    "\n",
    "IBP_EOM_matrix = sympy.Matrix(generate_IBP_EOM_matrix(massDim))\n",
    "\n",
    "IBP_EOM_matrix\n",
    "    "
   ]
  },
  {
   "cell_type": "code",
   "execution_count": 24,
   "metadata": {},
   "outputs": [
    {
     "ename": "NameError",
     "evalue": "name 'generate_IBP_matrix' is not defined",
     "output_type": "error",
     "traceback": [
      "\u001b[0;31m---------------------------------------------------------------------------\u001b[0m",
      "\u001b[0;31mNameError\u001b[0m                                 Traceback (most recent call last)",
      "\u001b[0;32m<ipython-input-24-0fa7062531be>\u001b[0m in \u001b[0;36m<module>\u001b[0;34m()\u001b[0m\n\u001b[1;32m     12\u001b[0m \u001b[0;34m\u001b[0m\u001b[0m\n\u001b[1;32m     13\u001b[0m \u001b[0mmassDim\u001b[0m \u001b[0;34m=\u001b[0m \u001b[0;36m8\u001b[0m\u001b[0;34m\u001b[0m\u001b[0m\n\u001b[0;32m---> 14\u001b[0;31m \u001b[0mIBP_EOM_rref\u001b[0m\u001b[0;34m,\u001b[0m \u001b[0mremoved_indices\u001b[0m \u001b[0;34m=\u001b[0m \u001b[0mgenerate_IBP_EOM_rref\u001b[0m\u001b[0;34m(\u001b[0m\u001b[0mmassDim\u001b[0m\u001b[0;34m)\u001b[0m\u001b[0;34m\u001b[0m\u001b[0m\n\u001b[0m\u001b[1;32m     15\u001b[0m \u001b[0mprint\u001b[0m\u001b[0;34m(\u001b[0m\u001b[0mremoved_indices\u001b[0m\u001b[0;34m)\u001b[0m\u001b[0;34m\u001b[0m\u001b[0m\n\u001b[1;32m     16\u001b[0m \u001b[0mIBP_EOM_rref\u001b[0m\u001b[0;34m\u001b[0m\u001b[0m\n",
      "\u001b[0;32m<ipython-input-24-0fa7062531be>\u001b[0m in \u001b[0;36mgenerate_IBP_EOM_rref\u001b[0;34m(massDim)\u001b[0m\n\u001b[1;32m      6\u001b[0m     \u001b[0;31m#IBP_RREF: matrix (numpy array) of IBP constraints in reduced row echelon form (rref)\u001b[0m\u001b[0;34m\u001b[0m\u001b[0;34m\u001b[0m\u001b[0m\n\u001b[1;32m      7\u001b[0m     \u001b[0;31m#removed_indices: indices of operators that can be eliminated\u001b[0m\u001b[0;34m\u001b[0m\u001b[0;34m\u001b[0m\u001b[0m\n\u001b[0;32m----> 8\u001b[0;31m     \u001b[0mIBP_EOM_matrix\u001b[0m \u001b[0;34m=\u001b[0m \u001b[0mgenerate_IBP_EOM_matrix\u001b[0m\u001b[0;34m(\u001b[0m\u001b[0mmassDim\u001b[0m\u001b[0;34m)\u001b[0m\u001b[0;34m\u001b[0m\u001b[0m\n\u001b[0m\u001b[1;32m      9\u001b[0m     \u001b[0mIBP_EOM_matrix\u001b[0m \u001b[0;34m=\u001b[0m \u001b[0msympy\u001b[0m\u001b[0;34m.\u001b[0m\u001b[0mMatrix\u001b[0m\u001b[0;34m(\u001b[0m\u001b[0mIBP_EOM_matrix\u001b[0m\u001b[0;34m)\u001b[0m\u001b[0;34m\u001b[0m\u001b[0m\n\u001b[1;32m     10\u001b[0m     \u001b[0mIBP_EOM_rref\u001b[0m\u001b[0;34m,\u001b[0m \u001b[0mremoved_indices\u001b[0m \u001b[0;34m=\u001b[0m \u001b[0mIBP_EOM_matrix\u001b[0m\u001b[0;34m.\u001b[0m\u001b[0mrref\u001b[0m\u001b[0;34m(\u001b[0m\u001b[0;34m)\u001b[0m\u001b[0;34m\u001b[0m\u001b[0m\n",
      "\u001b[0;32m<ipython-input-23-dcb9870c1c43>\u001b[0m in \u001b[0;36mgenerate_IBP_EOM_matrix\u001b[0;34m(massDim)\u001b[0m\n\u001b[1;32m      1\u001b[0m \u001b[0;32mdef\u001b[0m \u001b[0mgenerate_IBP_EOM_matrix\u001b[0m\u001b[0;34m(\u001b[0m\u001b[0mmassDim\u001b[0m\u001b[0;34m)\u001b[0m\u001b[0;34m:\u001b[0m\u001b[0;34m\u001b[0m\u001b[0m\n\u001b[0;32m----> 2\u001b[0;31m     \u001b[0mIBP_matrix\u001b[0m \u001b[0;34m=\u001b[0m \u001b[0mgenerate_IBP_matrix\u001b[0m\u001b[0;34m(\u001b[0m\u001b[0mmassDim\u001b[0m\u001b[0;34m,\u001b[0m \u001b[0mup_to\u001b[0m\u001b[0;34m=\u001b[0m\u001b[0;32mTrue\u001b[0m\u001b[0;34m)\u001b[0m\u001b[0;34m\u001b[0m\u001b[0m\n\u001b[0m\u001b[1;32m      3\u001b[0m     \u001b[0mEOM_coefficient_vector\u001b[0m \u001b[0;34m=\u001b[0m \u001b[0mgenerate_EOM_coefficient_vector\u001b[0m\u001b[0;34m(\u001b[0m\u001b[0mmassDim\u001b[0m\u001b[0;34m)\u001b[0m\u001b[0;34m\u001b[0m\u001b[0m\n\u001b[1;32m      4\u001b[0m \u001b[0;34m\u001b[0m\u001b[0m\n\u001b[1;32m      5\u001b[0m     \u001b[0mIBP_EOM_matrix\u001b[0m \u001b[0;34m=\u001b[0m \u001b[0mIBP_matrix\u001b[0m \u001b[0;34m+\u001b[0m \u001b[0;34m[\u001b[0m\u001b[0mEOM_coefficient_vector\u001b[0m\u001b[0;34m]\u001b[0m\u001b[0;34m\u001b[0m\u001b[0m\n",
      "\u001b[0;31mNameError\u001b[0m: name 'generate_IBP_matrix' is not defined"
     ]
    }
   ],
   "source": [
    "\n",
    "def generate_IBP_EOM_rref(massDim):\n",
    "    #INPUT\n",
    "    #massDim: mass dimension, int\n",
    "    #OUTPUT\n",
    "    #IBP_RREF: matrix (numpy array) of IBP constraints in reduced row echelon form (rref)\n",
    "    #removed_indices: indices of operators that can be eliminated\n",
    "    IBP_EOM_matrix = generate_IBP_EOM_matrix(massDim)\n",
    "    IBP_EOM_matrix = sympy.Matrix(IBP_EOM_matrix)\n",
    "    IBP_EOM_rref, removed_indices = IBP_EOM_matrix.rref()\n",
    "    return IBP_EOM_rref, removed_indices\n",
    "\n",
    "massDim = 8\n",
    "IBP_EOM_rref, removed_indices = generate_IBP_EOM_rref(massDim)\n",
    "print(removed_indices)\n",
    "IBP_EOM_rref"
   ]
  },
  {
   "cell_type": "markdown",
   "metadata": {},
   "source": [
    "The list of operators to eliminate based on IBP and EOM are those corresponding to index values (0, 2, 5, 7, 8, 9, 12, 14, 15, 16, 17, 21, 22, 23, 24, 25). The remaining operators constitute a minimal basis for operators up to mass dimension 8. "
   ]
  },
  {
   "cell_type": "markdown",
   "metadata": {},
   "source": [
    "Compare indices to those generated without using EOM."
   ]
  },
  {
   "cell_type": "code",
   "execution_count": 56,
   "metadata": {},
   "outputs": [
    {
     "data": {
      "text/plain": [
       "(2, 5, 7, 8, 9, 12, 14, 15, 16, 17, 21, 22, 23, 24, 25)"
      ]
     },
     "execution_count": 56,
     "metadata": {},
     "output_type": "execute_result"
    }
   ],
   "source": [
    "sympy.Matrix(generate_IBP_matrix(massDim, up_to=True)).rref()[1]"
   ]
  },
  {
   "cell_type": "markdown",
   "metadata": {},
   "source": [
    "Note that without EOM, the operator corresponding to index 0, which was eliminated above, is not eliminated if we use only IBP.  "
   ]
  },
  {
   "cell_type": "code",
   "execution_count": 61,
   "metadata": {},
   "outputs": [
    {
     "data": {
      "text/plain": [
       "11"
      ]
     },
     "execution_count": 61,
     "metadata": {},
     "output_type": "execute_result"
    }
   ],
   "source": [
    "total_terms = 0\n",
    "for m in range(massDim):\n",
    "    total_terms += len(generate_fully_contracted(m))\n",
    "total_terms"
   ]
  },
  {
   "cell_type": "code",
   "execution_count": 1,
   "metadata": {},
   "outputs": [
    {
     "data": {
      "text/plain": [
       "16"
      ]
     },
     "execution_count": 1,
     "metadata": {},
     "output_type": "execute_result"
    }
   ],
   "source": [
    "len((0, 2, 5, 7, 8, 9, 12, 14, 15, 16, 17, 21, 22, 23, 24, 25))"
   ]
  },
  {
   "cell_type": "code",
   "execution_count": null,
   "metadata": {
    "collapsed": true
   },
   "outputs": [],
   "source": []
  }
 ],
 "metadata": {
  "kernelspec": {
   "display_name": "Python 3",
   "language": "python",
   "name": "python3"
  },
  "language_info": {
   "codemirror_mode": {
    "name": "ipython",
    "version": 3
   },
   "file_extension": ".py",
   "mimetype": "text/x-python",
   "name": "python",
   "nbconvert_exporter": "python",
   "pygments_lexer": "ipython3",
   "version": "3.6.3"
  }
 },
 "nbformat": 4,
 "nbformat_minor": 2
}
