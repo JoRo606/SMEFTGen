{
 "cells": [
  {
   "cell_type": "markdown",
   "metadata": {},
   "source": [
    "# Define Classes for Field and Term Objects\n"
   ]
  },
  {
   "cell_type": "code",
   "execution_count": 1,
   "metadata": {
    "collapsed": true
   },
   "outputs": [],
   "source": [
    "import numpy as np"
   ]
  },
  {
   "cell_type": "code",
   "execution_count": 2,
   "metadata": {
    "collapsed": true
   },
   "outputs": [],
   "source": [
    "class field(object):\n",
    "    def __init__(self, symbol, massDim, lorentz_rank, spinor_rank, spinor_rank_conj):\n",
    "        self.symbol = symbol #string symbol for field\n",
    "        self.lorentz_rank = lorentz_rank #int indicating lorentz rank of field\n",
    "        self.spinor_rank = spinor_rank #int indicating spinor rank of field\n",
    "        self.spinor_rank_conj = spinor_rank_conj #int indicating spinor rank of field\n",
    "        self.massDim= massDim #int indicating mass dimension of field\n",
    "    def info(self):\n",
    "        return 'symbol: ' + str(self.symbol) \\\n",
    "            + ' massDim: ' + str(self.massDim) \\\n",
    "            + ' lorentz_rank: ' + str(self.lorentz_rank) \\\n",
    "            + ' spinor_rank: ' + str(self.spinor_rank)\n",
    "    def get_symbol(self):\n",
    "        return self.symbol\n",
    "    def get_index(self):\n",
    "        return self.index\n",
    "    def get_massDim(self):\n",
    "        return int(self.massDim)\n",
    "    def __eq__(self, other):\n",
    "        eq = (self.symbol == other.symbol)\n",
    "        return eq\n",
    "    \n",
    "class term(object):\n",
    "    def __init__(self, field_list, lorentz_contractions=[], spinor_contractions=[]):\n",
    "        self.field_list = field_list #ordered list of field objects\n",
    "        self.lorentz_contractions = lorentz_contractions\n",
    "        self.spinor_contractions = spinor_contractions #list of 2-tuples, indicating index values of fields in self.fields that are contracted \n",
    "    def __eq__(self, other):\n",
    "        eq = (self.field_list == other.field_list)&(self.lorentz_contractions == other.lorentz_contractions)&(self.spinor_contractions == other.spinor_contractions)\n",
    "        return eq\n",
    "    def __str__(self):\n",
    "        return 'fields: ' + str([item.get_symbol() for item in self.field_list]) + '\\n' \\\n",
    "            + 'contractions: ' + str(self.contractions)\n",
    "    def get_field_list(self):\n",
    "        return self.field_list\n",
    "    def get_lorentz_contractions(self):\n",
    "        return self.lorentz_contractions\n",
    "    def get_spinor_contractions(self):\n",
    "        return self.spinor_contractions\n",
    "    def set_field_list(self, field_list):\n",
    "        self.field_list = field_list\n",
    "    def set_lorentz_contractions(self, lorentz_contractions):\n",
    "        self.lorentz_contractions = lorentz_contractions\n",
    "    def set_spinor_contractions(self, spinor_contractions):\n",
    "        self.spinor_contractions = spinor_contractions    \n",
    "    def massDim(self):\n",
    "        massDim = 0\n",
    "        field_list = self.field_list\n",
    "        #print(field_list)\n",
    "        for field in field_list:\n",
    "            massDim += field.get_massDim()\n",
    "        return massDim \n",
    "    def get_field_symbols(self):\n",
    "        field_symbols = []\n",
    "        for item in self.field_list:\n",
    "            field_symbols.append(item.get_symbol())\n",
    "        return field_symbols    "
   ]
  },
  {
   "cell_type": "code",
   "execution_count": 5,
   "metadata": {},
   "outputs": [],
   "source": [
    "#spacetime derivative\n",
    "D = field('D', massDim=1, lorentz_rank=1, spinor_rank=0, spinor_rank_conj=0)\n",
    "\n",
    "#dynamical fields\n",
    "F = field('A', massDim=2, lorentz_rank=2, spinor_rank=0, spinor_rank_conj=0)\n",
    "P = field('P', massDim=3/2, lorentz_rank=0, spinor_rank=1, spinor_rank_conj=0)\n",
    "Pb = field('Pb', massDim=3/2, lorentz_rank=0, spinor_rank=0, spinor_rank_conj=1)\n",
    "\n",
    "#16 spinor space blinears: 1 lorentz scalar, 4 lorentz vectors, 6 lorentz tensors, 4 lorentz pseudovector, 1 lorentz pseudoscalar. \n",
    "#not dynamical fields, constant matrices in spinor space\n",
    "_S_ = field('_S_', massDim=0, lorentz_rank=0, spinor_rank=1, spinor_rank_conj=1) #1 of these\n",
    "_V_ = field('_V_', massDim=0, lorentz_rank=1, spinor_rank=1, spinor_rank_conj=1) #4 of these\n",
    "_T_ = field('_T_', massDim=0, lorentz_rank=2, spinor_rank=1, spinor_rank_conj=1) #6 of these\n",
    "_Vp_ = field('_Vp_', massDim=0, lorentz_rank=1, spinor_rank=1, spinor_rank_conj=1) #4 of these\n",
    "_Sp_ = field('_Sp_', massDim=0, lorentz_rank=0, spinor_rank=1, spinor_rank_conj=1) #1 of these"
   ]
  },
  {
   "cell_type": "markdown",
   "metadata": {},
   "source": [
    "# Generate All Terms of a Given Mass Dimension - with One Free Lorentz Index (for IBP), and with No Free Indices"
   ]
  },
  {
   "cell_type": "markdown",
   "metadata": {},
   "source": [
    "*Preliminary thoughts*: Fix mass dimension, M. Fields in the term must be such that mass dimensions add up to M. Note that Dirac bilinear terms have no mass dimension, so the mass dimension does not directly constrain the allowed number of these. But constant matrices relate different index spaces (e.g., lorentz, spinor). \n",
    "- count number of derivatives up to and including 0, ..., M-1 (only M-1 and not M because a term must contain at least one dynamical field). \n",
    "- for each number of derivatives, find all combinations of fields consistent with the mass dimension (forgetting about contractions for the moment).\n",
    "- for each number of derivatives, and for each such combination of fields, perform all possible contractions, including all combinations of constant bilinear spinor space matrices. \n",
    "- define an equivalence relation between terms (based on commutation/anticommutation of derivatives/fields, various identities such as Fierz identities) to remove repeats. "
   ]
  },
  {
   "cell_type": "code",
   "execution_count": null,
   "metadata": {
    "collapsed": true
   },
   "outputs": [],
   "source": [
    "def generate_field_combos(massDim):\n",
    "    #EXPLANATION: generates all combinations of fields and derivatives at a given mass dimension \n",
    "    term_list = []\n",
    "    F = field('A', massDim=2, lorentz_rank=2, spinor_rank=0, spinor_rank_conj=0)\n",
    "    P = field('P', massDim=3/2, lorentz_rank=0, spinor_rank=1, spinor_rank_conj=0)\n",
    "    Pb = field('Pb', massDim=3/2, lorentz_rank=0, spinor_rank=0, spinor_rank_conj=1)\n",
    "    for n_d in range(massDim-1):\n",
    "        fields_dim = massDim - n_d #combined mass dimension of fields in term\n",
    "        while fields_dim > 0:\n",
    "            \n",
    "    return field_combo          \n",
    "            \n",
    "def generate_derivative_assignments(field_combo):\n",
    "    #EXPLANATION: generates all assignments of derivatives to fields for a given combination\n",
    "    return deriv_assignments\n",
    "\n",
    "def generate_contractions(deriv_assignments, num_free_lorentz):\n",
    "    return terms_contracted\n",
    "    \n",
    "def generate_fully_contracted(massDim):\n",
    "    return term_list\n",
    "            \n",
    "            \n",
    "        \n",
    "        \n",
    "        "
   ]
  },
  {
   "cell_type": "code",
   "execution_count": 4,
   "metadata": {
    "collapsed": true
   },
   "outputs": [],
   "source": []
  },
  {
   "cell_type": "code",
   "execution_count": null,
   "metadata": {
    "collapsed": true
   },
   "outputs": [],
   "source": []
  }
 ],
 "metadata": {
  "kernelspec": {
   "display_name": "Python 3",
   "language": "python",
   "name": "python3"
  },
  "language_info": {
   "codemirror_mode": {
    "name": "ipython",
    "version": 3
   },
   "file_extension": ".py",
   "mimetype": "text/x-python",
   "name": "python",
   "nbconvert_exporter": "python",
   "pygments_lexer": "ipython3",
   "version": "3.6.3"
  }
 },
 "nbformat": 4,
 "nbformat_minor": 2
}
