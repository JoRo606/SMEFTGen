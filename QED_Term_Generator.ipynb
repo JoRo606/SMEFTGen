{
 "cells": [
  {
   "cell_type": "markdown",
   "metadata": {},
   "source": [
    "# Define Classes for Field and Term Objects\n"
   ]
  },
  {
   "cell_type": "code",
   "execution_count": 140,
   "metadata": {
    "collapsed": true
   },
   "outputs": [],
   "source": [
    "import numpy as np"
   ]
  },
  {
   "cell_type": "code",
   "execution_count": 141,
   "metadata": {
    "collapsed": true
   },
   "outputs": [],
   "source": [
    "class field(object):\n",
    "    def __init__(self, symbol, massDim, lorentz_rank, spinor_rank, spinor_rank_conj):\n",
    "        self.symbol = symbol #string symbol for field\n",
    "        self.lorentz_rank = lorentz_rank #int indicating lorentz rank of field\n",
    "        self.spinor_rank = spinor_rank #int indicating spinor rank of field\n",
    "        self.spinor_rank_conj = spinor_rank_conj #int indicating spinor rank of field\n",
    "        self.massDim= massDim #int indicating mass dimension of field\n",
    "    def info(self):\n",
    "        return 'symbol: ' + str(self.symbol) \\\n",
    "            + ' massDim: ' + str(self.massDim) \\\n",
    "            + ' lorentz_rank: ' + str(self.lorentz_rank) \\\n",
    "            + ' spinor_rank: ' + str(self.spinor_rank)\n",
    "    def get_symbol(self):\n",
    "        return self.symbol\n",
    "    def get_index(self):\n",
    "        return self.index\n",
    "    def get_massDim(self):\n",
    "        return self.massDim\n",
    "    def __eq__(self, other):\n",
    "        eq = (self.symbol == other.symbol)\n",
    "        return eq\n",
    "    \n",
    "class term(object):\n",
    "    def __init__(self, field_list, lorentz_contractions=[], spinor_contractions=[]):\n",
    "        self.field_list = field_list #ordered list of field objects\n",
    "        self.lorentz_contractions = lorentz_contractions\n",
    "        self.spinor_contractions = spinor_contractions #list of 2-tuples, indicating index values of fields in self.fields that are contracted \n",
    "    def __eq__(self, other):\n",
    "        eq = (self.field_list == other.field_list)&(self.lorentz_contractions == other.lorentz_contractions)&(self.spinor_contractions == other.spinor_contractions)\n",
    "        return eq\n",
    "    def __str__(self):\n",
    "        return 'fields: ' + str([item.get_symbol() for item in self.field_list]) + '\\n' \\\n",
    "            + 'contractions: ' + str(self.contractions)\n",
    "    def get_field_list(self):\n",
    "        return self.field_list\n",
    "    def get_lorentz_contractions(self):\n",
    "        return self.lorentz_contractions\n",
    "    def get_spinor_contractions(self):\n",
    "        return self.spinor_contractions\n",
    "    def set_field_list(self, field_list):\n",
    "        self.field_list = field_list\n",
    "    def set_lorentz_contractions(self, lorentz_contractions):\n",
    "        self.lorentz_contractions = lorentz_contractions\n",
    "    def set_spinor_contractions(self, spinor_contractions):\n",
    "        self.spinor_contractions = spinor_contractions    \n",
    "    def massDim(self):\n",
    "        massDim = 0\n",
    "        field_list = self.field_list\n",
    "        #print(field_list)\n",
    "        for field in field_list:\n",
    "            massDim += field.get_massDim()\n",
    "        return massDim \n",
    "    def get_field_symbols(self):\n",
    "        field_symbols = []\n",
    "        for item in self.field_list:\n",
    "            field_symbols.append(item.get_symbol())\n",
    "        return field_symbols    "
   ]
  },
  {
   "cell_type": "code",
   "execution_count": 142,
   "metadata": {
    "collapsed": true
   },
   "outputs": [],
   "source": [
    "#spacetime derivative\n",
    "D = field('D', massDim=1, lorentz_rank=1, spinor_rank=0, spinor_rank_conj=0)\n",
    "\n",
    "#dynamical fields\n",
    "F = field('A', massDim=2, lorentz_rank=2, spinor_rank=0, spinor_rank_conj=0)\n",
    "P = field('P', massDim=3/2, lorentz_rank=0, spinor_rank=1, spinor_rank_conj=0)\n",
    "Pb = field('Pb', massDim=3/2, lorentz_rank=0, spinor_rank=0, spinor_rank_conj=1)\n",
    "\n",
    "#16 spinor space blinears: 1 lorentz scalar, 4 lorentz vectors, 6 lorentz tensors, 4 lorentz pseudovector, 1 lorentz pseudoscalar. \n",
    "#not dynamical fields, constant matrices in spinor space\n",
    "_S_ = field('_S_', massDim=0, lorentz_rank=0, spinor_rank=1, spinor_rank_conj=1) #1 of these\n",
    "_V_ = field('_V_', massDim=0, lorentz_rank=1, spinor_rank=1, spinor_rank_conj=1) #4 of these\n",
    "_T_ = field('_T_', massDim=0, lorentz_rank=2, spinor_rank=1, spinor_rank_conj=1) #6 of these\n",
    "_Vp_ = field('_Vp_', massDim=0, lorentz_rank=1, spinor_rank=1, spinor_rank_conj=1) #4 of these\n",
    "_Sp_ = field('_Sp_', massDim=0, lorentz_rank=0, spinor_rank=1, spinor_rank_conj=1) #1 of these"
   ]
  },
  {
   "cell_type": "markdown",
   "metadata": {},
   "source": [
    "# Generate All Terms of a Given Mass Dimension - with One Free Lorentz Index (for IBP), and with No Free Indices"
   ]
  },
  {
   "cell_type": "markdown",
   "metadata": {},
   "source": [
    "*Preliminary thoughts*: Fix mass dimension, M. Fields in the term must be such that mass dimensions add up to M. Note that Dirac bilinear terms have no mass dimension, so the mass dimension does not directly constrain the allowed number of these. But constant matrices relate different index spaces (e.g., lorentz, spinor). \n",
    "- count number of derivatives up to and including 0, ..., M-1 (only M-1 and not M because a term must contain at least one dynamical field). \n",
    "- for each number of derivatives, find all combinations of fields consistent with the mass dimension (forgetting about contractions for the moment).\n",
    "- for each number of derivatives, and for each such combination of fields, perform all possible contractions, including all combinations of constant bilinear spinor space matrices. \n",
    "- define an equivalence relation between terms (based on commutation/anticommutation of derivatives/fields, various identities such as Fierz identities) to remove repeats. "
   ]
  },
  {
   "cell_type": "code",
   "execution_count": 143,
   "metadata": {
    "collapsed": true
   },
   "outputs": [],
   "source": [
    "def generate_field_combos_d(massDim, num_derivs):\n",
    "    D = field('D', massDim=1, lorentz_rank=1, spinor_rank=0, spinor_rank_conj=0)\n",
    "    F = field('F', massDim=2, lorentz_rank=2, spinor_rank=0, spinor_rank_conj=0)\n",
    "    P = field('P', massDim=1.5, lorentz_rank=0, spinor_rank=1, spinor_rank_conj=0) #Psi\n",
    "    Pb = field('Pb', massDim=1.5, lorentz_rank=0, spinor_rank=0, spinor_rank_conj=1) #Psi_bar\n",
    "    \n",
    "    if massDim <= num_derivs:\n",
    "        return []\n",
    "    else:\n",
    "        combo_root = num_derivs*[D]\n",
    "        combo_roots_list = [combo_root]\n",
    "        massDim_res_max = massDim - num_derivs\n",
    "       \n",
    "        while massDim_res_max >= 2:\n",
    "            combo_roots_list_new = []\n",
    "\n",
    "            #print(\"\")\n",
    "            #print(\"combo_roots_list:\")\n",
    "            #for combo in combo_roots_list:\n",
    "                #print(str([item.get_symbol() for item in combo]))\n",
    "        \n",
    "            for i in range(len(combo_roots_list)):\n",
    "                massDim_root = sum([item.get_massDim() for item in combo_roots_list[i]])\n",
    "                massDim_res = massDim - massDim_root\n",
    "                #append any elements that already have residual massDim less than 2\n",
    "                if massDim_res < 2:\n",
    "                    combo_roots_list_new.append(combo_roots_list[i])\n",
    "                if massDim_res >= 2:\n",
    "                    combo_root_new1 = combo_roots_list[i].copy()\n",
    "                    combo_root_new1.append(F)\n",
    "                    combo_roots_list_new.append(combo_root_new1)\n",
    "                if massDim_res >= 3:\n",
    "                    combo_root_new2 = combo_roots_list[i].copy()\n",
    "                    combo_root_new2.append(Pb)\n",
    "                    combo_root_new2.append(P)\n",
    "                    combo_roots_list_new.append(combo_root_new2)  \n",
    "            #for combo in combo_roots_list_new:\n",
    "                #print(str([item.get_symbol() for item in combo]))\n",
    "            \n",
    "            massDim_res_max = max([(massDim - sum([item.get_massDim() for item in combo_roots_list_new[i]])) for i in range(len(combo_roots_list_new))])\n",
    "            #print(\"massDim_res_max: \" + str(massDim_res_max))\n",
    "            combo_roots_list = combo_roots_list_new\n",
    "        \n",
    "        #prune combo_roots_list, removing any terms with mass dimension massDim-1\n",
    "        #print(\"\")\n",
    "        #print(\"combo_roots_list_final:\")\n",
    "        #for combo in combo_roots_list:\n",
    "            #print(str([item.get_symbol() for item in combo]))\n",
    "            \n",
    "        combos_list_pruned = []\n",
    "        for combo in combo_roots_list:\n",
    "            combo_massDim = sum([item.get_massDim() for item in combo])\n",
    "            if combo_massDim == massDim:\n",
    "                combos_list_pruned.append(combo)\n",
    "            else:\n",
    "                pass    \n",
    "\n",
    "    return combos_list_pruned"
   ]
  },
  {
   "cell_type": "code",
   "execution_count": 144,
   "metadata": {},
   "outputs": [
    {
     "name": "stdout",
     "output_type": "stream",
     "text": [
      "len(field_combos): 2\n",
      "['D', 'D', 'D', 'D', 'F', 'F', 'F']\n",
      "['D', 'D', 'D', 'D', 'Pb', 'P', 'Pb', 'P']\n"
     ]
    }
   ],
   "source": [
    "field_combos = generate_field_combos_d(10, 4)\n",
    "print(\"len(field_combos): \" + str(len(field_combos)))\n",
    "for combo in field_combos:\n",
    "    print(str([item.get_symbol() for item in combo]))"
   ]
  },
  {
   "cell_type": "code",
   "execution_count": 145,
   "metadata": {
    "collapsed": true
   },
   "outputs": [],
   "source": [
    "def generate_field_combos(massDim):\n",
    "    combos_list = []\n",
    "    for num_derivs in range(massDim):\n",
    "        combos_list_d = generate_field_combos_d(massDim, num_derivs)\n",
    "        combos_list += combos_list_d\n",
    "    return combos_list        "
   ]
  },
  {
   "cell_type": "code",
   "execution_count": 146,
   "metadata": {},
   "outputs": [
    {
     "name": "stdout",
     "output_type": "stream",
     "text": [
      "len(field_combos): 26\n",
      "['F', 'F', 'F', 'F', 'F']\n",
      "['F', 'F', 'Pb', 'P', 'Pb', 'P']\n",
      "['F', 'Pb', 'P', 'F', 'Pb', 'P']\n",
      "['F', 'Pb', 'P', 'Pb', 'P', 'F']\n",
      "['Pb', 'P', 'F', 'F', 'Pb', 'P']\n",
      "['Pb', 'P', 'F', 'Pb', 'P', 'F']\n",
      "['Pb', 'P', 'Pb', 'P', 'F', 'F']\n",
      "['D', 'F', 'F', 'F', 'Pb', 'P']\n",
      "['D', 'F', 'F', 'Pb', 'P', 'F']\n",
      "['D', 'F', 'Pb', 'P', 'F', 'F']\n",
      "['D', 'Pb', 'P', 'F', 'F', 'F']\n",
      "['D', 'Pb', 'P', 'Pb', 'P', 'Pb', 'P']\n",
      "['D', 'D', 'F', 'F', 'F', 'F']\n",
      "['D', 'D', 'F', 'Pb', 'P', 'Pb', 'P']\n",
      "['D', 'D', 'Pb', 'P', 'F', 'Pb', 'P']\n",
      "['D', 'D', 'Pb', 'P', 'Pb', 'P', 'F']\n",
      "['D', 'D', 'D', 'F', 'F', 'Pb', 'P']\n",
      "['D', 'D', 'D', 'F', 'Pb', 'P', 'F']\n",
      "['D', 'D', 'D', 'Pb', 'P', 'F', 'F']\n",
      "['D', 'D', 'D', 'D', 'F', 'F', 'F']\n",
      "['D', 'D', 'D', 'D', 'Pb', 'P', 'Pb', 'P']\n",
      "['D', 'D', 'D', 'D', 'D', 'F', 'Pb', 'P']\n",
      "['D', 'D', 'D', 'D', 'D', 'Pb', 'P', 'F']\n",
      "['D', 'D', 'D', 'D', 'D', 'D', 'F', 'F']\n",
      "['D', 'D', 'D', 'D', 'D', 'D', 'D', 'Pb', 'P']\n",
      "['D', 'D', 'D', 'D', 'D', 'D', 'D', 'D', 'F']\n"
     ]
    }
   ],
   "source": [
    "field_combos = generate_field_combos(10)\n",
    "print(\"len(field_combos): \" + str(len(field_combos)))\n",
    "for combo in field_combos:\n",
    "    print(str([item.get_symbol() for item in combo]))"
   ]
  },
  {
   "cell_type": "code",
   "execution_count": 147,
   "metadata": {},
   "outputs": [],
   "source": [
    "def convert_to_symbol_list(field_list):\n",
    "    symbol_list = [item.get_symbol() for item in field_list]\n",
    "    return(symbol_list)\n",
    "\n",
    "def field_counts(symbol_list):\n",
    "    D_count = 0\n",
    "    F_count = 0\n",
    "    PPb_count = 0 #Pb always comes with P, so no need to count Pb\n",
    "    for item in symbol_list:\n",
    "        if item == 'D':\n",
    "            D_count += 1\n",
    "        elif item == 'F':\n",
    "            F_count += 1\n",
    "        elif item == 'P':\n",
    "            PPb_count += 1 \n",
    "    field_counts = [D_count, F_count, PPb_count]\n",
    "    return field_counts\n",
    "\n",
    "def combos_equiv(symbol_list1, symbol_list2):\n",
    "    return field_counts(symbol_list1) == field_counts(symbol_list2)\n",
    "\n"
   ]
  },
  {
   "cell_type": "code",
   "execution_count": 148,
   "metadata": {},
   "outputs": [
    {
     "data": {
      "text/plain": [
       "[1, 0, 3]"
      ]
     },
     "execution_count": 148,
     "metadata": {},
     "output_type": "execute_result"
    }
   ],
   "source": [
    "field_counts(convert_to_symbol_list(field_combos[11]))"
   ]
  },
  {
   "cell_type": "code",
   "execution_count": 149,
   "metadata": {},
   "outputs": [
    {
     "data": {
      "text/plain": [
       "False"
      ]
     },
     "execution_count": 149,
     "metadata": {},
     "output_type": "execute_result"
    }
   ],
   "source": [
    "combos_equiv(convert_to_symbol_list(field_combos[10]), convert_to_symbol_list(field_combos[11]))"
   ]
  },
  {
   "cell_type": "code",
   "execution_count": null,
   "metadata": {
    "collapsed": true
   },
   "outputs": [],
   "source": []
  },
  {
   "cell_type": "code",
   "execution_count": 171,
   "metadata": {
    "collapsed": true
   },
   "outputs": [],
   "source": [
    "def reduce_field_combos(combo_list):\n",
    "    #INPUT\n",
    "    #combo_list: list of lists of field symbols (strings)\n",
    "    #OUTPUT\n",
    "    #combo_list_reduced: list of lists of field symbols, with repeat combos removed\n",
    "    #EXPLANATION: removes repeat field combos from combo_list\n",
    "    #print(\"len(combo_list): \" + str(len(combo_list)))\n",
    "    combo_list_reduced = [combo_list[0]]\n",
    "    for i in range(len(combo_list)):\n",
    "        #print(\"combo1: \" + str(combo1))\n",
    "        #print(\"\")\n",
    "        #print(\"i: \" + str(i))\n",
    "        #print(\"len(combo_list_reduced): \" + str(len(combo_list_reduced)))\n",
    "        for j in range(len(combo_list_reduced)):\n",
    "            #print(\"combo2: \" + str(combo2))\n",
    "            #print(\"j: \" + str(j))\n",
    "            if combos_equiv(combo_list[i], combo_list_reduced[j]):\n",
    "                #print(\"break\")\n",
    "                break\n",
    "        else:\n",
    "            combo_list_reduced.append(combo_list[i])\n",
    "    return combo_list_reduced  \n",
    "    \n",
    "    "
   ]
  },
  {
   "cell_type": "code",
   "execution_count": 172,
   "metadata": {},
   "outputs": [
    {
     "data": {
      "text/plain": [
       "[['F', 'F', 'F', 'F', 'F'],\n",
       " ['F', 'F', 'Pb', 'P', 'Pb', 'P'],\n",
       " ['D', 'F', 'F', 'F', 'Pb', 'P'],\n",
       " ['D', 'Pb', 'P', 'Pb', 'P', 'Pb', 'P'],\n",
       " ['D', 'D', 'F', 'F', 'F', 'F'],\n",
       " ['D', 'D', 'F', 'Pb', 'P', 'Pb', 'P'],\n",
       " ['D', 'D', 'D', 'F', 'F', 'Pb', 'P'],\n",
       " ['D', 'D', 'D', 'D', 'F', 'F', 'F'],\n",
       " ['D', 'D', 'D', 'D', 'Pb', 'P', 'Pb', 'P'],\n",
       " ['D', 'D', 'D', 'D', 'D', 'F', 'Pb', 'P'],\n",
       " ['D', 'D', 'D', 'D', 'D', 'D', 'F', 'F'],\n",
       " ['D', 'D', 'D', 'D', 'D', 'D', 'D', 'Pb', 'P'],\n",
       " ['D', 'D', 'D', 'D', 'D', 'D', 'D', 'D', 'F']]"
      ]
     },
     "execution_count": 172,
     "metadata": {},
     "output_type": "execute_result"
    }
   ],
   "source": [
    "massDim = 10\n",
    "symbol_lists = []\n",
    "for combo in generate_field_combos(massDim):\n",
    "    symbol_lists.append(convert_to_symbol_list(combo))\n",
    "symbol_lists\n",
    "    \n",
    "combo_list_reduced = reduce_field_combos(symbol_lists)\n",
    "len(combo_list_reduced)\n",
    "combo_list_reduced"
   ]
  },
  {
   "cell_type": "code",
   "execution_count": 173,
   "metadata": {
    "collapsed": true
   },
   "outputs": [],
   "source": [
    "#helper functions for generate_derivative_assignments\n",
    "def non_increasing(L):\n",
    "    return all(x>=y for x, y in zip(L, L[1:]))\n",
    "\n",
    "def sums_to_n(n, m): # generates partitions of derivatives to each field\n",
    "    #INPUT\n",
    "    #n: number we want to sum to; i.e. total number of derivatives\n",
    "    #m: number of digits in sum; i.e. total number of fields\n",
    "    #OUTPUT\n",
    "    #list of lists of digits, with each sublist no longer than m\n",
    "    #EXPLANATION\n",
    "    #list of combos for n can be generated from list of combos for n-1 either by appending 1 to each of the combos\n",
    "    #for n-1, or adding 1 to just one of the elements in each combo. To ensure no repeats, we require the lists to be\n",
    "    #non-increasing.\n",
    "    combos_list = []\n",
    "    if n==0:\n",
    "        combo = m*[0]\n",
    "        combos_list.append(combo)\n",
    "        return combos_list\n",
    "    elif n==1:\n",
    "        combo = [1] + (m-1)*[0]\n",
    "        combos_list.append(combo)\n",
    "        return combos_list\n",
    "    else:\n",
    "        combos_list_prev = sums_to_n(n-1, n-1)\n",
    "        for combo in combos_list_prev:\n",
    "            combo_new1 = combo + [1]\n",
    "            if non_increasing(combo_new1) and combo_new1 not in combos_list:\n",
    "                combos_list.append(combo_new1) \n",
    "            for i in range(len(combo)):\n",
    "                combo_new2 = combo.copy()\n",
    "                combo_new2[i] += 1\n",
    "                if non_increasing(combo_new2) and combo_new2 not in combos_list:\n",
    "                    combos_list.append(combo_new2) \n",
    "        combos_list_trunc = [combo for combo in combos_list if len(combo) <= m]    \n",
    "        return combos_list_trunc\n",
    "\n",
    "def pad_w_zeros(list_of_lists, size):\n",
    "    #INPUT\n",
    "    #list_of_lists: list of lists of numbers; all sublists should have length less than or equal to size\n",
    "    #size: int, common size of all lists after padding\n",
    "    #OUTPUT\n",
    "    #list_of_lists_padded: padded list of lists, where each sublist has length size\n",
    "    \n",
    "    if size < max([len(sublist) for sublist in list_of_lists]):\n",
    "        print(\"'size' input must be larger than or equal max length of sublists in 'list_of_lists' input.\")\n",
    "        return None\n",
    "    else:\n",
    "        list_of_lists_padded = []\n",
    "        for sublist in list_of_lists:\n",
    "            num_zeros = size - len(sublist)\n",
    "            sublist_padded = sublist + num_zeros*[0]\n",
    "            list_of_lists_padded.append(sublist_padded)\n",
    "        return list_of_lists_padded\n",
    "        \n",
    "def sums_to_n_padded(n, m):\n",
    "    return pad_w_zeros(sums_to_n(n, m), m)\n",
    "    \n",
    "    \n",
    "\n",
    "def generate_derivative_assignments(field_combo):\n",
    "    #INPUT\n",
    "    #field_combo: List of string symbols for derivatives and non-derivative fields (called simply fields here).  \n",
    "    #OUTPUT\n",
    "    #derivative_assigments: list of lists, where each sublist contains a distinct assignment of derivatives in\n",
    "    #field_combo to fields in field_combo\n",
    "    #EXPLANATION: generates all assignments of derivatives to fields for a given combination. \n",
    "    d = 0 #initialize number of derivatives\n",
    "    n_F = 0 #initialize number of F fields\n",
    "    n_P = 0 #initialize number of P fields\n",
    "    derivative_assigment_list = [] #lists of lists, where the elements of each sublist are field symbols; the \n",
    "    #number of 'D' symbols preceding a given non-derivative field indicates the number of derivatives acting on \n",
    "    #that field.\n",
    "    for item in field_combo:\n",
    "        if item == 'D':\n",
    "            d += 1\n",
    "        elif item == 'F':\n",
    "            n_F += 1\n",
    "        elif item == 'P':\n",
    "            n_P += 1\n",
    "        #no need to count Pb since there are the same number of these as of P\n",
    "    \n",
    "    #field lists for insertion of derivatives\n",
    "    F_fields = n_F*['F']\n",
    "    P_fields = n_P*['P']\n",
    "    Pb_fields = n_P*['Pb']\n",
    "    \n",
    "    for d_F in range(d+1): #loop over total number of derivatives acting on F fields\n",
    "        for d_P in range(d-d_F+1): #loop over total number of derivatives acting on P fields\n",
    "            d_Pb = d-d_F-d_P #loop over total number of derivatives acting on Pb fields\n",
    "            #calculate distribution of derivatives separately for each field type\n",
    "            #print('d: ' + str(d))\n",
    "            #print('d_F: ' + str(d_F))\n",
    "            #print('d_P: ' + str(d_P))\n",
    "            #print('d_Pb: ' + str(d_Pb))\n",
    "            derivs_F = sums_to_n_padded(d_F, n_F)  \n",
    "            derivs_P = sums_to_n_padded(d_P, n_P)\n",
    "            derivs_Pb = sums_to_n_padded(d_Pb, n_P)\n",
    "\n",
    "            for num_derivs_list_F in derivs_F:\n",
    "                for num_derivs_list_P in derivs_P:\n",
    "                    for num_derivs_list_Pb in derivs_Pb:\n",
    "                        #build up different derivative assignments\n",
    "                        deriv_assignment = []\n",
    "\n",
    "                        #print('num_derivs_list_F:' + str(num_derivs_list_F))\n",
    "                        #print('num_derivs_list_P:' + str(num_derivs_list_P))\n",
    "                        #print('num_derivs_list_Pb:' + str(num_derivs_list_Pb))\n",
    "\n",
    "                        for n_d in num_derivs_list_F: \n",
    "                            derivs = n_d*['D']\n",
    "                            deriv_assignment += derivs + ['F']\n",
    "                        for n_d in num_derivs_list_P: \n",
    "                            derivs = n_d*['D']\n",
    "                            deriv_assignment += derivs + ['Pb']\n",
    "                        for n_d in num_derivs_list_Pb: \n",
    "                            derivs = n_d*['D']\n",
    "                            deriv_assignment += derivs + ['P']\n",
    "\n",
    "                        #print('deriv_assignment: ' + str(deriv_assignment))\n",
    "                        derivative_assigment_list.append(deriv_assignment)\n",
    "                        \n",
    "    return derivative_assigment_list\n",
    "              \n",
    "    "
   ]
  },
  {
   "cell_type": "code",
   "execution_count": 174,
   "metadata": {},
   "outputs": [
    {
     "data": {
      "text/plain": [
       "[['F', 'Pb', 'D', 'D', 'D', 'D', 'D', 'P'],\n",
       " ['F', 'D', 'Pb', 'D', 'D', 'D', 'D', 'P'],\n",
       " ['F', 'D', 'D', 'Pb', 'D', 'D', 'D', 'P'],\n",
       " ['F', 'D', 'D', 'D', 'Pb', 'D', 'D', 'P'],\n",
       " ['F', 'D', 'D', 'D', 'D', 'Pb', 'D', 'P'],\n",
       " ['F', 'D', 'D', 'D', 'D', 'D', 'Pb', 'P'],\n",
       " ['D', 'F', 'Pb', 'D', 'D', 'D', 'D', 'P'],\n",
       " ['D', 'F', 'D', 'Pb', 'D', 'D', 'D', 'P'],\n",
       " ['D', 'F', 'D', 'D', 'Pb', 'D', 'D', 'P'],\n",
       " ['D', 'F', 'D', 'D', 'D', 'Pb', 'D', 'P'],\n",
       " ['D', 'F', 'D', 'D', 'D', 'D', 'Pb', 'P'],\n",
       " ['D', 'D', 'F', 'Pb', 'D', 'D', 'D', 'P'],\n",
       " ['D', 'D', 'F', 'D', 'Pb', 'D', 'D', 'P'],\n",
       " ['D', 'D', 'F', 'D', 'D', 'Pb', 'D', 'P'],\n",
       " ['D', 'D', 'F', 'D', 'D', 'D', 'Pb', 'P'],\n",
       " ['D', 'D', 'D', 'F', 'Pb', 'D', 'D', 'P'],\n",
       " ['D', 'D', 'D', 'F', 'D', 'Pb', 'D', 'P'],\n",
       " ['D', 'D', 'D', 'F', 'D', 'D', 'Pb', 'P'],\n",
       " ['D', 'D', 'D', 'D', 'F', 'Pb', 'D', 'P'],\n",
       " ['D', 'D', 'D', 'D', 'F', 'D', 'Pb', 'P'],\n",
       " ['D', 'D', 'D', 'D', 'D', 'F', 'Pb', 'P']]"
      ]
     },
     "execution_count": 174,
     "metadata": {},
     "output_type": "execute_result"
    }
   ],
   "source": [
    "generate_derivative_assignments(['D', 'D', 'D', 'D', 'D', 'F', 'Pb', 'P'])"
   ]
  },
  {
   "cell_type": "code",
   "execution_count": null,
   "metadata": {},
   "outputs": [],
   "source": []
  },
  {
   "cell_type": "code",
   "execution_count": 175,
   "metadata": {
    "collapsed": true
   },
   "outputs": [],
   "source": [
    "\n",
    "\n",
    "def generate_fully_contracted(massDim):\n",
    "    return term_list\n",
    "            \n",
    "def generate_IBP_vectors(deriv_assignments, num_free_lorentz):\n",
    "    #EXPLANATION: generates all operators with one free lorentz index (i.e., lorentz vectors) for the purpose of\n",
    "    #generating IBP relations. \n",
    "    return terms_contracted            \n",
    "        "
   ]
  },
  {
   "cell_type": "code",
   "execution_count": null,
   "metadata": {
    "collapsed": true
   },
   "outputs": [],
   "source": []
  }
 ],
 "metadata": {
  "kernelspec": {
   "display_name": "Python 3",
   "language": "python",
   "name": "python3"
  },
  "language_info": {
   "codemirror_mode": {
    "name": "ipython",
    "version": 3
   },
   "file_extension": ".py",
   "mimetype": "text/x-python",
   "name": "python",
   "nbconvert_exporter": "python",
   "pygments_lexer": "ipython3",
   "version": "3.6.3"
  }
 },
 "nbformat": 4,
 "nbformat_minor": 2
}
