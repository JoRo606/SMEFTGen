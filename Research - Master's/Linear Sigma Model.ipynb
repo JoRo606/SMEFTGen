{
 "cells": [
  {
   "cell_type": "code",
   "execution_count": 1,
   "metadata": {
    "collapsed": true
   },
   "outputs": [],
   "source": [
    "import numpy as np"
   ]
  },
  {
   "cell_type": "code",
   "execution_count": 178,
   "metadata": {},
   "outputs": [],
   "source": [
    "class field(object): \n",
    "    def __init__(self, massDim, ONindices, LORindices, symbol):\n",
    "        self.massDim = massDim #Number of Mass dimensions\n",
    "        self.ONindices = [] #stores the ON indices of field\n",
    "        self.rankON = len(ONindices) #Number of O(N) indices\n",
    "        self.LORindices = [] #stores the LOR indices of field\n",
    "        self.rankLOR = len(LORindices) #Number of Lorentz indices\n",
    "        self.symbol = symbol #Name of field, e.g. \"phi\"     \n",
    "    def __str__(self):\n",
    "        return 'massDim: ' + str(self.massDim) + '\\n' \\\n",
    "            + 'ONindex: ' + str(self.rankON) + '\\n' \\\n",
    "            + 'LORindex: ' + str(self.rankLOR) + '\\n' \\\n",
    "            + 'symbol: ' + str(self.symbol) \n",
    "    \n",
    "    #Define standard get functions\n",
    "    def get_massDim(self):\n",
    "        return self.massDim\n",
    "    def get_ONindex(self):\n",
    "        return self.numON\n",
    "    def get_LORindex(self):\n",
    "        return self.numLOR\n",
    "    def get_symbol(self):\n",
    "        return self.symbol\n",
    "    \n",
    "    #Other methods\n",
    "    def derivative(self): #Defines derivative of field by increasing massDim and LORindex\n",
    "        fieldDeriv = field(self.massDim + 1, self.ONindex, self.LORindex + 1, 'D' + self.symbol)\n",
    "        return fieldDeriv\n",
    "    def multiply(self, other):\n",
    "        prod_massDim = self.massDim + other.massDim\n",
    "        prod_ONindex = self.ONindex + other.ONindex\n",
    "        prod_LORindex = self.LORindex + other.LORindex\n",
    "        prod_symbol = '(' + self.symbol + ')' + '(' + other.symbol + ')'\n",
    "        product = field(prod_massDim, prod_ONindex, prod_LORindex, prod_symbol)\n",
    "        return product\n",
    "    def contract(self, ON, LOR): #return contracted product of fields\n",
    "        pass\n",
    "    def __add__(self, other): #Adds terms if their index structures match\n",
    "        pass\n",
    "    def is_symmetric(self): #determines if all indices are zero\n",
    "        if self.ONindex == 0 and self.LORindex == 0:\n",
    "            return True\n",
    "        else:\n",
    "            return False\n",
    "    def Lagragian_generator(self, D): #Generates terms up to mass dimension D D: mass dimension up to which we want to generate terms, \n",
    "        terms = [] \n",
    "        #for d <= D:\n",
    "            #if field.multiply()\n",
    "            #if is_symmetric(prod):\n",
    "                #terms.append[prod]\n",
    "        pass\n",
    "    \n",
    "        "
   ]
  },
  {
   "cell_type": "code",
   "execution_count": 179,
   "metadata": {},
   "outputs": [],
   "source": [
    "phi = field(1,1,0,'phi')"
   ]
  },
  {
   "cell_type": "code",
   "execution_count": 180,
   "metadata": {},
   "outputs": [
    {
     "name": "stdout",
     "output_type": "stream",
     "text": [
      "massDim: 1\n",
      "ONindex: 1\n",
      "LORindex: 0\n",
      "symbol: phi\n"
     ]
    }
   ],
   "source": [
    "print(phi)"
   ]
  },
  {
   "cell_type": "code",
   "execution_count": 181,
   "metadata": {},
   "outputs": [
    {
     "data": {
      "text/plain": [
       "'phi'"
      ]
     },
     "execution_count": 181,
     "metadata": {},
     "output_type": "execute_result"
    }
   ],
   "source": [
    "phi.get_symbol()"
   ]
  },
  {
   "cell_type": "code",
   "execution_count": 182,
   "metadata": {},
   "outputs": [
    {
     "data": {
      "text/plain": [
       "1"
      ]
     },
     "execution_count": 182,
     "metadata": {},
     "output_type": "execute_result"
    }
   ],
   "source": [
    "phi.get_massDim()"
   ]
  },
  {
   "cell_type": "code",
   "execution_count": 183,
   "metadata": {},
   "outputs": [
    {
     "data": {
      "text/plain": [
       "1"
      ]
     },
     "execution_count": 183,
     "metadata": {},
     "output_type": "execute_result"
    }
   ],
   "source": [
    "phi.get_ONindex()"
   ]
  },
  {
   "cell_type": "code",
   "execution_count": 184,
   "metadata": {},
   "outputs": [
    {
     "data": {
      "text/plain": [
       "0"
      ]
     },
     "execution_count": 184,
     "metadata": {},
     "output_type": "execute_result"
    }
   ],
   "source": [
    "phi.get_LORindex()"
   ]
  },
  {
   "cell_type": "code",
   "execution_count": 185,
   "metadata": {},
   "outputs": [],
   "source": [
    "Dphi = phi.derivative()"
   ]
  },
  {
   "cell_type": "code",
   "execution_count": 186,
   "metadata": {},
   "outputs": [
    {
     "data": {
      "text/plain": [
       "__main__.field"
      ]
     },
     "execution_count": 186,
     "metadata": {},
     "output_type": "execute_result"
    }
   ],
   "source": [
    "type(dphi)"
   ]
  },
  {
   "cell_type": "code",
   "execution_count": 187,
   "metadata": {},
   "outputs": [
    {
     "data": {
      "text/plain": [
       "<__main__.field at 0x10fab7e48>"
      ]
     },
     "execution_count": 187,
     "metadata": {},
     "output_type": "execute_result"
    }
   ],
   "source": [
    "Dphi"
   ]
  },
  {
   "cell_type": "code",
   "execution_count": 188,
   "metadata": {},
   "outputs": [
    {
     "data": {
      "text/plain": [
       "1"
      ]
     },
     "execution_count": 188,
     "metadata": {},
     "output_type": "execute_result"
    }
   ],
   "source": [
    "Dphi.get_LORindex()"
   ]
  },
  {
   "cell_type": "code",
   "execution_count": 189,
   "metadata": {},
   "outputs": [
    {
     "data": {
      "text/plain": [
       "1"
      ]
     },
     "execution_count": 189,
     "metadata": {},
     "output_type": "execute_result"
    }
   ],
   "source": [
    "Dphi.get_ONindex()"
   ]
  },
  {
   "cell_type": "code",
   "execution_count": 190,
   "metadata": {},
   "outputs": [
    {
     "data": {
      "text/plain": [
       "'Dphi'"
      ]
     },
     "execution_count": 190,
     "metadata": {},
     "output_type": "execute_result"
    }
   ],
   "source": [
    "Dphi.get_symbol()"
   ]
  },
  {
   "cell_type": "code",
   "execution_count": 191,
   "metadata": {
    "collapsed": true
   },
   "outputs": [],
   "source": [
    "Prod = field.multiply(phi, Dphi)"
   ]
  },
  {
   "cell_type": "code",
   "execution_count": 192,
   "metadata": {},
   "outputs": [
    {
     "data": {
      "text/plain": [
       "2"
      ]
     },
     "execution_count": 192,
     "metadata": {},
     "output_type": "execute_result"
    }
   ],
   "source": [
    "Dphi.get_massDim()"
   ]
  },
  {
   "cell_type": "code",
   "execution_count": null,
   "metadata": {},
   "outputs": [],
   "source": []
  },
  {
   "cell_type": "code",
   "execution_count": null,
   "metadata": {
    "collapsed": true
   },
   "outputs": [],
   "source": []
  },
  {
   "cell_type": "code",
   "execution_count": null,
   "metadata": {
    "collapsed": true
   },
   "outputs": [],
   "source": []
  }
 ],
 "metadata": {
  "kernelspec": {
   "display_name": "Python 3",
   "language": "python",
   "name": "python3"
  },
  "language_info": {
   "codemirror_mode": {
    "name": "ipython",
    "version": 3
   },
   "file_extension": ".py",
   "mimetype": "text/x-python",
   "name": "python",
   "nbconvert_exporter": "python",
   "pygments_lexer": "ipython3",
   "version": "3.6.3"
  }
 },
 "nbformat": 4,
 "nbformat_minor": 2
}
