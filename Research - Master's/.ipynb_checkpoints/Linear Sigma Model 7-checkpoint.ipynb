{
 "cells": [
  {
   "cell_type": "code",
   "execution_count": 390,
   "metadata": {
    "collapsed": true
   },
   "outputs": [],
   "source": [
    "class connected(object):\n",
    "    def __init__(self, elementary_str, contractions, symbol):\n",
    "        self.elementary_str = elementary_str #Stores list of N symbols for elementary field factors phi and dphi\n",
    "        self.elementary = []\n",
    "        self.contractions = contractions #Stores the indices with respect to which successive elementary factors are linked\n",
    "                                #e.g., [[0,1],[1,0],[0,1]] for phi^i1 dphi_u1^i1 dphi_u1^i2 phi^i2, [[1,1]] for dphi_u^i dphi_u^i. For N \n",
    "                                #elementary fields, N-1 links.\n",
    "        self.symbol = symbol\n",
    "        \n",
    "    \n",
    "    #Define get and set functions\n",
    "    def get_elementary_str(self):\n",
    "        return self.elementary_str\n",
    "    def get_elementary(self):\n",
    "        return self.elementary\n",
    "    def get_contractions(self):\n",
    "        return self.contractions\n",
    "    def get_symbol(self):\n",
    "        return self.symbol\n",
    "    \n",
    "    def set_elementary_str(self, elementary_str):\n",
    "        self.elementary_str = elementary_str\n",
    "    def set_elementary(self): #should run this to set list of constituent fields\n",
    "        for symbol in self.elementary_str:\n",
    "            if symbol == 'P':\n",
    "                field = connected(['P'],[], 'P')\n",
    "                self.elementary.append(field)\n",
    "            elif symbol == 'DP':\n",
    "                field_deriv = connected(['DP'],[], 'DP')\n",
    "                self.elementary.append(field_deriv)\n",
    "            else:\n",
    "                print('Error: Symbol must be P or DP.')\n",
    "    def set_contractions(self, contractions):\n",
    "        self.contractions = contractions\n",
    "    def set_symbol(self, symbol):\n",
    "        self.symbol = symbol\n",
    "        \n",
    "    def massDim(self):\n",
    "        \n",
    "        counter = 0\n",
    "        \n",
    "        for field in self.get_elementary():\n",
    "            if field.get_symbol() == 'P':\n",
    "                counter = counter + 1\n",
    "            elif field.get_symbol() == 'DP':\n",
    "                counter = counter + 2\n",
    "        \n",
    "        return counter                       \n",
    "\n",
    "    def LORrank(self):\n",
    "        '''\n",
    "        To get LORrank Count number of Lorentz contractions (counter) in contractions. Multiply by 2. Subtract this from \n",
    "        the number of Lorentz indices appearing in elementary - namely, the number of 'DP' fields. \n",
    "        '''\n",
    "        counter1 = 0\n",
    "        for pair in self.get_contractions():\n",
    "            if pair[0] == 1:\n",
    "                counter1 = counter1 + 1\n",
    "            else:\n",
    "                pass\n",
    "            \n",
    "        counter2 = 0\n",
    "        for field in self.get_elementary():\n",
    "            if field.get_symbol() == 'DP':\n",
    "                counter2 = counter2 + 1\n",
    "            else:\n",
    "                pass     \n",
    "        print(\"counter1: \" + str(counter1))\n",
    "        print(\"counter2: \" + str(counter2))\n",
    "        \n",
    "        rank = counter2 - 2*counter1\n",
    "        \n",
    "        return rank\n",
    "    \n",
    "    \n",
    "    def ONrank(self):\n",
    "        \n",
    "        counter1 = 0\n",
    "        \n",
    "        #Number of contractions is the number of time a '1' appears in the second index of pairs in contractions\n",
    "        for pair in self.get_contractions():\n",
    "            if pair[1] == 1:\n",
    "                counter1 = counter1 + 1\n",
    "            else:\n",
    "                pass\n",
    "        \n",
    "        #Number of ON indices is just the number of fields in self.elementary\n",
    "        counter2 = len(self.get_elementary_str())\n",
    "            \n",
    "        rank = counter2 - 2*counter1\n",
    "        \n",
    "        return rank\n",
    "    \n",
    "    \n",
    "    def contract(self, other, contraction, symbol_prod):\n",
    "        '''\n",
    "        other: elementary field, P or DP\n",
    "        contraction: pair of integers - [1,0] for contraction in LOR, [0,1] for contraction in ON, [1,1] for both\n",
    "        symbol_prod: string\n",
    "        '''\n",
    "        \n",
    "        print(\"contraction: \" + str(contraction))\n",
    "        \n",
    "        if contraction == [1,0]:\n",
    "            contractions_prod = self.get_contractions() + [[1,0]]\n",
    "        elif contraction == [0,1]:\n",
    "            contractions_prod = self.get_contractions() + [[0,1]]\n",
    "        elif contraction == [1,1]:\n",
    "            contractions_prod = self.get_contractions() + [[1,1]]\n",
    "        else:\n",
    "            print(\"Error: contractions must be [1,0], [0,1], or [1,1]\")\n",
    "            \n",
    "        \n",
    "        elementary_str_prod = self.get_elementary_str() + other.get_elementary_str()\n",
    "        \n",
    "        prod = connected(elementary_str_prod, contractions_prod, symbol_prod)\n",
    "        \n",
    "        prod.set_elementary()\n",
    "        \n",
    "        return prod\n",
    "    \n",
    "    def generate_connected(self, d):\n",
    "        '''\n",
    "        INPUT\n",
    "        d: non-negative integer, mass dimension up to which to generate connected terms\n",
    "        \n",
    "        OUTPUT\n",
    "        terms: list of connected terms of mass dimension no larger than d.  \n",
    "        '''\n",
    "        \n",
    "        terms = []\n",
    "        \n",
    "        if d >= 2:\n",
    "            field1 = connected(['P'],[],'P')\n",
    "            field2 = connected(['P'],[],'P')\n",
    "            prod = connected.contract(field1, field2, [0,1], 'PP')\n",
    "            terms.append(prod)\n",
    "        if d >= 4:\n",
    "            deriv1 = connected(['DP'],[],'DP')\n",
    "            deriv2 = connected(['DP'],[],'DP')\n",
    "            prod = connected.contract(deriv1, deriv2, [1,1], 'DPDP')\n",
    "            terms.append(prod)\n",
    "        \n",
    "        field = connected(['P'],[],'P')\n",
    "        deriv = connected(['DP'],[],'DP')\n",
    "        \n",
    "        if d < 4:\n",
    "            return terms\n",
    "    \n",
    "        \n",
    "        root = connected.contract(field, deriv, [0,1], 'PDP')\n",
    "        \n",
    "        while root.massDim() <= d:\n",
    "            if root.LORrank() != 0:\n",
    "                deriv = connected(['DP'],[],'DP')\n",
    "                root = connected.contract(root, deriv, [1,0], '')\n",
    "            if root.ONrank() != 0:\n",
    "                field = connected(['P'],[],'P')\n",
    "                deriv = connected(['DP'],[],'DP')\n",
    "                \n",
    "                new = connected.contract(root, field, [0,1], '')\n",
    "                if new.massDim() <= d and new.LORrank == 0 and new.ONrank == 0:\n",
    "                    terms.append(new)\n",
    "                \n",
    "                root = connected.contract(root, deriv, [0,1], '')\n",
    "                    \n",
    "        \n",
    "        return terms\n",
    "            \n",
    "    \n",
    "    \n",
    "    \n",
    "   "
   ]
  },
  {
   "cell_type": "code",
   "execution_count": 391,
   "metadata": {},
   "outputs": [],
   "source": [
    "A = connected(['P','DP','DP','P'], [[0,1],[1,0],[0,1]], 'A')"
   ]
  },
  {
   "cell_type": "code",
   "execution_count": 392,
   "metadata": {},
   "outputs": [],
   "source": [
    "A.set_elementary()"
   ]
  },
  {
   "cell_type": "code",
   "execution_count": 393,
   "metadata": {},
   "outputs": [
    {
     "data": {
      "text/plain": [
       "[<__main__.connected at 0x10cae0128>,\n",
       " <__main__.connected at 0x10cae0390>,\n",
       " <__main__.connected at 0x10ca6cdd8>,\n",
       " <__main__.connected at 0x10ca6cef0>]"
      ]
     },
     "execution_count": 393,
     "metadata": {},
     "output_type": "execute_result"
    }
   ],
   "source": [
    "A.get_elementary()"
   ]
  },
  {
   "cell_type": "code",
   "execution_count": 394,
   "metadata": {},
   "outputs": [
    {
     "name": "stdout",
     "output_type": "stream",
     "text": [
      "P\n",
      "DP\n",
      "DP\n",
      "P\n"
     ]
    }
   ],
   "source": [
    "for i in range(len(A.get_elementary())):\n",
    "    print(A.get_elementary()[i].get_symbol())\n"
   ]
  },
  {
   "cell_type": "code",
   "execution_count": 395,
   "metadata": {},
   "outputs": [
    {
     "name": "stdout",
     "output_type": "stream",
     "text": [
      "counter1: 1\n",
      "counter2: 2\n"
     ]
    },
    {
     "data": {
      "text/plain": [
       "0"
      ]
     },
     "execution_count": 395,
     "metadata": {},
     "output_type": "execute_result"
    }
   ],
   "source": [
    "A.LORrank()"
   ]
  },
  {
   "cell_type": "code",
   "execution_count": 396,
   "metadata": {},
   "outputs": [
    {
     "data": {
      "text/plain": [
       "0"
      ]
     },
     "execution_count": 396,
     "metadata": {},
     "output_type": "execute_result"
    }
   ],
   "source": [
    "A.ONrank()"
   ]
  },
  {
   "cell_type": "code",
   "execution_count": 397,
   "metadata": {},
   "outputs": [
    {
     "data": {
      "text/plain": [
       "6"
      ]
     },
     "execution_count": 397,
     "metadata": {},
     "output_type": "execute_result"
    }
   ],
   "source": [
    "A.massDim()"
   ]
  },
  {
   "cell_type": "code",
   "execution_count": 398,
   "metadata": {},
   "outputs": [],
   "source": [
    "B = connected(['P','DP','DP'], [[0,1],[1,0]], 'B' )"
   ]
  },
  {
   "cell_type": "code",
   "execution_count": 399,
   "metadata": {},
   "outputs": [
    {
     "data": {
      "text/plain": [
       "1"
      ]
     },
     "execution_count": 399,
     "metadata": {},
     "output_type": "execute_result"
    }
   ],
   "source": [
    "B.ONrank()"
   ]
  },
  {
   "cell_type": "code",
   "execution_count": 400,
   "metadata": {
    "collapsed": true
   },
   "outputs": [],
   "source": [
    "B.set_elementary()"
   ]
  },
  {
   "cell_type": "code",
   "execution_count": 401,
   "metadata": {},
   "outputs": [
    {
     "data": {
      "text/plain": [
       "[<__main__.connected at 0x10cad58d0>,\n",
       " <__main__.connected at 0x10cad5b38>,\n",
       " <__main__.connected at 0x10cad5e10>]"
      ]
     },
     "execution_count": 401,
     "metadata": {},
     "output_type": "execute_result"
    }
   ],
   "source": [
    "B.get_elementary()"
   ]
  },
  {
   "cell_type": "code",
   "execution_count": 402,
   "metadata": {},
   "outputs": [
    {
     "name": "stdout",
     "output_type": "stream",
     "text": [
      "counter1: 1\n",
      "counter2: 2\n"
     ]
    },
    {
     "data": {
      "text/plain": [
       "0"
      ]
     },
     "execution_count": 402,
     "metadata": {},
     "output_type": "execute_result"
    }
   ],
   "source": [
    "B.LORrank()"
   ]
  },
  {
   "cell_type": "code",
   "execution_count": 403,
   "metadata": {
    "collapsed": true
   },
   "outputs": [],
   "source": [
    "C = connected(['P','DP','DP','DP'], [[0,1],[1,0],[0,1]], 'C' )"
   ]
  },
  {
   "cell_type": "code",
   "execution_count": 404,
   "metadata": {},
   "outputs": [
    {
     "data": {
      "text/plain": [
       "[]"
      ]
     },
     "execution_count": 404,
     "metadata": {},
     "output_type": "execute_result"
    }
   ],
   "source": [
    "C.get_elementary()"
   ]
  },
  {
   "cell_type": "code",
   "execution_count": 405,
   "metadata": {
    "collapsed": true
   },
   "outputs": [],
   "source": [
    "C.set_elementary()"
   ]
  },
  {
   "cell_type": "code",
   "execution_count": 406,
   "metadata": {},
   "outputs": [
    {
     "data": {
      "text/plain": [
       "[<__main__.connected at 0x10cac1400>,\n",
       " <__main__.connected at 0x10cac1198>,\n",
       " <__main__.connected at 0x10cac13c8>,\n",
       " <__main__.connected at 0x10cac1208>]"
      ]
     },
     "execution_count": 406,
     "metadata": {},
     "output_type": "execute_result"
    }
   ],
   "source": [
    "C.get_elementary()"
   ]
  },
  {
   "cell_type": "code",
   "execution_count": 407,
   "metadata": {},
   "outputs": [
    {
     "name": "stdout",
     "output_type": "stream",
     "text": [
      "counter1: 1\n",
      "counter2: 3\n"
     ]
    },
    {
     "data": {
      "text/plain": [
       "1"
      ]
     },
     "execution_count": 407,
     "metadata": {},
     "output_type": "execute_result"
    }
   ],
   "source": [
    "C.LORrank()"
   ]
  },
  {
   "cell_type": "code",
   "execution_count": 408,
   "metadata": {},
   "outputs": [
    {
     "data": {
      "text/plain": [
       "0"
      ]
     },
     "execution_count": 408,
     "metadata": {},
     "output_type": "execute_result"
    }
   ],
   "source": [
    "C.ONrank()"
   ]
  },
  {
   "cell_type": "code",
   "execution_count": 409,
   "metadata": {},
   "outputs": [
    {
     "data": {
      "text/plain": [
       "[[0, 1], [1, 0], [0, 1]]"
      ]
     },
     "execution_count": 409,
     "metadata": {},
     "output_type": "execute_result"
    }
   ],
   "source": [
    "C.get_contractions()"
   ]
  },
  {
   "cell_type": "code",
   "execution_count": 410,
   "metadata": {},
   "outputs": [
    {
     "data": {
      "text/plain": [
       "[[0, 1], [1, 0], [0, 1], 1, 0]"
      ]
     },
     "execution_count": 410,
     "metadata": {},
     "output_type": "execute_result"
    }
   ],
   "source": [
    "C.get_contractions() + [1,0]"
   ]
  },
  {
   "cell_type": "code",
   "execution_count": 411,
   "metadata": {},
   "outputs": [
    {
     "data": {
      "text/plain": [
       "[[0, 1], [1, 0], [0, 1], [1, 0]]"
      ]
     },
     "execution_count": 411,
     "metadata": {},
     "output_type": "execute_result"
    }
   ],
   "source": [
    "C.get_contractions() + [[1,0]]"
   ]
  },
  {
   "cell_type": "code",
   "execution_count": 412,
   "metadata": {
    "collapsed": true
   },
   "outputs": [],
   "source": [
    "DP = connected(['DP'], [], 'DP')"
   ]
  },
  {
   "cell_type": "code",
   "execution_count": 413,
   "metadata": {},
   "outputs": [
    {
     "name": "stdout",
     "output_type": "stream",
     "text": [
      "contraction: [1, 0]\n"
     ]
    },
    {
     "data": {
      "text/plain": [
       "<__main__.connected at 0x10cac1fd0>"
      ]
     },
     "execution_count": 413,
     "metadata": {},
     "output_type": "execute_result"
    }
   ],
   "source": [
    "connected.contract(C, DP,[1,0], 'Prod')"
   ]
  },
  {
   "cell_type": "code",
   "execution_count": 414,
   "metadata": {},
   "outputs": [
    {
     "name": "stdout",
     "output_type": "stream",
     "text": [
      "contraction: [1, 0]\n"
     ]
    }
   ],
   "source": [
    "Prod = connected.contract(C, DP,[1,0],'Prod')"
   ]
  },
  {
   "cell_type": "raw",
   "metadata": {},
   "source": [
    "Prod.ONrank()"
   ]
  },
  {
   "cell_type": "code",
   "execution_count": 415,
   "metadata": {},
   "outputs": [
    {
     "data": {
      "text/plain": [
       "[[0, 1], [1, 0], [0, 1], [1, 0]]"
      ]
     },
     "execution_count": 415,
     "metadata": {},
     "output_type": "execute_result"
    }
   ],
   "source": [
    "Prod.get_contractions()"
   ]
  },
  {
   "cell_type": "code",
   "execution_count": 416,
   "metadata": {},
   "outputs": [
    {
     "data": {
      "text/plain": [
       "1"
      ]
     },
     "execution_count": 416,
     "metadata": {},
     "output_type": "execute_result"
    }
   ],
   "source": [
    "Prod.ONrank()"
   ]
  },
  {
   "cell_type": "code",
   "execution_count": 417,
   "metadata": {},
   "outputs": [
    {
     "name": "stdout",
     "output_type": "stream",
     "text": [
      "counter1: 2\n",
      "counter2: 4\n"
     ]
    },
    {
     "data": {
      "text/plain": [
       "0"
      ]
     },
     "execution_count": 417,
     "metadata": {},
     "output_type": "execute_result"
    }
   ],
   "source": [
    "Prod.LORrank()"
   ]
  },
  {
   "cell_type": "code",
   "execution_count": 418,
   "metadata": {},
   "outputs": [
    {
     "data": {
      "text/plain": [
       "True"
      ]
     },
     "execution_count": 418,
     "metadata": {},
     "output_type": "execute_result"
    }
   ],
   "source": [
    "[1,0] == [1,0]"
   ]
  },
  {
   "cell_type": "code",
   "execution_count": 419,
   "metadata": {},
   "outputs": [
    {
     "data": {
      "text/plain": [
       "False"
      ]
     },
     "execution_count": 419,
     "metadata": {},
     "output_type": "execute_result"
    }
   ],
   "source": [
    "[1,0] == [1,0,1]"
   ]
  },
  {
   "cell_type": "code",
   "execution_count": null,
   "metadata": {
    "collapsed": true
   },
   "outputs": [],
   "source": []
  },
  {
   "cell_type": "code",
   "execution_count": 421,
   "metadata": {},
   "outputs": [
    {
     "name": "stdout",
     "output_type": "stream",
     "text": [
      "contraction: [0, 1]\n",
      "contraction: [1, 1]\n",
      "contraction: [0, 1]\n",
      "counter1: 0\n",
      "counter2: 1\n",
      "contraction: [1, 0]\n",
      "contraction: [0, 1]\n",
      "contraction: [0, 1]\n",
      "counter1: 1\n",
      "counter2: 3\n",
      "contraction: [1, 0]\n",
      "contraction: [0, 1]\n",
      "contraction: [0, 1]\n"
     ]
    }
   ],
   "source": [
    "Test = C.generate_connected(10)"
   ]
  },
  {
   "cell_type": "code",
   "execution_count": 422,
   "metadata": {},
   "outputs": [
    {
     "data": {
      "text/plain": [
       "2"
      ]
     },
     "execution_count": 422,
     "metadata": {},
     "output_type": "execute_result"
    }
   ],
   "source": [
    "len(Test)"
   ]
  },
  {
   "cell_type": "code",
   "execution_count": null,
   "metadata": {
    "collapsed": true
   },
   "outputs": [],
   "source": []
  }
 ],
 "metadata": {
  "kernelspec": {
   "display_name": "Python 3",
   "language": "python",
   "name": "python3"
  },
  "language_info": {
   "codemirror_mode": {
    "name": "ipython",
    "version": 3
   },
   "file_extension": ".py",
   "mimetype": "text/x-python",
   "name": "python",
   "nbconvert_exporter": "python",
   "pygments_lexer": "ipython3",
   "version": "3.6.3"
  }
 },
 "nbformat": 4,
 "nbformat_minor": 2
}
