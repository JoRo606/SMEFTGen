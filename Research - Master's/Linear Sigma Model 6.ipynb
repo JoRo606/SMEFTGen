{
 "cells": [
  {
   "cell_type": "code",
   "execution_count": 14,
   "metadata": {},
   "outputs": [],
   "source": [
    "class field(object):\n",
    "    def __init__(self, massDim, LORindices, ONindices, symbol):\n",
    "        self.massDim = massDim #int\n",
    "        self.LORindices = LORindices #list of strings\n",
    "        self.ONindices = ONindices #list of strings\n",
    "        self.LORrank = len(LORindices)\n",
    "        self.ONrank = len(ONindices)\n",
    "        self.symbol = symbol #string representing field\n",
    "        self.tensorRep = '' #Create string showing tensor structure, without showing decomposition in terms of\n",
    "                            #elementary fields and derivatives\n",
    "        self.elementary = [] #Stores list of N elementary field factors phi and dphi\n",
    "        self.contractions = [] #Stores the indices with respect to which successive elementary factors are linked\n",
    "                                #e.g., [[0,1],[1,0],[0,1]] for phi^i1 dphi_u1^i1 dphi_u1^i2 phi^i2, [[1,1]] for dphi_u^i dphi_u^i. For N \n",
    "                                #elementary fields, N-1 links.\n",
    "        self.decomposition = '' #String showing structure of contractions in terms of elementary fields and \n",
    "                                #derivatives \n",
    "    def __str__(self): #Prints out attributes of field object\n",
    "        return 'massDim: ' + str(self.massDim) + '\\n' \\\n",
    "            + 'LORindices: ' + str(self.LORindices) + '\\n' \\\n",
    "            + 'ONindices: ' + str(self.ONindices) + '\\n' \\\n",
    "            + 'symbol: ' + str(self.symbol) + '\\n' \\\n",
    "            + 'LORrank: ' + str(self.LORrank) + '\\n' \\\n",
    "            + 'ONrank: ' + str(self.ONrank) + '\\n' \\\n",
    "            + 'tensorRep: ' + str(self.tensorRep)\n",
    "    \n",
    "    #Define get and set functions\n",
    "    def get_massDim(self):\n",
    "        return self.massDim\n",
    "    def get_LORindices(self):\n",
    "        return self.LORindices\n",
    "    def get_ONindices(self):\n",
    "        return self.ONindices\n",
    "    def get_LORrank(self):\n",
    "        return self.LORrank\n",
    "    def get_ONrank(self):\n",
    "        return self.ONrank\n",
    "    def get_symbol(self):\n",
    "        return self.symbol\n",
    "    def get_tensorRep(self):\n",
    "        return self.tensorRep\n",
    "    def get_elementary(self):\n",
    "        return self.elementary\n",
    "    def get_contractions(self):\n",
    "        return self.contractions\n",
    "    def get_tensorRep(self):\n",
    "        return self.tensorRep\n",
    "    \n",
    "    def set_massDim(self, massDim):\n",
    "        self.massDim = massDim\n",
    "    def set_LORindices(self, LORindices):\n",
    "        self.LORindices = LORindices\n",
    "    def set_ONindices(self, ONindices):\n",
    "        self.ONindices = ONindices\n",
    "    def set_symbol(self, symbol):\n",
    "        self.symbol = symbol\n",
    "    def set_tensorRep(self, tensorRep):\n",
    "        self.tensorRep = tensorRep\n",
    "    def set_elementary(self, elementary):\n",
    "        self.elementary = elementary\n",
    "    def set_contractions(self, contractions):\n",
    "        self.contractions = contractions\n",
    "    def set_tensorRep(self):\n",
    "        tensor = self.symbol\n",
    "        for i in self.LORindices:\n",
    "            tensor = tensor + '_' + str(i)\n",
    "        for j in self.ONindices:\n",
    "            tensor = tensor + '^' + str(j)\n",
    "        self.tensorRep = tensor\n",
    "        return tensor\n",
    "    #No set_LORrank() or set_ONrank() functions since LORrank and ONrank are determined by length of index lists\n",
    "        \n",
    "    #Returns a new field corresponding to derivative of field by increasing massDim and LORindex by one\n",
    "    def derivative(self, mu = 'u'): \n",
    "        massDim_new = self.get_massDim() + 1\n",
    "        #print(self.get_LORindices())\n",
    "        LORindices_new = self.get_LORindices() + [mu]\n",
    "        #print(LORindices_new)\n",
    "        #LORrank_new = self.get_LORrank() + 1\n",
    "        fieldDeriv = field(massDim_new, LORindices_new, self.ONindices, 'D' + self.symbol)\n",
    "        return fieldDeriv \n",
    "    \n",
    "    #Return string showing structure in terms of elementary fields and derivatives\n",
    "    def decompose(self):\n",
    "        '''\n",
    "        OUTPUT\n",
    "        Returns string showing decomposition in terms of elementary fields and derivatives\n",
    "        '''\n",
    "        \n",
    "        elementary = self.get_elementary()[:]\n",
    "        contractions = self.get_contractions()[:]\n",
    "        decomposition = ''\n",
    "        \n",
    "        LOR_count = 0 #counter for numbering contracted LOR indices\n",
    "        ON_count = 0 #counter for numbering contracted ON indices\n",
    "        \n",
    "        for i in range(len(contractions)):\n",
    "            \n",
    "            e_current = elementary[i]\n",
    "            e_next = elementary[i+1]\n",
    "            \n",
    "            e_current.set_tensorRep()\n",
    "            e_next.set_tensorRep()\n",
    "            \n",
    "            dot = contractions[i]\n",
    "            \n",
    "            if dot[0]: #Check if Lorentz index is contracted\n",
    "                \n",
    "                LORindex = 'U' + str(LOR_count)\n",
    "                \n",
    "                e_current.set_LORindices([LORindex])\n",
    "                e_current.set_tensorRep()\n",
    "                \n",
    "                e_next.set_LORindices([LORindex])\n",
    "                e_next.set_tensorRep()\n",
    "                \n",
    "                LOR_count += 1\n",
    "            \n",
    "            else:\n",
    "                pass\n",
    "            \n",
    "            if dot[1]: #Check if ON index is contracted\n",
    "                \n",
    "                ONindex = 'I' + str(ON_count)\n",
    "                \n",
    "                e_current.set_ONindices([ONindex])\n",
    "                e_current.set_tensorRep()\n",
    "                \n",
    "                e_next.set_ONindices([ONindex])\n",
    "                e_next.set_tensorRep()\n",
    "            \n",
    "                ON_count += 1\n",
    "            \n",
    "            else:\n",
    "                pass\n",
    "            \n",
    "            \n",
    "            if i < (len(contractions)-1):\n",
    "                e_current_string = e_current.get_tensorRep()\n",
    "                e_next_string = e_next.get_tensorRep()\n",
    "                decomposition += '(' + e_current_string + ')'\n",
    "            else: \n",
    "                e_current_string = e_current.get_tensorRep()\n",
    "                e_next_string = e_next.get_tensorRep()\n",
    "                decomposition += '(' + e_current_string + ')' + '(' + e_next_string + ')'\n",
    "            \n",
    "        \n",
    "        return decomposition\n",
    "    \n",
    "    \n",
    "    \n",
    "    def contract(self, other, LORcontract, ONcontract, symbol_prod): #don't need to know decomposition, but can look at it \n",
    "                                                        #from this level too. \n",
    "        '''\n",
    "        define new field object, including with elementary, contractions, decomposition; but should be able to\n",
    "        work without being given decomposition. \n",
    "        \n",
    "        OUTPUT:\n",
    "        new field object\n",
    "        '''\n",
    "        massDim_prod = self.get_massDim() + other.get_massDim()\n",
    "        LORindices_prod = [] #delete contracted LOR indices \n",
    "        ONindices_prod = [] #delete contracted ON indices\\\n",
    "        \n",
    "        #Remove indices in LORcontract from LORindices_prod and indices in ONcontract from ONindices_prod. Or\n",
    "        #rather, add all indices to LORindices_prod and ONindices_prod except those indicated by LORcontract and \n",
    "        #ONcontract\n",
    "        \n",
    "        #Calculate LORindices, ONindices of product. [:] makes copy rather than mere reference/pointer, so that we don't alter attributes of factor fields. \n",
    "        LORindices_self = self.get_LORindices()[:]\n",
    "        LORindices_other = other.get_LORindices()[:]\n",
    "\n",
    "        ONindices_self = self.get_ONindices()[:]\n",
    "        ONindices_other = other.get_ONindices()[:]\n",
    "        \n",
    "        \n",
    "        \n",
    "        LORcontracted_self = []\n",
    "        LORcontracted_other = []\n",
    "        \n",
    "        for pair in LORcontract:\n",
    "            LORcontracted_self.append(pair[0])\n",
    "            LORcontracted_other.append(pair[1])\n",
    "            \n",
    "        ONcontracted_self = []\n",
    "        ONcontracted_other = []\n",
    "        \n",
    "        for pair in ONcontract:\n",
    "            ONcontracted_self.append(pair[0])\n",
    "            ONcontracted_other.append(pair[1])\n",
    "        \n",
    "        \n",
    "        \n",
    "        for i in range(len(LORindices_self)): \n",
    "            if i not in LORcontracted_self:\n",
    "                LORindices_prod.append(LORindices_self[i])\n",
    "            \n",
    "        for i in range(len(LORindices_other)): \n",
    "            if i not in LORcontracted_other:\n",
    "                LORindices_prod.append(LORindices_other[i])\n",
    "            \n",
    "        \n",
    "        for i in range(len(ONindices_self)): \n",
    "            if i not in ONcontracted_self:\n",
    "                ONindices_prod.append(ONindices_self[i])\n",
    "        \n",
    "        for i in range(len(ONindices_other)): \n",
    "            if i not in ONcontracted_other:\n",
    "                ONindices_prod.append(ONindices_other[i])\n",
    "  \n",
    "        print(\"LORindices_prod: \" + str(LORindices_prod))\n",
    "        print(\"ONindices_prod: \" + str(ONindices_prod))\n",
    "        \n",
    "        prod = field(massDim_prod, LORindices_prod, ONindices_prod, symbol_prod)\n",
    "        \n",
    "        \n",
    "        '''\n",
    "        Set elementary fields \n",
    "        '''\n",
    "        \n",
    "        elementary_prod = [] #list of elementary fields and their derivatives associated with product field\n",
    "        contractions_prod = [] #list of contractions among elementary fields \n",
    "        \n",
    "        elementary_self = self.get_elementary()\n",
    "        contractions_self = self.get_contractions()\n",
    "        \n",
    "        elementary_other = other.get_elementary()\n",
    "        contractions_other = other.get_contractions()\n",
    "        \n",
    "        \n",
    "        elementary_prod = elementary_self + elementary_other\n",
    "        contractions_prod = \n",
    "        \n",
    "        \n",
    "        return prod\n",
    "        \n",
    "       \n",
    "        "
   ]
  },
  {
   "cell_type": "code",
   "execution_count": 15,
   "metadata": {
    "collapsed": true
   },
   "outputs": [],
   "source": [
    "A = field(5, ['u0', 'u1', 'u2'], ['i0', 'i1'], 'A')"
   ]
  },
  {
   "cell_type": "code",
   "execution_count": 16,
   "metadata": {
    "collapsed": true
   },
   "outputs": [],
   "source": [
    "B = field(3, ['v0', 'v1'], ['j0', 'j1'], 'B')"
   ]
  },
  {
   "cell_type": "code",
   "execution_count": 19,
   "metadata": {},
   "outputs": [
    {
     "name": "stdout",
     "output_type": "stream",
     "text": [
      "LORindices_prod: ['u0']\n",
      "ONindices_prod: ['i0', 'j0']\n"
     ]
    }
   ],
   "source": [
    "prod = field.contract(A, B, [[2,1],[1,0]], [[1,1]], 'C')"
   ]
  },
  {
   "cell_type": "code",
   "execution_count": 20,
   "metadata": {},
   "outputs": [
    {
     "name": "stdout",
     "output_type": "stream",
     "text": [
      "massDim: 8\n",
      "LORindices: ['u0']\n",
      "ONindices: ['i0', 'j0']\n",
      "symbol: C\n",
      "LORrank: 1\n",
      "ONrank: 2\n",
      "tensorRep: \n"
     ]
    }
   ],
   "source": [
    "print(prod)"
   ]
  },
  {
   "cell_type": "code",
   "execution_count": 21,
   "metadata": {},
   "outputs": [
    {
     "data": {
      "text/plain": [
       "'C_u0^i0^j0'"
      ]
     },
     "execution_count": 21,
     "metadata": {},
     "output_type": "execute_result"
    }
   ],
   "source": [
    "prod.set_tensorRep()"
   ]
  },
  {
   "cell_type": "code",
   "execution_count": 22,
   "metadata": {},
   "outputs": [
    {
     "data": {
      "text/plain": [
       "'C_u0^i0^j0'"
      ]
     },
     "execution_count": 22,
     "metadata": {},
     "output_type": "execute_result"
    }
   ],
   "source": [
    "prod.get_tensorRep()"
   ]
  },
  {
   "cell_type": "code",
   "execution_count": null,
   "metadata": {
    "collapsed": true
   },
   "outputs": [],
   "source": []
  }
 ],
 "metadata": {
  "kernelspec": {
   "display_name": "Python 3",
   "language": "python",
   "name": "python3"
  },
  "language_info": {
   "codemirror_mode": {
    "name": "ipython",
    "version": 3
   },
   "file_extension": ".py",
   "mimetype": "text/x-python",
   "name": "python",
   "nbconvert_exporter": "python",
   "pygments_lexer": "ipython3",
   "version": "3.6.3"
  }
 },
 "nbformat": 4,
 "nbformat_minor": 2
}
