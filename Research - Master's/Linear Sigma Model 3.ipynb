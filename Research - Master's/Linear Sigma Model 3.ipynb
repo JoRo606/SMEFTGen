{
 "cells": [
  {
   "cell_type": "code",
   "execution_count": 133,
   "metadata": {},
   "outputs": [],
   "source": [
    "class field(object):\n",
    "    def __init__(self, massDim, LORindices, ONindices, symbol):\n",
    "        self.massDim = massDim #int\n",
    "        self.LORindices = LORindices #list of strings\n",
    "        self.ONindices = ONindices #list of strings\n",
    "        self.LORrank = len(LORindices)\n",
    "        self.ONrank = len(ONindices)\n",
    "        self.symbol = symbol #string representing field\n",
    "        self.factors = [] #2-element list of factors that are multiplied or contracted to get this field - i.e., internal structure of field, if any\n",
    "        self.LORcontract = [] #list of pairs (lists) of contracted Lorentz indices, one from each factor field\n",
    "        self.ONcontract = [] #list of pairs (lists) of O(N) indices, one from each factor field\n",
    "        self.tensorRep = ''\n",
    "        self.elementary = [] #Stores list of N elementary field factors phi and dphi\n",
    "        self.contractions = [] #Stores the indices with respect to which successive elementary factors are linked\n",
    "                                #e.g., [[0,1],[1,0],[0,1]] for phi^i1 dphi_u1^i1 dphi_u1^i2 phi^i2, [[1,1]] for dphi_u^i dphi_u^i. For N \n",
    "                                #elementary fields, N-1 links. \n",
    "    def __str__(self): #Prints out attributes of field object\n",
    "        return 'massDim: ' + str(self.massDim) + '\\n' \\\n",
    "            + 'LORindices: ' + str(self.LORindices) + '\\n' \\\n",
    "            + 'ONindices: ' + str(self.ONindices) + '\\n' \\\n",
    "            + 'symbol: ' + str(self.symbol) + '\\n' \\\n",
    "            + 'LORrank: ' + str(self.LORrank) + '\\n' \\\n",
    "            + 'ONrank: ' + str(self.ONrank) + '\\n' \\\n",
    "            + 'tensorRep: ' + str(self.tensorRep)\n",
    "    \n",
    "    #Define get and set functions\n",
    "    def get_massDim(self):\n",
    "        return self.massDim\n",
    "    def get_LORindices(self):\n",
    "        return self.LORindices\n",
    "    def get_ONindices(self):\n",
    "        return self.ONindices\n",
    "    def get_LORrank(self):\n",
    "        return self.LORrank\n",
    "    def get_ONrank(self):\n",
    "        return self.ONrank\n",
    "    def get_symbol(self):\n",
    "        return self.symbol\n",
    "    def get_factors(self):\n",
    "        return self.factors\n",
    "    def get_LORcontract(self):\n",
    "        return LORcontract\n",
    "    def get_ONcontract(self):\n",
    "        return ONcontract\n",
    "    \n",
    "    def set_massDim(self, massDim):\n",
    "        self.massDim = massDim\n",
    "    def set_LORindices(self, LORindices):\n",
    "        self.LORindices = LORindices\n",
    "    def set_ONindices(self, ONindices):\n",
    "        self.ONindices = ONindices\n",
    "    def set_symbol(self, symbol):\n",
    "        self.symbol = symbol\n",
    "    def set_factors(self, factors):\n",
    "        self.factors = factors\n",
    "    def set_LORcontract(self, LORcontract):\n",
    "        self.LORcontract = LORcontract\n",
    "    def set_ONcontract(self, ONcontract):\n",
    "        self.ONcontract = ONcontract\n",
    "    #No set_LORrank() or set_ONrank() functions since LORrank and ONrank are determined by length of index lists\n",
    "        \n",
    "    #Returns a new field corresponding to derivative of field by increasing massDim and LORindex by one\n",
    "    def derivative(self, mu = 'u'): \n",
    "        massDim_new = self.get_massDim() + 1\n",
    "        #print(self.get_LORindices())\n",
    "        LORindices_new = self.get_LORindices() + [mu]\n",
    "        #print(LORindices_new)\n",
    "        LORrank_new = self.get_LORrank() + 1\n",
    "        fieldDeriv = field(massDim_new, LORindices_new, self.ONindices, LORrank_new, self.ONrank, 'D' + self.symbol)\n",
    "        return fieldDeriv    \n",
    "    \n",
    "    #Returns tensor string showing full index structure of field object\n",
    "    def makeTensorRep(self):\n",
    "        tensor = self.symbol\n",
    "        for i in self.LORindices:\n",
    "            tensor = tensor + '_' + str(i)\n",
    "        for j in self.ONindices:\n",
    "            tensor = tensor + '^' + str(j)\n",
    "        return tensor\n",
    "    \n",
    "    #Multiplies two fields, contracting along specified indices\n",
    "    def contract(self, other, LORcontract, ONcontract):\n",
    "        '''\n",
    "        Calculates product/contraction of two fields; can be broken down recursively into elementary factors of field and \n",
    "        field derivative.\n",
    "        INPUT\n",
    "        self, other: field objects to be contracted along specified indices\n",
    "        LORcontract: list of pairs (lists) of LOR indices (one from each field) to be contracted\n",
    "        ONcontract: list of pairs (lists) of O(N) indices (one from each field) to be contracted\n",
    "        \n",
    "        OUTPUT\n",
    "        new field object, prod, with factors stored in attribute prod.factors and contraction indices preserved \n",
    "        in prod.LORcontract and prod.ONcontract. \n",
    "        ''' \n",
    "        #Calculate massDim of product\n",
    "        massDim_prod = self.get_massDim() + other.get_massDim()\n",
    "        \n",
    "        #Calculate LORindices, ONindices of product. [:] makes copy rather than mere reference/pointer, so that we don't alter attributes of factor fields. \n",
    "        LORindices_self = self.get_LORindices()[:]\n",
    "        LORindices_other = other.get_LORindices()[:]\n",
    "\n",
    "        ONindices_self = self.get_ONindices()[:]\n",
    "        ONindices_other = other.get_ONindices()[:]\n",
    "        \n",
    "        print(\"LORindices_self: \" + str(LORindices_self))\n",
    "        print(\"LORindices_other: \" + str(LORindices_other))\n",
    "        \n",
    "        #Standardize LORindex labels\n",
    "        for i in range(len(LORindices_self)):\n",
    "            LORindices_self[i] = 'u' + str(i)\n",
    "        for i in range(len(LORindices_other)):\n",
    "            LORindices_other[i] = 'v' + str(i)\n",
    "        \n",
    "        #Replace contracted LORindex labels with A's \n",
    "        if len(LORcontract) == 0: #check whether list of contracted LORindices lists is empty\n",
    "            pass\n",
    "        else: \n",
    "            for i in range(len(LORcontract)): \n",
    "                LORindices_self[LORcontract[i][0]] = 'S' + str(i)\n",
    "                LORindices_other[LORcontract[i][1]] = 'S' + str(i)\n",
    "    \n",
    "        \n",
    "        \n",
    "        #Standardize ONindex labels\n",
    "        for i in range(len(ONindices_self)):\n",
    "            ONindices_self[i] = 'i' + str(i)\n",
    "        for i in range(len(ONindices_other)):\n",
    "            ONindices_other[i] = 'j' + str(i)\n",
    "        \n",
    "        #Replace contracted ONindex labels with B's\n",
    "        if len(ONcontract) == 0: #check whether list of contracted ONindices lists is empty\n",
    "            pass\n",
    "        else:\n",
    "            for i in range(len(ONcontract)): \n",
    "                ONindices_self[ONcontract[i][0]] = 'T' + str(i)\n",
    "                ONindices_other[ONcontract[i][1]] = 'T' + str(i)\n",
    "     \n",
    "        self_contracted = field(self.get_massDim(), LORindices_self, ONindices_self, self.get_symbol())\n",
    "        other_contracted = field(other.get_massDim(), LORindices_other, ONindices_other, other.get_symbol())\n",
    "    \n",
    "        #tensor_prod = '(' + self.tensorRep() + ')' + '(' + other.tensorRep() + ')'\n",
    "    \n",
    "        print(\"LORindices_self: \" + str(LORindices_self))\n",
    "        print(\"LORindices_other: \" + str(LORindices_other))\n",
    "        #remove contracted indices\n",
    "        for i in range(len(LORcontract)):\n",
    "            print(\"i: \" + str(i))\n",
    "            print(\"LORcontract[i][0]: \" + str(LORcontract[i][0]) )\n",
    "            LORindices_self.pop(LORcontract[i][0]-i)\n",
    "            LORindices_other.pop(LORcontract[i][1]-i)\n",
    "        for i in range(len(ONcontract)):\n",
    "            ONindices_self.pop(ONcontract[i][0]-i)\n",
    "            ONindices_other.pop(ONcontract[i][1]-i)\n",
    "        \n",
    "        LORindices_prod = LORindices_self +  LORindices_other\n",
    "        ONindices_prod = ONindices_self + ONindices_other\n",
    "        symbol_prod = '(' + '(' + self.get_symbol() + ')' + '(' + other.get_symbol() + ')' + ')'\n",
    "        \n",
    "        prod = field(massDim_prod, LORindices_prod, ONindices_prod, symbol_prod)\n",
    "        prod.set_factors([self, other])\n",
    "        prod.set_LORcontract(LORcontract)\n",
    "        prod.set_ONcontract(ONcontract)\n",
    "        \n",
    "        return prod\n",
    "        \n",
    "        "
   ]
  },
  {
   "cell_type": "code",
   "execution_count": 134,
   "metadata": {
    "collapsed": true
   },
   "outputs": [],
   "source": [
    "A = field(5, ['u0', 'u1', 'u2'], ['i0', 'i1'], 'A')"
   ]
  },
  {
   "cell_type": "code",
   "execution_count": 135,
   "metadata": {},
   "outputs": [],
   "source": [
    "B = field(3, ['v0', 'v1'], ['j0', 'j1'], 'B')"
   ]
  },
  {
   "cell_type": "code",
   "execution_count": 136,
   "metadata": {},
   "outputs": [
    {
     "name": "stdout",
     "output_type": "stream",
     "text": [
      "LORindices_self: ['u0', 'u1', 'u2']\n",
      "LORindices_other: ['v0', 'v1']\n",
      "LORindices_self: ['S0', 'u1', 'S1']\n",
      "LORindices_other: ['S1', 'S0']\n",
      "i: 0\n",
      "LORcontract[i][0]: 0\n",
      "i: 1\n",
      "LORcontract[i][0]: 2\n",
      "massDim: 8\n",
      "LORindices: ['u1']\n",
      "ONindices: ['i0', 'j1']\n",
      "symbol: ((A)(B))\n",
      "LORrank: 1\n",
      "ONrank: 2\n",
      "tensorRep: \n"
     ]
    }
   ],
   "source": [
    "AB = field.contract(A, B, [[0, 1],[2, 0]], [[1, 0]])\n",
    "#A.contract(B, [[0, 1],[2, 0]], [[1, 0]])\n",
    "print(AB)"
   ]
  },
  {
   "cell_type": "code",
   "execution_count": 129,
   "metadata": {
    "collapsed": true
   },
   "outputs": [],
   "source": [
    "LORcontract = [[0, 1],[2, 0]]"
   ]
  },
  {
   "cell_type": "code",
   "execution_count": 130,
   "metadata": {
    "collapsed": true
   },
   "outputs": [],
   "source": [
    "LORindices_self = ['u0', 'u1', 'u2']"
   ]
  },
  {
   "cell_type": "code",
   "execution_count": 131,
   "metadata": {},
   "outputs": [
    {
     "data": {
      "text/plain": [
       "'u0'"
      ]
     },
     "execution_count": 131,
     "metadata": {},
     "output_type": "execute_result"
    }
   ],
   "source": [
    "LORindices_self.pop(0)"
   ]
  },
  {
   "cell_type": "code",
   "execution_count": 132,
   "metadata": {
    "scrolled": true
   },
   "outputs": [
    {
     "data": {
      "text/plain": [
       "['u1', 'u2']"
      ]
     },
     "execution_count": 132,
     "metadata": {},
     "output_type": "execute_result"
    }
   ],
   "source": [
    "LORindices_self"
   ]
  },
  {
   "cell_type": "code",
   "execution_count": null,
   "metadata": {
    "collapsed": true
   },
   "outputs": [],
   "source": []
  }
 ],
 "metadata": {
  "kernelspec": {
   "display_name": "Python 3",
   "language": "python",
   "name": "python3"
  },
  "language_info": {
   "codemirror_mode": {
    "name": "ipython",
    "version": 3
   },
   "file_extension": ".py",
   "mimetype": "text/x-python",
   "name": "python",
   "nbconvert_exporter": "python",
   "pygments_lexer": "ipython3",
   "version": "3.6.3"
  }
 },
 "nbformat": 4,
 "nbformat_minor": 2
}
