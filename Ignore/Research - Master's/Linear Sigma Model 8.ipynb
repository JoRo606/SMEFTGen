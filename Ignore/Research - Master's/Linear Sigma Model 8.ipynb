{
 "cells": [
  {
   "cell_type": "code",
   "execution_count": 153,
   "metadata": {},
   "outputs": [
    {
     "ename": "SyntaxError",
     "evalue": "invalid syntax (<ipython-input-153-7b981d2d0a2e>, line 252)",
     "output_type": "error",
     "traceback": [
      "\u001b[0;36m  File \u001b[0;32m\"<ipython-input-153-7b981d2d0a2e>\"\u001b[0;36m, line \u001b[0;32m252\u001b[0m\n\u001b[0;31m    for i len(connected_terms_D):\u001b[0m\n\u001b[0m            ^\u001b[0m\n\u001b[0;31mSyntaxError\u001b[0m\u001b[0;31m:\u001b[0m invalid syntax\n"
     ]
    }
   ],
   "source": [
    "class field(object):\n",
    "    def __init__(self, elementary_str, contractions, symbol):\n",
    "        self.elementary_str = elementary_str #Stores list of N symbols for elementary field factors phi and dphi\n",
    "        self.elementary = []\n",
    "        self.contractions = contractions #Stores the indices with respect to which successive elementary factors are linked\n",
    "                                #e.g., [[0,1],[1,0],[0,1]] for phi^i1 dphi_u1^i1 dphi_u1^i2 phi^i2, [[1,1]] for dphi_u^i dphi_u^i. For N \n",
    "                                #elementary fields, N-1 links.\n",
    "        self.symbol = symbol\n",
    "        self.generated_terms = []\n",
    "    def __str__(self):\n",
    "        return 'elementary_str: ' + str(self.elementary_str) + '\\n' \\\n",
    "            + 'contractions: ' + str(self.contractions) + '\\n' \\\n",
    "            + 'symbol: ' + str(self.symbol) + '\\n' \\\n",
    "            + 'massDim: ' + str(self.massDim()) + '\\n' \\\n",
    "            + 'LORrank: ' + str(self.LORrank()) + '\\n' \\\n",
    "            + 'ONrank: ' + str(self.ONrank()) \n",
    "    \n",
    "    #Define get and set functions\n",
    "    def get_elementary_str(self):\n",
    "        return self.elementary_str\n",
    "    def get_elementary(self):\n",
    "        return self.elementary\n",
    "    def get_contractions(self):\n",
    "        return self.contractions\n",
    "    def get_symbol(self):\n",
    "        return self.symbol\n",
    "    \n",
    "    def set_elementary_str(self, elementary_str):\n",
    "        self.elementary_str = elementary_str\n",
    "    def set_elementary(self): #should run this to set list of constituent fields\n",
    "        for symbol in self.elementary_str:\n",
    "            if symbol == 'P':\n",
    "                field1 = field(['P'],[], 'P')\n",
    "                self.elementary.append(field1)\n",
    "            elif symbol == 'DP':\n",
    "                field1_deriv = field(['DP'],[], 'DP')\n",
    "                self.elementary.append(field1_deriv)\n",
    "            else:\n",
    "                print('Error: Symbol must be P or DP.')\n",
    "    def set_contractions(self, contractions):\n",
    "        self.contractions = contractions\n",
    "    def set_symbol(self, symbol):\n",
    "        self.symbol = symbol\n",
    "    \n",
    "    \n",
    "    \n",
    "    def massDim(self):\n",
    "        \n",
    "        counter = 0\n",
    "        \n",
    "        for field in self.get_elementary():\n",
    "            if field.get_symbol() == 'P':\n",
    "                counter = counter + 1\n",
    "            elif field.get_symbol() == 'DP':\n",
    "                counter = counter + 2\n",
    "        \n",
    "        return counter                       \n",
    "\n",
    "    def LORrank(self):\n",
    "        '''\n",
    "        To get LORrank Count number of Lorentz contractions (counter) in contractions. Multiply by 2. Subtract this from \n",
    "        the number of Lorentz indices appearing in elementary - namely, the number of 'DP' fields. \n",
    "        '''\n",
    "        counter1 = 0\n",
    "        for pair in self.get_contractions():\n",
    "            if pair[0] == 1:\n",
    "                counter1 = counter1 + 1\n",
    "            else:\n",
    "                pass\n",
    "            \n",
    "        counter2 = 0\n",
    "        for field in self.get_elementary():\n",
    "            if field.get_symbol() == 'DP':\n",
    "                counter2 = counter2 + 1\n",
    "            else:\n",
    "                pass     \n",
    "        #print(\"counter1: \" + str(counter1))\n",
    "        #print(\"counter2: \" + str(counter2))\n",
    "        \n",
    "        rank = counter2 - 2*counter1\n",
    "        \n",
    "        return rank\n",
    "    \n",
    "    \n",
    "    def ONrank(self):\n",
    "        \n",
    "        counter1 = 0\n",
    "        \n",
    "        #Number of contractions is the number of time a '1' appears in the second index of pairs in contractions\n",
    "        for pair in self.get_contractions():\n",
    "            if pair[1] == 1:\n",
    "                counter1 = counter1 + 1\n",
    "            else:\n",
    "                pass\n",
    "        \n",
    "        #Number of ON indices is just the number of fields in self.elementary\n",
    "        counter2 = len(self.get_elementary_str())\n",
    "            \n",
    "        rank = counter2 - 2*counter1\n",
    "        \n",
    "        return rank\n",
    "    \n",
    "    \n",
    "    def contract(self, other, contraction, symbol_prod):\n",
    "        '''\n",
    "        other: elementary field, P or DP\n",
    "        contraction: pair of integers - [1,0] for contraction in LOR, [0,1] for contraction in ON, [1,1] for both\n",
    "        symbol_prod: string\n",
    "        '''\n",
    "        \n",
    "        #print(\"contraction: \" + str(contraction))\n",
    "        \n",
    "        if contraction == [1,0]:\n",
    "            contractions_prod = self.get_contractions() + [[1,0]]\n",
    "        elif contraction == [0,1]:\n",
    "            contractions_prod = self.get_contractions() + [[0,1]]\n",
    "        elif contraction == [1,1]:\n",
    "            contractions_prod = self.get_contractions() + [[1,1]]\n",
    "        else:\n",
    "            print(\"Error: contractions must be [1,0], [0,1], or [1,1]\")\n",
    "            \n",
    "        \n",
    "        elementary_str_prod = self.get_elementary_str() + other.get_elementary_str()\n",
    "        \n",
    "        prod = field(elementary_str_prod, contractions_prod, symbol_prod)\n",
    "        \n",
    "        prod.set_elementary()\n",
    "        \n",
    "        return prod\n",
    "    \n",
    "    \n",
    "    def multiply(self, other, symbol_prod=''):\n",
    "        '''\n",
    "        Multiplies without contraction\n",
    "        INPUT:\n",
    "        self: field object\n",
    "        other: field object\n",
    "        symbol_prod: symbol for new field obj output\n",
    "        \n",
    "        OUTPUT:\n",
    "        prod: field object, concatenating self and other, by inserting [0,0] in contractions\n",
    "        \n",
    "        '''\n",
    "        if (not self.get_elementary_str()) or (not other.get_elementary_str()):\n",
    "            print(\"one factor is const\")\n",
    "            contractions_prod = self.get_contractions() + other.get_contractions()\n",
    "        else:\n",
    "            contractions_prod = self.get_contractions() + [[0,0]] + other.get_contractions()\n",
    "        \n",
    "        elementary_str_prod = self.get_elementary_str() + other.get_elementary_str()\n",
    "        \n",
    "        prod = field(elementary_str_prod, contractions_prod, symbol_prod)\n",
    "        \n",
    "        prod.set_elementary()\n",
    "        \n",
    "        return prod\n",
    "    \n",
    "    \n",
    "    \n",
    "    def generate_connected(self, d):\n",
    "        '''\n",
    "        INPUT\n",
    "        d: non-negative integer, mass dimension up to which to generate field terms\n",
    "        \n",
    "        OUTPUT\n",
    "        terms: list of field terms of mass dimension no larger than d.  \n",
    "        '''\n",
    "        \n",
    "        const = field([],[],'1')\n",
    "        \n",
    "        terms = [const]\n",
    "        \n",
    "        print(\"in generate_connected\")\n",
    "        \n",
    "        if d >= 2:\n",
    "            print(\"in d>=2\")\n",
    "            field1 = field(['P'],[],'P')\n",
    "            field2 = field(['P'],[],'P')\n",
    "            prod = field.contract(field1, field2, [0,1], 'PP')\n",
    "            terms.append(prod)\n",
    "        if d >= 4:\n",
    "            deriv1 = field(['DP'],[],'DP')\n",
    "            deriv2 = field(['DP'],[],'DP')\n",
    "            prod = field.contract(deriv1, deriv2, [1,1], 'DPDP')\n",
    "            terms.append(prod)\n",
    "        \n",
    "        field1 = field(['P'],[],'P')\n",
    "        deriv1 = field(['DP'],[],'DP')\n",
    "        \n",
    "        if d < 4:\n",
    "            return terms\n",
    "    \n",
    "        \n",
    "        root = field.contract(field1, deriv1, [0,1], 'PDP')\n",
    "        \n",
    "        while root.massDim() <= d:\n",
    "            #print(\"\")\n",
    "            #print(\"root: \")\n",
    "            #print(root)\n",
    "            #print(\"\")\n",
    "            if root.LORrank() != 0:\n",
    "                #print(\"in root.LORrank()!=0\")\n",
    "                deriv1 = field(['DP'],[],'DP')\n",
    "                root = field.contract(root, deriv1, [1,0], '')\n",
    "                #print(\"\")\n",
    "                #print(\"root: \")\n",
    "                #print(root)\n",
    "                #print(\"\")\n",
    "            \n",
    "            if root.ONrank() != 0:\n",
    "                #print(\"in root.ONrank()!=0\")\n",
    "                field1 = field(['P'],[],'P')\n",
    "                deriv1 = field(['DP'],[],'DP')\n",
    "                \n",
    "                new = field.contract(root, field1, [0,1], '')\n",
    "                if new.massDim() <= d and new.LORrank() == 0 and new.ONrank() == 0:\n",
    "                    #print(\"in new term added\")\n",
    "                    terms.append(new)\n",
    "                \n",
    "                root = field.contract(root, deriv1, [0,1], '')\n",
    "                #print(\"\")\n",
    "                #print(\"root: \")\n",
    "                #print(root)\n",
    "                #print(\"\")    \n",
    "        \n",
    "        return terms\n",
    "    \n",
    "    \n",
    "    \n",
    "    def generate(self, D):\n",
    "        '''\n",
    "        return list of all terms with mass dimension <= D\n",
    "        ''' \n",
    "        terms = []\n",
    "        \n",
    "        '''\n",
    "        if d == 0:\n",
    "            terms = self.generate_connected(0)\n",
    "            return terms\n",
    "        else:\n",
    "            connected_terms = field.generate_connected(self, d)\n",
    "            last_term = connected_terms[-1]\n",
    "            d_next = connected_terms[-2].massDim()\n",
    "        \n",
    "            for term in field.generate(self, d_next):\n",
    "                trial = field.multiply(last_term, term)\n",
    "                if trial.massDim() <= d:\n",
    "                    terms.append(trial)\n",
    "        '''\n",
    "        \n",
    "        \n",
    "        \n",
    "        connected_terms_D = field.generate_connected(self, D)\n",
    "        \n",
    "        connected_massDims_D = [] #threshholds for generation of new connected term\n",
    "        for i range(len(connected_terms_D)):\n",
    "            connected_massDims_D.append(connected_terms_D[i].massDim())\n",
    "        print(\"len(connected_massDims_D): \" + len(connected_massDims_D))\n",
    "         \n",
    "        terms = []\n",
    "        d = 0\n",
    "        \n",
    "        #How to produce output of \"generate(self, D)\" from output of \"generate(self, D-1).\"\n",
    "        while(d < D):\n",
    "            connected_terms_d = field.generate_connected(self, d)\n",
    "            connected_terms_dp1 = field.generate_connected(self, d+1)\n",
    "            \n",
    "            new_connected_term = list(set(field.generate_connected(self, d+1)) - set(field.generate_connected(self, d)))\n",
    "            \n",
    "            \n",
    "            terms_dm1 = generate(self, d-1)\n",
    "            for i in range(len(generate(self, d-1))):\n",
    "                new1 = field.multiply(new_connected_term, terms_dm1[i])\n",
    "                if new1.massDim() <= d\n",
    "                    terms.append(new1)\n",
    "                new2 = #what new terms from multiplying together elements of generate(self, d-1)\n",
    "                \n",
    "                \n",
    "            \n",
    "            d += 1\n",
    "        \n",
    "        return terms \n",
    "        \n",
    "        \n",
    "    \n",
    "    \n",
    "       \n",
    "    \n",
    "            "
   ]
  },
  {
   "cell_type": "code",
   "execution_count": 150,
   "metadata": {
    "collapsed": true
   },
   "outputs": [],
   "source": [
    "A = field(['P','DP','DP','P'], [[0,1],[1,0],[0,1]], 'A')"
   ]
  },
  {
   "cell_type": "code",
   "execution_count": 121,
   "metadata": {
    "collapsed": true
   },
   "outputs": [],
   "source": [
    "B = field(['DP','DP'], [[1,1]], 'B')"
   ]
  },
  {
   "cell_type": "code",
   "execution_count": 122,
   "metadata": {},
   "outputs": [],
   "source": [
    "A.set_elementary()"
   ]
  },
  {
   "cell_type": "code",
   "execution_count": 123,
   "metadata": {
    "collapsed": true
   },
   "outputs": [],
   "source": [
    "B.set_elementary()"
   ]
  },
  {
   "cell_type": "code",
   "execution_count": 91,
   "metadata": {},
   "outputs": [],
   "source": [
    "AB = field.multiply(A, B, 'AB')"
   ]
  },
  {
   "cell_type": "code",
   "execution_count": 92,
   "metadata": {},
   "outputs": [
    {
     "name": "stdout",
     "output_type": "stream",
     "text": [
      "elementary_str: ['P', 'DP', 'DP', 'P', 'DP', 'DP']\n",
      "contractions: [[0, 1], [1, 0], [0, 1], [0, 0], [1, 1]]\n",
      "symbol: AB\n",
      "massDim: 10\n",
      "LORrank: 0\n",
      "ONrank: 0\n"
     ]
    }
   ],
   "source": [
    "print(AB)"
   ]
  },
  {
   "cell_type": "code",
   "execution_count": 93,
   "metadata": {},
   "outputs": [
    {
     "name": "stdout",
     "output_type": "stream",
     "text": [
      "in generate_connected\n",
      "in d>=2\n"
     ]
    },
    {
     "data": {
      "text/plain": [
       "[<__main__.field at 0x10f712908>,\n",
       " <__main__.field at 0x10f7121d0>,\n",
       " <__main__.field at 0x10f6f3780>,\n",
       " <__main__.field at 0x10f6f3ef0>,\n",
       " <__main__.field at 0x10f712860>]"
      ]
     },
     "execution_count": 93,
     "metadata": {},
     "output_type": "execute_result"
    }
   ],
   "source": [
    "A.generate_connected(10)"
   ]
  },
  {
   "cell_type": "code",
   "execution_count": 94,
   "metadata": {},
   "outputs": [
    {
     "name": "stdout",
     "output_type": "stream",
     "text": [
      "in generate_connected\n",
      "in d>=2\n",
      "elementary_str: []\n",
      "contractions: []\n",
      "symbol: 1\n",
      "massDim: 0\n",
      "LORrank: 0\n",
      "ONrank: 0\n",
      "elementary_str: ['P', 'P']\n",
      "contractions: [[0, 1]]\n",
      "symbol: PP\n",
      "massDim: 2\n",
      "LORrank: 0\n",
      "ONrank: 0\n",
      "elementary_str: ['DP', 'DP']\n",
      "contractions: [[1, 1]]\n",
      "symbol: DPDP\n",
      "massDim: 4\n",
      "LORrank: 0\n",
      "ONrank: 0\n",
      "elementary_str: ['P', 'DP', 'DP', 'P']\n",
      "contractions: [[0, 1], [1, 0], [0, 1]]\n",
      "symbol: \n",
      "massDim: 6\n",
      "LORrank: 0\n",
      "ONrank: 0\n",
      "elementary_str: ['P', 'DP', 'DP', 'DP', 'DP', 'P']\n",
      "contractions: [[0, 1], [1, 0], [0, 1], [1, 0], [0, 1]]\n",
      "symbol: \n",
      "massDim: 10\n",
      "LORrank: 0\n",
      "ONrank: 0\n"
     ]
    }
   ],
   "source": [
    "for i in A.generate_connected(10):\n",
    "    print(i)"
   ]
  },
  {
   "cell_type": "code",
   "execution_count": 95,
   "metadata": {
    "collapsed": true
   },
   "outputs": [],
   "source": [
    "const = field([],[],'1')"
   ]
  },
  {
   "cell_type": "code",
   "execution_count": 96,
   "metadata": {},
   "outputs": [
    {
     "name": "stdout",
     "output_type": "stream",
     "text": [
      "one factor is const\n"
     ]
    }
   ],
   "source": [
    "prod = field.multiply(const, A, 'prod')"
   ]
  },
  {
   "cell_type": "code",
   "execution_count": 97,
   "metadata": {},
   "outputs": [
    {
     "name": "stdout",
     "output_type": "stream",
     "text": [
      "elementary_str: ['P', 'DP', 'DP', 'P']\n",
      "contractions: [[0, 1], [1, 0], [0, 1]]\n",
      "symbol: prod\n",
      "massDim: 6\n",
      "LORrank: 0\n",
      "ONrank: 0\n"
     ]
    }
   ],
   "source": [
    "print(prod)"
   ]
  },
  {
   "cell_type": "code",
   "execution_count": 110,
   "metadata": {},
   "outputs": [
    {
     "name": "stdout",
     "output_type": "stream",
     "text": [
      "in generate_connected\n",
      "in d>=2\n"
     ]
    },
    {
     "data": {
      "text/plain": [
       "[<__main__.field at 0x10f5f5c18>]"
      ]
     },
     "execution_count": 110,
     "metadata": {},
     "output_type": "execute_result"
    }
   ],
   "source": [
    "A.generate(10)"
   ]
  },
  {
   "cell_type": "code",
   "execution_count": 111,
   "metadata": {},
   "outputs": [
    {
     "name": "stdout",
     "output_type": "stream",
     "text": [
      "[<__main__.field object at 0x10f5f5c18>]\n"
     ]
    }
   ],
   "source": [
    "print(_)"
   ]
  },
  {
   "cell_type": "code",
   "execution_count": 112,
   "metadata": {},
   "outputs": [
    {
     "name": "stdout",
     "output_type": "stream",
     "text": [
      "elementary_str: ['P', 'DP', 'DP', 'DP', 'DP', 'P']\n",
      "contractions: [[0, 1], [1, 0], [0, 1], [1, 0], [0, 1]]\n",
      "symbol: \n",
      "massDim: 10\n",
      "LORrank: 0\n",
      "ONrank: 0\n"
     ]
    }
   ],
   "source": [
    "print(_[0])"
   ]
  },
  {
   "cell_type": "code",
   "execution_count": 115,
   "metadata": {},
   "outputs": [
    {
     "name": "stdout",
     "output_type": "stream",
     "text": [
      "in generate_connected\n"
     ]
    },
    {
     "data": {
      "text/plain": [
       "[<__main__.field at 0x10f5f5278>]"
      ]
     },
     "execution_count": 115,
     "metadata": {},
     "output_type": "execute_result"
    }
   ],
   "source": [
    "A.generate_connected(0)"
   ]
  },
  {
   "cell_type": "code",
   "execution_count": 116,
   "metadata": {},
   "outputs": [
    {
     "name": "stdout",
     "output_type": "stream",
     "text": [
      "elementary_str: []\n",
      "contractions: []\n",
      "symbol: 1\n",
      "massDim: 0\n",
      "LORrank: 0\n",
      "ONrank: 0\n"
     ]
    }
   ],
   "source": [
    "print(_[0])"
   ]
  },
  {
   "cell_type": "code",
   "execution_count": 151,
   "metadata": {},
   "outputs": [
    {
     "name": "stdout",
     "output_type": "stream",
     "text": [
      "in generate_connected\n",
      "in d>=2\n",
      "in generate_connected\n",
      "in d>=2\n",
      "in generate_connected\n",
      "in d>=2\n",
      "in generate_connected\n",
      "in d>=2\n",
      "in generate_connected\n",
      "one factor is const\n"
     ]
    }
   ],
   "source": [
    "test = A.generate(10)"
   ]
  },
  {
   "cell_type": "code",
   "execution_count": 152,
   "metadata": {},
   "outputs": [
    {
     "data": {
      "text/plain": [
       "0"
      ]
     },
     "execution_count": 152,
     "metadata": {},
     "output_type": "execute_result"
    }
   ],
   "source": [
    "len(test)"
   ]
  },
  {
   "cell_type": "code",
   "execution_count": 155,
   "metadata": {
    "collapsed": true
   },
   "outputs": [],
   "source": [
    "list1 = [1,2,3,4]"
   ]
  },
  {
   "cell_type": "code",
   "execution_count": 156,
   "metadata": {
    "collapsed": true
   },
   "outputs": [],
   "source": [
    "list2 = [1,3]"
   ]
  },
  {
   "cell_type": "code",
   "execution_count": 157,
   "metadata": {
    "collapsed": true
   },
   "outputs": [],
   "source": [
    "list3 = list(set(list1) - set(list2))"
   ]
  },
  {
   "cell_type": "code",
   "execution_count": 158,
   "metadata": {},
   "outputs": [
    {
     "data": {
      "text/plain": [
       "[2, 4]"
      ]
     },
     "execution_count": 158,
     "metadata": {},
     "output_type": "execute_result"
    }
   ],
   "source": [
    "list3"
   ]
  },
  {
   "cell_type": "code",
   "execution_count": null,
   "metadata": {
    "collapsed": true
   },
   "outputs": [],
   "source": []
  }
 ],
 "metadata": {
  "kernelspec": {
   "display_name": "Python 3",
   "language": "python",
   "name": "python3"
  },
  "language_info": {
   "codemirror_mode": {
    "name": "ipython",
    "version": 3
   },
   "file_extension": ".py",
   "mimetype": "text/x-python",
   "name": "python",
   "nbconvert_exporter": "python",
   "pygments_lexer": "ipython3",
   "version": "3.6.3"
  }
 },
 "nbformat": 4,
 "nbformat_minor": 2
}
