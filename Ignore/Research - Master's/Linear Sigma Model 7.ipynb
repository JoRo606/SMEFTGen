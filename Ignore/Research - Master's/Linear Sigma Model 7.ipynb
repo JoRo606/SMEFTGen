{
 "cells": [
  {
   "cell_type": "code",
   "execution_count": 762,
   "metadata": {
    "collapsed": true
   },
   "outputs": [],
   "source": [
    "class connected(object):\n",
    "    def __init__(self, elementary_str, contractions, symbol):\n",
    "        self.elementary_str = elementary_str #Stores list of N symbols for elementary field factors phi and dphi\n",
    "        self.elementary = []\n",
    "        self.contractions = contractions #Stores the indices with respect to which successive elementary factors are linked\n",
    "                                #e.g., [[0,1],[1,0],[0,1]] for phi^i1 dphi_u1^i1 dphi_u1^i2 phi^i2, [[1,1]] for dphi_u^i dphi_u^i. For N \n",
    "                                #elementary fields, N-1 links.\n",
    "        self.symbol = symbol\n",
    "    def __str__(self):\n",
    "        return 'elementary_str: ' + str(self.elementary_str) + '\\n' \\\n",
    "            + 'contractions: ' + str(self.contractions) + '\\n' \\\n",
    "            + 'symbol: ' + str(self.symbol) + '\\n' \\\n",
    "            + 'massDim: ' + str(self.massDim()) + '\\n' \\\n",
    "            + 'LORrank: ' + str(self.LORrank()) + '\\n' \\\n",
    "            + 'ONrank: ' + str(self.ONrank()) \n",
    "    \n",
    "    #Define get and set functions\n",
    "    def get_elementary_str(self):\n",
    "        return self.elementary_str\n",
    "    def get_elementary(self):\n",
    "        return self.elementary\n",
    "    def get_contractions(self):\n",
    "        return self.contractions\n",
    "    def get_symbol(self):\n",
    "        return self.symbol\n",
    "    \n",
    "    def set_elementary_str(self, elementary_str):\n",
    "        self.elementary_str = elementary_str\n",
    "    def set_elementary(self): #should run this to set list of constituent fields\n",
    "        for symbol in self.elementary_str:\n",
    "            if symbol == 'P':\n",
    "                field = connected(['P'],[], 'P')\n",
    "                self.elementary.append(field)\n",
    "            elif symbol == 'DP':\n",
    "                field_deriv = connected(['DP'],[], 'DP')\n",
    "                self.elementary.append(field_deriv)\n",
    "            else:\n",
    "                print('Error: Symbol must be P or DP.')\n",
    "    def set_contractions(self, contractions):\n",
    "        self.contractions = contractions\n",
    "    def set_symbol(self, symbol):\n",
    "        self.symbol = symbol\n",
    "    \n",
    "    \n",
    "    \n",
    "    def massDim(self):\n",
    "        \n",
    "        counter = 0\n",
    "        \n",
    "        for field in self.get_elementary():\n",
    "            if field.get_symbol() == 'P':\n",
    "                counter = counter + 1\n",
    "            elif field.get_symbol() == 'DP':\n",
    "                counter = counter + 2\n",
    "        \n",
    "        return counter                       \n",
    "\n",
    "    def LORrank(self):\n",
    "        '''\n",
    "        To get LORrank Count number of Lorentz contractions (counter) in contractions. Multiply by 2. Subtract this from \n",
    "        the number of Lorentz indices appearing in elementary - namely, the number of 'DP' fields. \n",
    "        '''\n",
    "        counter1 = 0\n",
    "        for pair in self.get_contractions():\n",
    "            if pair[0] == 1:\n",
    "                counter1 = counter1 + 1\n",
    "            else:\n",
    "                pass\n",
    "            \n",
    "        counter2 = 0\n",
    "        for field in self.get_elementary():\n",
    "            if field.get_symbol() == 'DP':\n",
    "                counter2 = counter2 + 1\n",
    "            else:\n",
    "                pass     \n",
    "        #print(\"counter1: \" + str(counter1))\n",
    "        #print(\"counter2: \" + str(counter2))\n",
    "        \n",
    "        rank = counter2 - 2*counter1\n",
    "        \n",
    "        return rank\n",
    "    \n",
    "    \n",
    "    def ONrank(self):\n",
    "        \n",
    "        counter1 = 0\n",
    "        \n",
    "        #Number of contractions is the number of time a '1' appears in the second index of pairs in contractions\n",
    "        for pair in self.get_contractions():\n",
    "            if pair[1] == 1:\n",
    "                counter1 = counter1 + 1\n",
    "            else:\n",
    "                pass\n",
    "        \n",
    "        #Number of ON indices is just the number of fields in self.elementary\n",
    "        counter2 = len(self.get_elementary_str())\n",
    "            \n",
    "        rank = counter2 - 2*counter1\n",
    "        \n",
    "        return rank\n",
    "    \n",
    "    \n",
    "    def contract(self, other, contraction, symbol_prod):\n",
    "        '''\n",
    "        other: elementary field, P or DP\n",
    "        contraction: pair of integers - [1,0] for contraction in LOR, [0,1] for contraction in ON, [1,1] for both\n",
    "        symbol_prod: string\n",
    "        '''\n",
    "        \n",
    "        #print(\"contraction: \" + str(contraction))\n",
    "        \n",
    "        if contraction == [1,0]:\n",
    "            contractions_prod = self.get_contractions() + [[1,0]]\n",
    "        elif contraction == [0,1]:\n",
    "            contractions_prod = self.get_contractions() + [[0,1]]\n",
    "        elif contraction == [1,1]:\n",
    "            contractions_prod = self.get_contractions() + [[1,1]]\n",
    "        else:\n",
    "            print(\"Error: contractions must be [1,0], [0,1], or [1,1]\")\n",
    "            \n",
    "        \n",
    "        elementary_str_prod = self.get_elementary_str() + other.get_elementary_str()\n",
    "        \n",
    "        prod = connected(elementary_str_prod, contractions_prod, symbol_prod)\n",
    "        \n",
    "        prod.set_elementary()\n",
    "        \n",
    "        return prod\n",
    "    \n",
    "    def generate_connected(self, d):\n",
    "        '''\n",
    "        INPUT\n",
    "        d: non-negative integer, mass dimension up to which to generate connected terms\n",
    "        \n",
    "        OUTPUT\n",
    "        terms: list of connected terms of mass dimension no larger than d.  \n",
    "        '''\n",
    "        \n",
    "        terms = []\n",
    "        \n",
    "        print(\"in generate_connected\")\n",
    "        \n",
    "        if d >= 2:\n",
    "            print(\"in d>=2\")\n",
    "            field1 = connected(['P'],[],'P')\n",
    "            field2 = connected(['P'],[],'P')\n",
    "            prod = connected.contract(field1, field2, [0,1], 'PP')\n",
    "            terms.append(prod)\n",
    "        if d >= 4:\n",
    "            deriv1 = connected(['DP'],[],'DP')\n",
    "            deriv2 = connected(['DP'],[],'DP')\n",
    "            prod = connected.contract(deriv1, deriv2, [1,1], 'DPDP')\n",
    "            terms.append(prod)\n",
    "        \n",
    "        field = connected(['P'],[],'P')\n",
    "        deriv = connected(['DP'],[],'DP')\n",
    "        \n",
    "        if d < 4:\n",
    "            return terms\n",
    "    \n",
    "        \n",
    "        root = connected.contract(field, deriv, [0,1], 'PDP')\n",
    "        \n",
    "        while root.massDim() <= d:\n",
    "            #print(\"\")\n",
    "            #print(\"root: \")\n",
    "            #print(root)\n",
    "            #print(\"\")\n",
    "            if root.LORrank() != 0:\n",
    "                #print(\"in root.LORrank()!=0\")\n",
    "                deriv = connected(['DP'],[],'DP')\n",
    "                root = connected.contract(root, deriv, [1,0], '')\n",
    "                #print(\"\")\n",
    "                #print(\"root: \")\n",
    "                #print(root)\n",
    "                #print(\"\")\n",
    "            \n",
    "            if root.ONrank() != 0:\n",
    "                #print(\"in root.ONrank()!=0\")\n",
    "                field = connected(['P'],[],'P')\n",
    "                deriv = connected(['DP'],[],'DP')\n",
    "                \n",
    "                new = connected.contract(root, field, [0,1], '')\n",
    "                if new.massDim() <= d and new.LORrank() == 0 and new.ONrank() == 0:\n",
    "                    #print(\"in new term added\")\n",
    "                    terms.append(new)\n",
    "                \n",
    "                root = connected.contract(root, deriv, [0,1], '')\n",
    "                #print(\"\")\n",
    "                #print(\"root: \")\n",
    "                #print(root)\n",
    "                #print(\"\")    \n",
    "        \n",
    "        return terms\n",
    "\n",
    "    def generate(self, d):\n",
    "        '''\n",
    "        return list of all terms with mass dimension <= d\n",
    "        '''\n",
    "        terms = []\n",
    "        if d < 2:\n",
    "            terms = terms + [1]\n",
    "        elif d == 2:\n",
    "            new = generate_connected(2)\n",
    "            terms = terms + new\n",
    "        else:\n",
    "            connected_list = generate_connected(d)\n",
    "            max_term = connected_list[-1]\n",
    "            d_next = connected_list[-2].massDim()\n",
    "            \n",
    "            connected_list_next = generate_connected(d_next)\n",
    "            \n",
    "            for term in connected_list_next:\n",
    "                \n",
    "                trial = connected.contract(max_term, term)\n",
    "                \n",
    "                if trial.massDim() <= d:\n",
    "                    terms.append(trial)\n",
    "                else:\n",
    "                    pass\n",
    "            \n",
    "        \n",
    "        \n",
    "        return terms\n",
    "        \n",
    "        '''\n",
    "        terms = [] #determine number of factors of\n",
    "        \n",
    "        connected_terms = self.generate_connected(d)\n",
    "        connected_massDims = []\n",
    "        len_connected = len(connected_terms)\n",
    "        \n",
    "        #Add connected terms to list of terms.\n",
    "        #Build list of mass dimensions for each connected term. \n",
    "        for term in connected_terms:\n",
    "            terms.append(term)\n",
    "            connected_massDims.append(term.massDim())\n",
    "            print(len(terms))\n",
    "            \n",
    "        print(connected_terms)\n",
    "        \n",
    "        exponents = [0]*len_connected   #initialize list containing number of powers of each connected term\n",
    "        '''\n",
    "        \n",
    "        \n",
    "        '''\n",
    "        #procedure: \n",
    "        \n",
    "        helper function: \n",
    "        def make_term(exponents):\n",
    "            from list of exponents, constructs disconnected terms that can be written as field (here, \"connected\") objects\n",
    "        \n",
    "        loop through different values of exponents list\n",
    "        {\n",
    "        \n",
    "        total_massDim = 0\n",
    "        \n",
    "        for i in range(len(connected_terms)):\n",
    "            total_massDim += exponents[i]*connected_massDims[i]\n",
    "            \n",
    "        if total_massDim <= d:\n",
    "            term = make_term(exponents)\n",
    "            terms.append(term)\n",
    "        }\n",
    "        \n",
    "        #how to do loop through exponents?\n",
    "        \n",
    "            \n",
    "        \n",
    "        '''\n",
    "        \n",
    "        \n",
    "            \n",
    "             \n",
    "            \n",
    "        \n",
    "        return terms\n",
    "        \n",
    "    \n",
    "            \n",
    "    \n",
    "    \n",
    "    \n",
    "   "
   ]
  },
  {
   "cell_type": "code",
   "execution_count": 759,
   "metadata": {},
   "outputs": [
    {
     "name": "stdout",
     "output_type": "stream",
     "text": [
      "in generate_connected\n",
      "in d>=2\n"
     ]
    }
   ],
   "source": [
    " test = A.generate_connected(2)"
   ]
  },
  {
   "cell_type": "code",
   "execution_count": 754,
   "metadata": {},
   "outputs": [],
   "source": [
    "A = connected(['P','DP','DP','P'], [[0,1],[1,0],[0,1]], 'A')"
   ]
  },
  {
   "cell_type": "code",
   "execution_count": 761,
   "metadata": {},
   "outputs": [
    {
     "name": "stdout",
     "output_type": "stream",
     "text": [
      "elementary_str: ['P', 'P']\n",
      "contractions: [[0, 1]]\n",
      "symbol: PP\n",
      "massDim: 2\n",
      "LORrank: 0\n",
      "ONrank: 0\n"
     ]
    }
   ],
   "source": [
    "print(test[0])"
   ]
  },
  {
   "cell_type": "code",
   "execution_count": 756,
   "metadata": {},
   "outputs": [
    {
     "name": "stdout",
     "output_type": "stream",
     "text": [
      "in generate_connected\n",
      "in d>=2\n",
      "1\n",
      "2\n",
      "3\n",
      "4\n",
      "[<__main__.connected object at 0x10cb79160>, <__main__.connected object at 0x10cbe2d30>, <__main__.connected object at 0x10cbe2e48>, <__main__.connected object at 0x10cbe23c8>]\n",
      "elementary_str: ['P', 'P']\n",
      "contractions: [[0, 1]]\n",
      "symbol: PP\n",
      "massDim: 2\n",
      "LORrank: 0\n",
      "ONrank: 0\n",
      "elementary_str: ['DP', 'DP']\n",
      "contractions: [[1, 1]]\n",
      "symbol: DPDP\n",
      "massDim: 4\n",
      "LORrank: 0\n",
      "ONrank: 0\n",
      "elementary_str: ['P', 'DP', 'DP', 'P']\n",
      "contractions: [[0, 1], [1, 0], [0, 1]]\n",
      "symbol: \n",
      "massDim: 6\n",
      "LORrank: 0\n",
      "ONrank: 0\n",
      "elementary_str: ['P', 'DP', 'DP', 'DP', 'DP', 'P']\n",
      "contractions: [[0, 1], [1, 0], [0, 1], [1, 0], [0, 1]]\n",
      "symbol: \n",
      "massDim: 10\n",
      "LORrank: 0\n",
      "ONrank: 0\n"
     ]
    }
   ],
   "source": [
    "for i in A.generate(10):\n",
    "    print(i)"
   ]
  },
  {
   "cell_type": "code",
   "execution_count": 740,
   "metadata": {},
   "outputs": [
    {
     "name": "stdout",
     "output_type": "stream",
     "text": [
      "1\n",
      "2\n",
      "3\n",
      "4\n",
      "[<__main__.connected object at 0x10cbcacc0>, <__main__.connected object at 0x10cbca4a8>, <__main__.connected object at 0x10cbca0f0>, <__main__.connected object at 0x10cbca780>]\n"
     ]
    },
    {
     "data": {
      "text/plain": [
       "[0, 0, 0, 0]"
      ]
     },
     "execution_count": 740,
     "metadata": {},
     "output_type": "execute_result"
    }
   ],
   "source": [
    "[0]*len(A.generate(10))"
   ]
  },
  {
   "cell_type": "code",
   "execution_count": 663,
   "metadata": {},
   "outputs": [
    {
     "data": {
      "text/plain": [
       "[<__main__.connected at 0x10cb52a20>,\n",
       " <__main__.connected at 0x10cb52128>,\n",
       " <__main__.connected at 0x10cb522e8>,\n",
       " <__main__.connected at 0x10cb52e48>]"
      ]
     },
     "execution_count": 663,
     "metadata": {},
     "output_type": "execute_result"
    }
   ],
   "source": [
    "A.get_elementary()"
   ]
  },
  {
   "cell_type": "code",
   "execution_count": 664,
   "metadata": {},
   "outputs": [
    {
     "name": "stdout",
     "output_type": "stream",
     "text": [
      "P\n",
      "DP\n",
      "DP\n",
      "P\n"
     ]
    }
   ],
   "source": [
    "for i in range(len(A.get_elementary())):\n",
    "    print(A.get_elementary()[i].get_symbol())\n"
   ]
  },
  {
   "cell_type": "code",
   "execution_count": 665,
   "metadata": {},
   "outputs": [
    {
     "data": {
      "text/plain": [
       "0"
      ]
     },
     "execution_count": 665,
     "metadata": {},
     "output_type": "execute_result"
    }
   ],
   "source": [
    "A.LORrank()"
   ]
  },
  {
   "cell_type": "code",
   "execution_count": 666,
   "metadata": {},
   "outputs": [
    {
     "data": {
      "text/plain": [
       "0"
      ]
     },
     "execution_count": 666,
     "metadata": {},
     "output_type": "execute_result"
    }
   ],
   "source": [
    "A.ONrank()"
   ]
  },
  {
   "cell_type": "code",
   "execution_count": 667,
   "metadata": {},
   "outputs": [
    {
     "data": {
      "text/plain": [
       "6"
      ]
     },
     "execution_count": 667,
     "metadata": {},
     "output_type": "execute_result"
    }
   ],
   "source": [
    "A.massDim()"
   ]
  },
  {
   "cell_type": "code",
   "execution_count": 668,
   "metadata": {},
   "outputs": [],
   "source": [
    "B = connected(['P','DP','DP'], [[0,1],[1,0]], 'B' )"
   ]
  },
  {
   "cell_type": "code",
   "execution_count": 669,
   "metadata": {},
   "outputs": [
    {
     "data": {
      "text/plain": [
       "1"
      ]
     },
     "execution_count": 669,
     "metadata": {},
     "output_type": "execute_result"
    }
   ],
   "source": [
    "B.ONrank()"
   ]
  },
  {
   "cell_type": "code",
   "execution_count": 670,
   "metadata": {
    "collapsed": true
   },
   "outputs": [],
   "source": [
    "B.set_elementary()"
   ]
  },
  {
   "cell_type": "code",
   "execution_count": 671,
   "metadata": {},
   "outputs": [
    {
     "data": {
      "text/plain": [
       "[<__main__.connected at 0x10caefc88>,\n",
       " <__main__.connected at 0x10caef668>,\n",
       " <__main__.connected at 0x10cb62b38>]"
      ]
     },
     "execution_count": 671,
     "metadata": {},
     "output_type": "execute_result"
    }
   ],
   "source": [
    "B.get_elementary()"
   ]
  },
  {
   "cell_type": "code",
   "execution_count": 672,
   "metadata": {},
   "outputs": [
    {
     "data": {
      "text/plain": [
       "0"
      ]
     },
     "execution_count": 672,
     "metadata": {},
     "output_type": "execute_result"
    }
   ],
   "source": [
    "B.LORrank()"
   ]
  },
  {
   "cell_type": "code",
   "execution_count": 673,
   "metadata": {
    "collapsed": true
   },
   "outputs": [],
   "source": [
    "C = connected(['P','DP','DP','DP'], [[0,1],[1,0],[0,1]], 'C' )"
   ]
  },
  {
   "cell_type": "code",
   "execution_count": 674,
   "metadata": {},
   "outputs": [
    {
     "data": {
      "text/plain": [
       "[]"
      ]
     },
     "execution_count": 674,
     "metadata": {},
     "output_type": "execute_result"
    }
   ],
   "source": [
    "C.get_elementary()"
   ]
  },
  {
   "cell_type": "code",
   "execution_count": 675,
   "metadata": {
    "collapsed": true
   },
   "outputs": [],
   "source": [
    "C.set_elementary()"
   ]
  },
  {
   "cell_type": "code",
   "execution_count": 676,
   "metadata": {},
   "outputs": [
    {
     "data": {
      "text/plain": [
       "[<__main__.connected at 0x10cb55048>,\n",
       " <__main__.connected at 0x10cb555c0>,\n",
       " <__main__.connected at 0x10cb55668>,\n",
       " <__main__.connected at 0x10cb55160>]"
      ]
     },
     "execution_count": 676,
     "metadata": {},
     "output_type": "execute_result"
    }
   ],
   "source": [
    "C.get_elementary()"
   ]
  },
  {
   "cell_type": "code",
   "execution_count": 677,
   "metadata": {},
   "outputs": [
    {
     "data": {
      "text/plain": [
       "1"
      ]
     },
     "execution_count": 677,
     "metadata": {},
     "output_type": "execute_result"
    }
   ],
   "source": [
    "C.LORrank()"
   ]
  },
  {
   "cell_type": "code",
   "execution_count": 678,
   "metadata": {},
   "outputs": [
    {
     "data": {
      "text/plain": [
       "0"
      ]
     },
     "execution_count": 678,
     "metadata": {},
     "output_type": "execute_result"
    }
   ],
   "source": [
    "C.ONrank()"
   ]
  },
  {
   "cell_type": "code",
   "execution_count": 679,
   "metadata": {},
   "outputs": [
    {
     "data": {
      "text/plain": [
       "[[0, 1], [1, 0], [0, 1]]"
      ]
     },
     "execution_count": 679,
     "metadata": {},
     "output_type": "execute_result"
    }
   ],
   "source": [
    "C.get_contractions()"
   ]
  },
  {
   "cell_type": "code",
   "execution_count": 680,
   "metadata": {},
   "outputs": [
    {
     "data": {
      "text/plain": [
       "[[0, 1], [1, 0], [0, 1], 1, 0]"
      ]
     },
     "execution_count": 680,
     "metadata": {},
     "output_type": "execute_result"
    }
   ],
   "source": [
    "C.get_contractions() + [1,0]"
   ]
  },
  {
   "cell_type": "code",
   "execution_count": 681,
   "metadata": {},
   "outputs": [
    {
     "data": {
      "text/plain": [
       "[[0, 1], [1, 0], [0, 1], [1, 0]]"
      ]
     },
     "execution_count": 681,
     "metadata": {},
     "output_type": "execute_result"
    }
   ],
   "source": [
    "C.get_contractions() + [[1,0]]"
   ]
  },
  {
   "cell_type": "code",
   "execution_count": 682,
   "metadata": {
    "collapsed": true
   },
   "outputs": [],
   "source": [
    "DP = connected(['DP'], [], 'DP')"
   ]
  },
  {
   "cell_type": "code",
   "execution_count": 683,
   "metadata": {},
   "outputs": [
    {
     "data": {
      "text/plain": [
       "<__main__.connected at 0x10cb554a8>"
      ]
     },
     "execution_count": 683,
     "metadata": {},
     "output_type": "execute_result"
    }
   ],
   "source": [
    "connected.contract(C, DP,[1,0], 'Prod')"
   ]
  },
  {
   "cell_type": "code",
   "execution_count": 684,
   "metadata": {},
   "outputs": [],
   "source": [
    "Prod = connected.contract(C, DP,[1,0],'Prod')"
   ]
  },
  {
   "cell_type": "raw",
   "metadata": {},
   "source": [
    "Prod.ONrank()"
   ]
  },
  {
   "cell_type": "code",
   "execution_count": 685,
   "metadata": {},
   "outputs": [
    {
     "data": {
      "text/plain": [
       "[[0, 1], [1, 0], [0, 1], [1, 0]]"
      ]
     },
     "execution_count": 685,
     "metadata": {},
     "output_type": "execute_result"
    }
   ],
   "source": [
    "Prod.get_contractions()"
   ]
  },
  {
   "cell_type": "code",
   "execution_count": 686,
   "metadata": {},
   "outputs": [
    {
     "data": {
      "text/plain": [
       "1"
      ]
     },
     "execution_count": 686,
     "metadata": {},
     "output_type": "execute_result"
    }
   ],
   "source": [
    "Prod.ONrank()"
   ]
  },
  {
   "cell_type": "code",
   "execution_count": 687,
   "metadata": {},
   "outputs": [
    {
     "data": {
      "text/plain": [
       "0"
      ]
     },
     "execution_count": 687,
     "metadata": {},
     "output_type": "execute_result"
    }
   ],
   "source": [
    "Prod.LORrank()"
   ]
  },
  {
   "cell_type": "code",
   "execution_count": 688,
   "metadata": {},
   "outputs": [
    {
     "data": {
      "text/plain": [
       "True"
      ]
     },
     "execution_count": 688,
     "metadata": {},
     "output_type": "execute_result"
    }
   ],
   "source": [
    "[1,0] == [1,0]"
   ]
  },
  {
   "cell_type": "code",
   "execution_count": 689,
   "metadata": {},
   "outputs": [
    {
     "data": {
      "text/plain": [
       "False"
      ]
     },
     "execution_count": 689,
     "metadata": {},
     "output_type": "execute_result"
    }
   ],
   "source": [
    "[1,0] == [1,0,1]"
   ]
  },
  {
   "cell_type": "code",
   "execution_count": null,
   "metadata": {
    "collapsed": true
   },
   "outputs": [],
   "source": []
  },
  {
   "cell_type": "code",
   "execution_count": 690,
   "metadata": {},
   "outputs": [],
   "source": [
    "Test = C.generate_connected(10)"
   ]
  },
  {
   "cell_type": "code",
   "execution_count": 691,
   "metadata": {},
   "outputs": [
    {
     "data": {
      "text/plain": [
       "4"
      ]
     },
     "execution_count": 691,
     "metadata": {},
     "output_type": "execute_result"
    }
   ],
   "source": [
    "len(Test)"
   ]
  },
  {
   "cell_type": "code",
   "execution_count": 692,
   "metadata": {},
   "outputs": [
    {
     "data": {
      "text/plain": [
       "['P', 'P']"
      ]
     },
     "execution_count": 692,
     "metadata": {},
     "output_type": "execute_result"
    }
   ],
   "source": [
    "Test[0].get_elementary_str()"
   ]
  },
  {
   "cell_type": "code",
   "execution_count": 693,
   "metadata": {},
   "outputs": [
    {
     "data": {
      "text/plain": [
       "['DP', 'DP']"
      ]
     },
     "execution_count": 693,
     "metadata": {},
     "output_type": "execute_result"
    }
   ],
   "source": [
    "Test[1].get_elementary_str()"
   ]
  },
  {
   "cell_type": "code",
   "execution_count": 694,
   "metadata": {},
   "outputs": [
    {
     "data": {
      "text/plain": [
       "[[0, 1]]"
      ]
     },
     "execution_count": 694,
     "metadata": {},
     "output_type": "execute_result"
    }
   ],
   "source": [
    "Test[0].get_contractions()"
   ]
  },
  {
   "cell_type": "code",
   "execution_count": 695,
   "metadata": {},
   "outputs": [
    {
     "data": {
      "text/plain": [
       "[[1, 1]]"
      ]
     },
     "execution_count": 695,
     "metadata": {},
     "output_type": "execute_result"
    }
   ],
   "source": [
    "Test[1].get_contractions()"
   ]
  },
  {
   "cell_type": "code",
   "execution_count": 696,
   "metadata": {},
   "outputs": [
    {
     "name": "stdout",
     "output_type": "stream",
     "text": [
      "elementary_str: ['P', 'P']\n",
      "contractions: [[0, 1]]\n",
      "symbol: PP\n",
      "massDim: 2\n",
      "LORrank: 0\n",
      "ONrank: 0\n",
      "elementary_str: ['DP', 'DP']\n",
      "contractions: [[1, 1]]\n",
      "symbol: DPDP\n",
      "massDim: 4\n",
      "LORrank: 0\n",
      "ONrank: 0\n",
      "elementary_str: ['P', 'DP', 'DP', 'P']\n",
      "contractions: [[0, 1], [1, 0], [0, 1]]\n",
      "symbol: \n",
      "massDim: 6\n",
      "LORrank: 0\n",
      "ONrank: 0\n",
      "elementary_str: ['P', 'DP', 'DP', 'DP', 'DP', 'P']\n",
      "contractions: [[0, 1], [1, 0], [0, 1], [1, 0], [0, 1]]\n",
      "symbol: \n",
      "massDim: 10\n",
      "LORrank: 0\n",
      "ONrank: 0\n"
     ]
    }
   ],
   "source": [
    "for i in Test:\n",
    "    print(i)"
   ]
  },
  {
   "cell_type": "code",
   "execution_count": 697,
   "metadata": {},
   "outputs": [
    {
     "name": "stdout",
     "output_type": "stream",
     "text": [
      "elementary_str: ['P', 'P']\n",
      "contractions: [[0, 1]]\n",
      "symbol: PP\n",
      "massDim: 2\n",
      "LORrank: 0\n",
      "ONrank: 0\n",
      "elementary_str: ['DP', 'DP']\n",
      "contractions: [[1, 1]]\n",
      "symbol: DPDP\n",
      "massDim: 4\n",
      "LORrank: 0\n",
      "ONrank: 0\n",
      "elementary_str: ['P', 'DP', 'DP', 'P']\n",
      "contractions: [[0, 1], [1, 0], [0, 1]]\n",
      "symbol: \n",
      "massDim: 6\n",
      "LORrank: 0\n",
      "ONrank: 0\n",
      "elementary_str: ['P', 'DP', 'DP', 'DP', 'DP', 'P']\n",
      "contractions: [[0, 1], [1, 0], [0, 1], [1, 0], [0, 1]]\n",
      "symbol: \n",
      "massDim: 10\n",
      "LORrank: 0\n",
      "ONrank: 0\n",
      "elementary_str: ['P', 'DP', 'DP', 'DP', 'DP', 'DP', 'DP', 'P']\n",
      "contractions: [[0, 1], [1, 0], [0, 1], [1, 0], [0, 1], [1, 0], [0, 1]]\n",
      "symbol: \n",
      "massDim: 14\n",
      "LORrank: 0\n",
      "ONrank: 0\n",
      "elementary_str: ['P', 'DP', 'DP', 'DP', 'DP', 'DP', 'DP', 'DP', 'DP', 'P']\n",
      "contractions: [[0, 1], [1, 0], [0, 1], [1, 0], [0, 1], [1, 0], [0, 1], [1, 0], [0, 1]]\n",
      "symbol: \n",
      "massDim: 18\n",
      "LORrank: 0\n",
      "ONrank: 0\n"
     ]
    }
   ],
   "source": [
    "for i in C.generate_connected(20):\n",
    "    print(i)"
   ]
  },
  {
   "cell_type": "code",
   "execution_count": 704,
   "metadata": {},
   "outputs": [
    {
     "data": {
      "text/plain": [
       "[]"
      ]
     },
     "execution_count": 704,
     "metadata": {},
     "output_type": "execute_result"
    }
   ],
   "source": [
    "C.generate(10)"
   ]
  },
  {
   "cell_type": "code",
   "execution_count": 706,
   "metadata": {},
   "outputs": [
    {
     "name": "stdout",
     "output_type": "stream",
     "text": [
      "elementary_str: ['P', 'DP', 'DP', 'DP']\n",
      "contractions: [[0, 1], [1, 0], [0, 1]]\n",
      "symbol: C\n",
      "massDim: 7\n",
      "LORrank: 1\n",
      "ONrank: 0\n"
     ]
    }
   ],
   "source": [
    "print(C)"
   ]
  },
  {
   "cell_type": "code",
   "execution_count": 708,
   "metadata": {},
   "outputs": [
    {
     "data": {
      "text/plain": [
       "[<__main__.connected at 0x10cb522b0>,\n",
       " <__main__.connected at 0x10cb52c18>,\n",
       " <__main__.connected at 0x10cb68048>,\n",
       " <__main__.connected at 0x10cb52828>]"
      ]
     },
     "execution_count": 708,
     "metadata": {},
     "output_type": "execute_result"
    }
   ],
   "source": [
    "C.generate_connected(10)"
   ]
  },
  {
   "cell_type": "code",
   "execution_count": 714,
   "metadata": {},
   "outputs": [
    {
     "name": "stdout",
     "output_type": "stream",
     "text": [
      "elementary_str: ['P', 'P']\n",
      "contractions: [[0, 1]]\n",
      "symbol: PP\n",
      "massDim: 2\n",
      "LORrank: 0\n",
      "ONrank: 0\n",
      "elementary_str: ['DP', 'DP']\n",
      "contractions: [[1, 1]]\n",
      "symbol: DPDP\n",
      "massDim: 4\n",
      "LORrank: 0\n",
      "ONrank: 0\n",
      "elementary_str: ['P', 'DP', 'DP', 'P']\n",
      "contractions: [[0, 1], [1, 0], [0, 1]]\n",
      "symbol: \n",
      "massDim: 6\n",
      "LORrank: 0\n",
      "ONrank: 0\n",
      "elementary_str: ['P', 'DP', 'DP', 'DP', 'DP', 'P']\n",
      "contractions: [[0, 1], [1, 0], [0, 1], [1, 0], [0, 1]]\n",
      "symbol: \n",
      "massDim: 10\n",
      "LORrank: 0\n",
      "ONrank: 0\n"
     ]
    }
   ],
   "source": [
    "for i in C.generate_connected(10):\n",
    "    print(i) "
   ]
  },
  {
   "cell_type": "code",
   "execution_count": 727,
   "metadata": {},
   "outputs": [
    {
     "data": {
      "text/plain": [
       "[]"
      ]
     },
     "execution_count": 727,
     "metadata": {},
     "output_type": "execute_result"
    }
   ],
   "source": [
    "C.generate(20)"
   ]
  },
  {
   "cell_type": "code",
   "execution_count": null,
   "metadata": {
    "collapsed": true
   },
   "outputs": [],
   "source": []
  }
 ],
 "metadata": {
  "kernelspec": {
   "display_name": "Python 3",
   "language": "python",
   "name": "python3"
  },
  "language_info": {
   "codemirror_mode": {
    "name": "ipython",
    "version": 3
   },
   "file_extension": ".py",
   "mimetype": "text/x-python",
   "name": "python",
   "nbconvert_exporter": "python",
   "pygments_lexer": "ipython3",
   "version": "3.6.3"
  }
 },
 "nbformat": 4,
 "nbformat_minor": 2
}
