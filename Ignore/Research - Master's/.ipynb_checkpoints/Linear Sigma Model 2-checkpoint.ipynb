{
 "cells": [
  {
   "cell_type": "code",
   "execution_count": 416,
   "metadata": {},
   "outputs": [],
   "source": [
    "class field(object):\n",
    "    def __init__(self, massDim, LORindices, ONindices, LORrank, ONrank, symbol):\n",
    "        self.massDim = massDim #int\n",
    "        self.LORindices = LORindices #list of strings\n",
    "        self.ONindices = ONindices #list of strings\n",
    "        self.LORrank = LORrank #int, keeps track of number of uncontracted LOR indices; for basic field, = len(LORindices)\n",
    "        self.ONrank = ONrank #int, keeps track of number of uncontracted ON indices; for basic field, = len(ONindices)\n",
    "        self.symbol = symbol #string representing field\n",
    "    def __str__(self): #Prints out attributes of field object\n",
    "        return 'massDim: ' + str(self.massDim) + '\\n' \\\n",
    "            + 'LORindices: ' + str(self.LORindices) + '\\n' \\\n",
    "            + 'ONindices: ' + str(self.ONindices) + '\\n' \\\n",
    "            + 'symbol: ' + str(self.symbol) + '\\n' \\\n",
    "            + 'LORrank: ' + str(self.LORrank) + '\\n' \\\n",
    "            + 'ONrank: ' + str(self.ONrank) + '\\n' \\\n",
    "            + 'tensorRep: ' + str(self.tensorRep())\n",
    "    \n",
    "    #Define get and set functions\n",
    "    def get_massDim(self):\n",
    "        return self.massDim\n",
    "    def get_LORindices(self):\n",
    "        return self.LORindices\n",
    "    def get_ONindices(self):\n",
    "        return self.ONindices\n",
    "    def get_LORrank(self):\n",
    "        return self.LORrank\n",
    "    def get_ONrank(self):\n",
    "        return self.ONrank\n",
    "    def get_symbol(self):\n",
    "        return self.symbol\n",
    "    \n",
    "    def set_massDim(self, massDim):\n",
    "        self.massDim = massDim\n",
    "    def set_LORindices(self, LORindices):\n",
    "        self.LORindices = LORindices\n",
    "    def set_ONindices(self, ONindices):\n",
    "        self.ONindices = ONindices\n",
    "    def set_LORrank(self, LORrank):\n",
    "        self.LORrank = LORrank\n",
    "    def set_ONrank(self, ONrank):\n",
    "        self.ONrank  = ONrank\n",
    "    def set_symbol(self, symbol):\n",
    "        self.symbol = symbol\n",
    "        \n",
    "    #Returns a new field corresponding to derivative of field by increasing massDim and LORindex by one\n",
    "    def derivative(self, mu): \n",
    "        massDim_new = self.get_massDim() + 1\n",
    "        #print(self.get_LORindices())\n",
    "        LORindices_new = self.get_LORindices() + [mu]\n",
    "        #print(LORindices_new)\n",
    "        LORrank_new = self.get_LORrank + 1\n",
    "        fieldDeriv = field(massDim_new, LORindices_new, self.ONindices, LORrank_new, self.ONrank, 'D' + self.symbol)\n",
    "        return fieldDeriv    \n",
    "    \n",
    "    #Returns tensor string showing full index structure of field object\n",
    "    def tensorRep(self):\n",
    "        tensor = self.symbol\n",
    "        for i in self.LORindices:\n",
    "            tensor = tensor + '_' + str(i)\n",
    "        for j in self.ONindices:\n",
    "            tensor = tensor + '^' + str(j)\n",
    "        return tensor\n",
    "    \n",
    "    #Contracts two field objects along specified lists of indices\n",
    "    def contract(self, other, LOR_contract, ON_contract):\n",
    "        '''\n",
    "        INPUTS\n",
    "        other: another field object\n",
    "        LOR_contract = pair (list) of integers, respectively designating Lorentz indices of self and other to be contracted\n",
    "        ON_contract = pair (list) of integers, respectively designating O(N) indices of self and other to be contracted\n",
    "        \n",
    "        RETURNS\n",
    "        field object representing contraction of two fields\n",
    "        \n",
    "        NOTE: only supports contraction of one pair each for Lorentz and O(N)\n",
    "        '''\n",
    "        \n",
    "        #Replace contracted indices with index name w for Lorentz indices, k for O(N)\n",
    "        \n",
    "        LORindices_self = self.get_LORindices()\n",
    "        print(\"in contract, LORindices_self: \" + str(LORindices_self) )\n",
    "        LORindices_other = other.get_LORindices()\n",
    "        print(\"in contract, LORindices_other: \" + str(LORindices_other) )\n",
    "        \n",
    "        for i in range(len(LORindices_self)):\n",
    "            LORindices_self[i] = 'u' + str(i)\n",
    "        for i in range(len(LORindices_other)):\n",
    "            LORindices_other[i] = 'v' + str(i)\n",
    "        \n",
    "        if not LOR_contract: #check whether contracted indices lists are empty\n",
    "            pass\n",
    "        else: #Standardize label index names\n",
    "            LORindices_self[LOR_contract[0]] = 'w'\n",
    "            LORindices_other[LOR_contract[1]] = 'w'\n",
    "        \n",
    "        ONindices_self = self.get_ONindices()\n",
    "        print(\"in contract, ONindices_self: \" + str(ONindices_self) )\n",
    "        ONindices_other = other.get_ONindices()\n",
    "        print(\"in contract, ONindices_other: \" + str(ONindices_other) )\n",
    "        \n",
    "        for i in range(len(ONindices_self)):\n",
    "            ONindices_self[i] = 'i' + str(i)\n",
    "        for i in range(len(ONindices_other)):\n",
    "            ONindices_other[i] = 'j' + str(i)\n",
    "        \n",
    "        if not ON_contract:\n",
    "            pass\n",
    "        else:\n",
    "            ONindices_self[ON_contract[0]] = 'k'\n",
    "            ONindices_other[ON_contract[1]] = 'k'\n",
    "        \n",
    "        massDim_prod = self.get_massDim() + other.get_massDim()\n",
    "        LORindex_prod = LORindices_self +  LORindices_other\n",
    "        ONindex_prod = ONindices_self + ONindices_other\n",
    "        if LOR_contract:\n",
    "            LORrank_prod = self.get_LORrank() + other.get_LORrank() - 2\n",
    "        else:\n",
    "            LORrank_prod = self.get_LORrank() + other.get_LORrank()\n",
    "        if ON_contract: \n",
    "            ONrank_prod = self.get_ONrank() + other.get_ONrank() - 2\n",
    "        else:\n",
    "            ONrank_prod = self.get_ONrank() + other.get_ONrank() \n",
    "        symbol_prod = '(' + self.get_symbol() + ')' + '(' + other.get_symbol() + ')'\n",
    "        tensor_prod = '(' + self.tensorRep() + ')' + '(' + other.tensorRep() + ')'\n",
    "        contraction = field(massDim_prod, LORindex_prod, ONindex_prod, LORrank_prod, ONrank_prod, symbol_prod)\n",
    "        return contraction, tensor_prod\n",
    "    \n",
    "    #Generates all connected (i.e., not factorizable) terms of LORrank = 0 and ONrank = 0 for the given field and its derivative, up to given massDim \n",
    "    #NOTE: Later generalize to list of fields, when considering theories with multiple distinct types of field\n",
    "    def generate_connected(d, phi):\n",
    "        '''\n",
    "        INPUTS\n",
    "        d: mass dimension up to which we want to compute connected terms\n",
    "        phi: field (assume phi = field(1,[],['i'], 0, 1, 'P'))\n",
    "        RETURNS\n",
    "        list of connected terms in phi and its first derivative, up to and including dimension d\n",
    "        '''\n",
    "        terms = [] #collect all connected terms of zero rank, up to massDim d, in this list\n",
    "        \n",
    "        Dphi = phi.derivative('u')\n",
    "        \n",
    "        phi_LORindices = phi.get_LORindices()\n",
    "        phi_ONindices = phi.get_ONindices()\n",
    "        Dphi_LORindices = Dphi.get_LORindices()\n",
    "        Dphi_LORindices = Dphi.get_LORindices()\n",
    "        \n",
    "        M=0 #\n",
    "        \n",
    "        #Produce all possible contractions up to dimension d, put ones of LORrank=0 and ONrank=0 into list, to be returned\n",
    "        while M < d:\n",
    "            \n",
    "            \n",
    "            if A.get_LORrank() == 0 and A.get_ONrank() == 0:\n",
    "                terms.append(A)\n",
    "            M = M+1\n",
    "        \n",
    "        return terms\n",
    "    \n",
    "    #Generates all terms, connected and disconnected, of massDim = 0 for the given field and its derivative, up to given massDim \n",
    "    #NOTE: Later generalize to list of fields, when considering theories with multiple distinct types of field\n",
    "    def generate(d, phi):\n",
    "        '''\n",
    "        INPUTS\n",
    "        d: mass dimension up to which we want to compute all terms\n",
    "        phi: field\n",
    "        RETURNS\n",
    "        list of terms in phi and its first derivative, up to and including dimension d\n",
    "        '''\n",
    "        pass\n",
    "        \n",
    "        "
   ]
  },
  {
   "cell_type": "code",
   "execution_count": null,
   "metadata": {
    "collapsed": true
   },
   "outputs": [],
   "source": []
  },
  {
   "cell_type": "markdown",
   "metadata": {},
   "source": [
    "# Test field.contract() method "
   ]
  },
  {
   "cell_type": "code",
   "execution_count": 417,
   "metadata": {},
   "outputs": [],
   "source": [
    "A = field(5, ['u1', 'u2', 'u3'], ['i1', 'i2'], 3, 2, 'A')"
   ]
  },
  {
   "cell_type": "code",
   "execution_count": 418,
   "metadata": {},
   "outputs": [],
   "source": [
    "B = field(4, ['v1', 'v2'], ['j1', 'j2'], 2, 2, 'B')"
   ]
  },
  {
   "cell_type": "code",
   "execution_count": 419,
   "metadata": {},
   "outputs": [
    {
     "name": "stdout",
     "output_type": "stream",
     "text": [
      "massDim: 5\n",
      "LORindices: ['u1', 'u2', 'u3']\n",
      "ONindices: ['i1', 'i2']\n",
      "symbol: A\n",
      "LORrank: 3\n",
      "ONrank: 2\n",
      "tensorRep: A_u1_u2_u3^i1^i2\n"
     ]
    }
   ],
   "source": [
    "print(A)"
   ]
  },
  {
   "cell_type": "code",
   "execution_count": 420,
   "metadata": {},
   "outputs": [
    {
     "name": "stdout",
     "output_type": "stream",
     "text": [
      "massDim: 4\n",
      "LORindices: ['v1', 'v2']\n",
      "ONindices: ['j1', 'j2']\n",
      "symbol: B\n",
      "LORrank: 2\n",
      "ONrank: 2\n",
      "tensorRep: B_v1_v2^j1^j2\n"
     ]
    }
   ],
   "source": [
    "print(B)"
   ]
  },
  {
   "cell_type": "code",
   "execution_count": 421,
   "metadata": {},
   "outputs": [
    {
     "name": "stdout",
     "output_type": "stream",
     "text": [
      "in contract, LORindices_self: ['u1', 'u2', 'u3']\n",
      "in contract, LORindices_other: ['v1', 'v2']\n",
      "in contract, ONindices_self: ['i1', 'i2']\n",
      "in contract, ONindices_other: ['j1', 'j2']\n"
     ]
    }
   ],
   "source": [
    "AB = field.contract(A, B, [2,1], [0,1])"
   ]
  },
  {
   "cell_type": "code",
   "execution_count": 422,
   "metadata": {},
   "outputs": [
    {
     "name": "stdout",
     "output_type": "stream",
     "text": [
      "(A_u0_u1_w^k^i1)(B_v0_w^j0^k)\n"
     ]
    }
   ],
   "source": [
    "print(AB[1])"
   ]
  },
  {
   "cell_type": "code",
   "execution_count": 423,
   "metadata": {},
   "outputs": [
    {
     "name": "stdout",
     "output_type": "stream",
     "text": [
      "massDim: 9\n",
      "LORindices: ['u0', 'u1', 'w', 'v0', 'w']\n",
      "ONindices: ['k', 'i1', 'j0', 'k']\n",
      "symbol: (A)(B)\n",
      "LORrank: 3\n",
      "ONrank: 2\n",
      "tensorRep: (A)(B)_u0_u1_w_v0_w^k^i1^j0^k\n"
     ]
    }
   ],
   "source": [
    "print(AB[0])"
   ]
  },
  {
   "cell_type": "markdown",
   "metadata": {},
   "source": [
    "Check."
   ]
  },
  {
   "cell_type": "code",
   "execution_count": null,
   "metadata": {
    "collapsed": true
   },
   "outputs": [],
   "source": []
  },
  {
   "cell_type": "markdown",
   "metadata": {},
   "source": [
    "Now, try with one list of Lorentz contraction indices empty. "
   ]
  },
  {
   "cell_type": "code",
   "execution_count": 424,
   "metadata": {
    "collapsed": true
   },
   "outputs": [],
   "source": [
    "A = field(2, [], ['i1', 'i2'], 0, 2, 'A')"
   ]
  },
  {
   "cell_type": "code",
   "execution_count": 425,
   "metadata": {},
   "outputs": [
    {
     "name": "stdout",
     "output_type": "stream",
     "text": [
      "massDim: 2\n",
      "LORindices: []\n",
      "ONindices: ['i1', 'i2']\n",
      "symbol: A\n",
      "LORrank: 0\n",
      "ONrank: 2\n",
      "tensorRep: A^i1^i2\n"
     ]
    }
   ],
   "source": [
    "print(A)"
   ]
  },
  {
   "cell_type": "code",
   "execution_count": 426,
   "metadata": {
    "collapsed": true
   },
   "outputs": [],
   "source": [
    "B = field(2, ['u1'], ['i1', 'i2', 'i3'], 1, 3, 'B')"
   ]
  },
  {
   "cell_type": "code",
   "execution_count": 427,
   "metadata": {},
   "outputs": [
    {
     "name": "stdout",
     "output_type": "stream",
     "text": [
      "massDim: 2\n",
      "LORindices: ['u1']\n",
      "ONindices: ['i1', 'i2', 'i3']\n",
      "symbol: B\n",
      "LORrank: 1\n",
      "ONrank: 3\n",
      "tensorRep: B_u1^i1^i2^i3\n"
     ]
    }
   ],
   "source": [
    "print(B)"
   ]
  },
  {
   "cell_type": "code",
   "execution_count": 429,
   "metadata": {},
   "outputs": [
    {
     "name": "stdout",
     "output_type": "stream",
     "text": [
      "in contract, LORindices_self: []\n",
      "in contract, LORindices_other: ['v0']\n",
      "in contract, ONindices_self: ['i0', 'k']\n",
      "in contract, ONindices_other: ['j0', 'j1', 'k']\n"
     ]
    }
   ],
   "source": [
    "AB = field.contract(A, B, [], [1, 2])"
   ]
  },
  {
   "cell_type": "code",
   "execution_count": 430,
   "metadata": {},
   "outputs": [
    {
     "name": "stdout",
     "output_type": "stream",
     "text": [
      "(A^i0^k)(B_v0^j0^j1^k)\n"
     ]
    }
   ],
   "source": [
    "print(AB[1])"
   ]
  },
  {
   "cell_type": "code",
   "execution_count": 431,
   "metadata": {},
   "outputs": [
    {
     "name": "stdout",
     "output_type": "stream",
     "text": [
      "massDim: 4\n",
      "LORindices: ['v0']\n",
      "ONindices: ['i0', 'k', 'j0', 'j1', 'k']\n",
      "symbol: (A)(B)\n",
      "LORrank: 1\n",
      "ONrank: 3\n",
      "tensorRep: (A)(B)_v0^i0^k^j0^j1^k\n"
     ]
    }
   ],
   "source": [
    "print(AB[0])"
   ]
  },
  {
   "cell_type": "markdown",
   "metadata": {},
   "source": [
    "Check. "
   ]
  },
  {
   "cell_type": "markdown",
   "metadata": {},
   "source": []
  },
  {
   "cell_type": "markdown",
   "metadata": {},
   "source": [
    "Now, try with list of O(N) contraction indices empty."
   ]
  },
  {
   "cell_type": "code",
   "execution_count": 400,
   "metadata": {
    "collapsed": true
   },
   "outputs": [],
   "source": [
    "A = field(2, ['u1', 'u2', 'u3'], [], 'A')"
   ]
  },
  {
   "cell_type": "code",
   "execution_count": 401,
   "metadata": {
    "collapsed": true
   },
   "outputs": [],
   "source": [
    "B = field(2, ['v1'], [], 'B')"
   ]
  },
  {
   "cell_type": "code",
   "execution_count": 402,
   "metadata": {},
   "outputs": [
    {
     "name": "stdout",
     "output_type": "stream",
     "text": [
      "in contract, LORindices_self: ['u1', 'u2', 'u3']\n",
      "in contract, LORindices_other: ['v1']\n",
      "in contract, ONindices_self: []\n",
      "in contract, ONindices_other: []\n"
     ]
    }
   ],
   "source": [
    "AB = field.contract(A, B, [2, 0], [])"
   ]
  },
  {
   "cell_type": "code",
   "execution_count": 403,
   "metadata": {},
   "outputs": [
    {
     "name": "stdout",
     "output_type": "stream",
     "text": [
      "(A_u0_u1_w)(B_w)\n"
     ]
    }
   ],
   "source": [
    "print(AB[1])"
   ]
  },
  {
   "cell_type": "markdown",
   "metadata": {},
   "source": [
    "Check. "
   ]
  },
  {
   "cell_type": "code",
   "execution_count": null,
   "metadata": {
    "collapsed": true
   },
   "outputs": [],
   "source": []
  },
  {
   "cell_type": "code",
   "execution_count": null,
   "metadata": {
    "collapsed": true
   },
   "outputs": [],
   "source": []
  },
  {
   "cell_type": "code",
   "execution_count": null,
   "metadata": {
    "collapsed": true
   },
   "outputs": [],
   "source": []
  },
  {
   "cell_type": "code",
   "execution_count": null,
   "metadata": {
    "collapsed": true
   },
   "outputs": [],
   "source": []
  },
  {
   "cell_type": "code",
   "execution_count": 350,
   "metadata": {
    "collapsed": true
   },
   "outputs": [],
   "source": [
    "phi = field(1, [], ['i'], 'P')"
   ]
  },
  {
   "cell_type": "code",
   "execution_count": 341,
   "metadata": {},
   "outputs": [
    {
     "data": {
      "text/plain": [
       "'P^i'"
      ]
     },
     "execution_count": 341,
     "metadata": {},
     "output_type": "execute_result"
    }
   ],
   "source": [
    "phi.tensorRep()"
   ]
  },
  {
   "cell_type": "code",
   "execution_count": 342,
   "metadata": {},
   "outputs": [],
   "source": [
    "Dphi = phi.derivative('u')"
   ]
  },
  {
   "cell_type": "code",
   "execution_count": 343,
   "metadata": {},
   "outputs": [
    {
     "data": {
      "text/plain": [
       "'DP_u^i'"
      ]
     },
     "execution_count": 343,
     "metadata": {},
     "output_type": "execute_result"
    }
   ],
   "source": [
    "Dphi.tensorRep()"
   ]
  },
  {
   "cell_type": "code",
   "execution_count": 344,
   "metadata": {},
   "outputs": [
    {
     "name": "stdout",
     "output_type": "stream",
     "text": [
      "massDim: 2\n",
      "LORindices: ['u']\n",
      "ONindices: ['i']\n",
      "symbol: DP\n",
      "tensorRep: DP_u^i\n"
     ]
    }
   ],
   "source": [
    "print(Dphi)"
   ]
  },
  {
   "cell_type": "code",
   "execution_count": 348,
   "metadata": {},
   "outputs": [
    {
     "name": "stdout",
     "output_type": "stream",
     "text": [
      "in contract, LORindices_self: []\n",
      "in contract, LORindices_other: ['v0']\n",
      "in contract, ONindices_self: ['k']\n",
      "in contract, ONindices_other: ['k']\n"
     ]
    }
   ],
   "source": [
    "phiDphi = phi.contract(Dphi, [], [0,0])"
   ]
  },
  {
   "cell_type": "code",
   "execution_count": 349,
   "metadata": {},
   "outputs": [
    {
     "name": "stdout",
     "output_type": "stream",
     "text": [
      "(P^k)(DP_v0^k)\n"
     ]
    }
   ],
   "source": [
    "print(phiDphi[1])"
   ]
  },
  {
   "cell_type": "code",
   "execution_count": 276,
   "metadata": {
    "collapsed": true
   },
   "outputs": [],
   "source": [
    "a = []"
   ]
  },
  {
   "cell_type": "code",
   "execution_count": 277,
   "metadata": {},
   "outputs": [
    {
     "data": {
      "text/plain": [
       "[]"
      ]
     },
     "execution_count": 277,
     "metadata": {},
     "output_type": "execute_result"
    }
   ],
   "source": [
    "a"
   ]
  },
  {
   "cell_type": "code",
   "execution_count": 278,
   "metadata": {},
   "outputs": [
    {
     "data": {
      "text/plain": [
       "True"
      ]
     },
     "execution_count": 278,
     "metadata": {},
     "output_type": "execute_result"
    }
   ],
   "source": [
    "not a"
   ]
  },
  {
   "cell_type": "code",
   "execution_count": null,
   "metadata": {
    "collapsed": true
   },
   "outputs": [],
   "source": []
  },
  {
   "cell_type": "code",
   "execution_count": null,
   "metadata": {
    "collapsed": true
   },
   "outputs": [],
   "source": []
  },
  {
   "cell_type": "code",
   "execution_count": null,
   "metadata": {
    "collapsed": true
   },
   "outputs": [],
   "source": []
  },
  {
   "cell_type": "code",
   "execution_count": null,
   "metadata": {
    "collapsed": true
   },
   "outputs": [],
   "source": []
  },
  {
   "cell_type": "code",
   "execution_count": null,
   "metadata": {
    "collapsed": true
   },
   "outputs": [],
   "source": []
  },
  {
   "cell_type": "code",
   "execution_count": null,
   "metadata": {
    "collapsed": true
   },
   "outputs": [],
   "source": []
  },
  {
   "cell_type": "code",
   "execution_count": 254,
   "metadata": {
    "collapsed": true
   },
   "outputs": [],
   "source": [
    "P = field(1, ['u'], ['i'], 'P')"
   ]
  },
  {
   "cell_type": "code",
   "execution_count": null,
   "metadata": {
    "collapsed": true
   },
   "outputs": [],
   "source": []
  },
  {
   "cell_type": "code",
   "execution_count": 188,
   "metadata": {},
   "outputs": [
    {
     "data": {
      "text/plain": [
       "['u']"
      ]
     },
     "execution_count": 188,
     "metadata": {},
     "output_type": "execute_result"
    }
   ],
   "source": [
    "P.LORindices"
   ]
  },
  {
   "cell_type": "code",
   "execution_count": 189,
   "metadata": {},
   "outputs": [
    {
     "data": {
      "text/plain": [
       "['u']"
      ]
     },
     "execution_count": 189,
     "metadata": {},
     "output_type": "execute_result"
    }
   ],
   "source": [
    "P.get_LORindices()"
   ]
  },
  {
   "cell_type": "code",
   "execution_count": 190,
   "metadata": {},
   "outputs": [
    {
     "data": {
      "text/plain": [
       "'P'"
      ]
     },
     "execution_count": 190,
     "metadata": {},
     "output_type": "execute_result"
    }
   ],
   "source": [
    "P.symbol"
   ]
  },
  {
   "cell_type": "code",
   "execution_count": 191,
   "metadata": {},
   "outputs": [
    {
     "data": {
      "text/plain": [
       "['u', 'v', 'w', 'y']"
      ]
     },
     "execution_count": 191,
     "metadata": {},
     "output_type": "execute_result"
    }
   ],
   "source": [
    "test = ['u', 'v','w']\n",
    "test.append('y')\n",
    "test"
   ]
  },
  {
   "cell_type": "code",
   "execution_count": 194,
   "metadata": {},
   "outputs": [
    {
     "name": "stdout",
     "output_type": "stream",
     "text": [
      "['u']\n",
      "['u', 'v']\n"
     ]
    }
   ],
   "source": [
    "DP = P.derivative('v')"
   ]
  },
  {
   "cell_type": "code",
   "execution_count": 195,
   "metadata": {},
   "outputs": [
    {
     "name": "stdout",
     "output_type": "stream",
     "text": [
      "massDim: 2\n",
      "LORindices: ['i']\n",
      "ONindices: ['u', 'v']\n",
      "symbol: DP\n"
     ]
    }
   ],
   "source": [
    "print(DP)"
   ]
  },
  {
   "cell_type": "code",
   "execution_count": 198,
   "metadata": {},
   "outputs": [
    {
     "name": "stdout",
     "output_type": "stream",
     "text": [
      "['u']\n",
      "['u', 'w']\n"
     ]
    }
   ],
   "source": [
    "DP = P.derivative('w')"
   ]
  },
  {
   "cell_type": "code",
   "execution_count": 197,
   "metadata": {},
   "outputs": [
    {
     "name": "stdout",
     "output_type": "stream",
     "text": [
      "massDim: 2\n",
      "LORindices: ['i']\n",
      "ONindices: ['u', 'v']\n",
      "symbol: DP\n"
     ]
    }
   ],
   "source": [
    "print(DP)"
   ]
  },
  {
   "cell_type": "code",
   "execution_count": 144,
   "metadata": {
    "collapsed": true
   },
   "outputs": [],
   "source": [
    "DP.get_LORindices()"
   ]
  },
  {
   "cell_type": "code",
   "execution_count": 145,
   "metadata": {},
   "outputs": [
    {
     "data": {
      "text/plain": [
       "['u', 'u', 'u', 'u']"
      ]
     },
     "execution_count": 145,
     "metadata": {},
     "output_type": "execute_result"
    }
   ],
   "source": [
    "P.get_LORindices()"
   ]
  },
  {
   "cell_type": "code",
   "execution_count": null,
   "metadata": {
    "collapsed": true
   },
   "outputs": [],
   "source": []
  }
 ],
 "metadata": {
  "kernelspec": {
   "display_name": "Python 3",
   "language": "python",
   "name": "python3"
  },
  "language_info": {
   "codemirror_mode": {
    "name": "ipython",
    "version": 3
   },
   "file_extension": ".py",
   "mimetype": "text/x-python",
   "name": "python",
   "nbconvert_exporter": "python",
   "pygments_lexer": "ipython3",
   "version": "3.6.3"
  }
 },
 "nbformat": 4,
 "nbformat_minor": 2
}
