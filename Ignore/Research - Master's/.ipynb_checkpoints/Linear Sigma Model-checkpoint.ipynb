{
 "cells": [
  {
   "cell_type": "code",
   "execution_count": 1,
   "metadata": {
    "collapsed": true
   },
   "outputs": [],
   "source": [
    "import numpy as np"
   ]
  },
  {
   "cell_type": "code",
   "execution_count": 158,
   "metadata": {},
   "outputs": [],
   "source": [
    "class field(object): \n",
    "    def __init__(self, massDim, ONindex, LORindex, symbol):\n",
    "        self.massDim = massDim #Number of Mass dimensions\n",
    "        self.ONindex = ONindex #Number of O(N) indices\n",
    "        self.LORindex = LORindex #Number of Lorentz indices\n",
    "        self.symbol = symbol #Name of field, e.g. \"phi\"\n",
    "    def __str__(self):\n",
    "        return 'massDim: ' + str(self.massDim) + '\\n' \\\n",
    "            + 'ONindex: ' + str(self.ONindex) + '\\n' \\\n",
    "            + 'LORindex: ' + str(self.LORindex) + '\\n' \\\n",
    "            + 'symbol: ' + str(self.symbol) \n",
    "    def summary(self):\n",
    "        print('massDim: ' + str(self.massDim))\n",
    "        print('ONindex: ' + str(self.ONindex))\n",
    "        print('LORindex: ' + str(self.LORindex))\n",
    "        print('symbol: ' + str(self.symbol))\n",
    "        return None\n",
    "    def get_massDim(self):\n",
    "        return self.massDim\n",
    "    def get_ONindex(self):\n",
    "        return self.ONindex\n",
    "    def get_LORindex(self):\n",
    "        return self.LORindex\n",
    "    def get_symbol(self):\n",
    "        return self.symbol\n",
    "    def derivative(self):\n",
    "        fieldDeriv = field(self.massDim + 1, self.ONindex, self.LORindex + 1, 'D' + self.symbol)\n",
    "        return fieldDeriv\n",
    "    def multiply(self, other):\n",
    "        prod_massDim = self.massDim + other.massDim\n",
    "        prod_ONindex = self.ONindex + other.ONindex\n",
    "        prod_LORindex = self.LORindex + other.LORindex\n",
    "        prod_symbol = '(' + self.symbol + ')' + '(' + other.symbol + ')'\n",
    "        product = field(prod_massDim, prod_ONindex, prod_LORindex, prod_symbol)\n",
    "        return product\n",
    "    def __add__(self, other): #Adds terms if their index structures match\n",
    "        pass\n",
    "    def is_symmetric(self): #determines if all indices are zero\n",
    "        if self.ONindex == 0 and self.LORindex == 0:\n",
    "            return True\n",
    "        else:\n",
    "            return False\n",
    "    def contract(self): #return contracted field\n",
    "        pass\n",
    "    def Lagragian_generator(self, D): #Generates terms up to mass dimension D D: mass dimension up to which we want to generate terms, \n",
    "        pass\n",
    "    \n",
    "        "
   ]
  },
  {
   "cell_type": "code",
   "execution_count": 159,
   "metadata": {},
   "outputs": [],
   "source": [
    "phi = field(1,1,0,'phi')"
   ]
  },
  {
   "cell_type": "code",
   "execution_count": 160,
   "metadata": {},
   "outputs": [
    {
     "name": "stdout",
     "output_type": "stream",
     "text": [
      "massDim: 1\n",
      "ONindex: 1\n",
      "LORindex: 0\n",
      "symbol: phi\n"
     ]
    }
   ],
   "source": [
    "print(phi)"
   ]
  },
  {
   "cell_type": "code",
   "execution_count": 142,
   "metadata": {},
   "outputs": [
    {
     "data": {
      "text/plain": [
       "'phi'"
      ]
     },
     "execution_count": 142,
     "metadata": {},
     "output_type": "execute_result"
    }
   ],
   "source": [
    "phi.get_symbol()"
   ]
  },
  {
   "cell_type": "code",
   "execution_count": 143,
   "metadata": {},
   "outputs": [
    {
     "name": "stdout",
     "output_type": "stream",
     "text": [
      "massDim: 1\n",
      "ONindex: 1\n",
      "LORindex: 0\n",
      "symbol: phi\n"
     ]
    }
   ],
   "source": [
    "phi.summary()"
   ]
  },
  {
   "cell_type": "code",
   "execution_count": 144,
   "metadata": {},
   "outputs": [
    {
     "data": {
      "text/plain": [
       "1"
      ]
     },
     "execution_count": 144,
     "metadata": {},
     "output_type": "execute_result"
    }
   ],
   "source": [
    "phi.get_massDim()"
   ]
  },
  {
   "cell_type": "code",
   "execution_count": 145,
   "metadata": {},
   "outputs": [
    {
     "data": {
      "text/plain": [
       "1"
      ]
     },
     "execution_count": 145,
     "metadata": {},
     "output_type": "execute_result"
    }
   ],
   "source": [
    "phi.get_ONindex()"
   ]
  },
  {
   "cell_type": "code",
   "execution_count": 146,
   "metadata": {},
   "outputs": [
    {
     "data": {
      "text/plain": [
       "0"
      ]
     },
     "execution_count": 146,
     "metadata": {},
     "output_type": "execute_result"
    }
   ],
   "source": [
    "phi.get_LORindex()"
   ]
  },
  {
   "cell_type": "code",
   "execution_count": 147,
   "metadata": {},
   "outputs": [],
   "source": [
    "Dphi = phi.derivative()"
   ]
  },
  {
   "cell_type": "code",
   "execution_count": 148,
   "metadata": {},
   "outputs": [
    {
     "data": {
      "text/plain": [
       "__main__.field"
      ]
     },
     "execution_count": 148,
     "metadata": {},
     "output_type": "execute_result"
    }
   ],
   "source": [
    "type(dphi)"
   ]
  },
  {
   "cell_type": "code",
   "execution_count": 149,
   "metadata": {},
   "outputs": [
    {
     "data": {
      "text/plain": [
       "<__main__.field at 0x10fa8bf28>"
      ]
     },
     "execution_count": 149,
     "metadata": {},
     "output_type": "execute_result"
    }
   ],
   "source": [
    "Dphi"
   ]
  },
  {
   "cell_type": "code",
   "execution_count": 150,
   "metadata": {},
   "outputs": [
    {
     "data": {
      "text/plain": [
       "1"
      ]
     },
     "execution_count": 150,
     "metadata": {},
     "output_type": "execute_result"
    }
   ],
   "source": [
    "Dphi.get_LORindex()"
   ]
  },
  {
   "cell_type": "code",
   "execution_count": 151,
   "metadata": {},
   "outputs": [
    {
     "data": {
      "text/plain": [
       "1"
      ]
     },
     "execution_count": 151,
     "metadata": {},
     "output_type": "execute_result"
    }
   ],
   "source": [
    "Dphi.get_ONindex()"
   ]
  },
  {
   "cell_type": "code",
   "execution_count": 152,
   "metadata": {},
   "outputs": [
    {
     "data": {
      "text/plain": [
       "'Dphi'"
      ]
     },
     "execution_count": 152,
     "metadata": {},
     "output_type": "execute_result"
    }
   ],
   "source": [
    "Dphi.get_symbol()"
   ]
  },
  {
   "cell_type": "code",
   "execution_count": 153,
   "metadata": {
    "collapsed": true
   },
   "outputs": [],
   "source": [
    "Prod = field.multiply(phi, Dphi)"
   ]
  },
  {
   "cell_type": "code",
   "execution_count": 154,
   "metadata": {},
   "outputs": [
    {
     "name": "stdout",
     "output_type": "stream",
     "text": [
      "massDim: 3\n",
      "ONindex: 2\n",
      "LORindex: 1\n",
      "symbol: (phi)(Dphi)\n"
     ]
    }
   ],
   "source": [
    "Prod.summary()"
   ]
  },
  {
   "cell_type": "code",
   "execution_count": 155,
   "metadata": {},
   "outputs": [
    {
     "data": {
      "text/plain": [
       "2"
      ]
     },
     "execution_count": 155,
     "metadata": {},
     "output_type": "execute_result"
    }
   ],
   "source": [
    "Dphi.get_massDim()"
   ]
  },
  {
   "cell_type": "code",
   "execution_count": 156,
   "metadata": {},
   "outputs": [
    {
     "name": "stdout",
     "output_type": "stream",
     "text": [
      "A\n",
      "B\n"
     ]
    }
   ],
   "source": [
    "print('A' + '\\n' + 'B')"
   ]
  },
  {
   "cell_type": "code",
   "execution_count": null,
   "metadata": {
    "collapsed": true
   },
   "outputs": [],
   "source": []
  },
  {
   "cell_type": "code",
   "execution_count": null,
   "metadata": {
    "collapsed": true
   },
   "outputs": [],
   "source": []
  }
 ],
 "metadata": {
  "kernelspec": {
   "display_name": "Python 3",
   "language": "python",
   "name": "python3"
  },
  "language_info": {
   "codemirror_mode": {
    "name": "ipython",
    "version": 3
   },
   "file_extension": ".py",
   "mimetype": "text/x-python",
   "name": "python",
   "nbconvert_exporter": "python",
   "pygments_lexer": "ipython3",
   "version": "3.6.3"
  }
 },
 "nbformat": 4,
 "nbformat_minor": 2
}
