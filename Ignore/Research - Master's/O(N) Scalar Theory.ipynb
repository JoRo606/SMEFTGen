{
 "cells": [
  {
   "cell_type": "code",
   "execution_count": 4,
   "metadata": {},
   "outputs": [],
   "source": [
    "#This class defines the basic field objects out of which term objects are built - e.g. scalars, vectors, fermions\n",
    "class field(object): \n",
    "    def __init__(self, indices, symbol, massDim):\n",
    "        self.indices = indices #list of field index types (strings - e.g. \"Lorentz\", \"O(N)\", \"SU(2)\", etc.)\n",
    "        self.symbol = symbol #field symbol (string - e.g. \"P\", \"A\")\n",
    "        self.massDim = massDim\n",
    "    \n",
    "    def __eq__(self, other):\n",
    "        eq = (self.indices == other.indices) & (self.symbol == other.symbol)\n",
    "        return eq\n",
    "    \n",
    "    def __str__(self):\n",
    "        return \"Index Types: \" + str(self.indices) + '\\n' \\\n",
    "            + \"Symbol: \" + str(self.symbol)\n",
    "        \n",
    "    \n",
    "    def get_indices(self):\n",
    "        return self.indices\n",
    "    \n",
    "    def get_symbol(self):\n",
    "        return self.symbol\n",
    "    \n",
    "    def get_massDim(self):\n",
    "        return self.massDim\n",
    "    \n",
    "    \n",
    "    def set_indices(self, indices_list):\n",
    "        self.indices = indices_list\n",
    "        \n",
    "    def set_symbol(self, symbol):\n",
    "        self.symbol = symbol\n",
    "        \n",
    "    def set_massDim(self, massDim):\n",
    "        self.massDim = massDim\n",
    "        \n",
    "\n",
    "        \n",
    "        \n",
    "        \n",
    "#This class consists of terms built up from basic fields       \n",
    "class term(object):\n",
    "    def __init__(self, fields, contractions):\n",
    "        self.fields = fields #list of field objects and other objects like derivatives and gamma matrices              \n",
    "        self.contractions = contractions #list of contractions - list of pairs of field locations, saying which are contracted and along which indices\n",
    "        \n",
    "    def __eq__(self, other):\n",
    "        self_field_set = set(self.get_fields())\n",
    "        other_field_set = set(other.get_fields())\n",
    "        \n",
    "        self_contractions = self.get_contractions()\n",
    "        other_contractions = other.get_contractions()\n",
    "        \n",
    "        self_contracted_fields = []\n",
    "        other_contracted_fields = []\n",
    "        \n",
    "        for contraction in self_contractions:\n",
    "            self_pair = [self_field_set[contraction[0]], self_field_set[contraction[1]]]\n",
    "            self_contracted_fields.append(self_pair)\n",
    "            \n",
    "            \n",
    "        for contraction in other_contractions:\n",
    "            other_pair = [other_field_set[contraction[0]], other_field_set[contraction[1]]]\n",
    "            other_contracted_fields.append(other_pair)\n",
    "        \n",
    "        self_contracted_fields_set = set(self_contracted_fields)\n",
    "        other_contracted_fields_set = set(other_contracted_fields)\n",
    "        \n",
    "        \n",
    "        return self_field_set == other_field_set & self_contracted_fields_set == other_contracted_fields_set  \n",
    "    \n",
    "    \n",
    "    def get_fields(self):\n",
    "        return self.fields\n",
    "    \n",
    "    def get_contractions(self):\n",
    "        return self.contractions\n",
    "    \n",
    "    \n",
    "    def set_fields(self, field_list):\n",
    "        self.fields = field_list\n",
    "        \n",
    "    def set_contractions(self, contractions):\n",
    "        self.contractions = contractions\n",
    "                \n",
    "    \n",
    "    #def multiply(self, other, contractions):\n",
    "        \n",
    "        \n",
    "    \n",
    "    \n",
    "#This class contains Lagrangians that are sums of terms    \n",
    "#class Lagrangian(object): \n",
    "#    pass\n",
    "    \n",
    "    \n",
    "    \n",
    "    \n",
    "    \n",
    "        "
   ]
  },
  {
   "cell_type": "code",
   "execution_count": 6,
   "metadata": {},
   "outputs": [],
   "source": [
    "P = field([\"O(N)\"], \"P\", 1)"
   ]
  },
  {
   "cell_type": "code",
   "execution_count": 7,
   "metadata": {},
   "outputs": [],
   "source": [
    "A = field([\"Lorentz\"], \"A\", 1)"
   ]
  },
  {
   "cell_type": "code",
   "execution_count": 8,
   "metadata": {},
   "outputs": [
    {
     "name": "stdout",
     "output_type": "stream",
     "text": [
      "Index Types: ['Lorentz']\n",
      "Symbol: A\n"
     ]
    }
   ],
   "source": [
    "print(A)"
   ]
  },
  {
   "cell_type": "code",
   "execution_count": 9,
   "metadata": {
    "collapsed": true
   },
   "outputs": [],
   "source": [
    "A.set_indices(['Lorentz', 'O(N)'])"
   ]
  },
  {
   "cell_type": "code",
   "execution_count": 11,
   "metadata": {},
   "outputs": [
    {
     "name": "stdout",
     "output_type": "stream",
     "text": [
      "Index Types: ['Lorentz', 'O(N)']\n",
      "Symbol: A\n"
     ]
    }
   ],
   "source": [
    "print(A)"
   ]
  },
  {
   "cell_type": "code",
   "execution_count": 12,
   "metadata": {
    "collapsed": true
   },
   "outputs": [],
   "source": [
    "D = field([\"Lorentz\"], \"D\", 1)"
   ]
  },
  {
   "cell_type": "code",
   "execution_count": 14,
   "metadata": {
    "collapsed": true
   },
   "outputs": [],
   "source": [
    "ADPDPA = term([A, D, P, D, P, A], [[0,1,\"Lorentz\"], [2,4, \"O(N)\"], [3,5, \"Lorentz\"] ])"
   ]
  },
  {
   "cell_type": "code",
   "execution_count": 15,
   "metadata": {
    "collapsed": true
   },
   "outputs": [],
   "source": [
    "AADPDP = term([A, A, D, P, D, P], [[0,2,\"Lorentz\"], [1,4, \"Lorentz\"], [3,5, \"O(N)\"] ])"
   ]
  },
  {
   "cell_type": "code",
   "execution_count": 16,
   "metadata": {},
   "outputs": [
    {
     "ename": "TypeError",
     "evalue": "unhashable type: 'field'",
     "output_type": "error",
     "traceback": [
      "\u001b[0;31m---------------------------------------------------------------------------\u001b[0m",
      "\u001b[0;31mTypeError\u001b[0m                                 Traceback (most recent call last)",
      "\u001b[0;32m<ipython-input-16-5ec55470412c>\u001b[0m in \u001b[0;36m<module>\u001b[0;34m()\u001b[0m\n\u001b[0;32m----> 1\u001b[0;31m \u001b[0mADPDPA\u001b[0m \u001b[0;34m==\u001b[0m \u001b[0mAADPDP\u001b[0m\u001b[0;34m\u001b[0m\u001b[0m\n\u001b[0m",
      "\u001b[0;32m<ipython-input-4-372df1723629>\u001b[0m in \u001b[0;36m__eq__\u001b[0;34m(self, other)\u001b[0m\n\u001b[1;32m     44\u001b[0m \u001b[0;34m\u001b[0m\u001b[0m\n\u001b[1;32m     45\u001b[0m     \u001b[0;32mdef\u001b[0m \u001b[0m__eq__\u001b[0m\u001b[0;34m(\u001b[0m\u001b[0mself\u001b[0m\u001b[0;34m,\u001b[0m \u001b[0mother\u001b[0m\u001b[0;34m)\u001b[0m\u001b[0;34m:\u001b[0m\u001b[0;34m\u001b[0m\u001b[0m\n\u001b[0;32m---> 46\u001b[0;31m         \u001b[0mself_field_set\u001b[0m \u001b[0;34m=\u001b[0m \u001b[0mset\u001b[0m\u001b[0;34m(\u001b[0m\u001b[0mself\u001b[0m\u001b[0;34m.\u001b[0m\u001b[0mget_fields\u001b[0m\u001b[0;34m(\u001b[0m\u001b[0;34m)\u001b[0m\u001b[0;34m)\u001b[0m\u001b[0;34m\u001b[0m\u001b[0m\n\u001b[0m\u001b[1;32m     47\u001b[0m         \u001b[0mother_field_set\u001b[0m \u001b[0;34m=\u001b[0m \u001b[0mset\u001b[0m\u001b[0;34m(\u001b[0m\u001b[0mother\u001b[0m\u001b[0;34m.\u001b[0m\u001b[0mget_fields\u001b[0m\u001b[0;34m(\u001b[0m\u001b[0;34m)\u001b[0m\u001b[0;34m)\u001b[0m\u001b[0;34m\u001b[0m\u001b[0m\n\u001b[1;32m     48\u001b[0m \u001b[0;34m\u001b[0m\u001b[0m\n",
      "\u001b[0;31mTypeError\u001b[0m: unhashable type: 'field'"
     ]
    }
   ],
   "source": [
    "ADPDPA == AADPDP"
   ]
  },
  {
   "cell_type": "code",
   "execution_count": null,
   "metadata": {
    "collapsed": true
   },
   "outputs": [],
   "source": []
  }
 ],
 "metadata": {
  "kernelspec": {
   "display_name": "Python 3",
   "language": "python",
   "name": "python3"
  },
  "language_info": {
   "codemirror_mode": {
    "name": "ipython",
    "version": 3
   },
   "file_extension": ".py",
   "mimetype": "text/x-python",
   "name": "python",
   "nbconvert_exporter": "python",
   "pygments_lexer": "ipython3",
   "version": "3.6.3"
  }
 },
 "nbformat": 4,
 "nbformat_minor": 2
}
