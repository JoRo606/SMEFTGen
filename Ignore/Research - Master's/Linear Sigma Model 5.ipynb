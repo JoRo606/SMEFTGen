{
 "cells": [
  {
   "cell_type": "code",
   "execution_count": 82,
   "metadata": {
    "collapsed": true
   },
   "outputs": [],
   "source": [
    "class field(object):\n",
    "    def __init__(self, massDim, LORindices, ONindices, symbol):\n",
    "        self.massDim = massDim #int\n",
    "        self.LORindices = LORindices #list of strings\n",
    "        self.ONindices = ONindices #list of strings\n",
    "        self.LORrank = len(LORindices)\n",
    "        self.ONrank = len(ONindices)\n",
    "        self.symbol = symbol #string representing field\n",
    "        self.tensorRep = '' #Create string showing tensor structure, without showing decomposition in terms of\n",
    "                            #elementary fields and derivatives\n",
    "        self.elementary = [] #Stores list of N elementary field factors phi and dphi\n",
    "        self.contractions = [] #Stores the indices with respect to which successive elementary factors are linked\n",
    "                                #e.g., [[0,1],[1,0],[0,1]] for phi^i1 dphi_u1^i1 dphi_u1^i2 phi^i2, [[1,1]] for dphi_u^i dphi_u^i. For N \n",
    "                                #elementary fields, N-1 links.\n",
    "        self.decomposition = '' #String showing structure of contractions in terms of elementary fields and \n",
    "                                #derivatives \n",
    "    def __str__(self): #Prints out attributes of field object\n",
    "        return 'massDim: ' + str(self.massDim) + '\\n' \\\n",
    "            + 'LORindices: ' + str(self.LORindices) + '\\n' \\\n",
    "            + 'ONindices: ' + str(self.ONindices) + '\\n' \\\n",
    "            + 'symbol: ' + str(self.symbol) + '\\n' \\\n",
    "            + 'LORrank: ' + str(self.LORrank) + '\\n' \\\n",
    "            + 'ONrank: ' + str(self.ONrank) + '\\n' \\\n",
    "            + 'tensorRep: ' + str(self.tensorRep)\n",
    "    \n",
    "    #Define get and set functions\n",
    "    def get_massDim(self):\n",
    "        return self.massDim\n",
    "    def get_LORindices(self):\n",
    "        return self.LORindices\n",
    "    def get_ONindices(self):\n",
    "        return self.ONindices\n",
    "    def get_LORrank(self):\n",
    "        return self.LORrank\n",
    "    def get_ONrank(self):\n",
    "        return self.ONrank\n",
    "    def get_symbol(self):\n",
    "        return self.symbol\n",
    "    def get_tensorRep(self):\n",
    "        return self.tensorRep\n",
    "    def get_elementary(self):\n",
    "        return self.elementary\n",
    "    def get_contractions(self):\n",
    "        return self.contractions\n",
    "    def get_tensorRep(self):\n",
    "        return self.tensorRep\n",
    "    \n",
    "    def set_massDim(self, massDim):\n",
    "        self.massDim = massDim\n",
    "    def set_LORindices(self, LORindices):\n",
    "        self.LORindices = LORindices\n",
    "    def set_ONindices(self, ONindices):\n",
    "        self.ONindices = ONindices\n",
    "    def set_symbol(self, symbol):\n",
    "        self.symbol = symbol\n",
    "    def set_tensorRep(self, tensorRep):\n",
    "        self.tensorRep = tensorRep\n",
    "    def set_elementary(self, elementary):\n",
    "        self.elementary = elementary\n",
    "    def set_contractions(self, contractions):\n",
    "        self.contractions = contractions\n",
    "    def set_tensorRep(self):\n",
    "        tensor = self.symbol\n",
    "        for i in self.LORindices:\n",
    "            tensor = tensor + '_' + str(i)\n",
    "        for j in self.ONindices:\n",
    "            tensor = tensor + '^' + str(j)\n",
    "        self.tensorRep = tensor\n",
    "        return tensor\n",
    "    #No set_LORrank() or set_ONrank() functions since LORrank and ONrank are determined by length of index lists\n",
    "        \n",
    "    #Returns a new field corresponding to derivative of field by increasing massDim and LORindex by one\n",
    "    def derivative(self, mu = 'u'): \n",
    "        massDim_new = self.get_massDim() + 1\n",
    "        #print(self.get_LORindices())\n",
    "        LORindices_new = self.get_LORindices() + [mu]\n",
    "        #print(LORindices_new)\n",
    "        #LORrank_new = self.get_LORrank() + 1\n",
    "        fieldDeriv = field(massDim_new, LORindices_new, self.ONindices, 'D' + self.symbol)\n",
    "        return fieldDeriv \n",
    "    \n",
    "    #Return string showing structure in terms of elementary fields and derivatives\n",
    "    def decompose(self):\n",
    "        '''\n",
    "        OUTPUT\n",
    "        Returns string showing decomposition in terms of elementary fields and derivatives\n",
    "        '''\n",
    "        \n",
    "        elementary = self.get_elementary()[:]\n",
    "        contractions = self.get_contractions()[:]\n",
    "        decomposition = ''\n",
    "        \n",
    "        LOR_count = 0 #counter for numbering contracted LOR indices\n",
    "        ON_count = 0 #counter for numbering contracted ON indices\n",
    "        \n",
    "        for i in range(len(contractions)):\n",
    "            \n",
    "            print(\"\")\n",
    "            print(\"\")\n",
    "            print(\"In decompose, i: \" + str(i))\n",
    "            \n",
    "            e_current = elementary[i]\n",
    "            e_next = elementary[i+1]\n",
    "            \n",
    "            e_current.set_tensorRep()\n",
    "            e_next.set_tensorRep()\n",
    "            \n",
    "            print(\"e_current initial: \" + str(e_current.get_tensorRep()))\n",
    "            print(\"e_next initial: \" + str(e_next.get_tensorRep()))\n",
    "            \n",
    "            dot = contractions[i]\n",
    "            \n",
    "            if dot[0]: #Check if Lorentz index is contracted\n",
    "                print('In LOR')\n",
    "                LORindex = 'U' + str(LOR_count)\n",
    "                \n",
    "                e_current.set_LORindices([LORindex])\n",
    "                e_current.set_tensorRep()\n",
    "                \n",
    "                e_next.set_LORindices([LORindex])\n",
    "                e_next.set_tensorRep()\n",
    "                \n",
    "                LOR_count += 1\n",
    "            else:\n",
    "                pass\n",
    "            \n",
    "            if dot[1]: #Check if ON index is contracted\n",
    "                print('In O(N)')\n",
    "                ONindex = 'I' + str(ON_count)\n",
    "                \n",
    "                e_current.set_ONindices([ONindex])\n",
    "                e_current.set_tensorRep()\n",
    "                \n",
    "                e_next.set_ONindices([ONindex])\n",
    "                e_next.set_tensorRep()\n",
    "            \n",
    "                ON_count += 1\n",
    "            else:\n",
    "                pass\n",
    "            \n",
    "            print(\"e_current final: \" + str(e_current.get_tensorRep()))\n",
    "            print(\"e_next final: \" + str(e_next.get_tensorRep()))\n",
    "            \n",
    "            if i < (len(contractions)-1):\n",
    "                e_current_string = e_current.get_tensorRep()\n",
    "                e_next_string = e_next.get_tensorRep()\n",
    "                decomposition += '(' + e_current_string + ')'\n",
    "            else: \n",
    "                e_current_string = e_current.get_tensorRep()\n",
    "                e_next_string = e_next.get_tensorRep()\n",
    "                decomposition += '(' + e_current_string + ')' + '(' + e_next_string + ')'\n",
    "            \n",
    "        \n",
    "        return decomposition\n",
    "            \n",
    "        \n",
    "        \n",
    "       \n",
    "        "
   ]
  },
  {
   "cell_type": "code",
   "execution_count": 83,
   "metadata": {
    "collapsed": true
   },
   "outputs": [],
   "source": [
    "phi = field(1, [], ['i'], 'P')"
   ]
  },
  {
   "cell_type": "code",
   "execution_count": 84,
   "metadata": {
    "collapsed": true
   },
   "outputs": [],
   "source": [
    "Dphi1 = phi.derivative('u1')"
   ]
  },
  {
   "cell_type": "code",
   "execution_count": 85,
   "metadata": {
    "collapsed": true
   },
   "outputs": [],
   "source": [
    "Dphi2 = phi.derivative('u2')"
   ]
  },
  {
   "cell_type": "code",
   "execution_count": 86,
   "metadata": {
    "collapsed": true
   },
   "outputs": [],
   "source": [
    "C = field(5, [], ['i'], 'C')"
   ]
  },
  {
   "cell_type": "code",
   "execution_count": 87,
   "metadata": {
    "collapsed": true
   },
   "outputs": [],
   "source": [
    "C.set_elementary([phi, Dphi1, Dphi2])"
   ]
  },
  {
   "cell_type": "code",
   "execution_count": 88,
   "metadata": {
    "collapsed": true
   },
   "outputs": [],
   "source": [
    "C.set_contractions([[0,1],[1,0]])"
   ]
  },
  {
   "cell_type": "code",
   "execution_count": 89,
   "metadata": {},
   "outputs": [
    {
     "name": "stdout",
     "output_type": "stream",
     "text": [
      "\n",
      "\n",
      "In decompose, i: 0\n",
      "e_current initial: P^i\n",
      "e_next initial: DP_u1^i\n",
      "In O(N)\n",
      "e_current final: P^I0\n",
      "e_next final: DP_u1^I0\n",
      "\n",
      "\n",
      "In decompose, i: 1\n",
      "e_current initial: DP_u1^I0\n",
      "e_next initial: DP_u2^i\n",
      "In LOR\n",
      "e_current final: DP_U0^I0\n",
      "e_next final: DP_U0^i\n"
     ]
    },
    {
     "data": {
      "text/plain": [
       "'(P^I0)(DP_U0^I0)(DP_U0^i)'"
      ]
     },
     "execution_count": 89,
     "metadata": {},
     "output_type": "execute_result"
    }
   ],
   "source": [
    "C.decompose()"
   ]
  },
  {
   "cell_type": "code",
   "execution_count": 90,
   "metadata": {},
   "outputs": [
    {
     "data": {
      "text/plain": [
       "'C^i'"
      ]
     },
     "execution_count": 90,
     "metadata": {},
     "output_type": "execute_result"
    }
   ],
   "source": [
    "C.set_tensorRep()"
   ]
  },
  {
   "cell_type": "code",
   "execution_count": 91,
   "metadata": {},
   "outputs": [],
   "source": [
    "A = field(7, ['u0','u1'], ['i0','i1','i2'], 'A')"
   ]
  },
  {
   "cell_type": "code",
   "execution_count": 92,
   "metadata": {
    "collapsed": true
   },
   "outputs": [],
   "source": [
    "phi1 = field(1, [], ['i0'], 'P')"
   ]
  },
  {
   "cell_type": "code",
   "execution_count": 93,
   "metadata": {
    "collapsed": true
   },
   "outputs": [],
   "source": [
    "phi2 = field(1, [], ['i1'], 'P')"
   ]
  },
  {
   "cell_type": "code",
   "execution_count": 94,
   "metadata": {
    "collapsed": true
   },
   "outputs": [],
   "source": [
    "phi3 = field(1, [], ['i2'], 'P')"
   ]
  },
  {
   "cell_type": "code",
   "execution_count": 95,
   "metadata": {
    "collapsed": true
   },
   "outputs": [],
   "source": [
    "Dphi1 = field(1, [], ['i3'], 'P').derivative('u1')"
   ]
  },
  {
   "cell_type": "code",
   "execution_count": 96,
   "metadata": {
    "collapsed": true
   },
   "outputs": [],
   "source": [
    "Dphi2 = field(1, [], ['i4'], 'P').derivative('u2')"
   ]
  },
  {
   "cell_type": "code",
   "execution_count": 97,
   "metadata": {},
   "outputs": [],
   "source": [
    "A.set_elementary([phi1, Dphi1, Dphi2, phi2, phi3 ])"
   ]
  },
  {
   "cell_type": "code",
   "execution_count": 98,
   "metadata": {},
   "outputs": [],
   "source": [
    "A.set_contractions([[0,0], [0,1], [0,0], [0,0]])"
   ]
  },
  {
   "cell_type": "code",
   "execution_count": 99,
   "metadata": {},
   "outputs": [
    {
     "name": "stdout",
     "output_type": "stream",
     "text": [
      "\n",
      "\n",
      "In decompose, i: 0\n",
      "e_current initial: P^i0\n",
      "e_next initial: DP_u1^i3\n",
      "e_current final: P^i0\n",
      "e_next final: DP_u1^i3\n",
      "\n",
      "\n",
      "In decompose, i: 1\n",
      "e_current initial: DP_u1^i3\n",
      "e_next initial: DP_u2^i4\n",
      "In O(N)\n",
      "e_current final: DP_u1^I0\n",
      "e_next final: DP_u2^I0\n",
      "\n",
      "\n",
      "In decompose, i: 2\n",
      "e_current initial: DP_u2^I0\n",
      "e_next initial: P^i1\n",
      "e_current final: DP_u2^I0\n",
      "e_next final: P^i1\n",
      "\n",
      "\n",
      "In decompose, i: 3\n",
      "e_current initial: P^i1\n",
      "e_next initial: P^i2\n",
      "e_current final: P^i1\n",
      "e_next final: P^i2\n"
     ]
    },
    {
     "data": {
      "text/plain": [
       "'(P^i0)(DP_u1^I0)(DP_u2^I0)(P^i1)(P^i2)'"
      ]
     },
     "execution_count": 99,
     "metadata": {},
     "output_type": "execute_result"
    }
   ],
   "source": [
    "A.decompose()"
   ]
  },
  {
   "cell_type": "code",
   "execution_count": null,
   "metadata": {
    "collapsed": true
   },
   "outputs": [],
   "source": []
  },
  {
   "cell_type": "code",
   "execution_count": null,
   "metadata": {
    "collapsed": true
   },
   "outputs": [],
   "source": []
  }
 ],
 "metadata": {
  "kernelspec": {
   "display_name": "Python 3",
   "language": "python",
   "name": "python3"
  },
  "language_info": {
   "codemirror_mode": {
    "name": "ipython",
    "version": 3
   },
   "file_extension": ".py",
   "mimetype": "text/x-python",
   "name": "python",
   "nbconvert_exporter": "python",
   "pygments_lexer": "ipython3",
   "version": "3.6.3"
  }
 },
 "nbformat": 4,
 "nbformat_minor": 2
}
