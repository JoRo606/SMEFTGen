{
 "cells": [
  {
   "cell_type": "code",
   "execution_count": 574,
   "metadata": {},
   "outputs": [],
   "source": [
    "class field(object):\n",
    "    def __init__(self, massDim, LORindices, ONindices, symbol):\n",
    "        self.massDim = massDim #int\n",
    "        self.LORindices = LORindices #list of strings\n",
    "        self.ONindices = ONindices #list of strings\n",
    "        self.LORrank = len(LORindices)\n",
    "        self.ONrank = len(ONindices)\n",
    "        self.symbol = symbol #string representing field\n",
    "        self.tensorRep = '' #Create string showing tensor structure, without showing decomposition in terms of\n",
    "                            #elementary fields and derivatives\n",
    "        self.elementary = [] #Stores list of N elementary field factors phi and dphi\n",
    "        self.contractions = [] #Stores the indices with respect to which successive elementary factors are linked\n",
    "                                #e.g., [[0,1],[1,0],[0,1]] for phi^i1 dphi_u1^i1 dphi_u1^i2 phi^i2, [[1,1]] for dphi_u^i dphi_u^i. For N \n",
    "                                #elementary fields, N-1 links.\n",
    "        self.decomposition = '' #String showing structure of contractions in terms of elementary fields and \n",
    "                                #derivatives \n",
    "    def __str__(self): #Prints out attributes of field object\n",
    "        return 'massDim: ' + str(self.massDim) + '\\n' \\\n",
    "            + 'LORindices: ' + str(self.LORindices) + '\\n' \\\n",
    "            + 'ONindices: ' + str(self.ONindices) + '\\n' \\\n",
    "            + 'symbol: ' + str(self.symbol) + '\\n' \\\n",
    "            + 'LORrank: ' + str(self.LORrank) + '\\n' \\\n",
    "            + 'ONrank: ' + str(self.ONrank) + '\\n' \\\n",
    "            + 'tensorRep: ' + str(self.tensorRep)\n",
    "    \n",
    "    #Define get and set functions\n",
    "    def get_massDim(self):\n",
    "        return self.massDim\n",
    "    def get_LORindices(self):\n",
    "        return self.LORindices\n",
    "    def get_ONindices(self):\n",
    "        return self.ONindices\n",
    "    def get_LORrank(self):\n",
    "        return self.LORrank\n",
    "    def get_ONrank(self):\n",
    "        return self.ONrank\n",
    "    def get_symbol(self):\n",
    "        return self.symbol\n",
    "    def get_tensorRep(self):\n",
    "        return self.tensorRep\n",
    "    def get_elementary(self):\n",
    "        return self.elementary\n",
    "    def get_contractions(self):\n",
    "        return self.contractions\n",
    "    def get_tensorRep(self):\n",
    "        return self.tensorRep\n",
    "    \n",
    "    def set_massDim(self, massDim):\n",
    "        self.massDim = massDim\n",
    "    def set_LORindices(self, LORindices):\n",
    "        self.LORindices = LORindices\n",
    "    def set_ONindices(self, ONindices):\n",
    "        self.ONindices = ONindices\n",
    "    def set_symbol(self, symbol):\n",
    "        self.symbol = symbol\n",
    "    def set_tensorRep(self, tensorRep):\n",
    "        self.tensorRep = tensorRep\n",
    "    def set_elementary(self, elementary):\n",
    "        self.elementary = elementary\n",
    "    def set_contractions(self, contractions):\n",
    "        self.contractions = contractions\n",
    "    def set_tensorRep(self):\n",
    "        tensor = self.symbol\n",
    "        for i in self.LORindices:\n",
    "            tensor = tensor + '_' + str(i)\n",
    "        for j in self.ONindices:\n",
    "            tensor = tensor + '^' + str(j)\n",
    "        self.tensorRep = tensor\n",
    "        return tensor\n",
    "    #No set_LORrank() or set_ONrank() functions since LORrank and ONrank are determined by length of index lists\n",
    "        \n",
    "    #Returns a new field corresponding to derivative of field by increasing massDim and LORindex by one\n",
    "    def derivative(self, mu = 'u'): \n",
    "        massDim_new = self.get_massDim() + 1\n",
    "        #print(self.get_LORindices())\n",
    "        LORindices_new = self.get_LORindices() + [mu]\n",
    "        #print(LORindices_new)\n",
    "        #LORrank_new = self.get_LORrank() + 1\n",
    "        fieldDeriv = field(massDim_new, LORindices_new, self.ONindices, 'D' + self.symbol)\n",
    "        return fieldDeriv \n",
    "    \n",
    "    #Return string showing structure in terms of elementary fields and derivatives\n",
    "    def decompose(self):\n",
    "        '''\n",
    "        OUTPUT\n",
    "        Returns string showing decomposition in terms of elementary fields and derivatives\n",
    "        '''\n",
    "        \n",
    "        elementary = self.get_elementary()[:]\n",
    "        contractions = self.get_contractions()[:]\n",
    "        print(\"in field.decompose(), contractions: \" + str(contractions))\n",
    "        print(\"len(elementary): \" + str(len(elementary)) )\n",
    "        decomposition = ''\n",
    "        \n",
    "        LOR_count = 0 #counter for numbering contracted LOR indices\n",
    "        ON_count = 0 #counter for numbering contracted ON indices\n",
    "        \n",
    "        for i in range(len(contractions)):\n",
    "            \n",
    "            print(\"\")\n",
    "            print(\"\")\n",
    "            print(\"in field.decompose(), i: \" + str(i))\n",
    "            e_current = elementary[i]\n",
    "            e_next = elementary[i+1]\n",
    "            \n",
    "            dot = contractions[i]\n",
    "            print(\"in field.decompose(), dot: \" + str(dot))\n",
    "            \n",
    "            if dot[0]: #Check if Lorentz index is contracted\n",
    "                print('In LOR')\n",
    "                LORindex = 'U' + str(LOR_count)\n",
    "                print(\"\")\n",
    "                print(\"e_current pre-reset:\" + str(e_current))\n",
    "                print(\"e_next pre-reset:\" + str(e_next))\n",
    "                e_current.set_LORindices([LORindex])\n",
    "                e_current.set_tensorRep()\n",
    "                print('')\n",
    "                print(e_current)\n",
    "                print('')\n",
    "                e_next.set_LORindices([LORindex])\n",
    "                e_next.set_tensorRep()\n",
    "                print(e_next)\n",
    "                print('')\n",
    "                LOR_count += 1\n",
    "            else:\n",
    "                pass\n",
    "            \n",
    "            if dot[1]: #Check if ON index is contracted\n",
    "                print('In O(N)')\n",
    "                ONindex = 'I' + str(ON_count)\n",
    "                print(\"\")\n",
    "                print(\"e_current pre-reset:\" + str(e_current))\n",
    "                print(\"e_next pre-reset:\" + str(e_next))\n",
    "                e_current.set_ONindices([ONindex])\n",
    "                e_current.set_tensorRep()\n",
    "                print('')\n",
    "                print(e_current)\n",
    "                print('')\n",
    "                e_next.set_ONindices([ONindex])\n",
    "                e_next.set_tensorRep()\n",
    "                print(e_next)\n",
    "                print('')\n",
    "                ON_count += 1\n",
    "            else:\n",
    "                pass\n",
    "            \n",
    "            if i < (len(contractions)-1):\n",
    "                e_current_string = e_current.get_tensorRep()\n",
    "                print('e_current_string: ' + str(e_current_string))\n",
    "                e_next_string = e_next.get_tensorRep()\n",
    "                print('e_next_string: ' + str(e_next_string))\n",
    "                decomposition += '(' + e_current_string + ')'\n",
    "            else: \n",
    "                e_current_string = e_current.get_tensorRep()\n",
    "                print('e_current_string: ' + str(e_current_string))\n",
    "                e_next_string = e_next.get_tensorRep()\n",
    "                print('e_next_string: ' + str(e_next_string))\n",
    "                decomposition += '(' + e_current_string + ')' + '(' + e_next_string + ')'\n",
    "            \n",
    "        \n",
    "        return decomposition\n",
    "            \n",
    "        \n",
    "        '''\n",
    "    #Returns tensor string showing full index structure of field object\n",
    "    \n",
    "    \n",
    "    #Multiplies two fields, contracting along specified indices\n",
    "    def contract(self, other, LORcontract, ONcontract):\n",
    "\n",
    "        Calculates product/contraction of two fields; can be broken down recursively into elementary factors of field and \n",
    "        field derivative.\n",
    "        INPUT\n",
    "        self, other: field objects to be contracted along specified indices\n",
    "        LORcontract: list of pairs (lists) of LOR indices (one from each field) to be contracted\n",
    "        ONcontract: list of pairs (lists) of O(N) indices (one from each field) to be contracted\n",
    "        \n",
    "        OUTPUT\n",
    "        new field object, prod, with factors stored in attribute prod.factors and contraction indices preserved \n",
    "        in prod.LORcontract and prod.ONcontract. \n",
    "        ''' \n",
    "        \n",
    "        \n",
    "       \n",
    "        "
   ]
  },
  {
   "cell_type": "code",
   "execution_count": 575,
   "metadata": {
    "collapsed": true
   },
   "outputs": [],
   "source": [
    "phi = field(1, [], ['i'], 'P')"
   ]
  },
  {
   "cell_type": "code",
   "execution_count": 576,
   "metadata": {
    "collapsed": true
   },
   "outputs": [],
   "source": [
    "Dphi = phi.derivative('u')"
   ]
  },
  {
   "cell_type": "code",
   "execution_count": 577,
   "metadata": {},
   "outputs": [
    {
     "name": "stdout",
     "output_type": "stream",
     "text": [
      "massDim: 2\n",
      "LORindices: ['u']\n",
      "ONindices: ['i']\n",
      "symbol: DP\n",
      "LORrank: 1\n",
      "ONrank: 1\n",
      "tensorRep: \n"
     ]
    }
   ],
   "source": [
    "print(Dphi)"
   ]
  },
  {
   "cell_type": "code",
   "execution_count": 578,
   "metadata": {},
   "outputs": [
    {
     "data": {
      "text/plain": [
       "'P^i'"
      ]
     },
     "execution_count": 578,
     "metadata": {},
     "output_type": "execute_result"
    }
   ],
   "source": [
    "phi.set_tensorRep()"
   ]
  },
  {
   "cell_type": "code",
   "execution_count": 579,
   "metadata": {},
   "outputs": [
    {
     "name": "stdout",
     "output_type": "stream",
     "text": [
      "massDim: 1\n",
      "LORindices: []\n",
      "ONindices: ['i']\n",
      "symbol: P\n",
      "LORrank: 0\n",
      "ONrank: 1\n",
      "tensorRep: P^i\n"
     ]
    }
   ],
   "source": [
    "print(phi)"
   ]
  },
  {
   "cell_type": "code",
   "execution_count": 580,
   "metadata": {},
   "outputs": [
    {
     "name": "stdout",
     "output_type": "stream",
     "text": [
      "massDim: 2\n",
      "LORindices: ['u']\n",
      "ONindices: ['i']\n",
      "symbol: DP\n",
      "LORrank: 1\n",
      "ONrank: 1\n",
      "tensorRep: \n"
     ]
    }
   ],
   "source": [
    "print(Dphi)"
   ]
  },
  {
   "cell_type": "code",
   "execution_count": 581,
   "metadata": {},
   "outputs": [
    {
     "data": {
      "text/plain": [
       "'DP_u^i'"
      ]
     },
     "execution_count": 581,
     "metadata": {},
     "output_type": "execute_result"
    }
   ],
   "source": [
    "Dphi.set_tensorRep()"
   ]
  },
  {
   "cell_type": "code",
   "execution_count": 582,
   "metadata": {},
   "outputs": [
    {
     "name": "stdout",
     "output_type": "stream",
     "text": [
      "massDim: 2\n",
      "LORindices: ['u']\n",
      "ONindices: ['i']\n",
      "symbol: DP\n",
      "LORrank: 1\n",
      "ONrank: 1\n",
      "tensorRep: DP_u^i\n"
     ]
    }
   ],
   "source": [
    "print(Dphi)"
   ]
  },
  {
   "cell_type": "markdown",
   "metadata": {},
   "source": [
    "## Test field.decompose()"
   ]
  },
  {
   "cell_type": "markdown",
   "metadata": {},
   "source": [
    "Try $A = \\phi^{i_{1}} \\partial_{\\mu_{1}} \\phi^{i_{1}} \\partial_{\\mu_{1}} \\phi^{i_{2}} \\phi^{i_{2}}$"
   ]
  },
  {
   "cell_type": "code",
   "execution_count": 583,
   "metadata": {
    "collapsed": true
   },
   "outputs": [],
   "source": [
    "A = field(6, [], [], 'A')"
   ]
  },
  {
   "cell_type": "code",
   "execution_count": 584,
   "metadata": {
    "collapsed": true
   },
   "outputs": [],
   "source": [
    "A.set_elementary([phi, Dphi, Dphi, phi])"
   ]
  },
  {
   "cell_type": "code",
   "execution_count": 585,
   "metadata": {
    "collapsed": true
   },
   "outputs": [],
   "source": [
    "A.set_contractions([[0,1],[1,0],[0,1]])"
   ]
  },
  {
   "cell_type": "code",
   "execution_count": 586,
   "metadata": {},
   "outputs": [
    {
     "data": {
      "text/plain": [
       "[[0, 1], [1, 0], [0, 1]]"
      ]
     },
     "execution_count": 586,
     "metadata": {},
     "output_type": "execute_result"
    }
   ],
   "source": [
    "A.get_contractions()"
   ]
  },
  {
   "cell_type": "code",
   "execution_count": 587,
   "metadata": {},
   "outputs": [
    {
     "name": "stdout",
     "output_type": "stream",
     "text": [
      "in field.decompose(), contractions: [[0, 1], [1, 0], [0, 1]]\n",
      "len(elementary): 4\n",
      "\n",
      "\n",
      "in field.decompose(), i: 0\n",
      "in field.decompose(), dot: [0, 1]\n",
      "In O(N)\n",
      "\n",
      "e_current pre-reset:massDim: 1\n",
      "LORindices: []\n",
      "ONindices: ['i']\n",
      "symbol: P\n",
      "LORrank: 0\n",
      "ONrank: 1\n",
      "tensorRep: P^i\n",
      "e_next pre-reset:massDim: 2\n",
      "LORindices: ['u']\n",
      "ONindices: ['i']\n",
      "symbol: DP\n",
      "LORrank: 1\n",
      "ONrank: 1\n",
      "tensorRep: DP_u^i\n",
      "\n",
      "massDim: 1\n",
      "LORindices: []\n",
      "ONindices: ['I0']\n",
      "symbol: P\n",
      "LORrank: 0\n",
      "ONrank: 1\n",
      "tensorRep: P^I0\n",
      "\n",
      "massDim: 2\n",
      "LORindices: ['u']\n",
      "ONindices: ['I0']\n",
      "symbol: DP\n",
      "LORrank: 1\n",
      "ONrank: 1\n",
      "tensorRep: DP_u^I0\n",
      "\n",
      "e_current_string: P^I0\n",
      "e_next_string: DP_u^I0\n",
      "\n",
      "\n",
      "in field.decompose(), i: 1\n",
      "in field.decompose(), dot: [1, 0]\n",
      "In LOR\n",
      "\n",
      "e_current pre-reset:massDim: 2\n",
      "LORindices: ['u']\n",
      "ONindices: ['I0']\n",
      "symbol: DP\n",
      "LORrank: 1\n",
      "ONrank: 1\n",
      "tensorRep: DP_u^I0\n",
      "e_next pre-reset:massDim: 2\n",
      "LORindices: ['u']\n",
      "ONindices: ['I0']\n",
      "symbol: DP\n",
      "LORrank: 1\n",
      "ONrank: 1\n",
      "tensorRep: DP_u^I0\n",
      "\n",
      "massDim: 2\n",
      "LORindices: ['U0']\n",
      "ONindices: ['I0']\n",
      "symbol: DP\n",
      "LORrank: 1\n",
      "ONrank: 1\n",
      "tensorRep: DP_U0^I0\n",
      "\n",
      "massDim: 2\n",
      "LORindices: ['U0']\n",
      "ONindices: ['I0']\n",
      "symbol: DP\n",
      "LORrank: 1\n",
      "ONrank: 1\n",
      "tensorRep: DP_U0^I0\n",
      "\n",
      "e_current_string: DP_U0^I0\n",
      "e_next_string: DP_U0^I0\n",
      "\n",
      "\n",
      "in field.decompose(), i: 2\n",
      "in field.decompose(), dot: [0, 1]\n",
      "In O(N)\n",
      "\n",
      "e_current pre-reset:massDim: 2\n",
      "LORindices: ['U0']\n",
      "ONindices: ['I0']\n",
      "symbol: DP\n",
      "LORrank: 1\n",
      "ONrank: 1\n",
      "tensorRep: DP_U0^I0\n",
      "e_next pre-reset:massDim: 1\n",
      "LORindices: []\n",
      "ONindices: ['I0']\n",
      "symbol: P\n",
      "LORrank: 0\n",
      "ONrank: 1\n",
      "tensorRep: P^I0\n",
      "\n",
      "massDim: 2\n",
      "LORindices: ['U0']\n",
      "ONindices: ['I1']\n",
      "symbol: DP\n",
      "LORrank: 1\n",
      "ONrank: 1\n",
      "tensorRep: DP_U0^I1\n",
      "\n",
      "massDim: 1\n",
      "LORindices: []\n",
      "ONindices: ['I1']\n",
      "symbol: P\n",
      "LORrank: 0\n",
      "ONrank: 1\n",
      "tensorRep: P^I1\n",
      "\n",
      "e_current_string: DP_U0^I1\n",
      "e_next_string: P^I1\n"
     ]
    },
    {
     "data": {
      "text/plain": [
       "'(P^I0)(DP_U0^I0)(DP_U0^I1)(P^I1)'"
      ]
     },
     "execution_count": 587,
     "metadata": {},
     "output_type": "execute_result"
    }
   ],
   "source": [
    "A.decompose()"
   ]
  },
  {
   "cell_type": "markdown",
   "metadata": {
    "collapsed": true
   },
   "source": [
    "Correct"
   ]
  },
  {
   "cell_type": "code",
   "execution_count": 588,
   "metadata": {},
   "outputs": [],
   "source": [
    "B = field(4, [], [], 'B')"
   ]
  },
  {
   "cell_type": "code",
   "execution_count": 589,
   "metadata": {},
   "outputs": [],
   "source": [
    "B.set_contractions([[1,1]])"
   ]
  },
  {
   "cell_type": "code",
   "execution_count": 590,
   "metadata": {},
   "outputs": [],
   "source": [
    "B.set_elementary([Dphi, Dphi])"
   ]
  },
  {
   "cell_type": "code",
   "execution_count": 591,
   "metadata": {},
   "outputs": [
    {
     "name": "stdout",
     "output_type": "stream",
     "text": [
      "in field.decompose(), contractions: [[1, 1]]\n",
      "len(elementary): 2\n",
      "\n",
      "\n",
      "in field.decompose(), i: 0\n",
      "in field.decompose(), dot: [1, 1]\n",
      "In LOR\n",
      "\n",
      "e_current pre-reset:massDim: 2\n",
      "LORindices: ['U0']\n",
      "ONindices: ['I1']\n",
      "symbol: DP\n",
      "LORrank: 1\n",
      "ONrank: 1\n",
      "tensorRep: DP_U0^I1\n",
      "e_next pre-reset:massDim: 2\n",
      "LORindices: ['U0']\n",
      "ONindices: ['I1']\n",
      "symbol: DP\n",
      "LORrank: 1\n",
      "ONrank: 1\n",
      "tensorRep: DP_U0^I1\n",
      "\n",
      "massDim: 2\n",
      "LORindices: ['U0']\n",
      "ONindices: ['I1']\n",
      "symbol: DP\n",
      "LORrank: 1\n",
      "ONrank: 1\n",
      "tensorRep: DP_U0^I1\n",
      "\n",
      "massDim: 2\n",
      "LORindices: ['U0']\n",
      "ONindices: ['I1']\n",
      "symbol: DP\n",
      "LORrank: 1\n",
      "ONrank: 1\n",
      "tensorRep: DP_U0^I1\n",
      "\n",
      "In O(N)\n",
      "\n",
      "e_current pre-reset:massDim: 2\n",
      "LORindices: ['U0']\n",
      "ONindices: ['I1']\n",
      "symbol: DP\n",
      "LORrank: 1\n",
      "ONrank: 1\n",
      "tensorRep: DP_U0^I1\n",
      "e_next pre-reset:massDim: 2\n",
      "LORindices: ['U0']\n",
      "ONindices: ['I1']\n",
      "symbol: DP\n",
      "LORrank: 1\n",
      "ONrank: 1\n",
      "tensorRep: DP_U0^I1\n",
      "\n",
      "massDim: 2\n",
      "LORindices: ['U0']\n",
      "ONindices: ['I0']\n",
      "symbol: DP\n",
      "LORrank: 1\n",
      "ONrank: 1\n",
      "tensorRep: DP_U0^I0\n",
      "\n",
      "massDim: 2\n",
      "LORindices: ['U0']\n",
      "ONindices: ['I0']\n",
      "symbol: DP\n",
      "LORrank: 1\n",
      "ONrank: 1\n",
      "tensorRep: DP_U0^I0\n",
      "\n",
      "e_current_string: DP_U0^I0\n",
      "e_next_string: DP_U0^I0\n"
     ]
    },
    {
     "data": {
      "text/plain": [
       "'(DP_U0^I0)(DP_U0^I0)'"
      ]
     },
     "execution_count": 591,
     "metadata": {},
     "output_type": "execute_result"
    }
   ],
   "source": [
    "B.decompose()"
   ]
  },
  {
   "cell_type": "markdown",
   "metadata": {},
   "source": [
    "Correct"
   ]
  },
  {
   "cell_type": "code",
   "execution_count": 592,
   "metadata": {
    "collapsed": true
   },
   "outputs": [],
   "source": [
    "C = field(5, ['u'], [], 'C')"
   ]
  },
  {
   "cell_type": "code",
   "execution_count": 593,
   "metadata": {
    "collapsed": true
   },
   "outputs": [],
   "source": [
    "C.set_elementary([phi, Dphi, Dphi])"
   ]
  },
  {
   "cell_type": "code",
   "execution_count": 594,
   "metadata": {
    "collapsed": true
   },
   "outputs": [],
   "source": [
    "C.set_contractions([[0,1],[1,0]])"
   ]
  },
  {
   "cell_type": "code",
   "execution_count": 595,
   "metadata": {},
   "outputs": [
    {
     "name": "stdout",
     "output_type": "stream",
     "text": [
      "in field.decompose(), contractions: [[0, 1], [1, 0]]\n",
      "len(elementary): 3\n",
      "\n",
      "\n",
      "in field.decompose(), i: 0\n",
      "in field.decompose(), dot: [0, 1]\n",
      "In O(N)\n",
      "\n",
      "e_current pre-reset:massDim: 1\n",
      "LORindices: []\n",
      "ONindices: ['I1']\n",
      "symbol: P\n",
      "LORrank: 0\n",
      "ONrank: 1\n",
      "tensorRep: P^I1\n",
      "e_next pre-reset:massDim: 2\n",
      "LORindices: ['U0']\n",
      "ONindices: ['I0']\n",
      "symbol: DP\n",
      "LORrank: 1\n",
      "ONrank: 1\n",
      "tensorRep: DP_U0^I0\n",
      "\n",
      "massDim: 1\n",
      "LORindices: []\n",
      "ONindices: ['I0']\n",
      "symbol: P\n",
      "LORrank: 0\n",
      "ONrank: 1\n",
      "tensorRep: P^I0\n",
      "\n",
      "massDim: 2\n",
      "LORindices: ['U0']\n",
      "ONindices: ['I0']\n",
      "symbol: DP\n",
      "LORrank: 1\n",
      "ONrank: 1\n",
      "tensorRep: DP_U0^I0\n",
      "\n",
      "e_current_string: P^I0\n",
      "e_next_string: DP_U0^I0\n",
      "\n",
      "\n",
      "in field.decompose(), i: 1\n",
      "in field.decompose(), dot: [1, 0]\n",
      "In LOR\n",
      "\n",
      "e_current pre-reset:massDim: 2\n",
      "LORindices: ['U0']\n",
      "ONindices: ['I0']\n",
      "symbol: DP\n",
      "LORrank: 1\n",
      "ONrank: 1\n",
      "tensorRep: DP_U0^I0\n",
      "e_next pre-reset:massDim: 2\n",
      "LORindices: ['U0']\n",
      "ONindices: ['I0']\n",
      "symbol: DP\n",
      "LORrank: 1\n",
      "ONrank: 1\n",
      "tensorRep: DP_U0^I0\n",
      "\n",
      "massDim: 2\n",
      "LORindices: ['U0']\n",
      "ONindices: ['I0']\n",
      "symbol: DP\n",
      "LORrank: 1\n",
      "ONrank: 1\n",
      "tensorRep: DP_U0^I0\n",
      "\n",
      "massDim: 2\n",
      "LORindices: ['U0']\n",
      "ONindices: ['I0']\n",
      "symbol: DP\n",
      "LORrank: 1\n",
      "ONrank: 1\n",
      "tensorRep: DP_U0^I0\n",
      "\n",
      "e_current_string: DP_U0^I0\n",
      "e_next_string: DP_U0^I0\n"
     ]
    },
    {
     "data": {
      "text/plain": [
       "'(P^I0)(DP_U0^I0)(DP_U0^I0)'"
      ]
     },
     "execution_count": 595,
     "metadata": {},
     "output_type": "execute_result"
    }
   ],
   "source": [
    "C.decompose()"
   ]
  },
  {
   "cell_type": "code",
   "execution_count": null,
   "metadata": {
    "collapsed": true
   },
   "outputs": [],
   "source": []
  },
  {
   "cell_type": "code",
   "execution_count": null,
   "metadata": {
    "collapsed": true
   },
   "outputs": [],
   "source": []
  }
 ],
 "metadata": {
  "kernelspec": {
   "display_name": "Python 3",
   "language": "python",
   "name": "python3"
  },
  "language_info": {
   "codemirror_mode": {
    "name": "ipython",
    "version": 3
   },
   "file_extension": ".py",
   "mimetype": "text/x-python",
   "name": "python",
   "nbconvert_exporter": "python",
   "pygments_lexer": "ipython3",
   "version": "3.6.3"
  }
 },
 "nbformat": 4,
 "nbformat_minor": 2
}
